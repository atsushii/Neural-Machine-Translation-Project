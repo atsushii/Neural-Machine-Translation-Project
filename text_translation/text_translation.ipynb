{
  "nbformat": 4,
  "nbformat_minor": 0,
  "metadata": {
    "kernelspec": {
      "name": "python3",
      "display_name": "Python 3"
    },
    "language_info": {
      "codemirror_mode": {
        "name": "ipython",
        "version": 3
      },
      "file_extension": ".py",
      "mimetype": "text/x-python",
      "name": "python",
      "nbconvert_exporter": "python",
      "pygments_lexer": "ipython3",
      "version": "3.7.5"
    },
    "colab": {
      "name": "text_translation.ipynb",
      "provenance": [],
      "collapsed_sections": [],
      "toc_visible": true,
      "machine_shape": "hm"
    },
    "accelerator": "GPU"
  },
  "cells": [
    {
      "cell_type": "code",
      "metadata": {
        "id": "qB-6WuKgAmq5",
        "colab_type": "code",
        "outputId": "c880d647-1014-432e-dd70-bc24a188a970",
        "colab": {
          "base_uri": "https://localhost:8080/",
          "height": 355
        }
      },
      "source": [
        "from __future__ import absolute_import, division, print_function, unicode_literals\n",
        "\n",
        "import tensorflow as tf\n",
        "\n",
        "import matplotlib.pyplot as plt\n",
        "import matplotlib.ticker as ticker\n",
        "from sklearn.model_selection import train_test_split\n",
        "! pip install sentencepiece\n",
        "\n",
        "import sentencepiece as spm\n",
        "import unicodedata\n",
        "import re\n",
        "import numpy as np\n",
        "from numpy import array\n",
        "from numpy import asarray\n",
        "from numpy import zeros\n",
        "import os\n",
        "import io\n",
        "import time\n",
        "\n",
        "!pip install japanize-matplotlib\n",
        "import japanize_matplotlib\n",
        "tf.enable_eager_execution()"
      ],
      "execution_count": 1,
      "outputs": [
        {
          "output_type": "display_data",
          "data": {
            "text/html": [
              "<p style=\"color: red;\">\n",
              "The default version of TensorFlow in Colab will soon switch to TensorFlow 2.x.<br>\n",
              "We recommend you <a href=\"https://www.tensorflow.org/guide/migrate\" target=\"_blank\">upgrade</a> now \n",
              "or ensure your notebook will continue to use TensorFlow 1.x via the <code>%tensorflow_version 1.x</code> magic:\n",
              "<a href=\"https://colab.research.google.com/notebooks/tensorflow_version.ipynb\" target=\"_blank\">more info</a>.</p>\n"
            ],
            "text/plain": [
              "<IPython.core.display.HTML object>"
            ]
          },
          "metadata": {
            "tags": []
          }
        },
        {
          "output_type": "stream",
          "text": [
            "Collecting sentencepiece\n",
            "\u001b[?25l  Downloading https://files.pythonhosted.org/packages/14/3d/efb655a670b98f62ec32d66954e1109f403db4d937c50d779a75b9763a29/sentencepiece-0.1.83-cp36-cp36m-manylinux1_x86_64.whl (1.0MB)\n",
            "\r\u001b[K     |▎                               | 10kB 24.5MB/s eta 0:00:01\r\u001b[K     |▋                               | 20kB 1.7MB/s eta 0:00:01\r\u001b[K     |█                               | 30kB 2.5MB/s eta 0:00:01\r\u001b[K     |█▎                              | 40kB 1.7MB/s eta 0:00:01\r\u001b[K     |█▋                              | 51kB 2.1MB/s eta 0:00:01\r\u001b[K     |██                              | 61kB 2.5MB/s eta 0:00:01\r\u001b[K     |██▏                             | 71kB 2.9MB/s eta 0:00:01\r\u001b[K     |██▌                             | 81kB 3.3MB/s eta 0:00:01\r\u001b[K     |██▉                             | 92kB 3.7MB/s eta 0:00:01\r\u001b[K     |███▏                            | 102kB 2.8MB/s eta 0:00:01\r\u001b[K     |███▌                            | 112kB 2.8MB/s eta 0:00:01\r\u001b[K     |███▉                            | 122kB 2.8MB/s eta 0:00:01\r\u001b[K     |████                            | 133kB 2.8MB/s eta 0:00:01\r\u001b[K     |████▍                           | 143kB 2.8MB/s eta 0:00:01\r\u001b[K     |████▊                           | 153kB 2.8MB/s eta 0:00:01\r\u001b[K     |█████                           | 163kB 2.8MB/s eta 0:00:01\r\u001b[K     |█████▍                          | 174kB 2.8MB/s eta 0:00:01\r\u001b[K     |█████▊                          | 184kB 2.8MB/s eta 0:00:01\r\u001b[K     |██████                          | 194kB 2.8MB/s eta 0:00:01\r\u001b[K     |██████▎                         | 204kB 2.8MB/s eta 0:00:01\r\u001b[K     |██████▋                         | 215kB 2.8MB/s eta 0:00:01\r\u001b[K     |███████                         | 225kB 2.8MB/s eta 0:00:01\r\u001b[K     |███████▎                        | 235kB 2.8MB/s eta 0:00:01\r\u001b[K     |███████▋                        | 245kB 2.8MB/s eta 0:00:01\r\u001b[K     |███████▉                        | 256kB 2.8MB/s eta 0:00:01\r\u001b[K     |████████▏                       | 266kB 2.8MB/s eta 0:00:01\r\u001b[K     |████████▌                       | 276kB 2.8MB/s eta 0:00:01\r\u001b[K     |████████▉                       | 286kB 2.8MB/s eta 0:00:01\r\u001b[K     |█████████▏                      | 296kB 2.8MB/s eta 0:00:01\r\u001b[K     |█████████▌                      | 307kB 2.8MB/s eta 0:00:01\r\u001b[K     |█████████▊                      | 317kB 2.8MB/s eta 0:00:01\r\u001b[K     |██████████                      | 327kB 2.8MB/s eta 0:00:01\r\u001b[K     |██████████▍                     | 337kB 2.8MB/s eta 0:00:01\r\u001b[K     |██████████▊                     | 348kB 2.8MB/s eta 0:00:01\r\u001b[K     |███████████                     | 358kB 2.8MB/s eta 0:00:01\r\u001b[K     |███████████▍                    | 368kB 2.8MB/s eta 0:00:01\r\u001b[K     |███████████▋                    | 378kB 2.8MB/s eta 0:00:01\r\u001b[K     |████████████                    | 389kB 2.8MB/s eta 0:00:01\r\u001b[K     |████████████▎                   | 399kB 2.8MB/s eta 0:00:01\r\u001b[K     |████████████▋                   | 409kB 2.8MB/s eta 0:00:01\r\u001b[K     |█████████████                   | 419kB 2.8MB/s eta 0:00:01\r\u001b[K     |█████████████▎                  | 430kB 2.8MB/s eta 0:00:01\r\u001b[K     |█████████████▌                  | 440kB 2.8MB/s eta 0:00:01\r\u001b[K     |█████████████▉                  | 450kB 2.8MB/s eta 0:00:01\r\u001b[K     |██████████████▏                 | 460kB 2.8MB/s eta 0:00:01\r\u001b[K     |██████████████▌                 | 471kB 2.8MB/s eta 0:00:01\r\u001b[K     |██████████████▉                 | 481kB 2.8MB/s eta 0:00:01\r\u001b[K     |███████████████▏                | 491kB 2.8MB/s eta 0:00:01\r\u001b[K     |███████████████▍                | 501kB 2.8MB/s eta 0:00:01\r\u001b[K     |███████████████▊                | 512kB 2.8MB/s eta 0:00:01\r\u001b[K     |████████████████                | 522kB 2.8MB/s eta 0:00:01\r\u001b[K     |████████████████▍               | 532kB 2.8MB/s eta 0:00:01\r\u001b[K     |████████████████▊               | 542kB 2.8MB/s eta 0:00:01\r\u001b[K     |█████████████████               | 552kB 2.8MB/s eta 0:00:01\r\u001b[K     |█████████████████▎              | 563kB 2.8MB/s eta 0:00:01\r\u001b[K     |█████████████████▋              | 573kB 2.8MB/s eta 0:00:01\r\u001b[K     |██████████████████              | 583kB 2.8MB/s eta 0:00:01\r\u001b[K     |██████████████████▎             | 593kB 2.8MB/s eta 0:00:01\r\u001b[K     |██████████████████▋             | 604kB 2.8MB/s eta 0:00:01\r\u001b[K     |███████████████████             | 614kB 2.8MB/s eta 0:00:01\r\u001b[K     |███████████████████▏            | 624kB 2.8MB/s eta 0:00:01\r\u001b[K     |███████████████████▌            | 634kB 2.8MB/s eta 0:00:01\r\u001b[K     |███████████████████▉            | 645kB 2.8MB/s eta 0:00:01\r\u001b[K     |████████████████████▏           | 655kB 2.8MB/s eta 0:00:01\r\u001b[K     |████████████████████▌           | 665kB 2.8MB/s eta 0:00:01\r\u001b[K     |████████████████████▉           | 675kB 2.8MB/s eta 0:00:01\r\u001b[K     |█████████████████████▏          | 686kB 2.8MB/s eta 0:00:01\r\u001b[K     |█████████████████████▍          | 696kB 2.8MB/s eta 0:00:01\r\u001b[K     |█████████████████████▊          | 706kB 2.8MB/s eta 0:00:01\r\u001b[K     |██████████████████████          | 716kB 2.8MB/s eta 0:00:01\r\u001b[K     |██████████████████████▍         | 727kB 2.8MB/s eta 0:00:01\r\u001b[K     |██████████████████████▊         | 737kB 2.8MB/s eta 0:00:01\r\u001b[K     |███████████████████████         | 747kB 2.8MB/s eta 0:00:01\r\u001b[K     |███████████████████████▎        | 757kB 2.8MB/s eta 0:00:01\r\u001b[K     |███████████████████████▋        | 768kB 2.8MB/s eta 0:00:01\r\u001b[K     |████████████████████████        | 778kB 2.8MB/s eta 0:00:01\r\u001b[K     |████████████████████████▎       | 788kB 2.8MB/s eta 0:00:01\r\u001b[K     |████████████████████████▋       | 798kB 2.8MB/s eta 0:00:01\r\u001b[K     |█████████████████████████       | 808kB 2.8MB/s eta 0:00:01\r\u001b[K     |█████████████████████████▏      | 819kB 2.8MB/s eta 0:00:01\r\u001b[K     |█████████████████████████▌      | 829kB 2.8MB/s eta 0:00:01\r\u001b[K     |█████████████████████████▉      | 839kB 2.8MB/s eta 0:00:01\r\u001b[K     |██████████████████████████▏     | 849kB 2.8MB/s eta 0:00:01\r\u001b[K     |██████████████████████████▌     | 860kB 2.8MB/s eta 0:00:01\r\u001b[K     |██████████████████████████▉     | 870kB 2.8MB/s eta 0:00:01\r\u001b[K     |███████████████████████████     | 880kB 2.8MB/s eta 0:00:01\r\u001b[K     |███████████████████████████▍    | 890kB 2.8MB/s eta 0:00:01\r\u001b[K     |███████████████████████████▊    | 901kB 2.8MB/s eta 0:00:01\r\u001b[K     |████████████████████████████    | 911kB 2.8MB/s eta 0:00:01\r\u001b[K     |████████████████████████████▍   | 921kB 2.8MB/s eta 0:00:01\r\u001b[K     |████████████████████████████▊   | 931kB 2.8MB/s eta 0:00:01\r\u001b[K     |█████████████████████████████   | 942kB 2.8MB/s eta 0:00:01\r\u001b[K     |█████████████████████████████▎  | 952kB 2.8MB/s eta 0:00:01\r\u001b[K     |█████████████████████████████▋  | 962kB 2.8MB/s eta 0:00:01\r\u001b[K     |██████████████████████████████  | 972kB 2.8MB/s eta 0:00:01\r\u001b[K     |██████████████████████████████▎ | 983kB 2.8MB/s eta 0:00:01\r\u001b[K     |██████████████████████████████▋ | 993kB 2.8MB/s eta 0:00:01\r\u001b[K     |██████████████████████████████▉ | 1.0MB 2.8MB/s eta 0:00:01\r\u001b[K     |███████████████████████████████▏| 1.0MB 2.8MB/s eta 0:00:01\r\u001b[K     |███████████████████████████████▌| 1.0MB 2.8MB/s eta 0:00:01\r\u001b[K     |███████████████████████████████▉| 1.0MB 2.8MB/s eta 0:00:01\r\u001b[K     |████████████████████████████████| 1.0MB 2.8MB/s \n",
            "\u001b[?25hInstalling collected packages: sentencepiece\n",
            "Successfully installed sentencepiece-0.1.83\n",
            "Collecting japanize-matplotlib\n",
            "\u001b[?25l  Downloading https://files.pythonhosted.org/packages/aa/c0/b75d434be51a8cc11d2e9b36f2d7f93a1bcf63bde24dc79a61d329d60b2a/japanize-matplotlib-1.0.5.tar.gz (4.1MB)\n",
            "\u001b[K     |████████████████████████████████| 4.1MB 2.8MB/s \n",
            "\u001b[?25hBuilding wheels for collected packages: japanize-matplotlib\n",
            "  Building wheel for japanize-matplotlib (setup.py) ... \u001b[?25l\u001b[?25hdone\n",
            "  Created wheel for japanize-matplotlib: filename=japanize_matplotlib-1.0.5-cp36-none-any.whl size=4118721 sha256=abe1284b3527aceb708dc27e280e496297bf141cb2c58a78956f025e7703d57b\n",
            "  Stored in directory: /root/.cache/pip/wheels/6c/8a/08/4a784957da9f3c2b4839b4986be2fba2a481877318948be52c\n",
            "Successfully built japanize-matplotlib\n",
            "Installing collected packages: japanize-matplotlib\n",
            "Successfully installed japanize-matplotlib-1.0.5\n"
          ],
          "name": "stdout"
        }
      ]
    },
    {
      "cell_type": "code",
      "metadata": {
        "id": "st7Ykqf5AmrD",
        "colab_type": "code",
        "colab": {}
      },
      "source": [
        "# load txt file\n",
        "def load_def(path):\n",
        "    # open a txt file as read only\n",
        "    lines = io.open(path, encoding='UTF-8').read().strip().split('\\n')\n",
        "    \n",
        "    return lines"
      ],
      "execution_count": 0,
      "outputs": []
    },
    {
      "cell_type": "code",
      "metadata": {
        "id": "IMBPNGqbAmrL",
        "colab_type": "code",
        "colab": {}
      },
      "source": [
        "# create each languages list\n",
        "def create_lang_list(num_example):\n",
        "    # load txt file\n",
        "    lines = load_def(\"/content/drive/My Drive/Colab Notebooks/raw.txt\")\n",
        "\n",
        "    word_pairs = [[preprocess_sentence(w) for w in l.split('\\t')]  for l in lines[:num_example]]\n",
        "\n",
        "    return zip(*word_pairs)"
      ],
      "execution_count": 0,
      "outputs": []
    },
    {
      "cell_type": "code",
      "metadata": {
        "id": "JwoFejoMB56z",
        "colab_type": "code",
        "outputId": "f8810df2-85ee-46b6-c48e-2dc78dcc99d8",
        "colab": {
          "base_uri": "https://localhost:8080/",
          "height": 54
        }
      },
      "source": [
        "from google.colab import drive\n",
        "drive.mount('/content/drive')"
      ],
      "execution_count": 57,
      "outputs": [
        {
          "output_type": "stream",
          "text": [
            "Drive already mounted at /content/drive; to attempt to forcibly remount, call drive.mount(\"/content/drive\", force_remount=True).\n"
          ],
          "name": "stdout"
        }
      ]
    },
    {
      "cell_type": "markdown",
      "metadata": {
        "id": "yiRLa8A2AmrQ",
        "colab_type": "text"
      },
      "source": [
        "# translate English to Japanese"
      ]
    },
    {
      "cell_type": "code",
      "metadata": {
        "id": "5btFO26fAmrS",
        "colab_type": "code",
        "colab": {}
      },
      "source": [
        "sp = spm.SentencePieceProcessor()\n",
        "# train SentencePiece using english text \n",
        "spm.SentencePieceTrainer.Train('--input=english.txt --model_prefix=m --vocab_size=8000')\n",
        "# convert unicode file to ascii\n",
        "def unicode_to_ascii(s):\n",
        "    return ''.join(c for c in unicodedata.normalize('NFC', s)\n",
        "                    if unicodedata.category(c) != 'Mn')\n",
        "\n",
        "# preprocess\n",
        "def preprocess_sentence(w):\n",
        "    w = unicode_to_ascii(w.lower().strip())\n",
        "    # create a space between word and the punctuation\n",
        "    w = re.sub(r\"([?!¿.,。])\", r\" \\1 \", w)\n",
        "    # replacing everything with space except(a-z, A-Z, \".\",  \"?\",  \"!\",  \",\", \"-\", \"ー\", , \"。\", \"Kanji\", \"Katakana\", \"Hiragana\")\n",
        "    w = re.sub(r\"[^a-zA-Z\\u3041-\\u309F\\u30A1-\\u30FF\\uFF66-\\uFF9F\\u4E00-\\u9FD0\\u309B\\u3099\\uFF9E\\u309C\\u309A\\uFF9F?.!,。¿\\-/ {1,}/]+\",  \" \", w)\n",
        "    w = w.rstrip().strip()\n",
        "    \n",
        "    # add a sos and eos token to the sentence\n",
        "    # model know when to start and eos\n",
        "\n",
        "    w = \"<sos> \" + w + \" <eos>\"\n",
        "    return w"
      ],
      "execution_count": 0,
      "outputs": []
    },
    {
      "cell_type": "code",
      "metadata": {
        "id": "2g12RssEAmrj",
        "colab_type": "code",
        "outputId": "7e3bf308-19e6-48fd-c4a8-99db6d1d43d4",
        "colab": {
          "base_uri": "https://localhost:8080/",
          "height": 71
        }
      },
      "source": [
        "# check lang list\n",
        "en, ja = create_lang_list(10)\n",
        "print(en[:3])\n",
        "print(ja[:3])"
      ],
      "execution_count": 62,
      "outputs": [
        {
          "output_type": "stream",
          "text": [
            "('<sos> you are back ,  aren t you ,  harold ? <eos>', '<sos> my opponent is shark . <eos>', '<sos> this is one thing in exchange for another . <eos>')\n",
            "('<sos> あなたは戻ったのね ハロルド ? <eos>', '<sos> 俺の相手は シャークだ 。 <eos>', '<sos> 引き換えだ ある事とある物の <eos>')\n"
          ],
          "name": "stdout"
        }
      ]
    },
    {
      "cell_type": "code",
      "metadata": {
        "id": "Zvnpy3CwAmro",
        "colab_type": "code",
        "colab": {}
      },
      "source": [
        "def max_length(tensor):\n",
        "    return max(len(t) for t in tensor)"
      ],
      "execution_count": 0,
      "outputs": []
    },
    {
      "cell_type": "code",
      "metadata": {
        "id": "p8BX1BNgAmru",
        "colab_type": "code",
        "colab": {}
      },
      "source": [
        "def tokenize(lang):\n",
        "    # vectorize a text corpus\n",
        "    lang_tokenizer = tf.keras.preprocessing.text.Tokenizer(\n",
        "        filters=' ')\n",
        "    # updates internal vocabulary based on a list of texts\n",
        "    # e.g. \"[this place is good ]\"→{this:1, place:2, is:3, good:4} \"\n",
        "    lang_tokenizer.fit_on_texts(lang)\n",
        "    # Transforms each text in texts to a sequence of integers.\n",
        "    tensor = lang_tokenizer.texts_to_sequences(lang)\n",
        "    # transform a list of num sample into a 2D Numpy array of shape \n",
        "    # Fixed length because length of sequence of integers are different\n",
        "    # return (len(sequences), maxlen)\n",
        "    tensor = tf.keras.preprocessing.sequence.pad_sequences(tensor,\n",
        "                                                          padding='post')\n",
        "    return tensor, lang_tokenizer"
      ],
      "execution_count": 0,
      "outputs": []
    },
    {
      "cell_type": "code",
      "metadata": {
        "id": "wTO5p6jxAmr2",
        "colab_type": "code",
        "outputId": "2e816173-1e99-43ef-ceae-887a309a92df",
        "colab": {
          "base_uri": "https://localhost:8080/",
          "height": 85
        }
      },
      "source": [
        "# example\n",
        "tokenize(['this place is good', \"こんにちは 今日は いい天気\", \"today is so cold\"])"
      ],
      "execution_count": 65,
      "outputs": [
        {
          "output_type": "execute_result",
          "data": {
            "text/plain": [
              "(array([[ 2,  3,  1,  4],\n",
              "        [ 5,  6,  7,  0],\n",
              "        [ 8,  1,  9, 10]], dtype=int32),\n",
              " <keras_preprocessing.text.Tokenizer at 0x7fcee2e7b320>)"
            ]
          },
          "metadata": {
            "tags": []
          },
          "execution_count": 65
        }
      ]
    },
    {
      "cell_type": "code",
      "metadata": {
        "id": "62H3DewpAms7",
        "colab_type": "code",
        "colab": {}
      },
      "source": [
        "# create a clean input, output pairs\n",
        "def load_dataset(num_example):\n",
        "    input_lang, target_lang= create_lang_list(num_example)\n",
        "    print(target_lang[:5])\n",
        "    input_tensor, input_lang_tokenize = tokenize(input_lang)\n",
        "    target_tensor, target_lang_tokenize = tokenize(target_lang)\n",
        "\n",
        "    return input_tensor, target_tensor, input_lang_tokenize, target_lang_tokenize"
      ],
      "execution_count": 0,
      "outputs": []
    },
    {
      "cell_type": "code",
      "metadata": {
        "id": "c9hXwjOqAmtA",
        "colab_type": "code",
        "outputId": "d4d2f2b7-7613-4f7e-903a-8ba45d5102fc",
        "colab": {
          "base_uri": "https://localhost:8080/",
          "height": 54
        }
      },
      "source": [
        "# limit datasize for test\n",
        "num_example = 10000\n",
        "# get data\n",
        "input_tensor, target_tensor, input_lang, target_lang = load_dataset(num_example)\n",
        "# Calculate max_length of the target tensors\n",
        "max_length_target, max_length_input = max_length(target_tensor), max_length(input_tensor)"
      ],
      "execution_count": 99,
      "outputs": [
        {
          "output_type": "stream",
          "text": [
            "('<sos> あなたは戻ったのね ハロルド ? <eos>', '<sos> 俺の相手は シャークだ 。 <eos>', '<sos> 引き換えだ ある事とある物の <eos>', '<sos> もういいよ ごちそうさま ううん <eos>', '<sos> もう会社には来ないでくれ 電話もするな <eos>')\n"
          ],
          "name": "stdout"
        }
      ]
    },
    {
      "cell_type": "code",
      "metadata": {
        "id": "rm4ppmsvAmtC",
        "colab_type": "code",
        "outputId": "59cc1657-201f-427f-af4e-6f3991619767",
        "colab": {
          "base_uri": "https://localhost:8080/",
          "height": 34
        }
      },
      "source": [
        "# create trainnig set and validation set\n",
        "input_tensor_train, input_tensor_val, \\\n",
        "    target_tensor_train, target_tensor_val = train_test_split(input_tensor, target_tensor, test_size=0.2, random_state=42)\n",
        "\n",
        "# show length\n",
        "print(len(input_tensor_train), len(input_tensor_val), len(target_tensor_train), len(target_tensor_val))"
      ],
      "execution_count": 71,
      "outputs": [
        {
          "output_type": "stream",
          "text": [
            "8000 2000 8000 2000\n"
          ],
          "name": "stdout"
        }
      ]
    },
    {
      "cell_type": "code",
      "metadata": {
        "id": "bbT9xCEZAmtF",
        "colab_type": "code",
        "colab": {}
      },
      "source": [
        "def convert(lang, tensor):\n",
        "    for t in tensor:\n",
        "        if t != 0:\n",
        "            # Index number assigned to each word\n",
        "            print(\"%d----->%s\" % (t, lang.index_word[t]))"
      ],
      "execution_count": 0,
      "outputs": []
    },
    {
      "cell_type": "code",
      "metadata": {
        "id": "LZasaMQBAmtO",
        "colab_type": "code",
        "outputId": "8320259c-30f4-4e68-f0b8-bc4154e34a26",
        "colab": {
          "base_uri": "https://localhost:8080/",
          "height": 323
        }
      },
      "source": [
        "print(\"input lang: index to word mapping\")\n",
        "convert(input_lang, input_tensor_train[2])\n",
        "print(\"output lang: index to word mapping\")\n",
        "convert(target_lang, target_tensor_train[2])"
      ],
      "execution_count": 101,
      "outputs": [
        {
          "output_type": "stream",
          "text": [
            "input lang: index to word mapping\n",
            "1-----><sos>\n",
            "108----->look\n",
            "4263----->terukun\n",
            "4----->,\n",
            "21----->this\n",
            "17----->is\n",
            "32----->your\n",
            "273----->mother\n",
            "3----->.\n",
            "2-----><eos>\n",
            "output lang: index to word mapping\n",
            "1-----><sos>\n",
            "3242----->輝君\n",
            "60----->ほら\n",
            "3243----->ママでしゅよ\n",
            "5----->。\n",
            "2-----><eos>\n"
          ],
          "name": "stdout"
        }
      ]
    },
    {
      "cell_type": "code",
      "metadata": {
        "id": "X_Hat3fQAmtV",
        "colab_type": "code",
        "outputId": "ea9ce031-88cb-4d6c-c2f9-d204c034e204",
        "colab": {
          "base_uri": "https://localhost:8080/",
          "height": 68
        }
      },
      "source": [
        "# create a dataset\n",
        "BUFFER_SIZE = len(input_tensor_train)\n",
        "BATCH_SIZE = 64\n",
        "steps_per_epoch = len(input_tensor_train)\n",
        "embedding_dim = 300\n",
        "units = 512\n",
        "vocab_inp_size = len(input_lang.word_index) + 1\n",
        "print('Total unique words in the input: %s' % len(input_lang.word_index))\n",
        "vocab_tar_size = len(target_lang.word_index) + 1\n",
        "dataset = tf.data.Dataset.from_tensor_slices((input_tensor_train, target_tensor_train)).shuffle(BUFFER_SIZE)\n",
        "print(dataset)\n",
        "dataset = dataset.batch(BATCH_SIZE, drop_remainder=True)\n",
        "print(dataset)"
      ],
      "execution_count": 102,
      "outputs": [
        {
          "output_type": "stream",
          "text": [
            "Total unique words in the input: 8560\n",
            "<DatasetV1Adapter shapes: ((55,), (16,)), types: (tf.int32, tf.int32)>\n",
            "<DatasetV1Adapter shapes: ((64, 55), (64, 16)), types: (tf.int32, tf.int32)>\n"
          ],
          "name": "stdout"
        }
      ]
    },
    {
      "cell_type": "code",
      "metadata": {
        "id": "o1i8rLmjAmtY",
        "colab_type": "code",
        "outputId": "7e463ae7-aaa0-4356-d49e-ea73b98066fe",
        "colab": {
          "base_uri": "https://localhost:8080/",
          "height": 51
        }
      },
      "source": [
        "example_input_batch, example_target_batch =  next(iter(dataset))\n",
        "example_input_batch.shape, example_target_batch.shape"
      ],
      "execution_count": 76,
      "outputs": [
        {
          "output_type": "execute_result",
          "data": {
            "text/plain": [
              "(TensorShape([Dimension(64), Dimension(55)]),\n",
              " TensorShape([Dimension(64), Dimension(16)]))"
            ]
          },
          "metadata": {
            "tags": []
          },
          "execution_count": 76
        }
      ]
    },
    {
      "cell_type": "markdown",
      "metadata": {
        "id": "SGftZqkCAmta",
        "colab_type": "text"
      },
      "source": [
        "# encoder and decoder model"
      ]
    },
    {
      "cell_type": "code",
      "metadata": {
        "id": "FVJSGkhaAmtb",
        "colab_type": "code",
        "colab": {}
      },
      "source": [
        "def load_glove():\n",
        "    embeddings_dictionary = {}\n",
        "    glove_file = open(\"/content/drive/My Drive/glove.6B.300d.txt\", encoding=\"utf-8\")\n",
        "    \n",
        "    for line in glove_file:\n",
        "        records = line.split()\n",
        "        # get each words\n",
        "        word = records[0]\n",
        "        # get each vector\n",
        "        vector_dimensions = asarray(records[1:], dtype=\"float32\")\n",
        "        # correspond word and vector\n",
        "        embeddings_dictionary[word] = vector_dimensions\n",
        "    glove_file.close()\n",
        "        \n",
        "    num_words = min(num_example, vocab_inp_size)\n",
        "    embedding_matrix = zeros((num_words, embedding_dim))\n",
        "    # get input words\n",
        "    for word, index in input_lang.word_index.items():\n",
        "        # get input word vector from glove embe dictio \n",
        "        embedding_vector = embeddings_dictionary.get(word)\n",
        "        if embedding_vector is not None:\n",
        "            embedding_matrix[index] = embedding_vector\n",
        "    return embeddings_dictionary, embedding_matrix"
      ],
      "execution_count": 0,
      "outputs": []
    },
    {
      "cell_type": "code",
      "metadata": {
        "id": "P2F1r2AxAmte",
        "colab_type": "code",
        "colab": {}
      },
      "source": [
        "embeddings_dictionary, embedding_matrix = load_glove()"
      ],
      "execution_count": 0,
      "outputs": []
    },
    {
      "cell_type": "code",
      "metadata": {
        "id": "sotctcv-Amtg",
        "colab_type": "code",
        "outputId": "7c941de9-be8d-43b0-c50a-2c6ee04624fe",
        "colab": {
          "base_uri": "https://localhost:8080/",
          "height": 867
        }
      },
      "source": [
        "# check vector \"hello\" → both of vector are almost same\n",
        "print(embeddings_dictionary[\"today\"])"
      ],
      "execution_count": 110,
      "outputs": [
        {
          "output_type": "stream",
          "text": [
            "[-0.0088454 -0.17628    0.043939   0.23772    0.13331   -0.038687\n",
            " -0.26692    0.1492     0.064416  -1.8906     0.0099097 -0.41216\n",
            "  0.062824   0.39153    0.50311   -0.47787   -0.23483    0.18752\n",
            " -0.025923  -0.14872    0.22798    0.54713    0.53562    0.49984\n",
            "  0.013786   0.15351    0.32206   -0.2693    -0.066984  -0.056332\n",
            "  0.30094    0.20396   -0.38506    0.20942   -0.98693    0.085462\n",
            "  0.0233     0.117      0.032743   0.088524   0.034344   0.14554\n",
            " -0.14223    0.29083    0.27747    0.15031    0.015692   0.17876\n",
            " -0.11635   -0.16394    0.043047  -0.19685   -0.40872    0.19822\n",
            " -0.18383    0.60479    0.11638    0.44498    0.28318   -0.17754\n",
            "  0.43296   -0.24506    0.17239   -0.24866   -0.057211  -0.29188\n",
            "  0.089692   0.013031  -0.50086   -0.18129   -0.069083  -0.02771\n",
            " -0.26332    0.12949    0.014157  -0.28985    0.31563    0.099121\n",
            "  0.30825    0.20194   -0.2491    -0.19244   -0.01279    0.0057545\n",
            "  0.29472    0.60901   -0.53944    0.10326    0.063383   0.40192\n",
            " -0.21905   -0.19266   -0.20089   -0.028254  -0.15587   -0.069539\n",
            " -0.47064   -0.20537   -0.16318   -0.22905    0.33411    0.015556\n",
            "  0.22961    0.10445    0.1181     0.23415    0.41051   -0.023419\n",
            " -0.38451    0.49738   -0.35865   -0.39961   -0.24785   -0.38461\n",
            "  0.30646    0.28097    0.12096    0.17178    0.0497    -0.081283\n",
            " -0.078552  -0.27296    0.11996   -0.0074443 -0.23835    0.21975\n",
            "  0.23419    0.2831     0.011749   0.27985    0.090346   0.025083\n",
            "  0.21566   -0.23015   -0.54743   -0.29993   -0.080401   0.076755\n",
            "  0.40147    0.34501   -0.057743  -0.066167   0.23832   -0.09745\n",
            " -0.080783  -0.10276    0.12633    0.081291  -0.39829    0.12044\n",
            " -0.059922  -0.18368    0.18074   -0.24459    0.47249    0.37938\n",
            "  0.043726   0.079788   0.47801   -0.23367    0.043868   0.42144\n",
            " -0.54623   -0.25776   -0.2052     0.29869    0.10683   -0.18799\n",
            " -0.4148     0.10465   -0.027328   0.010265  -0.56123    0.45347\n",
            "  0.1646     0.02482   -0.38446   -0.095501   0.025647   0.49704\n",
            "  0.29187    0.42845    0.22814   -0.29383    0.41923    0.3182\n",
            "  0.025986  -0.0044008 -0.27322    0.47515   -0.042078   0.15259\n",
            "  0.43879    0.26088   -0.13997    0.053507   0.044633  -0.10604\n",
            "  0.034203  -0.1332     0.81732   -0.21159    0.015451   0.072925\n",
            " -0.26992    0.14546   -0.072166  -0.43373   -0.062456  -0.2783\n",
            " -0.017277   0.082453   0.19059   -0.44189   -0.049865  -0.021894\n",
            " -0.32949    0.02165    0.1279    -0.20539    0.48312   -0.098058\n",
            " -0.40545    0.31844    0.092103   0.1618     0.33953    0.17009\n",
            "  0.20866    0.14549   -0.10007   -0.16823   -0.022714   0.15636\n",
            "  0.15884    0.0099864 -0.1204    -0.27205    0.17755    0.26393\n",
            " -0.12742    0.29536    0.35902    0.10661    0.05845   -0.20541\n",
            " -0.18005    0.055078   0.21277    0.10551    0.16494   -0.03002\n",
            "  0.078659   0.0077392  0.037137   0.30176   -0.14372   -0.0796\n",
            "  0.069418  -0.37574   -0.1011     0.1911     0.15424   -0.30348\n",
            "  0.31292   -0.27983   -0.24061    0.16378    0.28698   -0.17627\n",
            " -0.028221  -0.15042    0.14542   -0.038499  -0.064335   0.36751\n",
            " -1.7061     0.2668     0.67515    0.17213   -0.047247  -0.27937\n",
            "  0.015964   0.029388   0.080599  -0.34933   -0.14026    0.084287\n",
            " -0.28569   -0.10327    0.21801    0.006217  -0.026879   0.15858\n",
            " -0.23479    0.026735   0.095478  -0.37634    0.021549  -0.063259 ]\n"
          ],
          "name": "stdout"
        }
      ]
    },
    {
      "cell_type": "code",
      "metadata": {
        "id": "KBO3QwTxAmti",
        "colab_type": "code",
        "colab": {}
      },
      "source": [
        "class Encoder(tf.keras.Model):\n",
        "    def __init__(self, vocab_size, embedding_dim, enc_units, batch_size, embedding_matrix):\n",
        "        super(Encoder, self).__init__()\n",
        "        self.batch_size = batch_size\n",
        "        self.enc_units = enc_units\n",
        "        self.embedding = tf.keras.layers.Embedding(vocab_inp_size, embedding_dim, \n",
        "                                                   embeddings_initializer=tf.keras.initializers.Constant(embedding_matrix))\n",
        "        self.gru = tf.keras.layers.GRU(self.enc_units,\n",
        "                                                            return_sequences=True,\n",
        "                                                            return_state=True,\n",
        "                                                            recurrent_initializer='glorot_uniform')\n",
        "        \n",
        "    def call(self, x, hidden):\n",
        "        x = self.embedding(x)\n",
        "        output, state = self.gru(x, initial_state = hidden)\n",
        "        return output, state\n",
        "        \n",
        "    def initialize_hidden_state(self):\n",
        "            return tf.zeros((self.batch_size, self.enc_units))"
      ],
      "execution_count": 0,
      "outputs": []
    },
    {
      "cell_type": "code",
      "metadata": {
        "id": "L23xj2hyAmtq",
        "colab_type": "code",
        "outputId": "e9a48da2-91a0-4e07-cadb-4158587a28cb",
        "colab": {
          "base_uri": "https://localhost:8080/",
          "height": 51
        }
      },
      "source": [
        "encoder = Encoder(vocab_inp_size, embedding_dim, units, BATCH_SIZE, embedding_matrix)\n",
        "\n",
        "# sample input\n",
        "sample_hidden = encoder.initialize_hidden_state()\n",
        "sample_output, sample_hidden = encoder(example_input_batch, sample_hidden)\n",
        "\n",
        "print ('Encoder output shape: (batch size, sequence length, units) {}'.format(sample_output.shape))\n",
        "print ('Encoder Hidden state shape: (batch size, units) {}'.format(sample_hidden.shape))"
      ],
      "execution_count": 0,
      "outputs": [
        {
          "output_type": "stream",
          "text": [
            "Encoder output shape: (batch size, sequence length, units) (64, 55, 512)\n",
            "Encoder Hidden state shape: (batch size, units) (64, 512)\n"
          ],
          "name": "stdout"
        }
      ]
    },
    {
      "cell_type": "code",
      "metadata": {
        "id": "kNGUXvFbAmtt",
        "colab_type": "code",
        "colab": {}
      },
      "source": [
        "class BahdanauAttention(tf.keras.layers.Layer):\n",
        "    def __init__(self, nuits):\n",
        "        super(BahdanauAttention, self).__init__()\n",
        "        self.W1 = tf.keras.layers.Dense(units)\n",
        "        self.W2 = tf.keras.layers.Dense(units)\n",
        "        self.V = tf.keras.layers.Dense(1)\n",
        "        \n",
        "    def call(self, query, values):\n",
        "        # hidden_with_time_axis shape == (batch_size, 1, hidden size)\n",
        "        # we are doing this to perform addition to calculate the score\n",
        "        hidden_with_time_axis = tf.expand_dims(query, 1)\n",
        "        \n",
        "        # we get 1 at the last axis because we are applying score to self.V\n",
        "        # the shape of the tensor before applying self.V is (batch_size, max_length, units)\n",
        "        score = self.V(tf.nn.tanh(\n",
        "                self.W1(values) +  self.W2(hidden_with_time_axis)))\n",
        "        \n",
        "        # attention_weights shape == (batch_size, max_length, 1)\n",
        "        attention_weights = tf.nn.softmax(score, axis=1)\n",
        "        \n",
        "        # context_vector shape after sum == (batch_size, hidden_size)\n",
        "        context_vector = attention_weights * values\n",
        "        context_vector = tf.reduce_sum(context_vector, axis=1)\n",
        "        \n",
        "        return context_vector, attention_weights"
      ],
      "execution_count": 0,
      "outputs": []
    },
    {
      "cell_type": "code",
      "metadata": {
        "id": "dv2JZN37Amtw",
        "colab_type": "code",
        "outputId": "e26764f3-4bb5-419f-c171-afa313d85b66",
        "colab": {
          "base_uri": "https://localhost:8080/",
          "height": 51
        }
      },
      "source": [
        "attention_layer = BahdanauAttention(10)\n",
        "attention_result , attention_weights = attention_layer(sample_hidden, sample_output)\n",
        "\n",
        "print(\"attention result shape: (batch size, units) {}\".format(attention_result.shape))\n",
        "print(\"attention weight shape:(batch size, sequence_length, 1) {}\".format(attention_weights.shape))"
      ],
      "execution_count": 0,
      "outputs": [
        {
          "output_type": "stream",
          "text": [
            "attention result shape: (batch size, units) (64, 512)\n",
            "attention weight shape:(batch size, sequence_length, 1) (64, 55, 1)\n"
          ],
          "name": "stdout"
        }
      ]
    },
    {
      "cell_type": "code",
      "metadata": {
        "id": "3Ef0OtQTAmty",
        "colab_type": "code",
        "colab": {}
      },
      "source": [
        "class Decoder(tf.keras.Model):\n",
        "    def __init__(self, vocab_size, embedding_dim, dec_units, batch_size):\n",
        "        super(Decoder, self).__init__()\n",
        "        self.batch_size = batch_size\n",
        "        self.dec_units = dec_units\n",
        "        self.embedding = tf.keras.layers.Embedding(vocab_size, embedding_dim)\n",
        "        self.gru = tf.keras.layers.GRU(self.dec_units,\n",
        "                                                            return_sequences=True,\n",
        "                                                            return_state=True,\n",
        "                                                            recurrent_initializer='glorot_uniform')\n",
        "        self.fc = tf.keras.layers.Dense(vocab_size)\n",
        "        \n",
        "        self.attention = BahdanauAttention(self.dec_units)\n",
        "    \n",
        "    def call(self, x, hidden, enc_output):\n",
        "        # enc_output shape == (batch_size, max_length, hidden_size)\n",
        "        context_vector, attention_weights = self.attention(hidden, enc_output)\n",
        "        \n",
        "        # x shape after passing through embedding == (batch_size, 1, embedding_dim)\n",
        "        x = self.embedding(x)\n",
        "        \n",
        "        # x shape after concatenation == (batch_size, 1, embedding_dim + hidden_size)\n",
        "        x = tf.concat([tf.expand_dims(context_vector, 1), x], axis=-1)\n",
        "        \n",
        "        # passing the concatenated vector to the GRU\n",
        "        output, state =  self.gru(x)\n",
        "                \n",
        "        # output shape == (batch_size * 1, hidden_size\n",
        "        output = tf.reshape(output, (-1, output.shape[2]))\n",
        "        \n",
        "        # output  shape == (batch_size, vocab) \n",
        "        x = self.fc(output)\n",
        "        \n",
        "        return  x, state, attention_weights"
      ],
      "execution_count": 0,
      "outputs": []
    },
    {
      "cell_type": "code",
      "metadata": {
        "id": "JJ9hSTKLAmt0",
        "colab_type": "code",
        "outputId": "eba96d3e-90dc-43df-ea8a-c51f2f222988",
        "colab": {
          "base_uri": "https://localhost:8080/",
          "height": 34
        }
      },
      "source": [
        "decoder = Decoder(vocab_tar_size, embedding_dim, units, BATCH_SIZE)\n",
        "sample_decoder_output, _,  _ = decoder(tf.random.uniform((64, 1)),\n",
        "                                                                        sample_hidden, sample_output)\n",
        "print(\"Decoder output  shape:(batch_size, vocab size) {}\".format(sample_decoder_output.shape))"
      ],
      "execution_count": 0,
      "outputs": [
        {
          "output_type": "stream",
          "text": [
            "Decoder output  shape:(batch_size, vocab size) (64, 15407)\n"
          ],
          "name": "stdout"
        }
      ]
    },
    {
      "cell_type": "markdown",
      "metadata": {
        "id": "9w_9wQJ4Amt2",
        "colab_type": "text"
      },
      "source": [
        "# Define the optimizer and the loss function"
      ]
    },
    {
      "cell_type": "code",
      "metadata": {
        "id": "3_vXWW8QAmt2",
        "colab_type": "code",
        "colab": {}
      },
      "source": [
        "optimizer = tf.keras.optimizers.Adam(learning_rate=0.001,\n",
        "                                beta_1=0.9, beta_2=0.999, amsgrad=True)\n",
        "loss_object = tf.keras.losses.SparseCategoricalCrossentropy(\n",
        "    from_logits=True, reduction='none')\n",
        "\n",
        "def loss_function(real, pred):\n",
        "    mask = tf.math.logical_not(tf.math.equal(real, 0))\n",
        "    loss_ = loss_object(real, pred)\n",
        "\n",
        "    mask = tf.cast(mask, dtype=loss_.dtype)\n",
        "    loss_ *= mask\n",
        "    return tf.reduce_mean(loss_)"
      ],
      "execution_count": 0,
      "outputs": []
    },
    {
      "cell_type": "markdown",
      "metadata": {
        "id": "CpiS09v9Amt4",
        "colab_type": "text"
      },
      "source": [
        "# Checkpoints"
      ]
    },
    {
      "cell_type": "code",
      "metadata": {
        "id": "zQ7wO0QsAmt5",
        "colab_type": "code",
        "colab": {}
      },
      "source": [
        "# checkpoint_dir = '/training_checkpoints'\n",
        "# checkpoint_prefix = os.path.join(checkpoint_dir, 'ckpt')\n",
        "# checkpoint = tf.train.Checkpoint(optimizer=optimizer,\n",
        "#                                                         encoder=encoder,\n",
        "#                                                         decoder=decoder)"
      ],
      "execution_count": 0,
      "outputs": []
    },
    {
      "cell_type": "markdown",
      "metadata": {
        "id": "yStYXjM8Amt8",
        "colab_type": "text"
      },
      "source": [
        "# train"
      ]
    },
    {
      "cell_type": "code",
      "metadata": {
        "id": "GjKE0rhgAmt9",
        "colab_type": "code",
        "colab": {}
      },
      "source": [
        "@tf.function\n",
        "def train_step(inp, target, enc_hidden):\n",
        "    loss = 0\n",
        "    \n",
        "    with tf.GradientTape() as tape:\n",
        "        enc_output, enc_hidden = encoder(inp, enc_hidden)\n",
        "         \n",
        "        dec_hidden = enc_hidden\n",
        "        dec_input = tf.expand_dims([target_lang.word_index['<sos>']] * BATCH_SIZE, 1)\n",
        "        \n",
        "        # teacher forcing - feeding the target as a next input\n",
        "        for t in range(1, target.shape[1]):\n",
        "            # passing enc_output to the decoder\n",
        "            predictions, dec_hidden, _ = decoder(dec_input, dec_hidden, enc_output)\n",
        "            loss += loss_function(target[:, t], predictions)\n",
        "            \n",
        "            # using teacher forcing\n",
        "            dec_input  = tf.expand_dims(target[:, t], 1)\n",
        "        \n",
        "        batch_loss = (loss / int(target.shape[1]))\n",
        "        variables = encoder.trainable_variables + decoder.trainable_variables\n",
        "        gradients = tape.gradient(loss, variables)\n",
        "        optimizer.apply_gradients(zip(gradients, variables))\n",
        "        \n",
        "        return batch_loss"
      ],
      "execution_count": 0,
      "outputs": []
    },
    {
      "cell_type": "code",
      "metadata": {
        "scrolled": true,
        "id": "9zamvLvOAmt_",
        "colab_type": "code",
        "colab": {}
      },
      "source": [
        "EPOCHS = 5\n",
        "for epochs in range(EPOCHS):\n",
        "    start = time.time()\n",
        "    \n",
        "    enc_hidden = encoder.initialize_hidden_state()\n",
        "    total_loss =  0\n",
        "     \n",
        "    for (batch, (inp, target)) in enumerate(dataset.take(steps_per_epoch)):\n",
        "        batch_loss = train_step(inp, target, enc_hidden)\n",
        "        total_loss += batch_loss\n",
        "        \n",
        "        # if batch % 100 == 0:\n",
        "        #     print(\"epoch {} batch {} loss  {: .4f}\".format(epochs + 1, batch, batch_loss.numpy()))\n",
        "#         # save checkpoint every 2 epochs\n",
        "#         if (epochs + 1) % 2 == 0:\n",
        "#             checkpoint.save(file_prefix = checkpoint_prefix)\n",
        "            \n",
        "            # print(\"epoch {} loss {: .4f}\".format(epochs + 1, total_loss / steps_per_epoch))\n",
        "        # print(\"time taken for 1 epoch {} sec\\n\".format(time.time() - start))"
      ],
      "execution_count": 0,
      "outputs": []
    },
    {
      "cell_type": "code",
      "metadata": {
        "id": "oqylAfpDAmuC",
        "colab_type": "code",
        "colab": {}
      },
      "source": [
        "def evaluate(sentence):\n",
        "  \n",
        "    attention_plot = np.zeros((max_length_target, max_length_input))\n",
        "\n",
        "    sentence = preprocess_sentence(sentence)\n",
        "    inputs = [input_lang.word_index[i] for i in sentence.split(' ')]\n",
        "    print(inputs)\n",
        "    inputs = tf.keras.preprocessing.sequence.pad_sequences([inputs],\n",
        "                                                           maxlen=max_length_input,\n",
        "                                                           padding='post')\n",
        "    \n",
        "    inputs = tf.convert_to_tensor(inputs)\n",
        "    result = ''\n",
        "\n",
        "    hidden = [tf.zeros((1, units))]\n",
        "    enc_out, enc_hidden = encoder(inputs, hidden)\n",
        "    dec_hidden = enc_hidden\n",
        "    dec_input = tf.expand_dims([target_lang.word_index['<sos>']], 0)\n",
        "\n",
        "    for t in range(max_length_target):\n",
        "        predictions, dec_hidden, attention_weights = decoder(dec_input,\n",
        "                                                             dec_hidden,\n",
        "                                                             enc_out)\n",
        "\n",
        "        # storing the attention weights to plot later on\n",
        "        attention_weights = tf.reshape(attention_weights, (-1, ))\n",
        "        attention_plot[t] = attention_weights.numpy()\n",
        "\n",
        "        predicted_id = tf.argmax(predictions[0]).numpy()\n",
        "\n",
        "        result += target_lang.index_word[predicted_id] + ' '\n",
        "\n",
        "        if target_lang.index_word[predicted_id] == '<eos>':\n",
        "            return result, sentence, attention_plot\n",
        "\n",
        "        # the predicted ID is fed back into the model\n",
        "        dec_input = tf.expand_dims([predicted_id], 0)\n",
        "    return result, sentence, attention_plot"
      ],
      "execution_count": 0,
      "outputs": []
    },
    {
      "cell_type": "code",
      "metadata": {
        "id": "DwDBVbl4NJii",
        "colab_type": "code",
        "colab": {}
      },
      "source": [
        "# function for plotting the attention weights\n",
        "def plot_attention(attention, sentence, predicted_sentence):\n",
        "    fig = plt.figure(figsize=(10,10))\n",
        "    ax = fig.add_subplot(1, 1, 1)\n",
        "    ax.matshow(attention, cmap='viridis')\n",
        "\n",
        "    fontdict = {'fontsize': 14}\n",
        "\n",
        "    ax.set_xticklabels([''] + sentence, fontdict=fontdict, rotation=90)\n",
        "    ax.set_yticklabels([''] + predicted_sentence, fontdict=fontdict)\n",
        "\n",
        "    ax.xaxis.set_major_locator(ticker.MultipleLocator(1))\n",
        "    ax.yaxis.set_major_locator(ticker.MultipleLocator(1))\n",
        "\n",
        "    plt.show()"
      ],
      "execution_count": 0,
      "outputs": []
    },
    {
      "cell_type": "code",
      "metadata": {
        "id": "Ge2Hv6NcNLXy",
        "colab_type": "code",
        "colab": {}
      },
      "source": [
        "def translate(sentence):\n",
        "    result, sentence, attention_plot = evaluate(sentence)\n",
        "\n",
        "    print('Input: %s' % (sentence))\n",
        "    print('Predicted translation: {}'.format(result))\n",
        "\n",
        "    attention_plot = attention_plot[:len(result.split(' ')), :len(sentence.split(' '))]\n",
        "    plot_attention(attention_plot, sentence.split(' '), result.split(' '))"
      ],
      "execution_count": 0,
      "outputs": []
    },
    {
      "cell_type": "code",
      "metadata": {
        "id": "LzKv0QifNM3A",
        "colab_type": "code",
        "outputId": "930d6881-d16c-4538-b7be-909961cab6c9",
        "colab": {
          "base_uri": "https://localhost:8080/",
          "height": 678
        }
      },
      "source": [
        "translate(u'go ahead')"
      ],
      "execution_count": 0,
      "outputs": [
        {
          "output_type": "stream",
          "text": [
            "[1, 58, 690, 2]\n",
            "Input: <sos> go ahead <eos>\n",
            "Predicted translation: 1 年までに <eos> \n"
          ],
          "name": "stdout"
        },
        {
          "output_type": "display_data",
          "data": {
            "image/png": "[encoded data removed]",
            "text/plain": [
              "<Figure size 720x720 with 1 Axes>"
            ]
          },
          "metadata": {
            "tags": []
          }
        }
      ]
    },
    {
      "cell_type": "code",
      "metadata": {
        "id": "7MdA47EtfJx0",
        "colab_type": "code",
        "colab": {}
      },
      "source": [
        ""
      ],
      "execution_count": 0,
      "outputs": []
    }
  ]
}