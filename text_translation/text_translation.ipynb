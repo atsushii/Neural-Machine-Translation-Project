{
 "cells": [
  {
   "cell_type": "code",
   "execution_count": 13,
   "metadata": {},
   "outputs": [],
   "source": [
    "# load txt file\n",
    "def load_def(filename):\n",
    "    # open a txt file as read only\n",
    "    file = open(filename, mode='rt', encoding='utf-8')\n",
    "    lines = file.read().strip().split('\\n')\n",
    "    file.close()\n",
    "    \n",
    "    return lines"
   ]
  },
  {
   "cell_type": "code",
   "execution_count": 19,
   "metadata": {},
   "outputs": [],
   "source": [
    "# create sentence list\n",
    "def create_lang_list():\n",
    "    # load txt file\n",
    "    lines = load_def(\"dataset/raw.txt\")\n",
    "\n",
    "    # split words english and japanese\n",
    "    pairs = [[preprocess_sentence(w) for w in line.split('\\t')] for line in lines[:5]]\n",
    "    print(pairs)\n",
    "    return zip(pairs)"
   ]
  },
  {
   "cell_type": "markdown",
   "metadata": {},
   "source": [
    "# translate English to Japanese"
   ]
  },
  {
   "cell_type": "code",
   "execution_count": 20,
   "metadata": {},
   "outputs": [],
   "source": [
    "from __future__ import absolute_import, division, print_function, unicode_literals\n",
    "\n",
    "import tensorflow as tf\n",
    "\n",
    "import matplotlib.pyplot as plt\n",
    "import matplotlib.ticker as ticker\n",
    "from sklearn.model_selection import train_test_split\n",
    "\n",
    "import unicodedata\n",
    "import re\n",
    "import numpy as np\n",
    "import os\n",
    "import io\n",
    "import time"
   ]
  },
  {
   "cell_type": "code",
   "execution_count": 122,
   "metadata": {},
   "outputs": [],
   "source": [
    "# convert unicode file to ascii\n",
    "def unicode_to_ascii(s):\n",
    "    # todo avoid Mn if arg is ja lang because ja lang has accent\n",
    "    for c in unicodedata.normalize('NFD', s):\n",
    "        print(unicodedata.category(c))\n",
    "\n",
    "    return ' '.join(c for c in unicodedata.normalize('NFD', s)\n",
    "                   if unicodedata.category(c) != 'Mn')\n",
    "\n",
    "def preprocess_sentence(w):\n",
    "    w = unicode_to_ascii(w.lower().strip())\n",
    "    # create a space between word and the punctuation\n",
    "    w = re.sub(r\"([?!¿.,])\", r\" \\1 \", w)\n",
    "    w = re.sub(r'[\" \"]+', \" \", w)\n",
    "    \n",
    "    # replacing everything with space except(a-z, A-Z, \".\",  \"?\",  \"!\",  \",\", \"-\", \"ー\", \"Kanji\", \"Katakana\", \"Hiragana\")\n",
    "    w = re.sub(r\"[^a-zA-Z\\u3041-\\u309F\\u30A1-\\u30FF\\uFF66-\\uFF9F\\u4E00-\\u9FD0\\u309B\\u3099\\uFF9E\\u309C\\u309A\\uFF9F?.!,¿-ー]+\",  \" \", w)\n",
    "    w = w.rstrip().strip()\n",
    "    \n",
    "    # add a start and end  token to the sentence\n",
    "    # model know when to start and end\n",
    "    w = \"<start> \" + w + \" <end>\"\n",
    "    return w"
   ]
  },
  {
   "cell_type": "code",
   "execution_count": 123,
   "metadata": {},
   "outputs": [
    {
     "name": "stdout",
     "output_type": "stream",
     "text": [
      "Ll\n",
      "Ll\n",
      "Ll\n",
      "Ll\n",
      "Ll\n",
      "Po\n",
      "Zs\n",
      "Ll\n",
      "Ll\n",
      "Ll\n",
      "Ll\n",
      "Ll\n",
      "Po\n",
      "Ll\n",
      "Ll\n",
      "Ll\n",
      "Ll\n",
      "Ll\n",
      "Po\n",
      "Ll\n",
      "Ll\n",
      "Ll\n",
      "Ll\n",
      "Ll\n",
      "Ll\n",
      "<start> h e l l o , w o r l d . t o d a y ! h a h a h a <end>\n",
      "Lo\n",
      "Lo\n",
      "Lo\n",
      "Lo\n",
      "Lo\n",
      "Po\n",
      "Lo\n",
      "Lo\n",
      "Mn\n",
      "Po\n",
      "Lo\n",
      "Lo\n",
      "Lo\n",
      "Lo\n",
      "Lo\n",
      "Lo\n",
      "Mn\n",
      "Lo\n",
      "Lo\n",
      "Po\n",
      "<start> こ ん に ち は , 何 て ? コ ン ニ チ は す る い ! <end>\n"
     ]
    }
   ],
   "source": [
    "# check word\n",
    "en_sentence = u\" hello, world.today!HAHAHA \"\n",
    "ja_sentence = u\" こんにちは,何で?コンニチはずるい!\"\n",
    "print(preprocess_sentence(en_sentence))\n",
    "print(preprocess_sentence(ja_sentence))"
   ]
  },
  {
   "cell_type": "code",
   "execution_count": 81,
   "metadata": {},
   "outputs": [
    {
     "name": "stdout",
     "output_type": "stream",
     "text": [
      "[['<start> y o u a r e b a c k , a r e n t y o u , h a r o l d ? <end>', '<start> あ な た は っ た の ね ハ ロ ル ト ? <end>'], ['<start> m y o p p o n e n t i s s h a r k . <end>', '<start> の は シ ャ ー ク た 。 <end>'], ['<start> t h i s i s o n e t h i n g i n e x c h a n g e f o r a n o t h e r . <end>', '<start> き え た あ る と あ る の <end>'], ['<start> y e a h , i m f i n e . <end>', '<start> も う い い よ こ ち そ う さ ま う う ん <end>'], ['<start> d o n t c o m e t o t h e o f f i c e a n y m o r e . d o n t c a l l m e e i t h e r . <end>', '<start> も う に は な い て く れ も す る な <end>']]\n"
     ]
    },
    {
     "ename": "ValueError",
     "evalue": "too many values to unpack (expected 2)",
     "output_type": "error",
     "traceback": [
      "\u001b[0;31m---------------------------------------------------------------------------\u001b[0m",
      "\u001b[0;31mValueError\u001b[0m                                Traceback (most recent call last)",
      "\u001b[0;32m<ipython-input-81-e2030cf5d7c8>\u001b[0m in \u001b[0;36m<module>\u001b[0;34m\u001b[0m\n\u001b[0;32m----> 1\u001b[0;31m \u001b[0men\u001b[0m\u001b[0;34m,\u001b[0m \u001b[0mja\u001b[0m \u001b[0;34m=\u001b[0m \u001b[0mcreate_lang_list\u001b[0m\u001b[0;34m(\u001b[0m\u001b[0;34m)\u001b[0m\u001b[0;34m\u001b[0m\u001b[0;34m\u001b[0m\u001b[0m\n\u001b[0m\u001b[1;32m      2\u001b[0m \u001b[0mprint\u001b[0m\u001b[0;34m(\u001b[0m\u001b[0men\u001b[0m\u001b[0;34m[\u001b[0m\u001b[0;34m-\u001b[0m\u001b[0;36m1\u001b[0m\u001b[0;34m]\u001b[0m\u001b[0;34m)\u001b[0m\u001b[0;34m\u001b[0m\u001b[0;34m\u001b[0m\u001b[0m\n\u001b[1;32m      3\u001b[0m \u001b[0mprint\u001b[0m\u001b[0;34m(\u001b[0m\u001b[0mja\u001b[0m\u001b[0;34m[\u001b[0m\u001b[0;34m-\u001b[0m\u001b[0;36m1\u001b[0m\u001b[0;34m]\u001b[0m\u001b[0;34m)\u001b[0m\u001b[0;34m\u001b[0m\u001b[0;34m\u001b[0m\u001b[0m\n",
      "\u001b[0;31mValueError\u001b[0m: too many values to unpack (expected 2)"
     ]
    }
   ],
   "source": [
    "en, ja = create_lang_list()\n",
    "print(en[-1])\n",
    "print(ja[-1])"
   ]
  },
  {
   "cell_type": "code",
   "execution_count": null,
   "metadata": {},
   "outputs": [],
   "source": []
  }
 ],
 "metadata": {
  "kernelspec": {
   "display_name": "Python 3",
   "language": "python",
   "name": "python3"
  },
  "language_info": {
   "codemirror_mode": {
    "name": "ipython",
    "version": 3
   },
   "file_extension": ".py",
   "mimetype": "text/x-python",
   "name": "python",
   "nbconvert_exporter": "python",
   "pygments_lexer": "ipython3",
   "version": "3.7.1"
  }
 },
 "nbformat": 4,
 "nbformat_minor": 2
}
