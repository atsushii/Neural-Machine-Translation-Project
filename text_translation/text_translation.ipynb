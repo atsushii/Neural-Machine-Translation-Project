{
 "cells": [
  {
   "cell_type": "code",
   "execution_count": 47,
   "metadata": {},
   "outputs": [],
   "source": [
    "# load txt file\n",
    "def load_def(filename):\n",
    "    # open a txt file as read only\n",
    "    file = open(filename, mode='rt', encoding='utf-8')\n",
    "    lines = file.read().strip().split('\\n')\n",
    "    file.close()\n",
    "    \n",
    "    return lines"
   ]
  },
  {
   "cell_type": "code",
   "execution_count": 2,
   "metadata": {},
   "outputs": [],
   "source": [
    "# create sentence list\n",
    "def create_lang_list():\n",
    "    # load txt file\n",
    "    lines = load_def(\"dataset/raw.txt\")\n",
    "\n",
    "    # split words english and japanese\n",
    "    pairs = [[preprocess_sentence(w) for w in line.split('\\t')] for line in lines[:1]]\n",
    "    return zip(*pairs)"
   ]
  },
  {
   "cell_type": "markdown",
   "metadata": {},
   "source": [
    "# translate English to Japanese"
   ]
  },
  {
   "cell_type": "code",
   "execution_count": 3,
   "metadata": {},
   "outputs": [],
   "source": [
    "from __future__ import absolute_import, division, print_function, unicode_literals\n",
    "\n",
    "import tensorflow as tf\n",
    "\n",
    "import matplotlib.pyplot as plt\n",
    "import matplotlib.ticker as ticker\n",
    "from sklearn.model_selection import train_test_split\n",
    "\n",
    "import unicodedata\n",
    "import re\n",
    "import numpy as np\n",
    "import os\n",
    "import io\n",
    "import time"
   ]
  },
  {
   "cell_type": "code",
   "execution_count": 79,
   "metadata": {},
   "outputs": [],
   "source": [
    "# convert unicode file to ascii\n",
    "def unicode_to_ascii(s):\n",
    "    # avoid lang accent check → japanese has lang acccent\n",
    "    return ' '.join(c for c in unicodedata.normalize('NFC', s))\n",
    "\n",
    "# todo create another functuon for japanese\n",
    "# can't handle same functoin ja and en are totally different \n",
    "def preprocess_sentence(w):\n",
    "    w = unicode_to_ascii(w.lower().strip())\n",
    "    # create a space between word and the punctuation\n",
    "    w = re.sub(r\"([?!¿.,。])\", r\" \\1 \", w)\n",
    "    print(1, w)\n",
    "    w = re.sub(r'[\" \"]+', \" \", w)\n",
    "    print(2, w)\n",
    "    \n",
    "    # replacing everything with space except(a-z, A-Z, \".\",  \"?\",  \"!\",  \",\", \"-\", \"ー\", , \"。\", \"Kanji\", \"Katakana\", \"Hiragana\")\n",
    "    w = re.sub(r\"[^a-zA-Z\\u3041-\\u309F\\u30A1-\\u30FF\\uFF66-\\uFF9F\\u4E00-\\u9FD0\\u309B\\u3099\\uFF9E\\u309C\\u309A\\uFF9F?.!,。¿\\-]+\",  \" \", w)\n",
    "    print(3, w)\n",
    "    w = w.rstrip().strip()\n",
    "    print(4, w)\n",
    "    \n",
    "    # add a start and end  token to the sentence\n",
    "    # model know when to start and end\n",
    "    w = \"<start> \" + w + \" <end>\"\n",
    "    return w"
   ]
  },
  {
   "cell_type": "code",
   "execution_count": 80,
   "metadata": {},
   "outputs": [
    {
     "name": "stdout",
     "output_type": "stream",
     "text": [
      "1 m a y   i   b o r r o w   t h i s   b o o k  ? \n",
      "2 m a y i b o r r o w t h i s b o o k ? \n",
      "3 m a y i b o r r o w t h i s b o o k ? \n",
      "4 m a y i b o r r o w t h i s b o o k ?\n",
      "<start> m a y i b o r r o w t h i s b o o k ? <end>\n",
      "1 何 で そ う な の  。  ぷ ー る に イ ギ ダ イ\n",
      "2 何 で そ う な の 。 ぷ ー る に イ ギ ダ イ\n",
      "3 何 で そ う な の 。 ぷ ー る に イ ギ ダ イ\n",
      "4 何 で そ う な の 。 ぷ ー る に イ ギ ダ イ\n",
      "<start> 何 で そ う な の 。 ぷ ー る に イ ギ ダ イ <end>\n"
     ]
    }
   ],
   "source": [
    "# check word\n",
    "en_sentence =u\"May I borrow this book?\"\n",
    "ja_sentence = u\" 何でそうなの。ぷーるにイギダイ\"\n",
    "print(preprocess_sentence(en_sentence))\n",
    "print(preprocess_sentence(ja_sentence))"
   ]
  },
  {
   "cell_type": "code",
   "execution_count": 56,
   "metadata": {},
   "outputs": [
    {
     "name": "stdout",
     "output_type": "stream",
     "text": [
      "1 y o u   a r e   b a c k  ,    a r e n ' t   y o u  ,    h a r o l d  ? \n",
      "2 y o u a r e b a c k , a r e n ' t y o u , h a r o l d ? \n",
      "3 y o u a r e b a c k , a r e n t y o u , h a r o l d ? \n",
      "4 y o u a r e b a c k , a r e n t y o u , h a r o l d ?\n",
      "1 あ な た は 戻 っ た の ね   ハ ロ ル ド  ? \n",
      "2 あ な た は 戻 っ た の ね ハ ロ ル ド ? \n",
      "3 あ な た は 戻 っ た の ね ハ ロ ル ド ? \n",
      "4 あ な た は 戻 っ た の ね ハ ロ ル ド ?\n",
      "<start> y o u a r e b a c k , a r e n t y o u , h a r o l d ? <end>\n",
      "<start> あ な た は 戻 っ た の ね ハ ロ ル ド ? <end>\n"
     ]
    }
   ],
   "source": [
    "en, ja = create_lang_list()\n",
    "print(en[-1])\n",
    "print(ja[-1])"
   ]
  },
  {
   "cell_type": "code",
   "execution_count": null,
   "metadata": {},
   "outputs": [],
   "source": []
  }
 ],
 "metadata": {
  "kernelspec": {
   "display_name": "Python 3",
   "language": "python",
   "name": "python3"
  },
  "language_info": {
   "codemirror_mode": {
    "name": "ipython",
    "version": 3
   },
   "file_extension": ".py",
   "mimetype": "text/x-python",
   "name": "python",
   "nbconvert_exporter": "python",
   "pygments_lexer": "ipython3",
   "version": "3.7.1"
  }
 },
 "nbformat": 4,
 "nbformat_minor": 2
}
