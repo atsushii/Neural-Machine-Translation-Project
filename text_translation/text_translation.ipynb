{
 "cells": [
  {
   "cell_type": "code",
   "execution_count": 1,
   "metadata": {},
   "outputs": [],
   "source": [
    "# load txt file\n",
    "def load_def(filename):\n",
    "    # open a txt file as read only\n",
    "    file = open(filename, mode='rt', encoding='utf-8')\n",
    "    text = file.read()\n",
    "    file.close()\n",
    "    \n",
    "    return text"
   ]
  },
  {
   "cell_type": "code",
   "execution_count": 2,
   "metadata": {},
   "outputs": [],
   "source": [
    "# split a words english and japanese\n",
    "def split_languages(text):\n",
    "    lines = text.strip().split('\\n')\n",
    "    pairs = [line.split('\\t') for line in lines]\n",
    "    return pairs"
   ]
  },
  {
   "cell_type": "code",
   "execution_count": 5,
   "metadata": {},
   "outputs": [],
   "source": [
    "def main():\n",
    "    # load txt file\n",
    "    text = load_def(\"dataset/raw.txt\")\n",
    "\n",
    "    # recieve jap and eng sentence as list\n",
    "    pairs = split_languages(text)\n",
    "\n",
    "    english_list = list()\n",
    "    japanese_list = list()\n",
    "    # create each languages list\n",
    "    for i in pairs:\n",
    "        english_list.append(i[0])\n",
    "        japanese_list.append(i[1])\n",
    "\n",
    "    print(english_list[:20])\n",
    "    print(\"------------------\")\n",
    "    print(japanese_list[:20])"
   ]
  },
  {
   "cell_type": "code",
   "execution_count": 6,
   "metadata": {},
   "outputs": [
    {
     "name": "stdout",
     "output_type": "stream",
     "text": [
      "[\"you are back, aren't you, harold?\", 'my opponent is shark.', 'this is one thing in exchange for another.', \"yeah, i'm fine.\", \"don't come to the office anymore. don't call me either.\", 'looks beautiful.', 'get him out of here, because i will fucking kill him.', 'you killed him!', 'okay, then who?', 'it seems a former employee...', 'so where are they?', \"or i don't know, just...\", 'no child should ever have to endure that.', \"i know the visual's incongruous, but...\", 'aw!', 'let me show you more detailed ones.', \"you're gonna bring that up right now?\", \"well then, when you're done work, come to the medical office.\", 'um...please go ahead and eat without me.', 'rokka is always forever']\n",
      "------------------\n",
      "['あなたは戻ったのね ハロルド?', '俺の相手は シャークだ。', '引き換えだ ある事とある物の', 'もういいよ ごちそうさま ううん', 'もう会社には来ないでくれ 電話もするな', 'きれいだ。', '連れて行け 殺しそうだ わかったか?', '殺したのか!', 'わぁ~! いつも すみません。 いいのよ~。', 'カンパニーの元社員が', 'じゃアイツラはどこ?', '相手を陥れるとか...', '必要のない子 耐えるにしている。', '犯人像とは 違和感のある見た目だが', 'あ!', 'もっと詳しいの 見せますから。', 'それ今持ち出すか?', 'じゃあ 仕事終わったら 医局に来てよ。', 'あの... 皆さんで 先 済ませてください。', '六花ちゃんは ずっと ずっとずっと']\n"
     ]
    }
   ],
   "source": [
    "main()"
   ]
  },
  {
   "cell_type": "code",
   "execution_count": null,
   "metadata": {},
   "outputs": [],
   "source": []
  }
 ],
 "metadata": {
  "kernelspec": {
   "display_name": "Python 3",
   "language": "python",
   "name": "python3"
  },
  "language_info": {
   "codemirror_mode": {
    "name": "ipython",
    "version": 3
   },
   "file_extension": ".py",
   "mimetype": "text/x-python",
   "name": "python",
   "nbconvert_exporter": "python",
   "pygments_lexer": "ipython3",
   "version": "3.7.1"
  }
 },
 "nbformat": 4,
 "nbformat_minor": 2
}
