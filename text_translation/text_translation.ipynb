{
 "cells": [
  {
   "cell_type": "code",
   "execution_count": 3,
   "metadata": {},
   "outputs": [],
   "source": [
    "# load txt file\n",
    "def load_def(filename):\n",
    "    # open a txt file as read only\n",
    "    file = open(filename, mode='rt', encoding='utf-8')\n",
    "    lines = file.read().strip().split('\\n')\n",
    "    file.close()\n",
    "    \n",
    "    return lines"
   ]
  },
  {
   "cell_type": "code",
   "execution_count": 76,
   "metadata": {},
   "outputs": [],
   "source": [
    "# create sentence list\n",
    "def create_lang_list():\n",
    "    # load txt file\n",
    "    lines = load_def(\"dataset/raw.txt\")\n",
    "\n",
    "    # split words english and japanese\n",
    "    pairs = [[preprocess_sentence(w) for w in line.split('\\t')] for line in lines[:1]]\n",
    "    return zip(*pairs)"
   ]
  },
  {
   "cell_type": "markdown",
   "metadata": {},
   "source": [
    "# translate English to Japanese"
   ]
  },
  {
   "cell_type": "code",
   "execution_count": 5,
   "metadata": {},
   "outputs": [],
   "source": [
    "from __future__ import absolute_import, division, print_function, unicode_literals\n",
    "\n",
    "import tensorflow as tf\n",
    "\n",
    "import matplotlib.pyplot as plt\n",
    "import matplotlib.ticker as ticker\n",
    "from sklearn.model_selection import train_test_split\n",
    "\n",
    "import unicodedata\n",
    "import re\n",
    "import numpy as np\n",
    "import os\n",
    "import io\n",
    "import time"
   ]
  },
  {
   "cell_type": "code",
   "execution_count": 78,
   "metadata": {},
   "outputs": [],
   "source": [
    "# convert unicode file to ascii\n",
    "def unicode_to_ascii(s):\n",
    "    # str -> bytes\n",
    "    bytes_text = s.encode()\n",
    "    # replace ゛ to Combining characters\n",
    "    bytes_text = re.sub(b\"\\xe3\\x82\\x9b\", b'\\xe3\\x82\\x99', bytes_text)\n",
    "    bytes_text = re.sub(b\"\\xef\\xbe\\x9e\", b'\\xe3\\x82\\x99', bytes_text)\n",
    "\n",
    "    # replace ゜to Combining characters\n",
    "    bytes_text = re.sub(b\"\\xe3\\x82\\x9c\", b'\\xe3\\x82\\x9a', bytes_text)\n",
    "    bytes_text = re.sub(b\"\\xef\\xbe\\x9f\", b'\\xe3\\x82\\x9a', bytes_text)\n",
    "\n",
    "    # bytet -> str\n",
    "    text = bytes_text.decode()\n",
    "    # avoid lang accent check → japanese has lang acccent\n",
    "    return ' '.join(c for c in unicodedata.normalize('NFD', text))\n",
    "\n",
    "def preprocess_sentence(w):\n",
    "    w = unicode_to_ascii(w.lower().strip())\n",
    "    # create a space between word and the punctuation\n",
    "    w = re.sub(r\"([?!¿.,])\", r\" \\1 \", w)\n",
    "    w = re.sub(r'[\" \"]+', \" \", w)\n",
    "    \n",
    "    # replacing everything with space except(a-z, A-Z, \".\",  \"?\",  \"!\",  \",\", \"-\", \"ー\", \"Kanji\", \"Katakana\", \"Hiragana\")\n",
    "    w = re.sub(r\"[^a-zA-Z\\u3041-\\u309F\\u30A1-\\u30FF\\uFF66-\\uFF9F\\u4E00-\\u9FD0\\u309B\\u3099\\uFF9E\\u309C\\u309A\\uFF9F?.!,¿-ー]+\",  \" \", w)\n",
    "    w = w.rstrip().strip()\n",
    "    \n",
    "    # add a start and end  token to the sentence\n",
    "    # model know when to start and end\n",
    "    w = \"<start> \" + w + \" <end>\"\n",
    "    return w"
   ]
  },
  {
   "cell_type": "code",
   "execution_count": 79,
   "metadata": {},
   "outputs": [
    {
     "name": "stdout",
     "output_type": "stream",
     "text": [
      "<start> h e l l o w o r l d . t o d a y ! h a h a h a <end>\n",
      "<start> こ ん に ち は , 何 て ゙ ? コ は ゚ ニ チ は ス ゙ る い ! <end>\n"
     ]
    }
   ],
   "source": [
    "# check word\n",
    "en_sentence = u\" helloworld.today!HAHAHA \"\n",
    "ja_sentence = u\" こんにちは,何で?コぱニチはズるい!\"\n",
    "print(preprocess_sentence(en_sentence))\n",
    "print(preprocess_sentence(ja_sentence))"
   ]
  },
  {
   "cell_type": "code",
   "execution_count": 80,
   "metadata": {},
   "outputs": [
    {
     "name": "stdout",
     "output_type": "stream",
     "text": [
      "<start> y o u a r e b a c k , a r e n t y o u , h a r o l d ? <end>\n",
      "<start> あ な た は 戻 っ た の ね ハ ロ ル ト ゙ ? <end>\n"
     ]
    }
   ],
   "source": [
    "en, ja = create_lang_list()\n",
    "print(en[-1])\n",
    "print(ja[-1])"
   ]
  },
  {
   "cell_type": "code",
   "execution_count": null,
   "metadata": {},
   "outputs": [],
   "source": []
  }
 ],
 "metadata": {
  "kernelspec": {
   "display_name": "Python 3",
   "language": "python",
   "name": "python3"
  },
  "language_info": {
   "codemirror_mode": {
    "name": "ipython",
    "version": 3
   },
   "file_extension": ".py",
   "mimetype": "text/x-python",
   "name": "python",
   "nbconvert_exporter": "python",
   "pygments_lexer": "ipython3",
   "version": "3.7.1"
  }
 },
 "nbformat": 4,
 "nbformat_minor": 2
}
