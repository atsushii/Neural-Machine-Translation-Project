{
  "nbformat": 4,
  "nbformat_minor": 0,
  "metadata": {
    "accelerator": "GPU",
    "colab": {
      "name": "translation_en_to_ja.ipynb",
      "provenance": [],
      "collapsed_sections": [],
      "machine_shape": "hm"
    },
    "kernelspec": {
      "name": "python3",
      "display_name": "Python 3"
    },
    "language_info": {
      "codemirror_mode": {
        "name": "ipython",
        "version": 3
      },
      "file_extension": ".py",
      "mimetype": "text/x-python",
      "name": "python",
      "nbconvert_exporter": "python",
      "pygments_lexer": "ipython3",
      "version": "3.7.5"
    }
  },
  "cells": [
    {
      "cell_type": "code",
      "metadata": {
        "colab_type": "code",
        "id": "Zb93R3DCCXK0",
        "outputId": "5e17f220-2ce2-441f-9f5b-cc75930c09f8",
        "colab": {
          "base_uri": "https://localhost:8080/",
          "height": 34
        }
      },
      "source": [
        "import string\n",
        "import re\n",
        "from numpy import array, argmax, random, take\n",
        "import pandas as pd\n",
        "from keras.models import Sequential\n",
        "from keras.layers import Dense, LSTM, Embedding, RepeatVector, Dropout\n",
        "from keras.preprocessing.text import Tokenizer\n",
        "from keras.callbacks import ModelCheckpoint\n",
        "from keras.preprocessing.sequence import pad_sequences\n",
        "from keras.models import load_model\n",
        "from keras import optimizers\n",
        "import matplotlib.pyplot as plt\n",
        "import io\n",
        "! pip install sentencepiece\n",
        "%matplotlib inline\n",
        "\n",
        "# ignore warning\n",
        "import os\n",
        "os.environ['TF_CPP_MIN_LOG_LEVEL'] = '3'"
      ],
      "execution_count": 43,
      "outputs": [
        {
          "output_type": "stream",
          "text": [
            "Requirement already satisfied: sentencepiece in /usr/local/lib/python3.6/dist-packages (0.1.83)\n"
          ],
          "name": "stdout"
        }
      ]
    },
    {
      "cell_type": "code",
      "metadata": {
        "id": "I0pBJimVLzNU",
        "colab_type": "code",
        "outputId": "0fddb672-fb19-4db0-ba7a-8ac4a1d5d60a",
        "colab": {
          "base_uri": "https://localhost:8080/",
          "height": 122
        }
      },
      "source": [
        "# mount google drive \n",
        "from google.colab import drive\n",
        "drive.mount('/content/drive')"
      ],
      "execution_count": 2,
      "outputs": [
        {
          "output_type": "stream",
          "text": [
            "Go to this URL in a browser: https://accounts.google.com/o/oauth2/auth?client_id=947318989803-6bn6qk8qdgf4n4g3pfee6491hc0brc4i.apps.googleusercontent.com&redirect_uri=urn%3aietf%3awg%3aoauth%3a2.0%3aoob&response_type=code&scope=email%20https%3a%2f%2fwww.googleapis.com%2fauth%2fdocs.test%20https%3a%2f%2fwww.googleapis.com%2fauth%2fdrive%20https%3a%2f%2fwww.googleapis.com%2fauth%2fdrive.photos.readonly%20https%3a%2f%2fwww.googleapis.com%2fauth%2fpeopleapi.readonly\n",
            "\n",
            "Enter your authorization code:\n",
            "··········\n",
            "Mounted at /content/drive\n"
          ],
          "name": "stdout"
        }
      ]
    },
    {
      "cell_type": "code",
      "metadata": {
        "colab_type": "code",
        "id": "bmv0RqrACbd-",
        "colab": {}
      },
      "source": [
        "# function to read raw text file\n",
        "def read_text(filename):\n",
        "    # open the file\n",
        "    file = open(filename, mode='rt', encoding='utf-8')\n",
        "\n",
        "    # read all text\n",
        "    text = file.read()\n",
        "    file.close()\n",
        "    return text"
      ],
      "execution_count": 0,
      "outputs": []
    },
    {
      "cell_type": "code",
      "metadata": {
        "colab_type": "code",
        "id": "pf5s0qc9Dpa6",
        "colab": {}
      },
      "source": [
        "# split a text into sentences\n",
        "def to_lines(text):\n",
        "    sentence = text.strip().split('\\n')\n",
        "    sentence = [i.split('\\t') for i in sentence]\n",
        "    return sentence"
      ],
      "execution_count": 0,
      "outputs": []
    },
    {
      "cell_type": "code",
      "metadata": {
        "colab_type": "code",
        "id": "Ttcy6dKhDrmB",
        "colab": {
          "base_uri": "https://localhost:8080/",
          "height": 34
        },
        "outputId": "1fa57461-53a5-41c4-e507-01d36b01dcba"
      },
      "source": [
        "data = read_text(\"/content/drive/My Drive/Colab Notebooks/raw.txt\")\n",
        "# split each sentence\n",
        "eng_ja = to_lines(data)\n",
        "# to numpy array\n",
        "eng_ja = array(eng_ja)\n",
        "type(eng_ja)"
      ],
      "execution_count": 6,
      "outputs": [
        {
          "output_type": "execute_result",
          "data": {
            "text/plain": [
              "numpy.ndarray"
            ]
          },
          "metadata": {
            "tags": []
          },
          "execution_count": 6
        }
      ]
    },
    {
      "cell_type": "code",
      "metadata": {
        "colab_type": "code",
        "id": "OMHI0M1qPWqa",
        "colab": {}
      },
      "source": [
        "# get number of sentences\n",
        "eng_ja = eng_ja[:30000,:]"
      ],
      "execution_count": 0,
      "outputs": []
    },
    {
      "cell_type": "code",
      "metadata": {
        "colab_type": "code",
        "id": "cUEU_GU1PYNq",
        "outputId": "f78e3087-a040-4c34-9f83-1afcd4b0becb",
        "colab": {
          "base_uri": "https://localhost:8080/",
          "height": 153
        }
      },
      "source": [
        "eng_ja"
      ],
      "execution_count": 9,
      "outputs": [
        {
          "output_type": "execute_result",
          "data": {
            "text/plain": [
              "array([[\"you are back, aren't you, harold?\", 'あなたは戻ったのね ハロルド?'],\n",
              "       ['my opponent is shark.', '俺の相手は シャークだ。'],\n",
              "       ['this is one thing in exchange for another.', '引き換えだ ある事とある物の'],\n",
              "       ...,\n",
              "       ['now i see it.', '思い出したわ'],\n",
              "       [\"we weren't born to hate each other\", '僕たちは憎しみ合う為に 生まれてきたンじゃない'],\n",
              "       [\"most people can't just wish them away with a wave of their hand.\",\n",
              "        '普通の人は 手を振って 検問所を消すことは 出来ないが・・・']], dtype='<U352')"
            ]
          },
          "metadata": {
            "tags": []
          },
          "execution_count": 9
        }
      ]
    },
    {
      "cell_type": "code",
      "metadata": {
        "colab_type": "code",
        "id": "3ikqxXGePadk",
        "outputId": "39c71f7d-1102-4cb1-8f9b-c954e9ca4245",
        "colab": {
          "base_uri": "https://localhost:8080/",
          "height": 153
        }
      },
      "source": [
        "# Remove punctuation from english \n",
        "eng_ja[:,0] = [s.translate(str.maketrans('', '', string.punctuation)) for s in eng_ja[:,0]]\n",
        "# Remove punctuation from Japanese\n",
        "eng_ja[:,1] = [s.translate(str.maketrans('', '', string.punctuation)) for s in eng_ja[:,1]]\n",
        "eng_ja"
      ],
      "execution_count": 10,
      "outputs": [
        {
          "output_type": "execute_result",
          "data": {
            "text/plain": [
              "array([['you are back arent you harold', 'あなたは戻ったのね ハロルド'],\n",
              "       ['my opponent is shark', '俺の相手は シャークだ。'],\n",
              "       ['this is one thing in exchange for another', '引き換えだ ある事とある物の'],\n",
              "       ...,\n",
              "       ['now i see it', '思い出したわ'],\n",
              "       ['we werent born to hate each other', '僕たちは憎しみ合う為に 生まれてきたンじゃない'],\n",
              "       ['most people cant just wish them away with a wave of their hand',\n",
              "        '普通の人は 手を振って 検問所を消すことは 出来ないが・・・']], dtype='<U352')"
            ]
          },
          "metadata": {
            "tags": []
          },
          "execution_count": 10
        }
      ]
    },
    {
      "cell_type": "code",
      "metadata": {
        "id": "RBMqrm3o-sJt",
        "colab_type": "code",
        "colab": {
          "base_uri": "https://localhost:8080/",
          "height": 153
        },
        "outputId": "2baf032b-66db-477a-bf15-b677622c0f10"
      },
      "source": [
        "# convert text to lowercase\n",
        "for i in range(len(eng_ja)):\n",
        "    eng_ja[i,0] = eng_ja[i,0].lower()\n",
        "    eng_ja[i,1] = eng_ja[i,1].lower()\n",
        "\n",
        "eng_ja"
      ],
      "execution_count": 18,
      "outputs": [
        {
          "output_type": "execute_result",
          "data": {
            "text/plain": [
              "array([[' you are back arent you harold', ' あなたは戻ったのね ハロルド'],\n",
              "       [' my opponent is shark', ' 俺の相手は シャークだ。'],\n",
              "       [' this is one thing in exchange for another', ' 引き換えだ ある事とある物の'],\n",
              "       ...,\n",
              "       [' now i see it', ' 思い出したわ'],\n",
              "       [' we werent born to hate each other', ' 僕たちは憎しみ合う為に 生まれてきたンじゃない'],\n",
              "       [' most people cant just wish them away with a wave of their hand',\n",
              "        ' 普通の人は 手を振って 検問所を消すことは 出来ないが・・・']], dtype='<U352')"
            ]
          },
          "metadata": {
            "tags": []
          },
          "execution_count": 18
        }
      ]
    },
    {
      "cell_type": "code",
      "metadata": {
        "colab_type": "code",
        "id": "oeOvXEYFQq_-",
        "colab": {}
      },
      "source": [
        "# using sentencePiece for split sentence\n",
        "import sentencepiece as spm\n",
        "sp = spm.SentencePieceProcessor()"
      ],
      "execution_count": 0,
      "outputs": []
    },
    {
      "cell_type": "code",
      "metadata": {
        "id": "QrYiW2_Pl1lf",
        "colab_type": "code",
        "outputId": "38410ee7-d184-478a-ef4d-ecbf8b42fad4",
        "colab": {
          "base_uri": "https://localhost:8080/",
          "height": 34
        }
      },
      "source": [
        "# train SentencePiece using english text \n",
        "spm.SentencePieceTrainer.Train('--input=english.txt --model_prefix=m --vocab_size=8000')"
      ],
      "execution_count": 15,
      "outputs": [
        {
          "output_type": "execute_result",
          "data": {
            "text/plain": [
              "True"
            ]
          },
          "metadata": {
            "tags": []
          },
          "execution_count": 15
        }
      ]
    },
    {
      "cell_type": "code",
      "metadata": {
        "id": "n-iz13U2awVV",
        "colab_type": "code",
        "outputId": "f8196697-d531-423b-ff41-eea3e0d26781",
        "colab": {
          "base_uri": "https://localhost:8080/",
          "height": 153
        }
      },
      "source": [
        "# english sentencepiece\n",
        "sp.Load('m.model')\n",
        "eng_ja[:,0] = [\"\".join(sp.encode_as_pieces(i)).replace('▁', ' ') for i in eng_ja[:,0]]\n",
        "\n",
        "# japanese sentencepiece\n",
        "# using pretrain sentencepiece\n",
        "# it is trained by wiki\n",
        "sp.Load('/content/drive/My Drive/wiki-ja.model')\n",
        "eng_ja[:,1] = [\"\".join(sp.encode_as_pieces(i)).replace('▁', ' ') for i in eng_ja[:,1]]\n",
        "eng_ja"
      ],
      "execution_count": 20,
      "outputs": [
        {
          "output_type": "execute_result",
          "data": {
            "text/plain": [
              "array([[' you are back arent you harold', ' あなたは戻ったのね ハロルド'],\n",
              "       [' my opponent is shark', ' 俺の相手は シャークだ。'],\n",
              "       [' this is one thing in exchange for another', ' 引き換えだ ある事とある物の'],\n",
              "       ...,\n",
              "       [' now i see it', ' 思い出したわ'],\n",
              "       [' we werent born to hate each other', ' 僕たちは憎しみ合う為に 生まれてきたンじゃない'],\n",
              "       [' most people cant just wish them away with a wave of their hand',\n",
              "        ' 普通の人は 手を振って 検問所を消すことは 出来ないが・・・']], dtype='<U352')"
            ]
          },
          "metadata": {
            "tags": []
          },
          "execution_count": 20
        }
      ]
    },
    {
      "cell_type": "code",
      "metadata": {
        "colab_type": "code",
        "id": "sizAmLv2Pj-j",
        "outputId": "5599908a-d4dc-4dc8-d43a-2a80abd3cb8c",
        "colab": {
          "base_uri": "https://localhost:8080/",
          "height": 281
        }
      },
      "source": [
        "# empty lists\n",
        "eng_list = []\n",
        "ja_list = []\n",
        "\n",
        "# check sentence length\n",
        "# english\n",
        "for i in eng_ja[:,0]:\n",
        "    eng_list.append(len(i.split()))\n",
        "\n",
        "# Japanese\n",
        "for i in eng_ja[:,1]:\n",
        "    ja_list.append(len(i.split()))\n",
        "\n",
        "length_df = pd.DataFrame({'eng':eng_list, 'ja':ja_list})\n",
        "\n",
        "length_df.hist(bins = 30)\n",
        "plt.show()"
      ],
      "execution_count": 21,
      "outputs": [
        {
          "output_type": "display_data",
          "data": {
            "image/png": "[encoded data removed]",
            "text/plain": [
              "<Figure size 432x288 with 2 Axes>"
            ]
          },
          "metadata": {
            "tags": []
          }
        }
      ]
    },
    {
      "cell_type": "code",
      "metadata": {
        "colab_type": "code",
        "id": "1WLwCK4xVynu",
        "outputId": "a8e146f1-b3c3-4821-9d92-436f23fc9f1a",
        "colab": {
          "base_uri": "https://localhost:8080/",
          "height": 51
        }
      },
      "source": [
        "print(\"max length English {}\".format(max(eng_list)))\n",
        "print(\"max length Japanese {}\".format(max(ja_list)))"
      ],
      "execution_count": 24,
      "outputs": [
        {
          "output_type": "stream",
          "text": [
            "max length English 44\n",
            "max length Japanese 10\n"
          ],
          "name": "stdout"
        }
      ]
    },
    {
      "cell_type": "code",
      "metadata": {
        "colab_type": "code",
        "id": "ZEdYwmc3PoJT",
        "colab": {}
      },
      "source": [
        "# build a tokenizer\n",
        "def tokenization(lines):\n",
        "    tokenizer = Tokenizer()\n",
        "    tokenizer.fit_on_texts(lines)\n",
        "    return tokenizer"
      ],
      "execution_count": 0,
      "outputs": []
    },
    {
      "cell_type": "code",
      "metadata": {
        "colab_type": "code",
        "id": "2UVxaCNJU7Bm",
        "outputId": "b65849a9-4b8f-4880-9344-f29361cb7b72",
        "colab": {
          "base_uri": "https://localhost:8080/",
          "height": 34
        }
      },
      "source": [
        "# prepare English tokenizer\n",
        "eng_tokenizer = tokenization(eng_ja[:, 0])\n",
        "eng_vocab_size = len(eng_tokenizer.word_index) + 1\n",
        "\n",
        "# must all the sequences of the same length.\n",
        "eng_length = 10\n",
        "print('English Vocabulary Size: %d' % eng_vocab_size)"
      ],
      "execution_count": 26,
      "outputs": [
        {
          "output_type": "stream",
          "text": [
            "English Vocabulary Size: 17121\n"
          ],
          "name": "stdout"
        }
      ]
    },
    {
      "cell_type": "code",
      "metadata": {
        "colab_type": "code",
        "id": "jAkfW5TfWaca",
        "outputId": "5a7d1d1e-b740-4a06-9c7d-2c2da356b9ee",
        "colab": {
          "base_uri": "https://localhost:8080/",
          "height": 34
        }
      },
      "source": [
        "# prepare Japanese tokenizer\n",
        "ja_tokenizer = tokenization(eng_ja[:, 1])\n",
        "ja_vocab_size = len(ja_tokenizer.word_index) + 1\n",
        "\n",
        "# must all the sequences of the same length.\n",
        "ja_length = 10\n",
        "print('Deutch Vocabulary Size: %d' % ja_vocab_size)"
      ],
      "execution_count": 31,
      "outputs": [
        {
          "output_type": "stream",
          "text": [
            "Deutch Vocabulary Size: 43473\n"
          ],
          "name": "stdout"
        }
      ]
    },
    {
      "cell_type": "code",
      "metadata": {
        "colab_type": "code",
        "id": "cw26UoZEWf6h",
        "colab": {}
      },
      "source": [
        "# encode and pad sequences\n",
        "def encode_sequences(tokenizer, length, lines):\n",
        "    # integer encode sequences\n",
        "    seq = tokenizer.texts_to_sequences(lines)\n",
        "    # pad sequences with 0 values\n",
        "    seq = pad_sequences(seq, maxlen=length, padding='post')\n",
        "    return seq"
      ],
      "execution_count": 0,
      "outputs": []
    },
    {
      "cell_type": "code",
      "metadata": {
        "colab_type": "code",
        "id": "ANKcc_U6WjmX",
        "colab": {}
      },
      "source": [
        "from sklearn.model_selection import train_test_split\n",
        "\n",
        "# split data into train and test set\n",
        "train, test = train_test_split(eng_ja, test_size=0.3, random_state = 42)"
      ],
      "execution_count": 0,
      "outputs": []
    },
    {
      "cell_type": "code",
      "metadata": {
        "colab_type": "code",
        "id": "UIpLRoOLWlKr",
        "colab": {}
      },
      "source": [
        "# prepare training data\n",
        "X_train = encode_sequences(eng_tokenizer, eng_length, train[:, 0])\n",
        "Y_train = encode_sequences(ja_tokenizer, ja_length, train[:, 1])\n",
        "\n",
        "# prepare validation data\n",
        "X_test = encode_sequences(eng_tokenizer, eng_length, test[:, 0])\n",
        "Y_test = encode_sequences(ja_tokenizer, ja_length, test[:, 1])\n"
      ],
      "execution_count": 0,
      "outputs": []
    },
    {
      "cell_type": "code",
      "metadata": {
        "colab_type": "code",
        "id": "Ma59RoqRWnMy",
        "colab": {}
      },
      "source": [
        "# build NMT model\n",
        "def define_model(in_vocab,out_vocab, in_timesteps,out_timesteps,units):\n",
        "    model = Sequential()\n",
        "    model.add(Embedding(in_vocab, units, input_length=in_timesteps, mask_zero=True))\n",
        "    model.add(LSTM(units))\n",
        "    Dropout(rate=0.5)\n",
        "    model.add(RepeatVector(out_timesteps))\n",
        "    Dropout(rate=0.5)\n",
        "    model.add(LSTM(units, return_sequences=True))\n",
        "    model.add(Dense(out_vocab, activation='softmax'))\n",
        "    return model"
      ],
      "execution_count": 0,
      "outputs": []
    },
    {
      "cell_type": "code",
      "metadata": {
        "colab_type": "code",
        "id": "Ti0TrucnWqzr",
        "colab": {}
      },
      "source": [
        "# model compilation\n",
        "model = define_model(eng_vocab_size, ja_vocab_size,eng_length, ja_length, 1024)"
      ],
      "execution_count": 0,
      "outputs": []
    },
    {
      "cell_type": "code",
      "metadata": {
        "colab_type": "code",
        "id": "aYQVg6NRWsuN",
        "colab": {}
      },
      "source": [
        "# optimize loss function\n",
        "rms = optimizers.RMSprop(lr=0.0001)\n",
        "\n",
        "model.compile(optimizer=rms, loss='sparse_categorical_crossentropy', metrics=['accuracy'])"
      ],
      "execution_count": 0,
      "outputs": []
    },
    {
      "cell_type": "code",
      "metadata": {
        "colab_type": "code",
        "id": "dhAUdzArWvju",
        "colab": {
          "base_uri": "https://localhost:8080/",
          "height": 394
        },
        "outputId": "6dbc4915-467b-4686-85bd-be8c03846f60"
      },
      "source": [
        "# checkpoint\n",
        "filename = 'model.h1.22_Nov_19'\n",
        "checkpoint = ModelCheckpoint(filename, monitor='val_loss', verbose=1, save_best_only=True, mode='min')\n",
        "\n",
        "# train model\n",
        "history = model.fit(X_train, Y_train.reshape(Y_train.shape[0], Y_train.shape[1], 1),\n",
        "                    epochs=5, batch_size=258, validation_split = 0.2, callbacks=[checkpoint],                    \n",
        "                    verbose=1)"
      ],
      "execution_count": 49,
      "outputs": [
        {
          "output_type": "stream",
          "text": [
            "Train on 16800 samples, validate on 4200 samples\n",
            "Epoch 1/5\n",
            "16800/16800 [==============================] - 26s 2ms/step - loss: 1.8463 - acc: 0.8275 - val_loss: 2.3578 - val_acc: 0.8289\n",
            "\n",
            "Epoch 00001: val_loss improved from inf to 2.35784, saving model to model.h1.22_Nov_19\n",
            "Epoch 2/5\n",
            "16800/16800 [==============================] - 26s 2ms/step - loss: 1.8204 - acc: 0.8275 - val_loss: 2.3321 - val_acc: 0.8285\n",
            "\n",
            "Epoch 00002: val_loss improved from 2.35784 to 2.33206, saving model to model.h1.22_Nov_19\n",
            "Epoch 3/5\n",
            "16800/16800 [==============================] - 26s 2ms/step - loss: 1.7927 - acc: 0.8275 - val_loss: 2.3514 - val_acc: 0.8279\n",
            "\n",
            "Epoch 00003: val_loss did not improve from 2.33206\n",
            "Epoch 4/5\n",
            "16800/16800 [==============================] - 26s 2ms/step - loss: 1.7675 - acc: 0.8275 - val_loss: 2.3463 - val_acc: 0.8277\n",
            "\n",
            "Epoch 00004: val_loss did not improve from 2.33206\n",
            "Epoch 5/5\n",
            "16800/16800 [==============================] - 26s 2ms/step - loss: 1.7430 - acc: 0.8276 - val_loss: 2.3754 - val_acc: 0.8277\n",
            "\n",
            "Epoch 00005: val_loss did not improve from 2.33206\n"
          ],
          "name": "stdout"
        }
      ]
    },
    {
      "cell_type": "code",
      "metadata": {
        "id": "Pce1wkdUHm7N",
        "colab_type": "code",
        "colab": {
          "base_uri": "https://localhost:8080/",
          "height": 644
        },
        "outputId": "40bbcbc8-d3f7-405a-d2cb-669f55e73430"
      },
      "source": [
        "from keras.utils import plot_model\n",
        "\n",
        "# model plot\n",
        "plot_model(model, to_file='train-bert.png', show_shapes=True)"
      ],
      "execution_count": 50,
      "outputs": [
        {
          "output_type": "execute_result",
          "data": {
            "image/png": "[encoded data removed]",
            "text/plain": [
              "<IPython.core.display.Image object>"
            ]
          },
          "metadata": {
            "tags": []
          },
          "execution_count": 50
        }
      ]
    },
    {
      "cell_type": "code",
      "metadata": {
        "colab_type": "code",
        "id": "3Vm5oB5JW2NA",
        "outputId": "42ecb971-762c-4446-918d-4035ebd1c571",
        "colab": {
          "base_uri": "https://localhost:8080/",
          "height": 295
        }
      },
      "source": [
        "fig, (ax1, ax2) = plt.subplots(ncols=2, figsize=(10,4))\n",
        "\n",
        "def plot_history_acc(history):\n",
        "    # plot the accuracy\n",
        "    ax1.plot(history.history['acc'],label=\"accuracy for training\")\n",
        "    ax1.plot(history.history['val_acc'],label=\"accuracy for validation\")\n",
        "    ax1.set_title('model accuracy')\n",
        "    ax1.set_xlabel('epoch')\n",
        "    ax1.set_ylabel('accuracy')\n",
        "    ax1.legend(loc='upper right')\n",
        "\n",
        "def plot_history_loss(history):\n",
        "    # Plot the loss\n",
        "    ax2.plot(history.history['loss'],label=\"loss for training\")\n",
        "    ax2.plot(history.history['val_loss'],label=\"loss for validation\")\n",
        "    ax2.set_title('model loss')\n",
        "    ax2.set_xlabel('epoch')\n",
        "    ax2.set_ylabel('loss')\n",
        "    ax2.legend(loc='upper right')\n",
        "\n",
        "plot_history_loss(history)\n",
        "plot_history_acc(history)\n",
        "\n",
        "plt.show()"
      ],
      "execution_count": 51,
      "outputs": [
        {
          "output_type": "display_data",
          "data": {
            "image/png": "[encoded data removed]",
            "text/plain": [
              "<Figure size 720x288 with 2 Axes>"
            ]
          },
          "metadata": {
            "tags": []
          }
        }
      ]
    },
    {
      "cell_type": "code",
      "metadata": {
        "colab_type": "code",
        "id": "x3S1NMKGY5Tm",
        "colab": {}
      },
      "source": [
        "# load model data \n",
        "model = load_model('model.h1.22_Nov_19')\n",
        "\n",
        "# predict\n",
        "preds = model.predict_classes(testX.reshape((testX.shape[0],testX.shape[1])))"
      ],
      "execution_count": 0,
      "outputs": []
    },
    {
      "cell_type": "code",
      "metadata": {
        "colab_type": "code",
        "id": "fSnPPvraY_uW",
        "colab": {}
      },
      "source": [
        "def get_word(n, tokenizer):\n",
        "    for word, index in tokenizer.word_index.items():\n",
        "        if index == n:\n",
        "            return word\n",
        "    return None"
      ],
      "execution_count": 0,
      "outputs": []
    },
    {
      "cell_type": "code",
      "metadata": {
        "colab_type": "code",
        "id": "OchHfcobZKbY",
        "colab": {}
      },
      "source": [
        "preds_text = []\n",
        "for i in preds:\n",
        "    temp = []\n",
        "    for j in range(len(i)):\n",
        "        t = get_word(i[j], deu_tokenizer)\n",
        "\n",
        "        if j > 0:\n",
        "            if (t == get_word(i[j-1], deu_tokenizer)) or (t == None):\n",
        "                temp.append('')\n",
        "            else:\n",
        "                temp.append(t)\n",
        "        else:\n",
        "            if(t == None):\n",
        "                temp.append('')\n",
        "            else:\n",
        "                temp.append(t) \n",
        "\n",
        "    preds_text.append(' '.join(temp))"
      ],
      "execution_count": 0,
      "outputs": []
    },
    {
      "cell_type": "code",
      "metadata": {
        "colab_type": "code",
        "id": "Q01F6aF4ZMB_",
        "colab": {}
      },
      "source": [
        "# view actual sentence anf predict result\n",
        "pred_df = pd.DataFrame({'actual' : test[:,1], 'predicted' : preds_text})"
      ],
      "execution_count": 0,
      "outputs": []
    },
    {
      "cell_type": "code",
      "metadata": {
        "colab_type": "code",
        "id": "tyF2rYenhsDJ",
        "outputId": "624cc0d5-a8cf-4f62-df33-4e9934cf3b4f",
        "colab": {
          "base_uri": "https://localhost:8080/",
          "height": 1000
        }
      },
      "source": [
        "pred_df.sample(50)"
      ],
      "execution_count": 0,
      "outputs": [
        {
          "output_type": "execute_result",
          "data": {
            "text/html": [
              "<div>\n",
              "<style scoped>\n",
              "    .dataframe tbody tr th:only-of-type {\n",
              "        vertical-align: middle;\n",
              "    }\n",
              "\n",
              "    .dataframe tbody tr th {\n",
              "        vertical-align: top;\n",
              "    }\n",
              "\n",
              "    .dataframe thead th {\n",
              "        text-align: right;\n",
              "    }\n",
              "</style>\n",
              "<table border=\"1\" class=\"dataframe\">\n",
              "  <thead>\n",
              "    <tr style=\"text-align: right;\">\n",
              "      <th></th>\n",
              "      <th>actual</th>\n",
              "      <th>predicted</th>\n",
              "    </tr>\n",
              "  </thead>\n",
              "  <tbody>\n",
              "    <tr>\n",
              "      <th>2840</th>\n",
              "      <td>堀池 清美の ロスタイムが 終わりました。</td>\n",
              "      <td></td>\n",
              "    </tr>\n",
              "    <tr>\n",
              "      <th>2455</th>\n",
              "      <td>その時進入できる。</td>\n",
              "      <td></td>\n",
              "    </tr>\n",
              "    <tr>\n",
              "      <th>2683</th>\n",
              "      <td>背後から 彼女を襲ったのか</td>\n",
              "      <td></td>\n",
              "    </tr>\n",
              "    <tr>\n",
              "      <th>1515</th>\n",
              "      <td>よくやった</td>\n",
              "      <td></td>\n",
              "    </tr>\n",
              "    <tr>\n",
              "      <th>159</th>\n",
              "      <td>教会の犬め</td>\n",
              "      <td></td>\n",
              "    </tr>\n",
              "    <tr>\n",
              "      <th>2005</th>\n",
              "      <td>馴れたもんだろ</td>\n",
              "      <td></td>\n",
              "    </tr>\n",
              "    <tr>\n",
              "      <th>2403</th>\n",
              "      <td>おおきになぁ。 あっ いえいえ。</td>\n",
              "      <td></td>\n",
              "    </tr>\n",
              "    <tr>\n",
              "      <th>633</th>\n",
              "      <td>何だよ それ 子供は親の所有物じゃないのに</td>\n",
              "      <td></td>\n",
              "    </tr>\n",
              "    <tr>\n",
              "      <th>1918</th>\n",
              "      <td>ばかげてます</td>\n",
              "      <td></td>\n",
              "    </tr>\n",
              "    <tr>\n",
              "      <th>566</th>\n",
              "      <td>不安を感じながらも どうにかやり遂げたというような感じです</td>\n",
              "      <td></td>\n",
              "    </tr>\n",
              "    <tr>\n",
              "      <th>2284</th>\n",
              "      <td>でも 俺は 何ももらえないの</td>\n",
              "      <td></td>\n",
              "    </tr>\n",
              "    <tr>\n",
              "      <th>819</th>\n",
              "      <td>臨床腫瘍学と苦痛緩和看護</td>\n",
              "      <td></td>\n",
              "    </tr>\n",
              "    <tr>\n",
              "      <th>967</th>\n",
              "      <td>「ブロディが居るのを見た」</td>\n",
              "      <td></td>\n",
              "    </tr>\n",
              "    <tr>\n",
              "      <th>2251</th>\n",
              "      <td>それで、コーチはこんなふうに座って</td>\n",
              "      <td></td>\n",
              "    </tr>\n",
              "    <tr>\n",
              "      <th>1265</th>\n",
              "      <td>うちは いつも こうなんじゃない え</td>\n",
              "      <td></td>\n",
              "    </tr>\n",
              "    <tr>\n",
              "      <th>1605</th>\n",
              "      <td>そりゃ また ずいぶん でかいですね。</td>\n",
              "      <td></td>\n",
              "    </tr>\n",
              "    <tr>\n",
              "      <th>1757</th>\n",
              "      <td>それで 「ジャック」に持ち込む。</td>\n",
              "      <td></td>\n",
              "    </tr>\n",
              "    <tr>\n",
              "      <th>1251</th>\n",
              "      <td>国防省のマイク フェイバー大佐を</td>\n",
              "      <td></td>\n",
              "    </tr>\n",
              "    <tr>\n",
              "      <th>1140</th>\n",
              "      <td>我々はリスクを冒すことも辞しませんでした 当然ですよね</td>\n",
              "      <td></td>\n",
              "    </tr>\n",
              "    <tr>\n",
              "      <th>1098</th>\n",
              "      <td>我々が期待してたものとは 違うな 現場から発見されたこの45口径の弾丸は 去年 リコ法の証人から取り出された</td>\n",
              "      <td></td>\n",
              "    </tr>\n",
              "    <tr>\n",
              "      <th>716</th>\n",
              "      <td>どこの山で 採れたんですか そのタケノコ。</td>\n",
              "      <td></td>\n",
              "    </tr>\n",
              "    <tr>\n",
              "      <th>855</th>\n",
              "      <td>ねぇ ここ開けていい</td>\n",
              "      <td></td>\n",
              "    </tr>\n",
              "    <tr>\n",
              "      <th>952</th>\n",
              "      <td>何がわかる</td>\n",
              "      <td></td>\n",
              "    </tr>\n",
              "    <tr>\n",
              "      <th>143</th>\n",
              "      <td>ある創作をします</td>\n",
              "      <td></td>\n",
              "    </tr>\n",
              "    <tr>\n",
              "      <th>1600</th>\n",
              "      <td>当然在外表上是不会发现的</td>\n",
              "      <td></td>\n",
              "    </tr>\n",
              "    <tr>\n",
              "      <th>463</th>\n",
              "      <td>絶対に</td>\n",
              "      <td></td>\n",
              "    </tr>\n",
              "    <tr>\n",
              "      <th>2745</th>\n",
              "      <td>契約を結ぶ為に ボトルサービスさえ付けた</td>\n",
              "      <td></td>\n",
              "    </tr>\n",
              "    <tr>\n",
              "      <th>697</th>\n",
              "      <td>smの部屋じゃなかったの</td>\n",
              "      <td></td>\n",
              "    </tr>\n",
              "    <tr>\n",
              "      <th>453</th>\n",
              "      <td>わかった、そうか</td>\n",
              "      <td></td>\n",
              "    </tr>\n",
              "    <tr>\n",
              "      <th>389</th>\n",
              "      <td>森の中に消える</td>\n",
              "      <td></td>\n",
              "    </tr>\n",
              "    <tr>\n",
              "      <th>1551</th>\n",
              "      <td>君が守ってたら 特殊部隊じゃなくなるな 会いたいわ</td>\n",
              "      <td></td>\n",
              "    </tr>\n",
              "    <tr>\n",
              "      <th>637</th>\n",
              "      <td>あぁ、選択肢は1つだ 今日、君が300ドル払って―</td>\n",
              "      <td></td>\n",
              "    </tr>\n",
              "    <tr>\n",
              "      <th>2003</th>\n",
              "      <td>この脚本は 高倉 雄二が 書いたものでは ありません。</td>\n",
              "      <td></td>\n",
              "    </tr>\n",
              "    <tr>\n",
              "      <th>2695</th>\n",
              "      <td>あなたはやったのですか</td>\n",
              "      <td></td>\n",
              "    </tr>\n",
              "    <tr>\n",
              "      <th>470</th>\n",
              "      <td>帰ったら最初に 甘えさせて</td>\n",
              "      <td></td>\n",
              "    </tr>\n",
              "    <tr>\n",
              "      <th>433</th>\n",
              "      <td>危険がないと証明するためのものでした</td>\n",
              "      <td></td>\n",
              "    </tr>\n",
              "    <tr>\n",
              "      <th>2013</th>\n",
              "      <td>少しドキドキしたくらい。</td>\n",
              "      <td></td>\n",
              "    </tr>\n",
              "    <tr>\n",
              "      <th>2382</th>\n",
              "      <td>貴女が産んだ最後の世代は 既に全員が成熟</td>\n",
              "      <td></td>\n",
              "    </tr>\n",
              "    <tr>\n",
              "      <th>2322</th>\n",
              "      <td>私なんかでも 本当に何かできるの</td>\n",
              "      <td></td>\n",
              "    </tr>\n",
              "    <tr>\n",
              "      <th>1670</th>\n",
              "      <td>15年</td>\n",
              "      <td></td>\n",
              "    </tr>\n",
              "    <tr>\n",
              "      <th>2263</th>\n",
              "      <td>ではなぜ</td>\n",
              "      <td></td>\n",
              "    </tr>\n",
              "    <tr>\n",
              "      <th>318</th>\n",
              "      <td>金持ちだった</td>\n",
              "      <td></td>\n",
              "    </tr>\n",
              "    <tr>\n",
              "      <th>1171</th>\n",
              "      <td>スピードカウンターを4つ取り除くことで</td>\n",
              "      <td></td>\n",
              "    </tr>\n",
              "    <tr>\n",
              "      <th>859</th>\n",
              "      <td>ほら 行きたいだろ</td>\n",
              "      <td></td>\n",
              "    </tr>\n",
              "    <tr>\n",
              "      <th>1999</th>\n",
              "      <td>よく遊んでもらったでしょ</td>\n",
              "      <td></td>\n",
              "    </tr>\n",
              "    <tr>\n",
              "      <th>1588</th>\n",
              "      <td>彼があなたにしたことを許せない。</td>\n",
              "      <td></td>\n",
              "    </tr>\n",
              "    <tr>\n",
              "      <th>565</th>\n",
              "      <td>このお魚は誰</td>\n",
              "      <td></td>\n",
              "    </tr>\n",
              "    <tr>\n",
              "      <th>2696</th>\n",
              "      <td>わかった。行くって言っといて。</td>\n",
              "      <td></td>\n",
              "    </tr>\n",
              "    <tr>\n",
              "      <th>151</th>\n",
              "      <td>この野郎</td>\n",
              "      <td></td>\n",
              "    </tr>\n",
              "    <tr>\n",
              "      <th>750</th>\n",
              "      <td>ダクサスに彼自身と 熱意があり冷静で覚悟ができている 選りすぐりの20人が必要と伝えよ</td>\n",
              "      <td></td>\n",
              "    </tr>\n",
              "  </tbody>\n",
              "</table>\n",
              "</div>"
            ],
            "text/plain": [
              "                                                       actual predicted\n",
              "2840                                    堀池 清美の ロスタイムが 終わりました。          \n",
              "2455                                                その時進入できる。          \n",
              "2683                                            背後から 彼女を襲ったのか          \n",
              "1515                                                    よくやった          \n",
              "159                                                     教会の犬め          \n",
              "2005                                                  馴れたもんだろ          \n",
              "2403                                         おおきになぁ。 あっ いえいえ。          \n",
              "633                                     何だよ それ 子供は親の所有物じゃないのに          \n",
              "1918                                                   ばかげてます          \n",
              "566                             不安を感じながらも どうにかやり遂げたというような感じです          \n",
              "2284                                           でも 俺は 何ももらえないの          \n",
              "819                                              臨床腫瘍学と苦痛緩和看護          \n",
              "967                                             「ブロディが居るのを見た」          \n",
              "2251                                        それで、コーチはこんなふうに座って          \n",
              "1265                                       うちは いつも こうなんじゃない え          \n",
              "1605                                      そりゃ また ずいぶん でかいですね。          \n",
              "1757                                         それで 「ジャック」に持ち込む。          \n",
              "1251                                         国防省のマイク フェイバー大佐を          \n",
              "1140                              我々はリスクを冒すことも辞しませんでした 当然ですよね          \n",
              "1098   我々が期待してたものとは 違うな 現場から発見されたこの45口径の弾丸は 去年 リコ法の証人から取り出された          \n",
              "716                                     どこの山で 採れたんですか そのタケノコ。          \n",
              "855                                                ねぇ ここ開けていい          \n",
              "952                                                     何がわかる          \n",
              "143                                                  ある創作をします          \n",
              "1600                                             当然在外表上是不会发现的          \n",
              "463                                                       絶対に          \n",
              "2745                                     契約を結ぶ為に ボトルサービスさえ付けた          \n",
              "697                                              smの部屋じゃなかったの          \n",
              "453                                                  わかった、そうか          \n",
              "389                                                   森の中に消える          \n",
              "1551                                君が守ってたら 特殊部隊じゃなくなるな 会いたいわ          \n",
              "637                                 あぁ、選択肢は1つだ 今日、君が300ドル払って―          \n",
              "2003                              この脚本は 高倉 雄二が 書いたものでは ありません。          \n",
              "2695                                              あなたはやったのですか          \n",
              "470                                             帰ったら最初に 甘えさせて          \n",
              "433                                        危険がないと証明するためのものでした          \n",
              "2013                                             少しドキドキしたくらい。          \n",
              "2382                                     貴女が産んだ最後の世代は 既に全員が成熟          \n",
              "2322                                         私なんかでも 本当に何かできるの          \n",
              "1670                                                      15年          \n",
              "2263                                                     ではなぜ          \n",
              "318                                                    金持ちだった          \n",
              "1171                                      スピードカウンターを4つ取り除くことで          \n",
              "859                                                 ほら 行きたいだろ          \n",
              "1999                                             よく遊んでもらったでしょ          \n",
              "1588                                         彼があなたにしたことを許せない。          \n",
              "565                                                    このお魚は誰          \n",
              "2696                                          わかった。行くって言っといて。          \n",
              "151                                                      この野郎          \n",
              "750               ダクサスに彼自身と 熱意があり冷静で覚悟ができている 選りすぐりの20人が必要と伝えよ          "
            ]
          },
          "metadata": {
            "tags": []
          },
          "execution_count": 32
        }
      ]
    },
    {
      "cell_type": "code",
      "metadata": {
        "colab_type": "code",
        "id": "i67_15zEhuOD",
        "colab": {}
      },
      "source": [
        ""
      ],
      "execution_count": 0,
      "outputs": []
    }
  ]
}