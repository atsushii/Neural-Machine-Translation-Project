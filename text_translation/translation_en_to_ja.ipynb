{
 "cells": [
  {
   "cell_type": "code",
   "execution_count": 1,
   "metadata": {
    "colab": {
     "base_uri": "https://localhost:8080/",
     "height": 54
    },
    "colab_type": "code",
    "id": "RmjVpP_kv4yc",
    "outputId": "1090e150-ac79-4d12-a9b0-de4ba8aeb341"
   },
   "outputs": [
    {
     "name": "stdout",
     "output_type": "stream",
     "text": [
      "Drive already mounted at /content/drive; to attempt to forcibly remount, call drive.mount(\"/content/drive\", force_remount=True).\n"
     ]
    }
   ],
   "source": [
    "# mount google drive \n",
    "from google.colab import drive\n",
    "drive.mount('/content/drive')"
   ]
  },
  {
   "cell_type": "code",
   "execution_count": 5,
   "metadata": {
    "colab": {
     "base_uri": "https://localhost:8080/",
     "height": 275
    },
    "colab_type": "code",
    "id": "Zb93R3DCCXK0",
    "outputId": "a4448e06-8b0c-4831-8c59-2b14cc1a72af",
    "scrolled": true
   },
   "outputs": [
    {
     "name": "stdout",
     "output_type": "stream",
     "text": [
      "Requirement already satisfied: pandas in /usr/local/lib/python3.6/dist-packages (1.0.1)\n",
      "Requirement already satisfied: pytz>=2017.2 in /usr/local/lib/python3.6/dist-packages (from pandas) (2019.3)\n",
      "Requirement already satisfied: python-dateutil>=2.6.1 in /usr/local/lib/python3.6/dist-packages (from pandas) (2.8.1)\n",
      "Requirement already satisfied: numpy>=1.13.3 in /usr/local/lib/python3.6/dist-packages (from pandas) (1.18.1)\n",
      "Requirement already satisfied: six>=1.5 in /usr/local/lib/python3.6/dist-packages (from python-dateutil>=2.6.1->pandas) (1.14.0)\n",
      "Requirement already satisfied: nltk in /usr/local/lib/python3.6/dist-packages (3.4.5)\n",
      "Requirement already satisfied: six in /usr/local/lib/python3.6/dist-packages (from nltk) (1.14.0)\n",
      "Requirement already satisfied: sklearn in /usr/local/lib/python3.6/dist-packages (0.0)\n",
      "Requirement already satisfied: scikit-learn in /usr/local/lib/python3.6/dist-packages (from sklearn) (0.22.2)\n",
      "Requirement already satisfied: scipy>=0.17.0 in /usr/local/lib/python3.6/dist-packages (from scikit-learn->sklearn) (1.4.1)\n",
      "Requirement already satisfied: numpy>=1.11.0 in /usr/local/lib/python3.6/dist-packages (from scikit-learn->sklearn) (1.18.1)\n",
      "Requirement already satisfied: joblib>=0.11 in /usr/local/lib/python3.6/dist-packages (from scikit-learn->sklearn) (0.14.1)\n",
      "Requirement already satisfied: sentencepiece in /usr/local/lib/python3.6/dist-packages (0.1.85)\n",
      "2.2.0-dev20200218\n"
     ]
    },
    {
     "data": {
      "text/plain": [
       "True"
      ]
     },
     "execution_count": 5,
     "metadata": {},
     "output_type": "execute_result"
    }
   ],
   "source": [
    "import tensorflow as tf\n",
    "import numpy as np\n",
    "import re\n",
    "\n",
    "!pip install pandas\n",
    "!pip install nltk\n",
    "!pip install sklearn\n",
    "!pip install sentencepiece\n",
    "\n",
    "import pandas as pd\n",
    "from tensorflow.keras.models import Model, load_model\n",
    "from tensorflow.keras.layers import Dense, LSTM, Embedding, Dropout, Input, dot, Activation, TimeDistributed\n",
    "from tensorflow.keras.preprocessing.text import Tokenizer\n",
    "from tensorflow.keras.callbacks import ModelCheckpoint, EarlyStopping, LearningRateScheduler\n",
    "from tensorflow.keras.preprocessing.sequence import pad_sequences\n",
    "from tensorflow.keras import optimizers\n",
    "from tensorflow.keras import initializers, regularizers, constraints\n",
    "from tensorflow.keras import backend as K\n",
    "import tensorflow.keras\n",
    "\n",
    "from sklearn.model_selection import train_test_split\n",
    "import matplotlib.pyplot as plt\n",
    "import nltk\n",
    "import io\n",
    "from nltk.tokenize.toktok import ToktokTokenizer\n",
    "import unicodedata\n",
    "import sentencepiece as spm\n",
    "\n",
    "\n",
    "# ignore warning\n",
    "import os\n",
    "os.environ['TF_CPP_MIN_LOG_LEVEL'] = '3'\n",
    "print(tf.__version__)\n",
    "# gpu\n",
    "tf.test.is_gpu_available() "
   ]
  },
  {
   "cell_type": "markdown",
   "metadata": {
    "colab_type": "text",
    "id": "xm1CEgijFK_B"
   },
   "source": [
    "# load text file\n",
    "\n",
    "**this dataset is aleady implemented a SentenceSpace**"
   ]
  },
  {
   "cell_type": "code",
   "execution_count": 8,
   "metadata": {
    "colab": {},
    "colab_type": "code",
    "id": "bmv0RqrACbd-"
   },
   "outputs": [],
   "source": [
    "num_example = 300000\n",
    "\n",
    "# create each languages list\n",
    "def create_lang_list(num_example):\n",
    "    # load txt file\n",
    "    lines =  io.open(\"raw.txt\", encoding='UTF-8').read().strip().split('\\n')\n",
    "\n",
    "    word_pairs = [[w for w in l.split('\\t')]  for l in lines[:num_example]]\n",
    "\n",
    "    return zip(*word_pairs)"
   ]
  },
  {
   "cell_type": "code",
   "execution_count": 22,
   "metadata": {
    "colab": {},
    "colab_type": "code",
    "id": "aLGytFt5qxDo"
   },
   "outputs": [],
   "source": [
    "en, ja = create_lang_list(num_example)"
   ]
  },
  {
   "cell_type": "markdown",
   "metadata": {
    "colab_type": "text",
    "id": "7PpJ0NMtWspn"
   },
   "source": [
    "# SentencePiece"
   ]
  },
  {
   "cell_type": "code",
   "execution_count": 23,
   "metadata": {},
   "outputs": [],
   "source": [
    "ja_sentence = list()\n",
    "for i in ja:\n",
    "    ja_sentence.append(i.replace(\" \", \"\"))"
   ]
  },
  {
   "cell_type": "code",
   "execution_count": 24,
   "metadata": {
    "colab": {
     "base_uri": "https://localhost:8080/",
     "height": 34
    },
    "colab_type": "code",
    "id": "dTyVMrSWWwef",
    "outputId": "ec8da3db-ba47-44dd-cfa0-55c527d81106"
   },
   "outputs": [],
   "source": [
    "ja_text = list()\n",
    "sp = spm.SentencePieceProcessor()\n",
    "sp.Load(\"wiki-ja.model\")\n",
    "for text in ja_sentence:\n",
    "    ja_text.append(\" \".join(sp.EncodeAsPieces(text)).replace(\"▁\", \"\").strip())"
   ]
  },
  {
   "cell_type": "markdown",
   "metadata": {
    "colab_type": "text",
    "id": "QAhEAtSYFSys"
   },
   "source": [
    "# Text Pre-processing\n",
    "\n",
    "**Removing accented characters** \n",
    "\n",
    "e.g. é → e.\n",
    "\n",
    "**Expanding Contractions** \n",
    "\n",
    "e.g. don't → do not, I'd → I would\n",
    "\n",
    "**remove special word** \n",
    "\n",
    "e.g. remove \"123#@\"\n",
    "\n",
    "**Stemming**\n",
    "\n",
    " e.g. corder, codes → code\n",
    "\n",
    "**Lemmatization**\n",
    "\n",
    " e.g. better → good\n",
    "\n",
    "**Tokenize**\n",
    "\n",
    " e.g. I am going to restaurant → [[I], [am], [going], [to], [restaurant]]"
   ]
  },
  {
   "cell_type": "markdown",
   "metadata": {
    "colab_type": "text",
    "id": "iS0AX_jOFk_l"
   },
   "source": [
    "# Removing accented characters\n",
    "\n",
    "English might have accent like é but Japanese doesn't have any accent I just create different function to ascii for Japanese and English"
   ]
  },
  {
   "cell_type": "code",
   "execution_count": 26,
   "metadata": {
    "colab": {},
    "colab_type": "code",
    "id": "Ttcy6dKhDrmB"
   },
   "outputs": [],
   "source": [
    "# Removing accented characters\n",
    "def english_unicode_to_ascii(text):\n",
    "     return ''.join(ascii_text for ascii_text in unicodedata.normalize('NFKD', text).encode('ascii', 'ignore').decode('utf-8', 'ignore'))\n",
    "\n",
    "def japanese_unicode_to_ascii(text):\n",
    "    return ''.join(ascii_text for ascii_text in unicodedata.normalize('NFKD', text))"
   ]
  },
  {
   "cell_type": "code",
   "execution_count": 27,
   "metadata": {
    "colab": {
     "base_uri": "https://localhost:8080/",
     "height": 34
    },
    "colab_type": "code",
    "id": "OMHI0M1qPWqa",
    "outputId": "6c845f8b-b3f8-4e02-92c4-3a2b163dc82c"
   },
   "outputs": [
    {
     "data": {
      "text/plain": [
       "('こんにちは。今日は', 'Hello world e ')"
      ]
     },
     "execution_count": 27,
     "metadata": {},
     "output_type": "execute_result"
    }
   ],
   "source": [
    "# e.g.\n",
    "japanese_unicode_to_ascii(\"こんにちは。今日は\"), english_unicode_to_ascii(\"Hello world é \")"
   ]
  },
  {
   "cell_type": "markdown",
   "metadata": {
    "colab_type": "text",
    "id": "wO9i_n__FrHg"
   },
   "source": [
    "# Expanding Contractions\n",
    "Japanese doesn't have a Contraction words so I just create a one function to expand Contractions for Engish"
   ]
  },
  {
   "cell_type": "code",
   "execution_count": 28,
   "metadata": {
    "colab": {},
    "colab_type": "code",
    "id": "cUEU_GU1PYNq"
   },
   "outputs": [],
   "source": [
    "def expand_constraction(text):\n",
    "\n",
    "    #  dic for expand constraction words\n",
    "    constraction_dict= {\n",
    "        \"ain't\": \"is not\",\n",
    "        \"aren't\": \"are not\",\n",
    "        \"can't\": \"cannot\",\n",
    "        \"can't've\": \"cannot have\",\n",
    "        \"'cause\": \"because\",\n",
    "        \"could've\": \"could have\",\n",
    "        \"couldn't\": \"could not\",\n",
    "        \"couldn't've\": \"could not have\",\n",
    "        \"didn't\": \"did not\",\n",
    "        \"doesn't\": \"does not\",\n",
    "        \"don't\": \"do not\",\n",
    "        \"hadn't\": \"had not\",\n",
    "        \"hadn't've\": \"had not have\",\n",
    "        \"hasn't\": \"has not\",\n",
    "        \"haven't\": \"have not\",\n",
    "        \"he'd\": \"he would\",\n",
    "        \"he'd've\": \"he would have\",\n",
    "        \"he'll\": \"he will\",\n",
    "        \"he'll've\": \"he he will have\",\n",
    "        \"he's\": \"he is\",\n",
    "        \"how'd\": \"how did\",\n",
    "        \"how'd'y\": \"how do you\",\n",
    "        \"how'll\": \"how will\",\n",
    "        \"how's\": \"how is\",\n",
    "        \"I'd\": \"I would\",\n",
    "        \"I'd've\": \"I would have\",\n",
    "        \"I'll\": \"I will\",\n",
    "        \"I'll've\": \"I will have\",\n",
    "        \"I'm\": \"I am\",\n",
    "        \"I've\": \"I have\",\n",
    "        \"i'd\": \"i would\",\n",
    "        \"i'd've\": \"i would have\",\n",
    "        \"i'll\": \"i will\",\n",
    "        \"i'll've\": \"i will have\",\n",
    "        \"i'm\": \"i am\",\n",
    "        \"i've\": \"i have\",\n",
    "        \"isn't\": \"is not\",\n",
    "        \"it'd\": \"it would\",\n",
    "        \"it'd've\": \"it would have\",\n",
    "        \"it'll\": \"it will\",\n",
    "        \"it'll've\": \"it will have\",\n",
    "        \"it's\": \"it is\",\n",
    "        \"let's\": \"let us\",\n",
    "        \"ma'am\": \"madam\",\n",
    "        \"mayn't\": \"may not\",\n",
    "        \"might've\": \"might have\",\n",
    "        \"mightn't\": \"might not\",\n",
    "        \"mightn't've\": \"might not have\",\n",
    "        \"must've\": \"must have\",\n",
    "        \"mustn't\": \"must not\",\n",
    "        \"mustn't've\": \"must not have\",\n",
    "        \"needn't\": \"need not\",\n",
    "        \"needn't've\": \"need not have\",\n",
    "        \"o'clock\": \"of the clock\",\n",
    "        \"oughtn't\": \"ought not\",\n",
    "        \"oughtn't've\": \"ought not have\",\n",
    "        \"shan't\": \"shall not\",\n",
    "        \"sha'n't\": \"shall not\",\n",
    "        \"shan't've\": \"shall not have\",\n",
    "        \"she'd\": \"she would\",\n",
    "        \"she'd've\": \"she would have\",\n",
    "        \"she'll\": \"she will\",\n",
    "        \"she'll've\": \"she will have\",\n",
    "        \"she's\": \"she is\",\n",
    "        \"should've\": \"should have\",\n",
    "        \"shouldn't\": \"should not\",\n",
    "        \"shouldn't've\": \"should not have\",\n",
    "        \"so've\": \"so have\",\n",
    "        \"so's\": \"so as\",\n",
    "        \"that'd\": \"that would\",\n",
    "        \"that'd've\": \"that would have\",\n",
    "        \"that's\": \"that is\",\n",
    "        \"there'd\": \"there would\",\n",
    "        \"there'd've\": \"there would have\",\n",
    "        \"there's\": \"there is\",\n",
    "        \"they'd\": \"they would\",\n",
    "        \"they'd've\": \"they would have\",\n",
    "        \"they'll\": \"they will\",\n",
    "        \"they'll've\": \"they will have\",\n",
    "        \"they're\": \"they are\",\n",
    "        \"they've\": \"they have\",\n",
    "        \"to've\": \"to have\",\n",
    "        \"wasn't\": \"was not\",\n",
    "        \"we'd\": \"we would\",\n",
    "        \"we'd've\": \"we would have\",\n",
    "        \"we'll\": \"we will\",\n",
    "        \"we'll've\": \"we will have\",\n",
    "        \"we're\": \"we are\",\n",
    "        \"we've\": \"we have\",\n",
    "        \"weren't\": \"were not\",\n",
    "        \"what'll\": \"what will\",\n",
    "        \"what'll've\": \"what will have\",\n",
    "        \"what're\": \"what are\",\n",
    "        \"what's\": \"what is\",\n",
    "        \"what've\": \"what have\",\n",
    "        \"when's\": \"when is\",\n",
    "        \"when've\": \"when have\",\n",
    "        \"where'd\": \"where did\",\n",
    "        \"where's\": \"where is\",\n",
    "        \"where've\": \"where have\",\n",
    "        \"who'll\": \"who will\",\n",
    "        \"who'll've\": \"who will have\",\n",
    "        \"who's\": \"who is\",\n",
    "        \"who've\": \"who have\",\n",
    "        \"why's\": \"why is\",\n",
    "        \"why've\": \"why have\",\n",
    "        \"will've\": \"will have\",\n",
    "        \"won't\": \"will not\",\n",
    "        \"won't've\": \"will not have\",\n",
    "        \"would've\": \"would have\",\n",
    "        \"wouldn't\": \"would not\",\n",
    "        \"wouldn't've\": \"would not have\",\n",
    "        \"y'all\": \"you all\",\n",
    "        \"y'all'd\": \"you all would\",\n",
    "        \"y'all'd've\": \"you all would have\",\n",
    "        \"y'all're\": \"you all are\",\n",
    "        \"y'all've\": \"you all have\",\n",
    "        \"you'd\": \"you would\",\n",
    "        \"you'd've\": \"you would have\",\n",
    "        \"you'll\": \"you will\",\n",
    "        \"you'll've\": \"you will have\",\n",
    "        \"you're\": \"you are\",\n",
    "        \"you've\": \"you have\"\n",
    "    }\n",
    "\n",
    "    #  define match pattern\n",
    "    #  IGNORECASE → no matter if word is lowercase or uppercase\n",
    "    #  DOTAIL → . is going to match \\n\n",
    "    contraction_pattern = re.compile('({})'.format('|'.join(constraction_dict.keys())),\n",
    "                                                  flags=re.IGNORECASE | re.DOTALL)\n",
    "    #  expand words\n",
    "    def expand_match(constraction):\n",
    "        # get constraction word\n",
    "        match = constraction.group(0)\n",
    "        first_char = match[0]\n",
    "        #  get expand word from constraction dict\n",
    "        expand_constraction = constraction_dict.get(match)\\\n",
    "                                                    if constraction_dict.get(match) \\\n",
    "                                                    else constraction_dict.get(match.lower())\n",
    "        \n",
    "        # create expand constraction\n",
    "        expand_constraction = first_char + expand_constraction[1:]\n",
    "        return expand_constraction\n",
    "    \n",
    "    expanded_text = contraction_pattern.sub(expand_match, text)\n",
    "    expanded_text = re.sub(\"'\", \"\", expanded_text)\n",
    "    return expanded_text"
   ]
  },
  {
   "cell_type": "code",
   "execution_count": 29,
   "metadata": {
    "colab": {
     "base_uri": "https://localhost:8080/",
     "height": 34
    },
    "colab_type": "code",
    "id": "3ikqxXGePadk",
    "outputId": "b2beb2bf-186b-4113-e270-89e19079259f"
   },
   "outputs": [
    {
     "data": {
      "text/plain": [
       "'you are good I would like to go he is she is'"
      ]
     },
     "execution_count": 29,
     "metadata": {},
     "output_type": "execute_result"
    }
   ],
   "source": [
    "# e.g.\n",
    "expand_constraction(\"you're good I'd like to go he's she's\")"
   ]
  },
  {
   "cell_type": "markdown",
   "metadata": {
    "colab_type": "text",
    "id": "zGZrYrRxFwc8"
   },
   "source": [
    "# remove special characters and create space between word and punctuation\n",
    "\n",
    "replacing everything with space except(a-z, A-Z, \"?\", \"!\", \"-\", \"ー\", \"Kanji\", \"Katakana\", \"Hiragana\") \n",
    "create space between word and punctuation (? ! )"
   ]
  },
  {
   "cell_type": "code",
   "execution_count": 30,
   "metadata": {
    "colab": {},
    "colab_type": "code",
    "id": "RBMqrm3o-sJt"
   },
   "outputs": [],
   "source": [
    "def replace_special_character_to_space(text):\n",
    "    pattern = r\"[^a-zA-Z\\u3041-\\u309F\\u30A1-\\u30FF\\uFF66-\\uFF9F\\u4E00-\\u9FD0\\u309B\\u3099\\uFF9E\\u309C\\u309A\\uFF9F?!\\s、。.,]+\"\n",
    "    text = re.sub(pattern, '', text).rstrip().strip()\n",
    "    text = text.replace(\"・\" , \"\")\n",
    "\n",
    "    text = re.sub(r\"([?!.,。、])\", r\" \\1\", text)\n",
    "    text = text.lower()\n",
    "\n",
    "    return text"
   ]
  },
  {
   "cell_type": "code",
   "execution_count": 31,
   "metadata": {
    "colab": {
     "base_uri": "https://localhost:8080/",
     "height": 34
    },
    "colab_type": "code",
    "id": "oeOvXEYFQq_-",
    "outputId": "59fd2759-2061-402e-8e22-24cfd89f0a30"
   },
   "outputs": [
    {
     "data": {
      "text/plain": [
       "('hello ,  . world . ive', 'こんにちは 。いい 天 、気 。カ')"
      ]
     },
     "execution_count": 31,
     "metadata": {},
     "output_type": "execute_result"
    }
   ],
   "source": [
    "# e.g.\n",
    "replace_special_character_to_space(\"hello, . #@…123world. I've-------/\"), replace_special_character_to_space(\"こん・にちは。・いい 天、気。カ\")"
   ]
  },
  {
   "cell_type": "markdown",
   "metadata": {
    "colab_type": "text",
    "id": "r0-z-PhGGQqL"
   },
   "source": [
    "# Stemming and Lemmatization\n",
    "I will do stemming only english which can create a base form of a word from a given word. Japanese language doesn't need a stemming"
   ]
  },
  {
   "cell_type": "code",
   "execution_count": 32,
   "metadata": {
    "colab": {},
    "colab_type": "code",
    "id": "QrYiW2_Pl1lf"
   },
   "outputs": [],
   "source": [
    "def stemmer_word(text):\n",
    "    ps = nltk.stem.PorterStemmer()\n",
    "    text = ' '.join([ps.stem(word) for word in text.split()])\n",
    "    return text"
   ]
  },
  {
   "cell_type": "code",
   "execution_count": 33,
   "metadata": {
    "colab": {
     "base_uri": "https://localhost:8080/",
     "height": 34
    },
    "colab_type": "code",
    "id": "n-iz13U2awVV",
    "outputId": "526d3c33-8875-4294-fdd2-07ee63033cb6"
   },
   "outputs": [
    {
     "data": {
      "text/plain": [
       "'hello world she ha cat but he had dog he is went to travel'"
      ]
     },
     "execution_count": 33,
     "metadata": {},
     "output_type": "execute_result"
    }
   ],
   "source": [
    "# e.g.\n",
    "stemmer_word(\"hello world she has cat but he had dogs he is went to traveling\")"
   ]
  },
  {
   "cell_type": "markdown",
   "metadata": {
    "colab_type": "text",
    "id": "xsqW5RHMGifD"
   },
   "source": [
    "# Normalize each word"
   ]
  },
  {
   "cell_type": "code",
   "execution_count": 34,
   "metadata": {
    "colab": {},
    "colab_type": "code",
    "id": "sizAmLv2Pj-j"
   },
   "outputs": [],
   "source": [
    "def normalize_english(english_text, japanese_text):\n",
    "    \n",
    "    input_value = ()\n",
    "    target_value = ()\n",
    "    \n",
    "    for en_text, ja_text in zip(english_text, japanese_text):\n",
    "        \n",
    "        # normalize English\n",
    "        en_text = english_unicode_to_ascii(en_text)\n",
    "        en_text = expand_constraction(en_text)\n",
    "        en_text = replace_special_character_to_space(en_text)\n",
    "\n",
    "        # input value doesn't need  a START and END sentence  \n",
    "        input_value += (en_text, )\n",
    "\n",
    "        # normalize Japanese\n",
    "        ja_text = japanese_unicode_to_ascii(ja_text)\n",
    "        ja_text = replace_special_character_to_space(ja_text)\n",
    "\n",
    "        # add StTART and END sentence\n",
    "        ja_text = \"START_ \" + ja_text + \" _END\"\n",
    "        \n",
    "        target_value += (ja_text, )\n",
    "\n",
    "    return input_value, target_value"
   ]
  },
  {
   "cell_type": "markdown",
   "metadata": {
    "colab_type": "text",
    "id": "eMa52HiWGtQ-"
   },
   "source": [
    "# get clean text data"
   ]
  },
  {
   "cell_type": "code",
   "execution_count": 35,
   "metadata": {
    "colab": {},
    "colab_type": "code",
    "id": "1WLwCK4xVynu"
   },
   "outputs": [],
   "source": [
    "# get normalize text data\n",
    "input_value, target_value = normalize_english(en, ja_text)\n",
    "\n",
    "# convert to Series\n",
    "x = pd.Series(input_value) \n",
    "y = pd.Series(target_value)"
   ]
  },
  {
   "cell_type": "code",
   "execution_count": 36,
   "metadata": {
    "colab": {
     "base_uri": "https://localhost:8080/",
     "height": 669
    },
    "colab_type": "code",
    "id": "8xAuLWUomimI",
    "outputId": "af1dc0b9-d66f-44fc-f4e8-3774badd0139"
   },
   "outputs": [
    {
     "data": {
      "text/html": [
       "<div>\n",
       "<style scoped>\n",
       "    .dataframe tbody tr th:only-of-type {\n",
       "        vertical-align: middle;\n",
       "    }\n",
       "\n",
       "    .dataframe tbody tr th {\n",
       "        vertical-align: top;\n",
       "    }\n",
       "\n",
       "    .dataframe thead th {\n",
       "        text-align: right;\n",
       "    }\n",
       "</style>\n",
       "<table border=\"1\" class=\"dataframe\">\n",
       "  <thead>\n",
       "    <tr style=\"text-align: right;\">\n",
       "      <th></th>\n",
       "      <th>input</th>\n",
       "      <th>target</th>\n",
       "    </tr>\n",
       "  </thead>\n",
       "  <tbody>\n",
       "    <tr>\n",
       "      <th>0</th>\n",
       "      <td>you are back , are not you , harold ?</td>\n",
       "      <td>START_ あなた は 戻った の ね ハロルド  ? _END</td>\n",
       "    </tr>\n",
       "    <tr>\n",
       "      <th>1</th>\n",
       "      <td>my opponent is shark .</td>\n",
       "      <td>START_ 俺 の 相手 は シャー ク だ  。 _END</td>\n",
       "    </tr>\n",
       "    <tr>\n",
       "      <th>2</th>\n",
       "      <td>this is one thing in exchange for another .</td>\n",
       "      <td>START_ 引き 換え だ ある 事 とある 物の _END</td>\n",
       "    </tr>\n",
       "    <tr>\n",
       "      <th>3</th>\n",
       "      <td>yeah , i am fine .</td>\n",
       "      <td>START_ もう いい よ ご ち そう さま う うん _END</td>\n",
       "    </tr>\n",
       "    <tr>\n",
       "      <th>4</th>\n",
       "      <td>do not come to the office anymore . do not cal...</td>\n",
       "      <td>START_ もう 会社 には 来 ない で くれ 電話 も する な _END</td>\n",
       "    </tr>\n",
       "    <tr>\n",
       "      <th>5</th>\n",
       "      <td>looks beautiful .</td>\n",
       "      <td>START_ きれい だ  。 _END</td>\n",
       "    </tr>\n",
       "    <tr>\n",
       "      <th>6</th>\n",
       "      <td>get him out of here , because i will fucking k...</td>\n",
       "      <td>START_ 連れ て 行 け 殺し そう だ わ かった か  ? _END</td>\n",
       "    </tr>\n",
       "    <tr>\n",
       "      <th>7</th>\n",
       "      <td>you killed him !</td>\n",
       "      <td>START_ 殺 した のか  ! _END</td>\n",
       "    </tr>\n",
       "    <tr>\n",
       "      <th>8</th>\n",
       "      <td>okay , then who ?</td>\n",
       "      <td>START_ わ ぁ   ! いつも すみ ません  。 いい の よ   。 _END</td>\n",
       "    </tr>\n",
       "    <tr>\n",
       "      <th>9</th>\n",
       "      <td>it seems a former employee . . .</td>\n",
       "      <td>START_ カンパニー の元 社員 が _END</td>\n",
       "    </tr>\n",
       "    <tr>\n",
       "      <th>10</th>\n",
       "      <td>so where are they ?</td>\n",
       "      <td>START_ じゃ アイ ツ ラ は どこ  ? _END</td>\n",
       "    </tr>\n",
       "    <tr>\n",
       "      <th>11</th>\n",
       "      <td>or i do not know , just . . .</td>\n",
       "      <td>START_ 相手を 陥 れる とか  . . . _END</td>\n",
       "    </tr>\n",
       "    <tr>\n",
       "      <th>12</th>\n",
       "      <td>no child should ever have to endure that .</td>\n",
       "      <td>START_ 必要 のない 子 耐え る に している  。 _END</td>\n",
       "    </tr>\n",
       "    <tr>\n",
       "      <th>13</th>\n",
       "      <td>i know the visuals incongruous , but . . .</td>\n",
       "      <td>START_ 犯人 像 とは 違和感 のある 見た目 だが _END</td>\n",
       "    </tr>\n",
       "    <tr>\n",
       "      <th>14</th>\n",
       "      <td>aw !</td>\n",
       "      <td>START_ あ  ! _END</td>\n",
       "    </tr>\n",
       "    <tr>\n",
       "      <th>15</th>\n",
       "      <td>let me show you more detailed ones .</td>\n",
       "      <td>START_ もっと 詳しい の 見せ ます から  。 _END</td>\n",
       "    </tr>\n",
       "    <tr>\n",
       "      <th>16</th>\n",
       "      <td>you are gonna bring that up right now ?</td>\n",
       "      <td>START_ それ 今 持ち 出す か  ? _END</td>\n",
       "    </tr>\n",
       "    <tr>\n",
       "      <th>17</th>\n",
       "      <td>well then , when you are done work , come to t...</td>\n",
       "      <td>START_ じゃ あ 仕事 終わった ら 医 局 に 来て よ  。 _END</td>\n",
       "    </tr>\n",
       "    <tr>\n",
       "      <th>18</th>\n",
       "      <td>um . . .please go ahead and eat without me .</td>\n",
       "      <td>START_ あの  . . . 皆 さん で 先 済 ませ て ください  。 _END</td>\n",
       "    </tr>\n",
       "    <tr>\n",
       "      <th>19</th>\n",
       "      <td>rokka is always forever</td>\n",
       "      <td>START_ 六 花 ちゃん は ずっと ずっと ずっと _END</td>\n",
       "    </tr>\n",
       "  </tbody>\n",
       "</table>\n",
       "</div>"
      ],
      "text/plain": [
       "                                                input  \\\n",
       "0               you are back , are not you , harold ?   \n",
       "1                              my opponent is shark .   \n",
       "2         this is one thing in exchange for another .   \n",
       "3                                  yeah , i am fine .   \n",
       "4   do not come to the office anymore . do not cal...   \n",
       "5                                   looks beautiful .   \n",
       "6   get him out of here , because i will fucking k...   \n",
       "7                                    you killed him !   \n",
       "8                                   okay , then who ?   \n",
       "9                    it seems a former employee . . .   \n",
       "10                                so where are they ?   \n",
       "11                      or i do not know , just . . .   \n",
       "12         no child should ever have to endure that .   \n",
       "13         i know the visuals incongruous , but . . .   \n",
       "14                                               aw !   \n",
       "15               let me show you more detailed ones .   \n",
       "16            you are gonna bring that up right now ?   \n",
       "17  well then , when you are done work , come to t...   \n",
       "18       um . . .please go ahead and eat without me .   \n",
       "19                            rokka is always forever   \n",
       "\n",
       "                                             target  \n",
       "0                START_ あなた は 戻った の ね ハロルド  ? _END  \n",
       "1                  START_ 俺 の 相手 は シャー ク だ  。 _END  \n",
       "2                  START_ 引き 換え だ ある 事 とある 物の _END  \n",
       "3               START_ もう いい よ ご ち そう さま う うん _END  \n",
       "4         START_ もう 会社 には 来 ない で くれ 電話 も する な _END  \n",
       "5                             START_ きれい だ  。 _END  \n",
       "6          START_ 連れ て 行 け 殺し そう だ わ かった か  ? _END  \n",
       "7                            START_ 殺 した のか  ! _END  \n",
       "8      START_ わ ぁ   ! いつも すみ ません  。 いい の よ   。 _END  \n",
       "9                       START_ カンパニー の元 社員 が _END  \n",
       "10                  START_ じゃ アイ ツ ラ は どこ  ? _END  \n",
       "11                   START_ 相手を 陥 れる とか  . . . _END  \n",
       "12              START_ 必要 のない 子 耐え る に している  。 _END  \n",
       "13             START_ 犯人 像 とは 違和感 のある 見た目 だが _END  \n",
       "14                                 START_ あ  ! _END  \n",
       "15                START_ もっと 詳しい の 見せ ます から  。 _END  \n",
       "16                      START_ それ 今 持ち 出す か  ? _END  \n",
       "17        START_ じゃ あ 仕事 終わった ら 医 局 に 来て よ  。 _END  \n",
       "18  START_ あの  . . . 皆 さん で 先 済 ませ て ください  。 _END  \n",
       "19             START_ 六 花 ちゃん は ずっと ずっと ずっと _END  "
      ]
     },
     "execution_count": 36,
     "metadata": {},
     "output_type": "execute_result"
    }
   ],
   "source": [
    "pd.DataFrame({\"input\": x, \"target\": y}).head(20)"
   ]
  },
  {
   "cell_type": "code",
   "execution_count": 37,
   "metadata": {
    "colab": {
     "base_uri": "https://localhost:8080/",
     "height": 51
    },
    "colab_type": "code",
    "id": "YLVeltmkUN1B",
    "outputId": "b808fdcc-001a-471c-8147-de91846034e1"
   },
   "outputs": [
    {
     "name": "stdout",
     "output_type": "stream",
     "text": [
      "unique vocab 54716\n",
      "unique vocab 26497\n"
     ]
    }
   ],
   "source": [
    "# get unique vocab\n",
    "\n",
    "# input value \n",
    "all_eng = set()\n",
    "for input_lang in x:\n",
    "    for word in input_lang.split():\n",
    "        if word not in all_eng:\n",
    "            all_eng.add(word)\n",
    "\n",
    "# target value\n",
    "all_ja = set()\n",
    "for target_lang in y:\n",
    "    for word in target_lang.split():\n",
    "        if word not in all_ja:\n",
    "            all_ja.add(word)\n",
    "\n",
    "print(\"unique vocab %d\" % len(all_eng))\n",
    "print(\"unique vocab %d\" %len(all_ja))"
   ]
  },
  {
   "cell_type": "code",
   "execution_count": 38,
   "metadata": {
    "colab": {
     "base_uri": "https://localhost:8080/",
     "height": 550
    },
    "colab_type": "code",
    "id": "_D5xXXCao7sm",
    "outputId": "97d3cbac-c3aa-4c51-c22c-07191a50d39a"
   },
   "outputs": [
    {
     "name": "stdout",
     "output_type": "stream",
     "text": [
      "english length: 67\n",
      "japanese length: 86\n"
     ]
    },
    {
     "data": {
      "image/png": "[encoded data removed]",
      "text/plain": [
       "<Figure size 432x288 with 1 Axes>"
      ]
     },
     "metadata": {
      "needs_background": "light"
     },
     "output_type": "display_data"
    },
    {
     "data": {
      "image/png": "[encoded data removed]",
      "text/plain": [
       "<Figure size 432x288 with 1 Axes>"
      ]
     },
     "metadata": {
      "needs_background": "light"
     },
     "output_type": "display_data"
    }
   ],
   "source": [
    "# max length of input sentense and target sentense\n",
    "english_len = [len(i.split()) for i in x]\n",
    "\n",
    "japanese_len = [len(i.split()) for i in y]\n",
    "\n",
    "plt.figure()\n",
    "plt.hist(english_len)\n",
    "\n",
    "plt.figure()\n",
    "plt.hist(japanese_len)\n",
    "\n",
    "# print max length\n",
    "print(\"english length:\", max(english_len))\n",
    "print(\"japanese length:\", max(japanese_len))\n",
    "max_len_input =  max(english_len)\n",
    "max_len_target =  max(japanese_len)"
   ]
  },
  {
   "cell_type": "code",
   "execution_count": 39,
   "metadata": {
    "colab": {
     "base_uri": "https://localhost:8080/",
     "height": 34
    },
    "colab_type": "code",
    "id": "BuFPoVYpV8dP",
    "outputId": "b2b2db6c-12a9-4ea8-e5c9-a774890a8915"
   },
   "outputs": [
    {
     "data": {
      "text/plain": [
       "(54716, 26497)"
      ]
     },
     "execution_count": 39,
     "metadata": {},
     "output_type": "execute_result"
    }
   ],
   "source": [
    "input_word = list(all_eng)\n",
    "target_word = list(all_ja)\n",
    "\n",
    "num_encoder_tokens = len(all_eng)\n",
    "num_decoder_tokens = len(all_ja)\n",
    "num_encoder_tokens, num_decoder_tokens"
   ]
  },
  {
   "cell_type": "code",
   "execution_count": 40,
   "metadata": {
    "colab": {},
    "colab_type": "code",
    "id": "i9I3G02kjJDC"
   },
   "outputs": [],
   "source": [
    "num_decoder_tokens += 1\n",
    "num_encoder_tokens += 1"
   ]
  },
  {
   "cell_type": "code",
   "execution_count": 41,
   "metadata": {
    "colab": {},
    "colab_type": "code",
    "id": "kFCjZpvyWnpr"
   },
   "outputs": [],
   "source": [
    "def create_token(token_index_dic, index_token_dic, words):\n",
    "    for i, word in enumerate(words):\n",
    "        token_index_dic[word] = i+1\n",
    "        index_token_dic[i+1] = word\n",
    "    return token_index_dic, index_token_dic\n",
    "\n",
    "input_token_index = dict()\n",
    "target_token_index = dict()\n",
    "reverse_input_word = dict()\n",
    "reverse_target_char = dict()\n",
    "\n",
    "input_token_index, reverse_input_word = create_token(input_token_index, reverse_input_word, input_word)\n",
    "target_token_index, reverse_target_char = create_token(target_token_index, reverse_target_char, target_word)"
   ]
  },
  {
   "cell_type": "code",
   "execution_count": 42,
   "metadata": {
    "colab": {},
    "colab_type": "code",
    "id": "ApO0_OD8ahiq"
   },
   "outputs": [],
   "source": [
    "start_word = target_token_index[\"START_\"]"
   ]
  },
  {
   "cell_type": "markdown",
   "metadata": {
    "colab_type": "text",
    "id": "v4erKvtS8wq9"
   },
   "source": [
    "# Create train dataset"
   ]
  },
  {
   "cell_type": "code",
   "execution_count": 43,
   "metadata": {
    "colab": {},
    "colab_type": "code",
    "id": "j1pcafzrvIQN"
   },
   "outputs": [],
   "source": [
    "from sklearn.model_selection import train_test_split\n",
    "\n",
    "X_train, X_test, Y_train, Y_test = train_test_split(x, y, test_size=0.3, random_state=1)\n",
    "X_test, X_val, Y_test, Y_val = train_test_split(X_test, Y_test , test_size=0.5, random_state=1)"
   ]
  },
  {
   "cell_type": "code",
   "execution_count": 44,
   "metadata": {
    "colab": {
     "base_uri": "https://localhost:8080/",
     "height": 34
    },
    "colab_type": "code",
    "id": "7Gn9IRdAviqS",
    "outputId": "b2cae9a5-21a1-424e-e262-9335b1fbb02e"
   },
   "outputs": [
    {
     "data": {
      "text/plain": [
       "((210000,), (45000,), (45000,), (210000,), (45000,), (45000,))"
      ]
     },
     "execution_count": 44,
     "metadata": {},
     "output_type": "execute_result"
    }
   ],
   "source": [
    "X_train.shape, X_test.shape, X_val.shape, Y_train.shape, Y_test.shape, Y_val.shape"
   ]
  },
  {
   "cell_type": "markdown",
   "metadata": {
    "colab_type": "text",
    "id": "opWZ855psnQB"
   },
   "source": [
    "# Create generater¶"
   ]
  },
  {
   "cell_type": "code",
   "execution_count": 45,
   "metadata": {
    "colab": {},
    "colab_type": "code",
    "id": "U9WGqlfrsolt"
   },
   "outputs": [],
   "source": [
    "# create a batch of data\n",
    "def generate_batch(X, Y, batch_size):\n",
    "    while True:\n",
    "        assert len(X) == len(Y)\n",
    "        for i in range(0, len(X), batch_size):\n",
    "            # initialize input and target data\n",
    "            encoder_input_data = np.zeros((batch_size, max_len_input), dtype=\"float32\")\n",
    "            decoder_input_data = np.zeros((batch_size, max_len_target), dtype=\"float32\")\n",
    "            decoder_target_data = np.zeros((batch_size, max_len_target, num_decoder_tokens), dtype=\"float32\")\n",
    "            for j, (input_text, target_text) in enumerate(zip(X[i: i+batch_size], Y[i: i+batch_size])):\n",
    "                    # create enocder input dataset\n",
    "                    for t, word in enumerate(input_text.split()):\n",
    "                        encoder_input_data[j, t] = input_token_index[word]\n",
    "                    # create decoder input dataset\n",
    "                    for t, word in enumerate(target_text.split()):\n",
    "                        if t < len(target_text.split())-1:\n",
    "                            decoder_input_data[j, t] = target_token_index[word]\n",
    "                        # decoder  output is one-hot encoding\n",
    "                        # doesn't include START sentense\n",
    "                        # one timestep ahead of input \n",
    "                        if t > 0:\n",
    "                            decoder_target_data[j, t-1, target_token_index[word]] = 1.\n",
    "                    yield([encoder_input_data, decoder_input_data], decoder_target_data)"
   ]
  },
  {
   "cell_type": "markdown",
   "metadata": {
    "colab_type": "text",
    "id": "SOzbWmLnZ66-"
   },
   "source": [
    "# Define for params"
   ]
  },
  {
   "cell_type": "code",
   "execution_count": 70,
   "metadata": {
    "colab": {},
    "colab_type": "code",
    "id": "wKYUC0fMZ6fV"
   },
   "outputs": [],
   "source": [
    "# initial hyper parameter\n",
    "BATCH_SIZE = 64\n",
    "DROPOUT_RATE = 0.3\n",
    "units = 1024\n",
    "INITIAL_RATE = 0.0001"
   ]
  },
  {
   "cell_type": "code",
   "execution_count": 60,
   "metadata": {
    "colab": {},
    "colab_type": "code",
    "id": "EsFb8IMK_uvt"
   },
   "outputs": [],
   "source": [
    "import math\n",
    "\n",
    "# rate scheduler\n",
    "def  step_decay(epoch):\n",
    "    initial_rate = INITIAL_RATE\n",
    "    drop = 0.5\n",
    "    epochs_drop = 5\n",
    "\n",
    "    lrate = initial_rate * math.pow(drop, math.floor((1+epoch) / epochs_drop))\n",
    "\n",
    "    return lrate"
   ]
  },
  {
   "cell_type": "markdown",
   "metadata": {
    "colab_type": "text",
    "id": "P8Vtvs3hvt2Z"
   },
   "source": [
    "# Build a model"
   ]
  },
  {
   "cell_type": "code",
   "execution_count": 65,
   "metadata": {
    "colab": {},
    "colab_type": "code",
    "id": "opmqFdDziBng"
   },
   "outputs": [],
   "source": [
    "def precision(y_true, y_pred):\n",
    "    # Calculates the precision\n",
    "    true_positives = K.sum(K.round(K.clip(y_true * y_pred, 0, 1)))\n",
    "    predicted_positives = K.sum(K.round(K.clip(y_pred, 0, 1)))\n",
    "    precision = true_positives / (predicted_positives + K.epsilon())\n",
    "    return precision"
   ]
  },
  {
   "cell_type": "code",
   "execution_count": 73,
   "metadata": {
    "colab": {
     "base_uri": "https://localhost:8080/",
     "height": 734
    },
    "colab_type": "code",
    "id": "215DTscueVam",
    "outputId": "cdd5a41c-9c5e-4213-efcb-202df100a0c3"
   },
   "outputs": [
    {
     "name": "stdout",
     "output_type": "stream",
     "text": [
      "Model: \"model_6\"\n",
      "__________________________________________________________________________________________________\n",
      "Layer (type)                    Output Shape         Param #     Connected to                     \n",
      "==================================================================================================\n",
      "input_13 (InputLayer)           [(None, None)]       0                                            \n",
      "__________________________________________________________________________________________________\n",
      "input_14 (InputLayer)           [(None, None)]       0                                            \n",
      "__________________________________________________________________________________________________\n",
      "embedding_12 (Embedding)        (None, None, 216)    11818872    input_13[0][0]                   \n",
      "__________________________________________________________________________________________________\n",
      "embedding_13 (Embedding)        (None, None, 216)    5723568     input_14[0][0]                   \n",
      "__________________________________________________________________________________________________\n",
      "dropout_12 (Dropout)            (None, None, 216)    0           embedding_12[0][0]               \n",
      "__________________________________________________________________________________________________\n",
      "dropout_13 (Dropout)            (None, None, 216)    0           embedding_13[0][0]               \n",
      "__________________________________________________________________________________________________\n",
      "lstm_12 (LSTM)                  [(None, None, 1024), 5083136     dropout_12[0][0]                 \n",
      "__________________________________________________________________________________________________\n",
      "lstm_13 (LSTM)                  [(None, None, 1024), 5083136     dropout_13[0][0]                 \n",
      "                                                                 lstm_12[0][1]                    \n",
      "                                                                 lstm_12[0][2]                    \n",
      "__________________________________________________________________________________________________\n",
      "dot_12 (Dot)                    (None, None, None)   0           lstm_13[0][0]                    \n",
      "                                                                 lstm_12[0][0]                    \n",
      "__________________________________________________________________________________________________\n",
      "attention (Activation)          (None, None, None)   0           dot_12[0][0]                     \n",
      "__________________________________________________________________________________________________\n",
      "dot_13 (Dot)                    (None, None, 1024)   0           attention[0][0]                  \n",
      "                                                                 lstm_12[0][0]                    \n",
      "__________________________________________________________________________________________________\n",
      "concatenate_6 (Concatenate)     (None, None, 2048)   0           dot_13[0][0]                     \n",
      "                                                                 lstm_13[0][0]                    \n",
      "__________________________________________________________________________________________________\n",
      "time_distributed_12 (TimeDistri (None, None, 1024)   2098176     concatenate_6[0][0]              \n",
      "__________________________________________________________________________________________________\n",
      "time_distributed_13 (TimeDistri (None, None, 26498)  27160450    time_distributed_12[0][0]        \n",
      "==================================================================================================\n",
      "Total params: 56,967,338\n",
      "Trainable params: 56,967,338\n",
      "Non-trainable params: 0\n",
      "__________________________________________________________________________________________________\n"
     ]
    }
   ],
   "source": [
    "# build encoder model\n",
    "encoder_input = Input(shape=(None, ))\n",
    "\n",
    "# Word2Vec\n",
    "encoder_embedding = Embedding(input_dim=num_encoder_tokens, output_dim=216)(encoder_input) \n",
    "\n",
    "# Dropout\n",
    "encoder = Dropout(rate=DROPOUT_RATE)(encoder_embedding)\n",
    "\n",
    "# get enternal state to predict target value\n",
    "# encode output is going to use for attention\n",
    "encoder_output, state_h, state_c = LSTM(units, return_sequences=True, return_state=True, dropout=DROPOUT_RATE)(encoder)\n",
    "\n",
    "encoder_states = [state_h, state_c]\n",
    "\n",
    "# build decoder model\n",
    "decoder_input = Input(shape=(None, ))\n",
    "\n",
    "# Word2Vec\n",
    "decoder_embedding = Embedding(input_dim=num_decoder_tokens, output_dim=216)\n",
    "decoder_emb = decoder_embedding(decoder_input)\n",
    "\n",
    "# Dropout\n",
    "decoder = Dropout(rate=DROPOUT_RATE)(decoder_emb)\n",
    "\n",
    "decoder_lstm = LSTM(units, return_sequences=True, return_state=True, dropout=DROPOUT_RATE)\n",
    "# we don't use return state in the train model\n",
    "decoder, _, _ = decoder_lstm(decoder, initial_state=encoder_states)\n",
    "\n",
    "# get attention weight\n",
    "attention = dot([decoder, encoder_output], axes=[2, 2])\n",
    "attention = Activation('softmax', name='attention')(attention)\n",
    "\n",
    "context = dot([attention, encoder_output], axes=[2, 1])\n",
    "\n",
    "decoder_combined_context = tf.keras.layers.concatenate([context, decoder])\n",
    "\n",
    "output = TimeDistributed(Dense(units, activation=\"tanh\"))(decoder_combined_context)\n",
    "\n",
    "output = TimeDistributed(Dense(num_decoder_tokens, activation=\"softmax\"))(output)\n",
    "\n",
    "model = Model(inputs=[encoder_input, decoder_input], outputs=[output])\n",
    "\n",
    "adam = optimizers.Adam(lr=INITIAL_RATE)\n",
    "\n",
    "model.compile(optimizer=adam, loss='categorical_crossentropy', metrics=['accuracy'])\n",
    "model.summary()"
   ]
  },
  {
   "cell_type": "code",
   "execution_count": 74,
   "metadata": {
    "colab": {
     "base_uri": "https://localhost:8080/",
     "height": 34
    },
    "colab_type": "code",
    "id": "5r4mndEewUAE",
    "outputId": "f851c58e-1b1d-4ce7-a90a-6681d100dfb0"
   },
   "outputs": [
    {
     "data": {
      "text/plain": [
       "(3282, 704, 704)"
      ]
     },
     "execution_count": 74,
     "metadata": {},
     "output_type": "execute_result"
    }
   ],
   "source": [
    "# create dataset as generater\n",
    "gen_train = generate_batch(X_train, Y_train, BATCH_SIZE)\n",
    "gen_test = generate_batch(X_test, Y_test, BATCH_SIZE)\n",
    "gen_val = generate_batch(X_val, Y_val, BATCH_SIZE)\n",
    "\n",
    "# caluclate train step\n",
    "trian_step = math.ceil(len(X_train) / BATCH_SIZE)\n",
    "test_step = math.ceil(len(X_test) / BATCH_SIZE)\n",
    "val_step = math.ceil(len(X_val) / BATCH_SIZE)\n",
    "\n",
    "trian_step, val_step, test_step"
   ]
  },
  {
   "cell_type": "code",
   "execution_count": 75,
   "metadata": {
    "colab": {
     "base_uri": "https://localhost:8080/",
     "height": 173
    },
    "colab_type": "code",
    "id": "3LO6Hd4RftoP",
    "outputId": "73ab5e25-2589-4d9f-8676-b8052d82aaab"
   },
   "outputs": [
    {
     "name": "stdout",
     "output_type": "stream",
     "text": [
      "WARNING:tensorflow:sample_weight modes were coerced from\n",
      "  ...\n",
      "    to  \n",
      "  ['...']\n",
      "WARNING:tensorflow:sample_weight modes were coerced from\n",
      "  ...\n",
      "    to  \n",
      "  ['...']\n",
      "Train for 3282 steps, validate for 704 steps\n",
      "Epoch 1/30\n",
      "3282/3282 [==============================] - 2861s 872ms/step - loss: 0.2513 - accuracy: 0.0095 - val_loss: 0.4127 - val_accuracy: 0.0054\n",
      "Epoch 2/30\n",
      "3282/3282 [==============================] - 2868s 874ms/step - loss: 0.1991 - accuracy: 0.0193 - val_loss: 0.4028 - val_accuracy: 0.0049\n",
      "Epoch 3/30\n",
      "3282/3282 [==============================] - 2867s 873ms/step - loss: 0.1821 - accuracy: 0.0253 - val_loss: 0.4221 - val_accuracy: 0.0044\n",
      "Epoch 4/30\n",
      "3282/3282 [==============================] - 2866s 873ms/step - loss: 0.1655 - accuracy: 0.0282 - val_loss: 0.4229 - val_accuracy: 0.0042\n",
      "Epoch 5/30\n",
      "3282/3282 [==============================] - 2825s 861ms/step - loss: 0.1558 - accuracy: 0.0302 - val_loss: 0.4169 - val_accuracy: 0.0050\n",
      "Epoch 6/30\n",
      "3282/3282 [==============================] - 2824s 860ms/step - loss: 0.1493 - accuracy: 0.0305 - val_loss: 0.4381 - val_accuracy: 0.0050\n",
      "Epoch 7/30\n",
      "3282/3282 [==============================] - 2820s 859ms/step - loss: 0.1470 - accuracy: 0.0313 - val_loss: 0.4269 - val_accuracy: 0.0048\n"
     ]
    }
   ],
   "source": [
    "import datetime\n",
    "\n",
    "# tensorboard\n",
    "log_dir =\"logs/\" + datetime.datetime.now().strftime(\"%Y%m%d-%H%M%S\")\n",
    "tensorboard_callback = tf.keras.callbacks.TensorBoard(log_dir=log_dir, histogram_freq=1)\n",
    "\n",
    "# checkpoint\n",
    "filename = \"model.ckpt\"\n",
    "checkpoint = ModelCheckpoint(filename, save_weights_only=True, save_best_only=True, mode='min')\n",
    "\n",
    "# reduce_lr = tf.keras.callbacks.ReduceLROnPlateau(monitor=\"val_loss\", factor=0.5,\n",
    "#                                                  patience=3, min_lr=lr)\n",
    "\n",
    "es = EarlyStopping(monitor='val_loss', mode='min', patience=5)\n",
    "\n",
    "# rate scheduler\n",
    "lrate = LearningRateScheduler(step_decay)\n",
    "\n",
    "callbacks=[es, tensorboard_callback, checkpoint]\n",
    "\n",
    "# train model\n",
    "history = model.fit_generator(generator=gen_train, steps_per_epoch=trian_step, epochs=30,\n",
    "                    callbacks=callbacks, validation_data=gen_val, validation_steps=val_step)"
   ]
  },
  {
   "cell_type": "code",
   "execution_count": 76,
   "metadata": {
    "colab": {
     "base_uri": "https://localhost:8080/",
     "height": 279
    },
    "colab_type": "code",
    "id": "upI_yOiURZYV",
    "outputId": "2eeb3106-f053-4ef4-9381-b66e79c42158"
   },
   "outputs": [
    {
     "data": {
      "image/png": "[encoded data removed]",
      "text/plain": [
       "<Figure size 864x288 with 2 Axes>"
      ]
     },
     "metadata": {
      "needs_background": "light"
     },
     "output_type": "display_data"
    }
   ],
   "source": [
    "f, (ax1, ax2) = plt.subplots(1, 2, figsize=(12, 4))\n",
    "ax1.plot(history.history[\"accuracy\"] )\n",
    "ax1.plot(history.history[\"val_accuracy\"])\n",
    "ax1.set_xlabel(\"epochs\")\n",
    "ax1.set_ylabel(\"acc\")\n",
    "ax1.legend([\"train_acc\", \"val_acc\"])\n",
    "\n",
    "ax2.plot(history.history[\"loss\"])\n",
    "ax2.plot(history.history[\"val_loss\"])\n",
    "ax2.set_xlabel(\"epochs\")\n",
    "ax2.set_ylabel(\"loss\")\n",
    "ax2.legend([\"train_loss\", \"val_loss\"])\n",
    "plt.show()"
   ]
  },
  {
   "cell_type": "code",
   "execution_count": 77,
   "metadata": {
    "colab": {
     "base_uri": "https://localhost:8080/",
     "height": 34
    },
    "colab_type": "code",
    "id": "9F72C2H5Geuv",
    "outputId": "5c50f8d8-c22d-432c-d844-a0d1de547aaa"
   },
   "outputs": [
    {
     "data": {
      "text/plain": [
       "<tensorflow.python.training.tracking.util.CheckpointLoadStatus at 0x7f9158956e48>"
      ]
     },
     "execution_count": 77,
     "metadata": {},
     "output_type": "execute_result"
    }
   ],
   "source": [
    "# load model\n",
    "model.load_weights(filename)"
   ]
  },
  {
   "cell_type": "markdown",
   "metadata": {
    "colab_type": "text",
    "id": "xl8_tD-JA4My"
   },
   "source": [
    "# Test"
   ]
  },
  {
   "cell_type": "code",
   "execution_count": 78,
   "metadata": {
    "colab": {
     "base_uri": "https://localhost:8080/",
     "height": 51
    },
    "colab_type": "code",
    "id": "12ONyV1bDELO",
    "outputId": "01f6a1a1-32bb-4caf-f6fe-32a8ae6308c5"
   },
   "outputs": [
    {
     "name": "stdout",
     "output_type": "stream",
     "text": [
      "WARNING:tensorflow:From <ipython-input-78-c71a05fc869f>:2: Model.evaluate_generator (from tensorflow.python.keras.engine.training) is deprecated and will be removed in a future version.\n",
      "Instructions for updating:\n",
      "Please use Model.evaluate, which supports generators.\n",
      "WARNING:tensorflow:sample_weight modes were coerced from\n",
      "  ...\n",
      "    to  \n",
      "  ['...']\n",
      "loss 0.41644694415696326\n",
      "acc 0.004749128594994545\n"
     ]
    }
   ],
   "source": [
    "# evalute\n",
    "score = model.evaluate_generator(gen_test, steps=test_step)\n",
    "print(\"loss {}\".format(score[0]))\n",
    "print(\"acc {}\".format(score[1]))"
   ]
  },
  {
   "cell_type": "markdown",
   "metadata": {
    "colab_type": "text",
    "id": "KpK9qhpuMW3i"
   },
   "source": [
    "# define testing model"
   ]
  },
  {
   "cell_type": "code",
   "execution_count": 79,
   "metadata": {
    "colab": {
     "base_uri": "https://localhost:8080/",
     "height": 289
    },
    "colab_type": "code",
    "id": "FP8ersAqMaer",
    "outputId": "2d51074b-c15f-47d8-d59e-4d09871b17a6"
   },
   "outputs": [
    {
     "name": "stdout",
     "output_type": "stream",
     "text": [
      "Model: \"model_7\"\n",
      "_________________________________________________________________\n",
      "Layer (type)                 Output Shape              Param #   \n",
      "=================================================================\n",
      "input_13 (InputLayer)        [(None, None)]            0         \n",
      "_________________________________________________________________\n",
      "embedding_12 (Embedding)     (None, None, 216)         11818872  \n",
      "_________________________________________________________________\n",
      "dropout_12 (Dropout)         (None, None, 216)         0         \n",
      "_________________________________________________________________\n",
      "lstm_12 (LSTM)               [(None, None, 1024), (Non 5083136   \n",
      "=================================================================\n",
      "Total params: 16,902,008\n",
      "Trainable params: 16,902,008\n",
      "Non-trainable params: 0\n",
      "_________________________________________________________________\n"
     ]
    }
   ],
   "source": [
    "# encoder model\n",
    "encoder_input = model.input[0] # enocoder input\n",
    "encoder_output, state_h, state_c = model.layers[6].output # encoder lstm\n",
    "encoder_state = [state_h, state_c]\n",
    "encoder_model = Model(encoder_input, encoder_state)\n",
    "encoder_model.summary()"
   ]
  },
  {
   "cell_type": "code",
   "execution_count": 80,
   "metadata": {
    "colab": {
     "base_uri": "https://localhost:8080/",
     "height": 255
    },
    "colab_type": "code",
    "id": "YKPDhJqBx4F1",
    "outputId": "8de27987-e979-4459-9aca-6883267ad84b"
   },
   "outputs": [
    {
     "data": {
      "text/plain": [
       "[<tensorflow.python.keras.engine.input_layer.InputLayer at 0x7f913d5cc0f0>,\n",
       " <tensorflow.python.keras.engine.input_layer.InputLayer at 0x7f913d5ef940>,\n",
       " <tensorflow.python.keras.layers.embeddings.Embedding at 0x7f913d5cc780>,\n",
       " <tensorflow.python.keras.layers.embeddings.Embedding at 0x7f913d5ef7b8>,\n",
       " <tensorflow.python.keras.layers.core.Dropout at 0x7f913d5cc7b8>,\n",
       " <tensorflow.python.keras.layers.core.Dropout at 0x7f913d5ef828>,\n",
       " <tensorflow.python.keras.layers.recurrent_v2.LSTM at 0x7f913d5e0cf8>,\n",
       " <tensorflow.python.keras.layers.recurrent_v2.LSTM at 0x7f913d577dd8>,\n",
       " <tensorflow.python.keras.layers.merge.Dot at 0x7f913d4caf28>,\n",
       " <tensorflow.python.keras.layers.core.Activation at 0x7f913d4f5550>,\n",
       " <tensorflow.python.keras.layers.merge.Dot at 0x7f912eccab70>,\n",
       " <tensorflow.python.keras.layers.merge.Concatenate at 0x7f912ecc4a58>,\n",
       " <tensorflow.python.keras.layers.wrappers.TimeDistributed at 0x7f912ecc1978>,\n",
       " <tensorflow.python.keras.layers.wrappers.TimeDistributed at 0x7f912ed3b748>]"
      ]
     },
     "execution_count": 80,
     "metadata": {},
     "output_type": "execute_result"
    }
   ],
   "source": [
    "model.layers"
   ]
  },
  {
   "cell_type": "code",
   "execution_count": 82,
   "metadata": {
    "colab": {
     "base_uri": "https://localhost:8080/",
     "height": 411
    },
    "colab_type": "code",
    "id": "sfLofYRRiPMX",
    "outputId": "a8dd430e-0ea7-4f49-f238-936cb5833cce"
   },
   "outputs": [
    {
     "name": "stdout",
     "output_type": "stream",
     "text": [
      "Model: \"model_9\"\n",
      "__________________________________________________________________________________________________\n",
      "Layer (type)                    Output Shape         Param #     Connected to                     \n",
      "==================================================================================================\n",
      "input_14 (InputLayer)           [(None, None)]       0                                            \n",
      "__________________________________________________________________________________________________\n",
      "embedding_13 (Embedding)        (None, None, 216)    5723568     input_14[0][0]                   \n",
      "__________________________________________________________________________________________________\n",
      "input_17 (InputLayer)           [(None, 1024)]       0                                            \n",
      "__________________________________________________________________________________________________\n",
      "input_18 (InputLayer)           [(None, 1024)]       0                                            \n",
      "__________________________________________________________________________________________________\n",
      "lstm_13 (LSTM)                  [(None, None, 1024), 5083136     embedding_13[2][0]               \n",
      "                                                                 input_17[0][0]                   \n",
      "                                                                 input_18[0][0]                   \n",
      "__________________________________________________________________________________________________\n",
      "time_distributed_13 (TimeDistri (None, None, 26498)  27160450    lstm_13[2][0]                    \n",
      "==================================================================================================\n",
      "Total params: 37,967,154\n",
      "Trainable params: 37,967,154\n",
      "Non-trainable params: 0\n",
      "__________________________________________________________________________________________________\n"
     ]
    }
   ],
   "source": [
    "# decoder model\n",
    "decoder_input = model.input[1] # decoder input\n",
    "decoder_state_input_h = Input(shape=(units,))\n",
    "decoder_state_input_c = Input(shape=(units,))\n",
    "decoder_state_input = [decoder_state_input_h, decoder_state_input_c]\n",
    "decoder_emb = model.layers[3]\n",
    "deocder_emb = decoder_emb(decoder_input)\n",
    "decoder_lstm = model.layers[7] # decoder lstm\n",
    "decoder_output, dec_state_h, dec_state_c = decoder_lstm(deocder_emb, initial_state=decoder_state_input)\n",
    "decoder_state = [dec_state_h, dec_state_c]\n",
    "\n",
    "\n",
    "decoder_dense = model.layers[13]\n",
    "decoder_output = decoder_dense(decoder_output)\n",
    "\n",
    "decoder_model = Model([decoder_input] + decoder_state_input, [decoder_output] + decoder_state)\n",
    "decoder_model.summary()"
   ]
  },
  {
   "cell_type": "code",
   "execution_count": 83,
   "metadata": {
    "colab": {},
    "colab_type": "code",
    "id": "U3Zf2eAyTejb"
   },
   "outputs": [],
   "source": [
    "def decoder_seq(input_seq):\n",
    "    # encoder the input seq as vector\n",
    "    state_en = encoder_model.predict(input_seq)\n",
    "    # generate empty target sequence\n",
    "    target_seq = np.zeros((1, 1))\n",
    "    # populate the first character of target seq\n",
    "    target_seq[0, 0] = start_word\n",
    "\n",
    "    # loop for batch of sequences\n",
    "    stop_condition = False\n",
    "    decoder_sentence = ' '\n",
    "\n",
    "    while not stop_condition:\n",
    "        output_token, h, c = decoder_model.predict([target_seq] + state_en)\n",
    "\n",
    "        sampled_token_index = np.argmax(output_token[0, -1, :])\n",
    "        sampled_char = reverse_target_char[sampled_token_index]\n",
    "        decoder_sentence += ' ' + sampled_char\n",
    "\n",
    "        # stop condition\n",
    "        if sampled_char == \"_END\" or len(decoder_sentence) > max_len_input:\n",
    "            stop_condition = True\n",
    "        \n",
    "\n",
    "        # update the target sequence\n",
    "        target_seq = np.zeros((1, 1))\n",
    "        target_seq[0, 0] = sampled_token_index\n",
    "\n",
    "        # update states\n",
    "        state_en = [h, c]\n",
    "    \n",
    "    return decoder_sentence"
   ]
  },
  {
   "cell_type": "code",
   "execution_count": 84,
   "metadata": {
    "colab": {},
    "colab_type": "code",
    "id": "qwXPOWqZIkik"
   },
   "outputs": [],
   "source": [
    "test_ge = generate_batch(X_test, Y_test, 1)\n",
    "k = -1"
   ]
  },
  {
   "cell_type": "code",
   "execution_count": 92,
   "metadata": {
    "colab": {
     "base_uri": "https://localhost:8080/",
     "height": 153
    },
    "colab_type": "code",
    "id": "RZMb7fNtfLhc",
    "outputId": "bf7cf9a2-07d3-489c-835c-f59b4db3383e"
   },
   "outputs": [
    {
     "name": "stdout",
     "output_type": "stream",
     "text": [
      "input english i do not think they are teaching manners anymore at the schools .\n",
      "actual  最近の 学校 じゃ 礼儀 も 教 えん \n",
      "predict   がなかった に ! は \n",
      "BLEU corpus: 0.000000\n"
     ]
    }
   ],
   "source": [
    "k+=1\n",
    "(input_seq, actual_output), _ = next(test_ge)\n",
    "decoder_sentence = decoder_seq(input_seq)\n",
    "print(\"input english %s\" % X_test[k:k+1].values[0])\n",
    "print(\"actual %s\" % Y_test[k:k+1].values[0][6:-4])\n",
    "print(\"predict %s\" % decoder_sentence[:-4])\n",
    "\n",
    "from nltk.translate.bleu_score import sentence_bleu\n",
    "\n",
    "# calculate BLEU score\n",
    "print('BLEU corpus: %f' % sentence_bleu([Y_test[k:k+1].values[0][6:-4].strip().split(\" \")], decoder_sentence[:-4].strip().split(\" \")))"
   ]
  },
  {
   "cell_type": "code",
   "execution_count": 0,
   "metadata": {
    "colab": {},
    "colab_type": "code",
    "id": "10JeEOI1HMKO"
   },
   "outputs": [],
   "source": []
  }
 ],
 "metadata": {
  "accelerator": "GPU",
  "colab": {
   "collapsed_sections": [],
   "machine_shape": "hm",
   "name": "translation_en_to_ja.ipynb",
   "provenance": [],
   "toc_visible": true
  },
  "kernelspec": {
   "display_name": "Python 3",
   "language": "python",
   "name": "python3"
  },
  "language_info": {
   "codemirror_mode": {
    "name": "ipython",
    "version": 3
   },
   "file_extension": ".py",
   "mimetype": "text/x-python",
   "name": "python",
   "nbconvert_exporter": "python",
   "pygments_lexer": "ipython3",
   "version": "3.7.5"
  }
 },
 "nbformat": 4,
 "nbformat_minor": 1
}
