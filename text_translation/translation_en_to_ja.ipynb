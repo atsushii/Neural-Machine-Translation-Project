{
  "nbformat": 4,
  "nbformat_minor": 0,
  "metadata": {
    "accelerator": "GPU",
    "colab": {
      "name": "translation_en_to_ja.ipynb",
      "provenance": [],
      "collapsed_sections": [],
      "toc_visible": true,
      "machine_shape": "hm"
    },
    "kernelspec": {
      "name": "python3",
      "display_name": "Python 3"
    },
    "language_info": {
      "codemirror_mode": {
        "name": "ipython",
        "version": 3
      },
      "file_extension": ".py",
      "mimetype": "text/x-python",
      "name": "python",
      "nbconvert_exporter": "python",
      "pygments_lexer": "ipython3",
      "version": "3.7.5"
    }
  },
  "cells": [
    {
      "cell_type": "code",
      "metadata": {
        "colab_type": "code",
        "id": "Zb93R3DCCXK0",
        "outputId": "9b297813-02b1-4a3b-f381-61c754890342",
        "colab": {
          "base_uri": "https://localhost:8080/",
          "height": 114
        }
      },
      "source": [
        "import tensorflow as tf\n",
        "import numpy as np\n",
        "import re\n",
        "from numpy import array, argmax, random, take\n",
        "import pandas as pd\n",
        "from keras.models import Sequential\n",
        "from keras.layers import Dense, LSTM, Embedding, RepeatVector, Dropout\n",
        "from keras.preprocessing.text import Tokenizer\n",
        "from keras.callbacks import ModelCheckpoint\n",
        "from keras.preprocessing.sequence import pad_sequences\n",
        "from keras.models import load_model\n",
        "from keras import optimizers\n",
        "import matplotlib.pyplot as plt\n",
        "import nltk\n",
        "import io\n",
        "from nltk.tokenize.toktok import ToktokTokenizer\n",
        "import unicodedata\n",
        "\n",
        "# plot japanese lang\n",
        "!pip install japanize-matplotlib\n",
        "import japanize_matplotlib\n",
        "\n",
        "# ignore warning\n",
        "import os\n",
        "os.environ['TF_CPP_MIN_LOG_LEVEL'] = '3'"
      ],
      "execution_count": 7,
      "outputs": [
        {
          "output_type": "display_data",
          "data": {
            "text/html": [
              "<p style=\"color: red;\">\n",
              "The default version of TensorFlow in Colab will soon switch to TensorFlow 2.x.<br>\n",
              "We recommend you <a href=\"https://www.tensorflow.org/guide/migrate\" target=\"_blank\">upgrade</a> now \n",
              "or ensure your notebook will continue to use TensorFlow 1.x via the <code>%tensorflow_version 1.x</code> magic:\n",
              "<a href=\"https://colab.research.google.com/notebooks/tensorflow_version.ipynb\" target=\"_blank\">more info</a>.</p>\n"
            ],
            "text/plain": [
              "<IPython.core.display.HTML object>"
            ]
          },
          "metadata": {
            "tags": []
          }
        },
        {
          "output_type": "stream",
          "text": [
            "Using TensorFlow backend.\n"
          ],
          "name": "stderr"
        },
        {
          "output_type": "stream",
          "text": [
            "Requirement already satisfied: japanize-matplotlib in /usr/local/lib/python3.6/dist-packages (1.0.5)\n"
          ],
          "name": "stdout"
        }
      ]
    },
    {
      "cell_type": "code",
      "metadata": {
        "id": "I0pBJimVLzNU",
        "colab_type": "code",
        "outputId": "5f4f0ffd-158e-415d-a7a5-9fc807609207",
        "colab": {
          "base_uri": "https://localhost:8080/",
          "height": 34
        }
      },
      "source": [
        "# mount google drive \n",
        "from google.colab import drive\n",
        "drive.mount('/content/drive')"
      ],
      "execution_count": 8,
      "outputs": [
        {
          "output_type": "stream",
          "text": [
            "Drive already mounted at /content/drive; to attempt to forcibly remount, call drive.mount(\"/content/drive\", force_remount=True).\n"
          ],
          "name": "stdout"
        }
      ]
    },
    {
      "cell_type": "markdown",
      "metadata": {
        "id": "xm1CEgijFK_B",
        "colab_type": "text"
      },
      "source": [
        "# load text file\n",
        "\n",
        "**this dataset is aleady implemented a SentenceSpace**"
      ]
    },
    {
      "cell_type": "code",
      "metadata": {
        "colab_type": "code",
        "id": "bmv0RqrACbd-",
        "colab": {}
      },
      "source": [
        "num_example = 30000\n",
        "\n",
        "# create each languages list\n",
        "def create_lang_list(num_example):\n",
        "    # load txt file\n",
        "    lines =  io.open(\"/content/drive/My Drive/Colab Notebooks/raw.txt\", encoding='UTF-8').read().strip().split('\\n')\n",
        "\n",
        "    word_pairs = [[w for w in l.split('\\t')]  for l in lines[:num_example]]\n",
        "\n",
        "    return zip(*word_pairs)"
      ],
      "execution_count": 0,
      "outputs": []
    },
    {
      "cell_type": "code",
      "metadata": {
        "colab_type": "code",
        "id": "pf5s0qc9Dpa6",
        "colab": {}
      },
      "source": [
        "english_text, japanese_text = create_lang_list(num_example)"
      ],
      "execution_count": 0,
      "outputs": []
    },
    {
      "cell_type": "markdown",
      "metadata": {
        "id": "QAhEAtSYFSys",
        "colab_type": "text"
      },
      "source": [
        "# Text Pre-processing\n",
        "\n",
        "**Removing accented characters** \n",
        "\n",
        "e.g. é → e.\n",
        "\n",
        "**Expanding Contractions** \n",
        "\n",
        "e.g. don't → do not, I'd → I would\n",
        "\n",
        "**remove special word** \n",
        "\n",
        "e.g. remove \"123#@!\"\n",
        "\n",
        "**Stemming**\n",
        "\n",
        " e.g. corder, codes → code\n",
        "\n",
        "**Lemmatization**\n",
        "\n",
        " e.g. better → good\n",
        "\n",
        "**Tokenize**\n",
        "\n",
        " e.g. I am going to restaurant → [[I], [am], [going], [to], [restaurant]]"
      ]
    },
    {
      "cell_type": "markdown",
      "metadata": {
        "id": "iS0AX_jOFk_l",
        "colab_type": "text"
      },
      "source": [
        "# Removing accented characters\n",
        "\n",
        "English might have accent like é but Japanese doesn't have any accent I just create different function to ascii for Japanese and English"
      ]
    },
    {
      "cell_type": "code",
      "metadata": {
        "colab_type": "code",
        "id": "Ttcy6dKhDrmB",
        "colab": {}
      },
      "source": [
        "# Removing accented characters\n",
        "def english_unicode_to_ascii(text):\n",
        "     return ''.join(ascii_text for ascii_text in unicodedata.normalize('NFKD', text).encode('ascii', 'ignore').decode('utf-8', 'ignore'))\n",
        "\n",
        "def japanese_unicode_to_ascii(text):\n",
        "    return ''.join(ascii_text for ascii_text in unicodedata.normalize('NFKD', text))"
      ],
      "execution_count": 0,
      "outputs": []
    },
    {
      "cell_type": "code",
      "metadata": {
        "colab_type": "code",
        "id": "OMHI0M1qPWqa",
        "outputId": "549e00b2-7bd8-483e-a35a-97a085abc4c4",
        "colab": {
          "base_uri": "https://localhost:8080/",
          "height": 34
        }
      },
      "source": [
        "# e.g.\n",
        "japanese_unicode_to_ascii(\"こんにちは。今日は\"), english_unicode_to_ascii(\"Hello world é \")"
      ],
      "execution_count": 12,
      "outputs": [
        {
          "output_type": "execute_result",
          "data": {
            "text/plain": [
              "('こんにちは。今日は', 'Hello world e ')"
            ]
          },
          "metadata": {
            "tags": []
          },
          "execution_count": 12
        }
      ]
    },
    {
      "cell_type": "markdown",
      "metadata": {
        "id": "wO9i_n__FrHg",
        "colab_type": "text"
      },
      "source": [
        "# Expanding Contractions\n",
        "Japanese doesn't have a Contraction words so I just create a one function to expand Contractions for Engish"
      ]
    },
    {
      "cell_type": "code",
      "metadata": {
        "colab_type": "code",
        "id": "cUEU_GU1PYNq",
        "colab": {}
      },
      "source": [
        "def expand_constraction(text):\n",
        "\n",
        "    #  dic for expand constraction words\n",
        "    constraction_dict= {\n",
        "        \"ain't\": \"is not\",\n",
        "        \"aren't\": \"are not\",\n",
        "        \"can't\": \"cannot\",\n",
        "        \"can't've\": \"cannot have\",\n",
        "        \"'cause\": \"because\",\n",
        "        \"could've\": \"could have\",\n",
        "        \"couldn't\": \"could not\",\n",
        "        \"couldn't've\": \"could not have\",\n",
        "        \"didn't\": \"did not\",\n",
        "        \"doesn't\": \"does not\",\n",
        "        \"don't\": \"do not\",\n",
        "        \"hadn't\": \"had not\",\n",
        "        \"hadn't've\": \"had not have\",\n",
        "        \"hasn't\": \"has not\",\n",
        "        \"haven't\": \"have not\",\n",
        "        \"he'd\": \"he would\",\n",
        "        \"he'd've\": \"he would have\",\n",
        "        \"he'll\": \"he will\",\n",
        "        \"he'll've\": \"he he will have\",\n",
        "        \"he's\": \"he is\",\n",
        "        \"how'd\": \"how did\",\n",
        "        \"how'd'y\": \"how do you\",\n",
        "        \"how'll\": \"how will\",\n",
        "        \"how's\": \"how is\",\n",
        "        \"I'd\": \"I would\",\n",
        "        \"I'd've\": \"I would have\",\n",
        "        \"I'll\": \"I will\",\n",
        "        \"I'll've\": \"I will have\",\n",
        "        \"I'm\": \"I am\",\n",
        "        \"I've\": \"I have\",\n",
        "        \"i'd\": \"i would\",\n",
        "        \"i'd've\": \"i would have\",\n",
        "        \"i'll\": \"i will\",\n",
        "        \"i'll've\": \"i will have\",\n",
        "        \"i'm\": \"i am\",\n",
        "        \"i've\": \"i have\",\n",
        "        \"isn't\": \"is not\",\n",
        "        \"it'd\": \"it would\",\n",
        "        \"it'd've\": \"it would have\",\n",
        "        \"it'll\": \"it will\",\n",
        "        \"it'll've\": \"it will have\",\n",
        "        \"it's\": \"it is\",\n",
        "        \"let's\": \"let us\",\n",
        "        \"ma'am\": \"madam\",\n",
        "        \"mayn't\": \"may not\",\n",
        "        \"might've\": \"might have\",\n",
        "        \"mightn't\": \"might not\",\n",
        "        \"mightn't've\": \"might not have\",\n",
        "        \"must've\": \"must have\",\n",
        "        \"mustn't\": \"must not\",\n",
        "        \"mustn't've\": \"must not have\",\n",
        "        \"needn't\": \"need not\",\n",
        "        \"needn't've\": \"need not have\",\n",
        "        \"o'clock\": \"of the clock\",\n",
        "        \"oughtn't\": \"ought not\",\n",
        "        \"oughtn't've\": \"ought not have\",\n",
        "        \"shan't\": \"shall not\",\n",
        "        \"sha'n't\": \"shall not\",\n",
        "        \"shan't've\": \"shall not have\",\n",
        "        \"she'd\": \"she would\",\n",
        "        \"she'd've\": \"she would have\",\n",
        "        \"she'll\": \"she will\",\n",
        "        \"she'll've\": \"she will have\",\n",
        "        \"she's\": \"she is\",\n",
        "        \"should've\": \"should have\",\n",
        "        \"shouldn't\": \"should not\",\n",
        "        \"shouldn't've\": \"should not have\",\n",
        "        \"so've\": \"so have\",\n",
        "        \"so's\": \"so as\",\n",
        "        \"that'd\": \"that would\",\n",
        "        \"that'd've\": \"that would have\",\n",
        "        \"that's\": \"that is\",\n",
        "        \"there'd\": \"there would\",\n",
        "        \"there'd've\": \"there would have\",\n",
        "        \"there's\": \"there is\",\n",
        "        \"they'd\": \"they would\",\n",
        "        \"they'd've\": \"they would have\",\n",
        "        \"they'll\": \"they will\",\n",
        "        \"they'll've\": \"they will have\",\n",
        "        \"they're\": \"they are\",\n",
        "        \"they've\": \"they have\",\n",
        "        \"to've\": \"to have\",\n",
        "        \"wasn't\": \"was not\",\n",
        "        \"we'd\": \"we would\",\n",
        "        \"we'd've\": \"we would have\",\n",
        "        \"we'll\": \"we will\",\n",
        "        \"we'll've\": \"we will have\",\n",
        "        \"we're\": \"we are\",\n",
        "        \"we've\": \"we have\",\n",
        "        \"weren't\": \"were not\",\n",
        "        \"what'll\": \"what will\",\n",
        "        \"what'll've\": \"what will have\",\n",
        "        \"what're\": \"what are\",\n",
        "        \"what's\": \"what is\",\n",
        "        \"what've\": \"what have\",\n",
        "        \"when's\": \"when is\",\n",
        "        \"when've\": \"when have\",\n",
        "        \"where'd\": \"where did\",\n",
        "        \"where's\": \"where is\",\n",
        "        \"where've\": \"where have\",\n",
        "        \"who'll\": \"who will\",\n",
        "        \"who'll've\": \"who will have\",\n",
        "        \"who's\": \"who is\",\n",
        "        \"who've\": \"who have\",\n",
        "        \"why's\": \"why is\",\n",
        "        \"why've\": \"why have\",\n",
        "        \"will've\": \"will have\",\n",
        "        \"won't\": \"will not\",\n",
        "        \"won't've\": \"will not have\",\n",
        "        \"would've\": \"would have\",\n",
        "        \"wouldn't\": \"would not\",\n",
        "        \"wouldn't've\": \"would not have\",\n",
        "        \"y'all\": \"you all\",\n",
        "        \"y'all'd\": \"you all would\",\n",
        "        \"y'all'd've\": \"you all would have\",\n",
        "        \"y'all're\": \"you all are\",\n",
        "        \"y'all've\": \"you all have\",\n",
        "        \"you'd\": \"you would\",\n",
        "        \"you'd've\": \"you would have\",\n",
        "        \"you'll\": \"you will\",\n",
        "        \"you'll've\": \"you will have\",\n",
        "        \"you're\": \"you are\",\n",
        "        \"you've\": \"you have\"\n",
        "    }\n",
        "\n",
        "    #  define match pattern\n",
        "    #  IGNORECASE → no matter if word is lowercase or uppercase\n",
        "    #  DOTAIL → . is going to match \\n\n",
        "    contraction_pattern = re.compile('({})'.format('|'.join(constraction_dict.keys())),\n",
        "                                                  flags=re.IGNORECASE | re.DOTALL)\n",
        "    #  expand words\n",
        "    def expand_match(constraction):\n",
        "        # get constraction word\n",
        "        match = constraction.group(0)\n",
        "        first_char = match[0]\n",
        "        #  get expand word from constraction dict\n",
        "        expand_constraction = constraction_dict.get(match)\\\n",
        "                                                    if constraction_dict.get(match) \\\n",
        "                                                    else constraction_dict.get(match.lower())\n",
        "        \n",
        "        # create expand constraction\n",
        "        expand_constraction = first_char + expand_constraction[1:]\n",
        "        return expand_constraction\n",
        "    \n",
        "    expanded_text = contraction_pattern.sub(expand_match, text)\n",
        "    expanded_text = re.sub(\"'\", \"\", expanded_text)\n",
        "    return expanded_text"
      ],
      "execution_count": 0,
      "outputs": []
    },
    {
      "cell_type": "code",
      "metadata": {
        "colab_type": "code",
        "id": "3ikqxXGePadk",
        "outputId": "b3996535-e026-4aab-90ec-6cd6d75a5801",
        "colab": {
          "base_uri": "https://localhost:8080/",
          "height": 34
        }
      },
      "source": [
        "# e.g.\n",
        "expand_constraction(\"you're good I'd like to go he's she's\")"
      ],
      "execution_count": 14,
      "outputs": [
        {
          "output_type": "execute_result",
          "data": {
            "text/plain": [
              "'you are good I would like to go he is she is'"
            ]
          },
          "metadata": {
            "tags": []
          },
          "execution_count": 14
        }
      ]
    },
    {
      "cell_type": "markdown",
      "metadata": {
        "id": "zGZrYrRxFwc8",
        "colab_type": "text"
      },
      "source": [
        "# remove special characters and create space between word and punctuation\n",
        "\n",
        "replacing everything with space except(a-z, A-Z, \"?\", \"!\", \"-\", \"ー\", \"Kanji\", \"Katakana\", \"Hiragana\") \n",
        "create space between word and punctuation (? ! )"
      ]
    },
    {
      "cell_type": "code",
      "metadata": {
        "id": "RBMqrm3o-sJt",
        "colab_type": "code",
        "colab": {}
      },
      "source": [
        "def replace_special_character_to_space(text):\n",
        "    pattern = r\"[^a-zA-Z\\u3041-\\u309F\\u30A1-\\u30FF\\uFF66-\\uFF9F\\u4E00-\\u9FD0\\u309B\\u3099\\uFF9E\\u309C\\u309A\\uFF9F?!\\-/\\s]+\"\n",
        "    text = re.sub(pattern, '', text).rstrip().strip()\n",
        "    text = text.replace(\"・\" , \"\")\n",
        "\n",
        "    text = re.sub(r\"([?!.,。、])\", r\" \\1 \", text)\n",
        "    text = text.lower()\n",
        "\n",
        "    return text"
      ],
      "execution_count": 0,
      "outputs": []
    },
    {
      "cell_type": "code",
      "metadata": {
        "colab_type": "code",
        "id": "oeOvXEYFQq_-",
        "outputId": "b2ab5104-2f4b-4919-9d7c-6137479feaed",
        "colab": {
          "base_uri": "https://localhost:8080/",
          "height": 34
        }
      },
      "source": [
        "# e.g.\n",
        "replace_special_character_to_space(\"hello, . #@…123world.\"), replace_special_character_to_space(\"こん・にちは。・ いい天気。\")"
      ],
      "execution_count": 16,
      "outputs": [
        {
          "output_type": "execute_result",
          "data": {
            "text/plain": [
              "('hello  world', 'こんにちは いい天気')"
            ]
          },
          "metadata": {
            "tags": []
          },
          "execution_count": 16
        }
      ]
    },
    {
      "cell_type": "markdown",
      "metadata": {
        "id": "r0-z-PhGGQqL",
        "colab_type": "text"
      },
      "source": [
        "# Stemming and Lemmatization\n",
        "I will do stemming only english which can create a base form of a word from a given word. Japanese language doesn't need a stemming"
      ]
    },
    {
      "cell_type": "code",
      "metadata": {
        "id": "QrYiW2_Pl1lf",
        "colab_type": "code",
        "colab": {}
      },
      "source": [
        "def stemmer_word(text):\n",
        "    ps = nltk.stem.PorterStemmer()\n",
        "    text = ' '.join([ps.stem(word) for word in text.split()])\n",
        "    return text"
      ],
      "execution_count": 0,
      "outputs": []
    },
    {
      "cell_type": "code",
      "metadata": {
        "id": "n-iz13U2awVV",
        "colab_type": "code",
        "outputId": "7068293e-7176-4a10-904a-1e02b2bd599e",
        "colab": {
          "base_uri": "https://localhost:8080/",
          "height": 34
        }
      },
      "source": [
        "# e.g.\n",
        "stemmer_word(\"hello world she has cat but he had dogs he is went to traveling\")"
      ],
      "execution_count": 18,
      "outputs": [
        {
          "output_type": "execute_result",
          "data": {
            "text/plain": [
              "'hello world she ha cat but he had dog he is went to travel'"
            ]
          },
          "metadata": {
            "tags": []
          },
          "execution_count": 18
        }
      ]
    },
    {
      "cell_type": "markdown",
      "metadata": {
        "id": "xsqW5RHMGifD",
        "colab_type": "text"
      },
      "source": [
        "# Normalize each word"
      ]
    },
    {
      "cell_type": "code",
      "metadata": {
        "colab_type": "code",
        "id": "sizAmLv2Pj-j",
        "colab": {}
      },
      "source": [
        "def normalize_english(english_text, japanese_text):\n",
        "    \n",
        "    input_value = ()\n",
        "    target_value = ()\n",
        "    \n",
        "    for en_text, ja_text in zip(english_text, japanese_text):\n",
        "        \n",
        "        # normalize English\n",
        "        en_text = english_unicode_to_ascii(en_text)\n",
        "        en_text = expand_constraction(en_text)\n",
        "        en_text = replace_special_character_to_space(en_text)\n",
        "\n",
        "        en_text = \"<sos> \" + en_text + \" <eos>\"\n",
        "        \n",
        "        input_value += (en_text, )\n",
        "\n",
        "        # normalize Japanese\n",
        "        ja_text = japanese_unicode_to_ascii(ja_text)\n",
        "        ja_text = expand_constraction(ja_text)\n",
        "        ja_text = replace_special_character_to_space(ja_text)\n",
        "\n",
        "        ja_text = \"<sos> \" + ja_text + \" <eos>\"\n",
        "        \n",
        "        target_value += (ja_text, )\n",
        "\n",
        "    return input_value, target_value"
      ],
      "execution_count": 0,
      "outputs": []
    },
    {
      "cell_type": "markdown",
      "metadata": {
        "id": "eMa52HiWGtQ-",
        "colab_type": "text"
      },
      "source": [
        "# get clean text data"
      ]
    },
    {
      "cell_type": "code",
      "metadata": {
        "colab_type": "code",
        "id": "1WLwCK4xVynu",
        "colab": {}
      },
      "source": [
        "input_value, target_value = normalize_english(english_text, japanese_text)"
      ],
      "execution_count": 0,
      "outputs": []
    },
    {
      "cell_type": "code",
      "metadata": {
        "id": "6su97bf9HZhX",
        "colab_type": "code",
        "colab": {
          "base_uri": "https://localhost:8080/",
          "height": 313
        },
        "outputId": "92753873-07ea-4f76-e42c-936ec4c07d45"
      },
      "source": [
        "# empty lists\n",
        "english_list = []\n",
        "japanese_list = []\n",
        "\n",
        "# populate the lists with sentence lengths\n",
        "for i in input_value:\n",
        "      english_list.append(len(i.split()))\n",
        "\n",
        "for i in target_value:\n",
        "      japanese_list.append(len(i.split()))\n",
        "\n",
        "length_df = pd.DataFrame({'En': english_list, 'Ja': japanese_list})\n",
        "\n",
        "length_df.hist(bins = 30)\n",
        "plt.show()\n",
        "\n",
        "# print max length\n",
        "print(\"english length:\", max(english_list))\n",
        "print(\"japanese length:\", max(japanese_list))"
      ],
      "execution_count": 21,
      "outputs": [
        {
          "output_type": "display_data",
          "data": {
            "image/png": "[encoded data removed]",
            "text/plain": [
              "<Figure size 432x288 with 2 Axes>"
            ]
          },
          "metadata": {
            "tags": []
          }
        },
        {
          "output_type": "stream",
          "text": [
            "english length: 46\n",
            "japanese length: 18\n"
          ],
          "name": "stdout"
        }
      ]
    },
    {
      "cell_type": "markdown",
      "metadata": {
        "id": "lieg1fN2G5Qr",
        "colab_type": "text"
      },
      "source": [
        "# tokenize\n",
        "tokenize each language word based on space"
      ]
    },
    {
      "cell_type": "code",
      "metadata": {
        "colab_type": "code",
        "id": "ZEdYwmc3PoJT",
        "colab": {}
      },
      "source": [
        "# build a tokenizer\n",
        "def tokenization(lines):\n",
        "    tokenizer = Tokenizer()\n",
        "    tokenizer.fit_on_texts(lines)\n",
        "    return tokenizer"
      ],
      "execution_count": 0,
      "outputs": []
    },
    {
      "cell_type": "code",
      "metadata": {
        "colab_type": "code",
        "id": "2UVxaCNJU7Bm",
        "outputId": "b7e049fc-27ce-4c47-cbe1-c353dd292c1f",
        "colab": {
          "base_uri": "https://localhost:8080/",
          "height": 34
        }
      },
      "source": [
        "# prepare English tokenizer\n",
        "eng_tokenizer = tokenization(input_value)\n",
        "eng_vocab_size = len(eng_tokenizer.word_index) + 1\n",
        "\n",
        "# must all the sequences of the same length.\n",
        "eng_length = 18\n",
        "print('English Vocabulary Size: %d' % eng_vocab_size)"
      ],
      "execution_count": 23,
      "outputs": [
        {
          "output_type": "stream",
          "text": [
            "English Vocabulary Size: 16772\n"
          ],
          "name": "stdout"
        }
      ]
    },
    {
      "cell_type": "code",
      "metadata": {
        "colab_type": "code",
        "id": "jAkfW5TfWaca",
        "outputId": "5a73b3f3-1066-4eb6-aaf0-175a9b27488a",
        "colab": {
          "base_uri": "https://localhost:8080/",
          "height": 34
        }
      },
      "source": [
        "# prepare Japanese tokenizer\n",
        "ja_tokenizer = tokenization(target_value)\n",
        "ja_vocab_size = len(ja_tokenizer.word_index) + 1\n",
        "\n",
        "# must all the sequences of the same length.\n",
        "ja_length = 18\n",
        "print('japanese Vocabulary Size: %d' % ja_vocab_size)"
      ],
      "execution_count": 24,
      "outputs": [
        {
          "output_type": "stream",
          "text": [
            "japanese Vocabulary Size: 42613\n"
          ],
          "name": "stdout"
        }
      ]
    },
    {
      "cell_type": "code",
      "metadata": {
        "colab_type": "code",
        "id": "cw26UoZEWf6h",
        "colab": {}
      },
      "source": [
        "# encode and pad sequences\n",
        "def encode_sequences(tokenizer, length, lines):\n",
        "    # integer encode sequences\n",
        "    seq = tokenizer.texts_to_sequences(lines)\n",
        "    # pad sequences with 0 values\n",
        "    seq = pad_sequences(seq, maxlen=length, padding='post')\n",
        "    return seq"
      ],
      "execution_count": 0,
      "outputs": []
    },
    {
      "cell_type": "markdown",
      "metadata": {
        "id": "ekxavmNNOrFn",
        "colab_type": "text"
      },
      "source": [
        "# load Word2Vec pre train model\n",
        "I will use pre-train model for embedding for English and Japanese words"
      ]
    },
    {
      "cell_type": "code",
      "metadata": {
        "id": "OPONamPGOsxi",
        "colab_type": "code",
        "colab": {
          "base_uri": "https://localhost:8080/",
          "height": 71
        },
        "outputId": "61bb9a36-fd5d-427e-da5c-e8598efce6ba"
      },
      "source": [
        "import gensim\n",
        "import gensim.models.keyedvectors as word2vec\n",
        "\n",
        "# load pre-trian model for Japanese \n",
        "ja_word2vec_model = gensim.models.Word2Vec.load('/content/drive/My Drive/jawiki.doc2vec.dbow300d/jawiki.doc2vec.dbow300d.model')\n",
        "\n",
        "# load pre-train model for English\n",
        "en_word2vec_model = word2vec.KeyedVectors.load_word2vec_format(\"/content/drive/My Drive/GoogleNews-vectors-negative300.bin\", binary=True, unicode_errors='ignore')"
      ],
      "execution_count": 1,
      "outputs": [
        {
          "output_type": "stream",
          "text": [
            "/usr/local/lib/python3.6/dist-packages/smart_open/smart_open_lib.py:402: UserWarning: This function is deprecated, use smart_open.open instead. See the migration notes for details: https://github.com/RaRe-Technologies/smart_open/blob/master/README.rst#migrating-to-the-new-open-function\n",
            "  'See the migration notes for details: %s' % _MIGRATION_NOTES_URL\n"
          ],
          "name": "stderr"
        }
      ]
    },
    {
      "cell_type": "code",
      "metadata": {
        "id": "wIK0RuB8O11B",
        "colab_type": "code",
        "colab": {
          "base_uri": "https://localhost:8080/",
          "height": 241
        },
        "outputId": "08ebba54-2318-474b-b024-d7be20845d57"
      },
      "source": [
        "# similar word with country name\n",
        "ja_word2vec_model.wv.most_similar(\"日本\")"
      ],
      "execution_count": 2,
      "outputs": [
        {
          "output_type": "stream",
          "text": [
            "/usr/local/lib/python3.6/dist-packages/gensim/matutils.py:737: FutureWarning: Conversion of the second argument of issubdtype from `int` to `np.signedinteger` is deprecated. In future, it will be treated as `np.int64 == np.dtype(int).type`.\n",
            "  if np.issubdtype(vec.dtype, np.int):\n"
          ],
          "name": "stderr"
        },
        {
          "output_type": "execute_result",
          "data": {
            "text/plain": [
              "[('アメリカ', 0.6172695159912109),\n",
              " ('日本国内', 0.6169887781143188),\n",
              " ('米国', 0.5836105346679688),\n",
              " ('韓国', 0.583561897277832),\n",
              " ('海外', 0.5563584566116333),\n",
              " ('アジア', 0.5504777431488037),\n",
              " ('中国', 0.5415611863136292),\n",
              " ('アジア地域', 0.5271817445755005),\n",
              " ('台湾', 0.52516770362854),\n",
              " ('アジア諸国', 0.5203936100006104)]"
            ]
          },
          "metadata": {
            "tags": []
          },
          "execution_count": 2
        }
      ]
    },
    {
      "cell_type": "code",
      "metadata": {
        "id": "qu5lAxFOO33V",
        "colab_type": "code",
        "colab": {
          "base_uri": "https://localhost:8080/",
          "height": 241
        },
        "outputId": "0b1287ba-634c-4fff-d5ae-dd8e23ca9f83"
      },
      "source": [
        "# calculate word and word\n",
        "ja_word2vec_model.wv.most_similar(positive=[\"お父さん\", \"死\"], negative=[\"泣\"])"
      ],
      "execution_count": 3,
      "outputs": [
        {
          "output_type": "stream",
          "text": [
            "/usr/local/lib/python3.6/dist-packages/gensim/matutils.py:737: FutureWarning: Conversion of the second argument of issubdtype from `int` to `np.signedinteger` is deprecated. In future, it will be treated as `np.int64 == np.dtype(int).type`.\n",
            "  if np.issubdtype(vec.dtype, np.int):\n"
          ],
          "name": "stderr"
        },
        {
          "output_type": "execute_result",
          "data": {
            "text/plain": [
              "[('息子', 0.5948961973190308),\n",
              " ('お母さん', 0.5658013820648193),\n",
              " ('母親', 0.559698760509491),\n",
              " ('おばあちゃん', 0.5565805435180664),\n",
              " ('父', 0.5533062815666199),\n",
              " ('母', 0.5530043840408325),\n",
              " ('パパ', 0.5508877635002136),\n",
              " ('亡き', 0.5500179529190063),\n",
              " ('婚約者', 0.5495285391807556),\n",
              " ('死ん', 0.546082615852356)]"
            ]
          },
          "metadata": {
            "tags": []
          },
          "execution_count": 3
        }
      ]
    },
    {
      "cell_type": "code",
      "metadata": {
        "id": "zywx76VUO7EA",
        "colab_type": "code",
        "colab": {
          "base_uri": "https://localhost:8080/",
          "height": 241
        },
        "outputId": "29863726-b75c-4295-f06b-c3b55c815923"
      },
      "source": [
        "# similar word with country name\n",
        "en_word2vec_model.most_similar(\"Canada\")"
      ],
      "execution_count": 4,
      "outputs": [
        {
          "output_type": "stream",
          "text": [
            "/usr/local/lib/python3.6/dist-packages/gensim/matutils.py:737: FutureWarning: Conversion of the second argument of issubdtype from `int` to `np.signedinteger` is deprecated. In future, it will be treated as `np.int64 == np.dtype(int).type`.\n",
            "  if np.issubdtype(vec.dtype, np.int):\n"
          ],
          "name": "stderr"
        },
        {
          "output_type": "execute_result",
          "data": {
            "text/plain": [
              "[('Canadian', 0.7513011693954468),\n",
              " ('Ontario', 0.6928848028182983),\n",
              " ('Nova_Scotia', 0.6792765259742737),\n",
              " ('Manitoba', 0.67861008644104),\n",
              " ('Alberta', 0.6736730337142944),\n",
              " ('Canadians', 0.6654781103134155),\n",
              " ('Quebec', 0.6514720320701599),\n",
              " ('British_Columbia', 0.6478375196456909),\n",
              " ('Peller_Estates_Icewine', 0.6433447003364563),\n",
              " ('Saskatchewan', 0.6383945941925049)]"
            ]
          },
          "metadata": {
            "tags": []
          },
          "execution_count": 4
        }
      ]
    },
    {
      "cell_type": "code",
      "metadata": {
        "id": "QFq7wb9dO9NJ",
        "colab_type": "code",
        "colab": {
          "base_uri": "https://localhost:8080/",
          "height": 241
        },
        "outputId": "ee51bce5-1ab1-49f0-addf-f25a6ec288b9"
      },
      "source": [
        "# calculate word and word\n",
        "en_word2vec_model.most_similar(positive=[\"programmer\", \"skill\"], negative=[\"money\"])"
      ],
      "execution_count": 5,
      "outputs": [
        {
          "output_type": "stream",
          "text": [
            "/usr/local/lib/python3.6/dist-packages/gensim/matutils.py:737: FutureWarning: Conversion of the second argument of issubdtype from `int` to `np.signedinteger` is deprecated. In future, it will be treated as `np.int64 == np.dtype(int).type`.\n",
            "  if np.issubdtype(vec.dtype, np.int):\n"
          ],
          "name": "stderr"
        },
        {
          "output_type": "execute_result",
          "data": {
            "text/plain": [
              "[('Programmer', 0.4614413380622864),\n",
              " ('3D_modeller', 0.4489377737045288),\n",
              " ('skils', 0.4471549987792969),\n",
              " ('puzzle_solver', 0.4467487633228302),\n",
              " ('Jon_Shiring', 0.4382207989692688),\n",
              " ('programmers', 0.4363787770271301),\n",
              " ('coder', 0.434060662984848),\n",
              " ('skills', 0.42342013120651245),\n",
              " ('skillset', 0.42207223176956177),\n",
              " ('animator', 0.4214385449886322)]"
            ]
          },
          "metadata": {
            "tags": []
          },
          "execution_count": 5
        }
      ]
    },
    {
      "cell_type": "code",
      "metadata": {
        "id": "k6S8JEquPCB1",
        "colab_type": "code",
        "colab": {}
      },
      "source": [
        "# get weights\n",
        "# English\n",
        "input_embedding_matrix = np.zeros((eng_vocab_size, 300))\n",
        "for word, i in eng_tokenizer.word_index.items():\n",
        "    if i >= num_example:\n",
        "        continue\n",
        "    try:\n",
        "        input_embedding_matrix[i] = en_word2vec_model.get_vector(word)\n",
        "    except KeyError:\n",
        "        continue\n",
        "\n",
        "# Japanese\n",
        "target_embedding_matrix = np.zeros((ja_vocab_size, 300))\n",
        "for word, i in ja_tokenizer.word_index.items():\n",
        "    if i >= num_example:\n",
        "        continue\n",
        "    try:\n",
        "        target_embedding_matrix[i] = ja_word2vec_model.wv.get_vector(word)\n",
        "    except KeyError:\n",
        "        continue"
      ],
      "execution_count": 0,
      "outputs": []
    },
    {
      "cell_type": "code",
      "metadata": {
        "id": "SihjmkklPQm9",
        "colab_type": "code",
        "colab": {
          "base_uri": "https://localhost:8080/",
          "height": 34
        },
        "outputId": "6ad6036d-f479-46b5-c859-0a349a3b5a11"
      },
      "source": [
        "input_embedding_matrix.shape, target_embedding_matrix.shape"
      ],
      "execution_count": 31,
      "outputs": [
        {
          "output_type": "execute_result",
          "data": {
            "text/plain": [
              "((16772, 300), (42613, 300))"
            ]
          },
          "metadata": {
            "tags": []
          },
          "execution_count": 31
        }
      ]
    },
    {
      "cell_type": "markdown",
      "metadata": {
        "id": "JkhMN5EAJTDt",
        "colab_type": "text"
      },
      "source": [
        "# Create train data"
      ]
    },
    {
      "cell_type": "code",
      "metadata": {
        "colab_type": "code",
        "id": "ANKcc_U6WjmX",
        "colab": {}
      },
      "source": [
        "from sklearn.model_selection import train_test_split\n",
        "\n",
        "# split data into train and test set\n",
        "X_train, X_test,  y_train, y_test = train_test_split(input_value, target_value, test_size=0.3, random_state = 42)"
      ],
      "execution_count": 0,
      "outputs": []
    },
    {
      "cell_type": "code",
      "metadata": {
        "colab_type": "code",
        "id": "UIpLRoOLWlKr",
        "colab": {}
      },
      "source": [
        "# prepare training data\n",
        "X_train = encode_sequences(eng_tokenizer, eng_length, X_train)\n",
        "Y_train = encode_sequences(ja_tokenizer, ja_length, y_train)\n",
        "\n",
        "# prepare validation data\n",
        "X_test = encode_sequences(eng_tokenizer, eng_length, X_test)\n",
        "Y_test = encode_sequences(ja_tokenizer, ja_length, y_test)\n"
      ],
      "execution_count": 0,
      "outputs": []
    },
    {
      "cell_type": "code",
      "metadata": {
        "colab_type": "code",
        "outputId": "05aad932-8a29-4e09-8290-ecb0a37e98e4",
        "id": "KKZ8k4bnpSIc",
        "colab": {
          "base_uri": "https://localhost:8080/",
          "height": 102
        }
      },
      "source": [
        "print(X_train.shape), print(Y_train.shape), print(X_test.shape), print(Y_test.shape)"
      ],
      "execution_count": 38,
      "outputs": [
        {
          "output_type": "stream",
          "text": [
            "(35000, 18)\n",
            "(35000, 18)\n",
            "(15000, 18)\n",
            "(15000, 18)\n"
          ],
          "name": "stdout"
        },
        {
          "output_type": "execute_result",
          "data": {
            "text/plain": [
              "(None, None, None, None)"
            ]
          },
          "metadata": {
            "tags": []
          },
          "execution_count": 38
        }
      ]
    },
    {
      "cell_type": "markdown",
      "metadata": {
        "id": "rSAahGbWKIAj",
        "colab_type": "text"
      },
      "source": [
        "# Model building"
      ]
    },
    {
      "cell_type": "code",
      "metadata": {
        "colab_type": "code",
        "id": "Ma59RoqRWnMy",
        "colab": {}
      },
      "source": [
        "# build NMT model\n",
        "def define_model(in_vocab,out_vocab, in_timesteps,out_timesteps,units):\n",
        "    model = Sequential()\n",
        "    model.add(Embedding(in_vocab, units, input_length=in_timesteps, mask_zero=True))\n",
        "    model.add(LSTM(units))\n",
        "    Dropout(rate=0.6)\n",
        "    model.add(RepeatVector(out_timesteps))\n",
        "    Dropout(rate=0.6)\n",
        "    model.add(LSTM(units, return_sequences=True))\n",
        "    model.add(Dense(out_vocab, activation='softmax'))\n",
        "    return model"
      ],
      "execution_count": 0,
      "outputs": []
    },
    {
      "cell_type": "code",
      "metadata": {
        "colab_type": "code",
        "id": "Ti0TrucnWqzr",
        "colab": {
          "base_uri": "https://localhost:8080/",
          "height": 190
        },
        "outputId": "61e15a4d-24a1-4275-d45d-1e75bdb0202b"
      },
      "source": [
        "# model compilation\n",
        "model = define_model(eng_vocab_size, ja_vocab_size, eng_length, ja_length, 512)"
      ],
      "execution_count": 40,
      "outputs": [
        {
          "output_type": "stream",
          "text": [
            "WARNING:tensorflow:From /usr/local/lib/python3.6/dist-packages/keras/backend/tensorflow_backend.py:66: The name tf.get_default_graph is deprecated. Please use tf.compat.v1.get_default_graph instead.\n",
            "\n",
            "WARNING:tensorflow:From /usr/local/lib/python3.6/dist-packages/keras/backend/tensorflow_backend.py:541: The name tf.placeholder is deprecated. Please use tf.compat.v1.placeholder instead.\n",
            "\n",
            "WARNING:tensorflow:From /usr/local/lib/python3.6/dist-packages/keras/backend/tensorflow_backend.py:4432: The name tf.random_uniform is deprecated. Please use tf.random.uniform instead.\n",
            "\n",
            "WARNING:tensorflow:From /usr/local/lib/python3.6/dist-packages/keras/backend/tensorflow_backend.py:3239: where (from tensorflow.python.ops.array_ops) is deprecated and will be removed in a future version.\n",
            "Instructions for updating:\n",
            "Use tf.where in 2.0, which has the same broadcast rule as np.where\n"
          ],
          "name": "stdout"
        }
      ]
    },
    {
      "cell_type": "code",
      "metadata": {
        "id": "9udgb841KSvm",
        "colab_type": "code",
        "colab": {}
      },
      "source": [
        "import keras.backend as K\n",
        "\n",
        "#precision\n",
        "def precision(y_true, y_pred):\n",
        "    true_positives = K.sum(K.cast(K.greater(K.clip(y_true * y_pred, 0, 1), 0.20), 'float32'))\n",
        "    pred_positives = K.sum(K.cast(K.greater(K.clip(y_pred, 0, 1), 0.20), 'float32'))\n",
        "\n",
        "    precision_v = true_positives / (pred_positives + K.epsilon())\n",
        "    return precision_v\n",
        "\n",
        "#recall\n",
        "def recall(y_true, y_pred):\n",
        "    true_positives = K.sum(K.cast(K.greater(K.clip(y_true * y_pred, 0, 1), 0.20), 'float32'))\n",
        "    poss_positives = K.sum(K.cast(K.greater(K.clip(y_true, 0, 1), 0.20), 'float32'))\n",
        "\n",
        "    recall_v = true_positives / (poss_positives + K.epsilon())\n",
        "    return recall_v\n",
        "\n",
        "#f1 score\n",
        "def f1_score(y_true, y_pred):\n",
        "    precision_v = precision(y_true, y_pred)\n",
        "    recall_v = recall(y_true, y_pred)\n",
        "    f1_score_v = 2 * precision_v * recall_v / (precision_v + recall_v)\n",
        "\n",
        "    return f1_score_v\n"
      ],
      "execution_count": 0,
      "outputs": []
    },
    {
      "cell_type": "code",
      "metadata": {
        "colab_type": "code",
        "id": "aYQVg6NRWsuN",
        "colab": {
          "base_uri": "https://localhost:8080/",
          "height": 105
        },
        "outputId": "6476b10d-0ac7-4744-e013-a289f5fac7df"
      },
      "source": [
        "# optimize loss function\n",
        "rms = optimizers.RMSprop()\n",
        "\n",
        "model.compile(optimizer=rms, loss='sparse_categorical_crossentropy', metrics=['accuracy', precision, recall, f1_score])"
      ],
      "execution_count": 42,
      "outputs": [
        {
          "output_type": "stream",
          "text": [
            "WARNING:tensorflow:From /usr/local/lib/python3.6/dist-packages/keras/optimizers.py:793: The name tf.train.Optimizer is deprecated. Please use tf.compat.v1.train.Optimizer instead.\n",
            "\n",
            "WARNING:tensorflow:From /usr/local/lib/python3.6/dist-packages/keras/backend/tensorflow_backend.py:3622: The name tf.log is deprecated. Please use tf.math.log instead.\n",
            "\n"
          ],
          "name": "stdout"
        }
      ]
    },
    {
      "cell_type": "code",
      "metadata": {
        "colab_type": "code",
        "id": "dhAUdzArWvju",
        "outputId": "33278d04-7434-4e73-f568-d0ae853d4511",
        "colab": {
          "base_uri": "https://localhost:8080/",
          "height": 1000
        }
      },
      "source": [
        "# checkpoint\n",
        "filename = 'model.h1.22_Nov_19'\n",
        "checkpoint = ModelCheckpoint(filename, monitor='val_loss', verbose=1, save_best_only=True, mode='min')\n",
        "\n",
        "# train model\n",
        "history = model.fit(X_train, Y_train.reshape(Y_train.shape[0], Y_train.shape[1], 1),\n",
        "                    epochs=10, batch_size=128, validation_split = 0.3, callbacks=[checkpoint],                    \n",
        "                    verbose=1)"
      ],
      "execution_count": 43,
      "outputs": [
        {
          "output_type": "stream",
          "text": [
            "WARNING:tensorflow:From /usr/local/lib/python3.6/dist-packages/keras/backend/tensorflow_backend.py:1033: The name tf.assign_add is deprecated. Please use tf.compat.v1.assign_add instead.\n",
            "\n",
            "WARNING:tensorflow:From /usr/local/lib/python3.6/dist-packages/keras/backend/tensorflow_backend.py:1020: The name tf.assign is deprecated. Please use tf.compat.v1.assign instead.\n",
            "\n",
            "WARNING:tensorflow:From /usr/local/lib/python3.6/dist-packages/keras/backend/tensorflow_backend.py:3005: The name tf.Session is deprecated. Please use tf.compat.v1.Session instead.\n",
            "\n",
            "Train on 24500 samples, validate on 10500 samples\n",
            "Epoch 1/10\n",
            "WARNING:tensorflow:From /usr/local/lib/python3.6/dist-packages/keras/backend/tensorflow_backend.py:190: The name tf.get_default_session is deprecated. Please use tf.compat.v1.get_default_session instead.\n",
            "\n",
            "WARNING:tensorflow:From /usr/local/lib/python3.6/dist-packages/keras/backend/tensorflow_backend.py:197: The name tf.ConfigProto is deprecated. Please use tf.compat.v1.ConfigProto instead.\n",
            "\n",
            "WARNING:tensorflow:From /usr/local/lib/python3.6/dist-packages/keras/backend/tensorflow_backend.py:207: The name tf.global_variables is deprecated. Please use tf.compat.v1.global_variables instead.\n",
            "\n",
            "WARNING:tensorflow:From /usr/local/lib/python3.6/dist-packages/keras/backend/tensorflow_backend.py:216: The name tf.is_variable_initialized is deprecated. Please use tf.compat.v1.is_variable_initialized instead.\n",
            "\n",
            "WARNING:tensorflow:From /usr/local/lib/python3.6/dist-packages/keras/backend/tensorflow_backend.py:223: The name tf.variables_initializer is deprecated. Please use tf.compat.v1.variables_initializer instead.\n",
            "\n",
            "24500/24500 [==============================] - 100s 4ms/step - loss: 1.5637 - acc: 0.8575 - precision: 2699618129720.2451 - recall: 5404.9489 - f1_score: 2773.4045 - val_loss: 1.3181 - val_acc: 0.8789 - val_precision: 1381.3799 - val_recall: 6682.0910 - val_f1_score: 2289.2440\n",
            "\n",
            "Epoch 00001: val_loss improved from inf to 1.31813, saving model to model.h1.22_Nov_19\n",
            "Epoch 2/10\n",
            "24500/24500 [==============================] - 89s 4ms/step - loss: 1.1783 - acc: 0.8779 - precision: 2305.5447 - recall: 11162.2388 - f1_score: 3821.3625 - val_loss: 1.2112 - val_acc: 0.8794 - val_precision: 3113.0769 - val_recall: 14851.6824 - val_f1_score: 5146.7271\n",
            "\n",
            "Epoch 00002: val_loss improved from 1.31813 to 1.21115, saving model to model.h1.22_Nov_19\n",
            "Epoch 3/10\n",
            "24500/24500 [==============================] - 89s 4ms/step - loss: 1.1304 - acc: 0.8808 - precision: 2674.7526 - recall: 12850.4331 - f1_score: 4427.5253 - val_loss: 1.2297 - val_acc: 0.8750 - val_precision: 3382.2639 - val_recall: 15888.3285 - val_f1_score: 5576.6484\n",
            "\n",
            "Epoch 00003: val_loss did not improve from 1.21115\n",
            "Epoch 4/10\n",
            "24500/24500 [==============================] - 89s 4ms/step - loss: 1.0988 - acc: 0.8825 - precision: 2635.7991 - recall: 12603.6093 - f1_score: 4359.4675 - val_loss: 1.2178 - val_acc: 0.8785 - val_precision: 2731.1025 - val_recall: 12975.9373 - val_f1_score: 4512.0181\n",
            "\n",
            "Epoch 00004: val_loss did not improve from 1.21115\n",
            "Epoch 5/10\n",
            "24500/24500 [==============================] - 89s 4ms/step - loss: 1.0752 - acc: 0.8842 - precision: 2619.4449 - recall: 12445.0501 - f1_score: 4327.6435 - val_loss: 1.2360 - val_acc: 0.8760 - val_precision: 2521.6778 - val_recall: 12023.3854 - val_f1_score: 4168.5801\n",
            "\n",
            "Epoch 00005: val_loss did not improve from 1.21115\n",
            "Epoch 6/10\n",
            "24500/24500 [==============================] - 89s 4ms/step - loss: 1.0569 - acc: 0.8857 - precision: 2624.0756 - recall: 12391.4470 - f1_score: 4330.6507 - val_loss: 1.2372 - val_acc: 0.8778 - val_precision: 2463.9010 - val_recall: 11631.0981 - val_f1_score: 4065.9840\n",
            "\n",
            "Epoch 00006: val_loss did not improve from 1.21115\n",
            "Epoch 7/10\n",
            "24500/24500 [==============================] - 89s 4ms/step - loss: 1.0386 - acc: 0.8872 - precision: 2621.2669 - recall: 12279.7761 - f1_score: 4319.9681 - val_loss: 1.2549 - val_acc: 0.8774 - val_precision: 2318.0090 - val_recall: 10911.8234 - val_f1_score: 3823.3635\n",
            "\n",
            "Epoch 00007: val_loss did not improve from 1.21115\n",
            "Epoch 8/10\n",
            "24500/24500 [==============================] - 89s 4ms/step - loss: 1.0192 - acc: 0.8885 - precision: 2572.2314 - recall: 11978.0386 - f1_score: 4234.7208 - val_loss: 1.2459 - val_acc: 0.8774 - val_precision: 2509.9199 - val_recall: 11682.2697 - val_f1_score: 4131.6473\n",
            "\n",
            "Epoch 00008: val_loss did not improve from 1.21115\n",
            "Epoch 9/10\n",
            "24500/24500 [==============================] - 89s 4ms/step - loss: 0.9970 - acc: 0.8900 - precision: 2480.0145 - recall: 11480.8251 - f1_score: 4078.6075 - val_loss: 1.2515 - val_acc: 0.8764 - val_precision: 2510.9192 - val_recall: 11633.5574 - val_f1_score: 4129.9452\n",
            "\n",
            "Epoch 00009: val_loss did not improve from 1.21115\n",
            "Epoch 10/10\n",
            "24500/24500 [==============================] - 89s 4ms/step - loss: 0.9693 - acc: 0.8911 - precision: 2350.8544 - recall: 10831.8149 - f1_score: 3862.9284 - val_loss: 1.2657 - val_acc: 0.8725 - val_precision: 2319.1102 - val_recall: 10802.8852 - val_f1_score: 3818.0923\n",
            "\n",
            "Epoch 00010: val_loss did not improve from 1.21115\n"
          ],
          "name": "stdout"
        }
      ]
    },
    {
      "cell_type": "code",
      "metadata": {
        "id": "Pce1wkdUHm7N",
        "colab_type": "code",
        "outputId": "a37bef79-7357-4d4f-886f-573d6a1d42b3",
        "colab": {
          "base_uri": "https://localhost:8080/",
          "height": 644
        }
      },
      "source": [
        "from keras.utils import plot_model\n",
        "\n",
        "# model plot\n",
        "plot_model(model, to_file='train-bert.png', show_shapes=True)"
      ],
      "execution_count": 44,
      "outputs": [
        {
          "output_type": "execute_result",
          "data": {
            "image/png": "[encoded data removed]",
            "text/plain": [
              "<IPython.core.display.Image object>"
            ]
          },
          "metadata": {
            "tags": []
          },
          "execution_count": 44
        }
      ]
    },
    {
      "cell_type": "code",
      "metadata": {
        "colab_type": "code",
        "id": "3Vm5oB5JW2NA",
        "outputId": "eadbc8bc-f9c2-4a9b-f6ca-c3937a48dd53",
        "colab": {
          "base_uri": "https://localhost:8080/",
          "height": 309
        }
      },
      "source": [
        "fig, (ax1, ax2) = plt.subplots(ncols=2, figsize=(10,4))\n",
        "print(history.history.keys())\n",
        "def plot_history_acc(history):\n",
        "    # plot the accuracy\n",
        "    ax1.plot(history.history['acc'],label=\"accuracy for training\")\n",
        "    ax1.plot(history.history['val_acc'],label=\"accuracy for validation\")\n",
        "    ax1.set_title('model accuracy')\n",
        "    ax1.set_xlabel('epoch')\n",
        "    ax1.set_ylabel('accuracy')\n",
        "    ax1.legend(loc='upper right')\n",
        "\n",
        "def plot_history_loss(history):\n",
        "    # Plot the loss\n",
        "    ax2.plot(history.history['loss'],label=\"loss for training\")\n",
        "    ax2.plot(history.history['val_loss'],label=\"loss for validation\")\n",
        "    ax2.set_title('model loss')\n",
        "    ax2.set_xlabel('epoch')\n",
        "    ax2.set_ylabel('loss')\n",
        "    ax2.legend(loc='upper right')\n",
        "\n",
        "\n",
        "\n",
        "plot_history_loss(history)\n",
        "plot_history_acc(history)\n",
        "plt.show()"
      ],
      "execution_count": 45,
      "outputs": [
        {
          "output_type": "stream",
          "text": [
            "dict_keys(['val_loss', 'val_acc', 'val_precision', 'val_recall', 'val_f1_score', 'loss', 'acc', 'precision', 'recall', 'f1_score'])\n"
          ],
          "name": "stdout"
        },
        {
          "output_type": "display_data",
          "data": {
            "image/png": "[encoded data removed]",
            "text/plain": [
              "<Figure size 720x288 with 2 Axes>"
            ]
          },
          "metadata": {
            "tags": []
          }
        }
      ]
    },
    {
      "cell_type": "code",
      "metadata": {
        "colab_type": "code",
        "id": "x3S1NMKGY5Tm",
        "colab": {}
      },
      "source": [
        "# load model data \n",
        "# model = load_model('model.h1.22_Nov_19')\n",
        "\n",
        "# predict\n",
        "preds = model.predict_classes(X_test)"
      ],
      "execution_count": 0,
      "outputs": []
    },
    {
      "cell_type": "code",
      "metadata": {
        "id": "WfidRuLJ0trr",
        "colab_type": "code",
        "colab": {}
      },
      "source": [
        "X_test.reshape((X_test.shape[0],X_test.shape[1]))"
      ],
      "execution_count": 0,
      "outputs": []
    },
    {
      "cell_type": "code",
      "metadata": {
        "id": "ZsP9ZAY0HITa",
        "colab_type": "code",
        "outputId": "eb92caf8-5190-4480-a9f7-9eaabde56f66",
        "colab": {
          "base_uri": "https://localhost:8080/",
          "height": 34
        }
      },
      "source": [
        "Y_test.shape"
      ],
      "execution_count": 0,
      "outputs": [
        {
          "output_type": "execute_result",
          "data": {
            "text/plain": [
              "(3000, 12)"
            ]
          },
          "metadata": {
            "tags": []
          },
          "execution_count": 182
        }
      ]
    },
    {
      "cell_type": "code",
      "metadata": {
        "id": "eM9TKTYB01PY",
        "colab_type": "code",
        "outputId": "038e3001-0c24-4202-8d2d-4b80e39b59cf",
        "colab": {
          "base_uri": "https://localhost:8080/",
          "height": 34
        }
      },
      "source": [
        "preds.shape"
      ],
      "execution_count": 0,
      "outputs": [
        {
          "output_type": "execute_result",
          "data": {
            "text/plain": [
              "(3000, 12)"
            ]
          },
          "metadata": {
            "tags": []
          },
          "execution_count": 183
        }
      ]
    },
    {
      "cell_type": "code",
      "metadata": {
        "id": "v5VHrdPAHNHk",
        "colab_type": "code",
        "colab": {}
      },
      "source": [
        ""
      ],
      "execution_count": 0,
      "outputs": []
    },
    {
      "cell_type": "code",
      "metadata": {
        "colab_type": "code",
        "id": "fSnPPvraY_uW",
        "colab": {}
      },
      "source": [
        "def get_word(n, tokenizer):\n",
        "    for word, index in tokenizer.word_index.items():\n",
        "        if index == n:\n",
        "            return word\n",
        "    return None"
      ],
      "execution_count": 0,
      "outputs": []
    },
    {
      "cell_type": "code",
      "metadata": {
        "colab_type": "code",
        "id": "OchHfcobZKbY",
        "colab": {}
      },
      "source": [
        "preds_text = []\n",
        "for i in preds:\n",
        "    temp = []\n",
        "    for j in range(len(i)):\n",
        "        t = get_word(i[j], ja_tokenizer)\n",
        "\n",
        "        if j > 0:\n",
        "            if (t == get_word(i[j-1], ja_tokenizer)) or (t == None):\n",
        "                temp.append('')\n",
        "            else:\n",
        "                temp.append(t)\n",
        "        else:\n",
        "            if(t == None):\n",
        "                temp.append('')\n",
        "            else:\n",
        "                temp.append(t) \n",
        "\n",
        "    preds_text.append(' '.join(temp))"
      ],
      "execution_count": 0,
      "outputs": []
    },
    {
      "cell_type": "code",
      "metadata": {
        "colab_type": "code",
        "id": "Q01F6aF4ZMB_",
        "colab": {}
      },
      "source": [
        "# view actual sentence anf predict result\n",
        "pred_df = pd.DataFrame({'actual' : y_test, 'predicted' : preds_text})"
      ],
      "execution_count": 0,
      "outputs": []
    },
    {
      "cell_type": "code",
      "metadata": {
        "colab_type": "code",
        "id": "tyF2rYenhsDJ",
        "outputId": "ab2a09ac-ec00-45a9-a3da-33941d090304",
        "colab": {
          "base_uri": "https://localhost:8080/",
          "height": 1000
        }
      },
      "source": [
        "pred_df.sample(50)"
      ],
      "execution_count": 0,
      "outputs": [
        {
          "output_type": "execute_result",
          "data": {
            "text/html": [
              "<div>\n",
              "<style scoped>\n",
              "    .dataframe tbody tr th:only-of-type {\n",
              "        vertical-align: middle;\n",
              "    }\n",
              "\n",
              "    .dataframe tbody tr th {\n",
              "        vertical-align: top;\n",
              "    }\n",
              "\n",
              "    .dataframe thead th {\n",
              "        text-align: right;\n",
              "    }\n",
              "</style>\n",
              "<table border=\"1\" class=\"dataframe\">\n",
              "  <thead>\n",
              "    <tr style=\"text-align: right;\">\n",
              "      <th></th>\n",
              "      <th>actual</th>\n",
              "      <th>predicted</th>\n",
              "    </tr>\n",
              "  </thead>\n",
              "  <tbody>\n",
              "    <tr>\n",
              "      <th>2871</th>\n",
              "      <td>&lt;sos&gt; それで済ますわけには いかないな &lt;eos&gt;</td>\n",
              "      <td>sos でも eos</td>\n",
              "    </tr>\n",
              "    <tr>\n",
              "      <th>2195</th>\n",
              "      <td>&lt;sos&gt; 手配 前科 前歴 該当なし &lt;eos&gt;</td>\n",
              "      <td>sos いや eos</td>\n",
              "    </tr>\n",
              "    <tr>\n",
              "      <th>1437</th>\n",
              "      <td>&lt;sos&gt; あの男が 日の光から逃げるために作った &lt;eos&gt;</td>\n",
              "      <td>sos eos</td>\n",
              "    </tr>\n",
              "    <tr>\n",
              "      <th>1285</th>\n",
              "      <td>&lt;sos&gt; あの動きさ &lt;eos&gt;</td>\n",
              "      <td>sos ああ eos</td>\n",
              "    </tr>\n",
              "    <tr>\n",
              "      <th>2621</th>\n",
              "      <td>&lt;sos&gt; この雨の中 一晩中 墓地にいたい ?  &lt;eos&gt;</td>\n",
              "      <td>sos eos</td>\n",
              "    </tr>\n",
              "    <tr>\n",
              "      <th>1453</th>\n",
              "      <td>&lt;sos&gt; そういう勤務記録を提出しろ &lt;eos&gt;</td>\n",
              "      <td>sos でも eos</td>\n",
              "    </tr>\n",
              "    <tr>\n",
              "      <th>1505</th>\n",
              "      <td>&lt;sos&gt; しかし 経営者というのも &lt;eos&gt;</td>\n",
              "      <td>sos ああ eos</td>\n",
              "    </tr>\n",
              "    <tr>\n",
              "      <th>1019</th>\n",
              "      <td>&lt;sos&gt; 最新の予想を見ていたのですが &lt;eos&gt;</td>\n",
              "      <td>sos eos</td>\n",
              "    </tr>\n",
              "    <tr>\n",
              "      <th>2966</th>\n",
              "      <td>&lt;sos&gt; 弱いんだ &lt;eos&gt;</td>\n",
              "      <td>sos eos</td>\n",
              "    </tr>\n",
              "    <tr>\n",
              "      <th>2395</th>\n",
              "      <td>&lt;sos&gt; うん太っているエイミー &lt;eos&gt;</td>\n",
              "      <td>sos ああ eos</td>\n",
              "    </tr>\n",
              "    <tr>\n",
              "      <th>687</th>\n",
              "      <td>&lt;sos&gt; あと回 &lt;eos&gt;</td>\n",
              "      <td>sos いや eos</td>\n",
              "    </tr>\n",
              "    <tr>\n",
              "      <th>132</th>\n",
              "      <td>&lt;sos&gt; ナイジェル どけよ &lt;eos&gt;</td>\n",
              "      <td>sos eos</td>\n",
              "    </tr>\n",
              "    <tr>\n",
              "      <th>1922</th>\n",
              "      <td>&lt;sos&gt; もっと簡素化してみましょう &lt;eos&gt;</td>\n",
              "      <td>sos eos</td>\n",
              "    </tr>\n",
              "    <tr>\n",
              "      <th>1076</th>\n",
              "      <td>&lt;sos&gt; 彼らに 事件現場を任せてもらえますか ?  &lt;eos&gt;</td>\n",
              "      <td>sos eos</td>\n",
              "    </tr>\n",
              "    <tr>\n",
              "      <th>1718</th>\n",
              "      <td>&lt;sos&gt; どうやって逃げだしたミラ ?  &lt;eos&gt;</td>\n",
              "      <td>sos  eos</td>\n",
              "    </tr>\n",
              "    <tr>\n",
              "      <th>2480</th>\n",
              "      <td>&lt;sos&gt; そう言われたんです お医者さんに &lt;eos&gt;</td>\n",
              "      <td>sos いや eos</td>\n",
              "    </tr>\n",
              "    <tr>\n",
              "      <th>1231</th>\n",
              "      <td>&lt;sos&gt; これは外交官によって長い間 知られてきたことを &lt;eos&gt;</td>\n",
              "      <td>sos なんだ eos</td>\n",
              "    </tr>\n",
              "    <tr>\n",
              "      <th>2337</th>\n",
              "      <td>&lt;sos&gt; 敵は人 まっすぐ森を抜ける気だな &lt;eos&gt;</td>\n",
              "      <td>sos eos</td>\n",
              "    </tr>\n",
              "    <tr>\n",
              "      <th>1261</th>\n",
              "      <td>&lt;sos&gt; マリアかな ?  &lt;eos&gt;</td>\n",
              "      <td>sos eos</td>\n",
              "    </tr>\n",
              "    <tr>\n",
              "      <th>790</th>\n",
              "      <td>&lt;sos&gt; それは 鑑識の仕事ですよね &lt;eos&gt;</td>\n",
              "      <td>sos eos</td>\n",
              "    </tr>\n",
              "    <tr>\n",
              "      <th>1972</th>\n",
              "      <td>&lt;sos&gt; 肥料を取って来い ?  &lt;eos&gt;</td>\n",
              "      <td>sos eos</td>\n",
              "    </tr>\n",
              "    <tr>\n",
              "      <th>2824</th>\n",
              "      <td>&lt;sos&gt; つ理解できない事が &lt;eos&gt;</td>\n",
              "      <td>sos  eos</td>\n",
              "    </tr>\n",
              "    <tr>\n",
              "      <th>74</th>\n",
              "      <td>&lt;sos&gt; 冷静に聞いてくれよ !  &lt;eos&gt;</td>\n",
              "      <td>sos eos</td>\n",
              "    </tr>\n",
              "    <tr>\n",
              "      <th>2854</th>\n",
              "      <td>&lt;sos&gt; ヒートブラストサチュレーション &lt;eos&gt;</td>\n",
              "      <td>sos  eos</td>\n",
              "    </tr>\n",
              "    <tr>\n",
              "      <th>1976</th>\n",
              "      <td>&lt;sos&gt; でも得られるものは色ある &lt;eos&gt;</td>\n",
              "      <td>sos eos</td>\n",
              "    </tr>\n",
              "    <tr>\n",
              "      <th>2971</th>\n",
              "      <td>&lt;sos&gt; 今度はマコー買えよ !  &lt;eos&gt;</td>\n",
              "      <td>sos ああ eos</td>\n",
              "    </tr>\n",
              "    <tr>\n",
              "      <th>2815</th>\n",
              "      <td>&lt;sos&gt; ダイナマイトナックル &lt;eos&gt;</td>\n",
              "      <td>sos  eos</td>\n",
              "    </tr>\n",
              "    <tr>\n",
              "      <th>1980</th>\n",
              "      <td>&lt;sos&gt; じゃあ 仕事終わったら 医局に来てよ &lt;eos&gt;</td>\n",
              "      <td>sos eos</td>\n",
              "    </tr>\n",
              "    <tr>\n",
              "      <th>1522</th>\n",
              "      <td>&lt;sos&gt; 本来店就快要倒闭了 &lt;eos&gt;</td>\n",
              "      <td>sos  eos</td>\n",
              "    </tr>\n",
              "    <tr>\n",
              "      <th>356</th>\n",
              "      <td>&lt;sos&gt; ここにある こいつは ミイラ化してる &lt;eos&gt;</td>\n",
              "      <td>sos いや eos</td>\n",
              "    </tr>\n",
              "    <tr>\n",
              "      <th>2952</th>\n",
              "      <td>&lt;sos&gt; natoのような協定が 彼らの協定よりも力を持っていれば &lt;eos&gt;</td>\n",
              "      <td>sos eos</td>\n",
              "    </tr>\n",
              "    <tr>\n",
              "      <th>854</th>\n",
              "      <td>&lt;sos&gt; 裁判まで家で休める &lt;eos&gt;</td>\n",
              "      <td>sos eos</td>\n",
              "    </tr>\n",
              "    <tr>\n",
              "      <th>50</th>\n",
              "      <td>&lt;sos&gt; つだけ 願い事 かなえてくれるんだ &lt;eos&gt;</td>\n",
              "      <td>sos eos</td>\n",
              "    </tr>\n",
              "    <tr>\n",
              "      <th>302</th>\n",
              "      <td>&lt;sos&gt; ロープを辿っていく みんな行ける &lt;eos&gt;</td>\n",
              "      <td>sos eos</td>\n",
              "    </tr>\n",
              "    <tr>\n",
              "      <th>350</th>\n",
              "      <td>&lt;sos&gt; 目をつぶって 私があげるものは &lt;eos&gt;</td>\n",
              "      <td>sos ああ eos</td>\n",
              "    </tr>\n",
              "    <tr>\n",
              "      <th>2658</th>\n",
              "      <td>&lt;sos&gt; 謝りに来たのに 喧嘩して &lt;eos&gt;</td>\n",
              "      <td>sos でも eos</td>\n",
              "    </tr>\n",
              "    <tr>\n",
              "      <th>2089</th>\n",
              "      <td>&lt;sos&gt; セレスティア校長に話してくるわ 今すぐにね &lt;eos&gt;</td>\n",
              "      <td>sos eos</td>\n",
              "    </tr>\n",
              "    <tr>\n",
              "      <th>1195</th>\n",
              "      <td>&lt;sos&gt; やっぱ 貯金とか してんのかな ?  &lt;eos&gt;</td>\n",
              "      <td>sos  eos</td>\n",
              "    </tr>\n",
              "    <tr>\n",
              "      <th>230</th>\n",
              "      <td>&lt;sos&gt; マッチみたいだけど たくさん集まると &lt;eos&gt;</td>\n",
              "      <td>sos eos</td>\n",
              "    </tr>\n",
              "    <tr>\n",
              "      <th>26</th>\n",
              "      <td>&lt;sos&gt; 巨匠に新しくしたらって 言ってるんだけど &lt;eos&gt;</td>\n",
              "      <td>sos eos</td>\n",
              "    </tr>\n",
              "    <tr>\n",
              "      <th>443</th>\n",
              "      <td>&lt;sos&gt; 下ろして &lt;eos&gt;</td>\n",
              "      <td>sos  eos</td>\n",
              "    </tr>\n",
              "    <tr>\n",
              "      <th>729</th>\n",
              "      <td>&lt;sos&gt; 夫は女房を怪しんで ある晩 女房の後をつけた &lt;eos&gt;</td>\n",
              "      <td>sos  eos</td>\n",
              "    </tr>\n",
              "    <tr>\n",
              "      <th>2827</th>\n",
              "      <td>&lt;sos&gt; ジョンロンソン 私の考える最善の策は &lt;eos&gt;</td>\n",
              "      <td>sos eos</td>\n",
              "    </tr>\n",
              "    <tr>\n",
              "      <th>56</th>\n",
              "      <td>&lt;sos&gt; 善良な人間だった &lt;eos&gt;</td>\n",
              "      <td>sos eos</td>\n",
              "    </tr>\n",
              "    <tr>\n",
              "      <th>2832</th>\n",
              "      <td>&lt;sos&gt; エイリアンも警察犬を ?  知らなかったわ &lt;eos&gt;</td>\n",
              "      <td>sos しかし eos</td>\n",
              "    </tr>\n",
              "    <tr>\n",
              "      <th>930</th>\n",
              "      <td>&lt;sos&gt; 銀行の上司にそのことを 報告したいと思って &lt;eos&gt;</td>\n",
              "      <td>sos eos</td>\n",
              "    </tr>\n",
              "    <tr>\n",
              "      <th>2374</th>\n",
              "      <td>&lt;sos&gt; ヶ月前に 死んだ &lt;eos&gt;</td>\n",
              "      <td>sos はい eos</td>\n",
              "    </tr>\n",
              "    <tr>\n",
              "      <th>1458</th>\n",
              "      <td>&lt;sos&gt; 土台となることです &lt;eos&gt;</td>\n",
              "      <td>sos eos</td>\n",
              "    </tr>\n",
              "    <tr>\n",
              "      <th>2589</th>\n",
              "      <td>&lt;sos&gt; 誇り無き民族と &lt;eos&gt;</td>\n",
              "      <td>sos  eos</td>\n",
              "    </tr>\n",
              "    <tr>\n",
              "      <th>2734</th>\n",
              "      <td>&lt;sos&gt; どこで計算に入れるんですか ?  &lt;eos&gt;</td>\n",
              "      <td>sos ああ eos</td>\n",
              "    </tr>\n",
              "  </tbody>\n",
              "</table>\n",
              "</div>"
            ],
            "text/plain": [
              "                                          actual              predicted\n",
              "2871               <sos> それで済ますわけには いかないな <eos>   sos でも eos         \n",
              "2195                   <sos> 手配 前科 前歴 該当なし <eos>    sos いや eos         \n",
              "1437           <sos> あの男が 日の光から逃げるために作った <eos>      sos eos          \n",
              "1285                           <sos> あの動きさ <eos>    sos ああ eos         \n",
              "2621             <sos> この雨の中 一晩中 墓地にいたい ?  <eos>      sos eos          \n",
              "1453                   <sos> そういう勤務記録を提出しろ <eos>   sos でも eos         \n",
              "1505                    <sos> しかし 経営者というのも <eos>    sos ああ eos         \n",
              "1019                <sos> 最新の予想を見ていたのですが <eos>      sos eos          \n",
              "2966                           <sos> 弱いんだ <eos>      sos eos          \n",
              "2395                     <sos> うん太っているエイミー <eos>    sos ああ eos         \n",
              "687                              <sos> あと回 <eos>    sos いや eos         \n",
              "132                      <sos> ナイジェル どけよ <eos>      sos eos          \n",
              "1922                   <sos> もっと簡素化してみましょう <eos>      sos eos          \n",
              "1076           <sos> 彼らに 事件現場を任せてもらえますか ?  <eos>      sos eos          \n",
              "1718              <sos> どうやって逃げだしたミラ ?  <eos>      sos  eos         \n",
              "2480               <sos> そう言われたんです お医者さんに <eos>    sos いや eos         \n",
              "1231         <sos> これは外交官によって長い間 知られてきたことを <eos>  sos なんだ eos         \n",
              "2337              <sos> 敵は人 まっすぐ森を抜ける気だな <eos>      sos eos          \n",
              "1261                        <sos> マリアかな ?  <eos>      sos eos          \n",
              "790                   <sos> それは 鑑識の仕事ですよね <eos>      sos eos          \n",
              "1972                     <sos> 肥料を取って来い ?  <eos>      sos eos          \n",
              "2824                     <sos> つ理解できない事が <eos>      sos  eos         \n",
              "74                      <sos> 冷静に聞いてくれよ !  <eos>      sos eos          \n",
              "2854                <sos> ヒートブラストサチュレーション <eos>      sos  eos         \n",
              "1976                   <sos> でも得られるものは色ある <eos>      sos eos          \n",
              "2971                    <sos> 今度はマコー買えよ !  <eos>    sos ああ eos         \n",
              "2815                     <sos> ダイナマイトナックル <eos>      sos  eos         \n",
              "1980             <sos> じゃあ 仕事終わったら 医局に来てよ <eos>      sos eos          \n",
              "1522                       <sos> 本来店就快要倒闭了 <eos>      sos  eos         \n",
              "356               <sos> ここにある こいつは ミイラ化してる <eos>    sos いや eos         \n",
              "2952  <sos> natoのような協定が 彼らの協定よりも力を持っていれば <eos>      sos eos          \n",
              "854                      <sos> 裁判まで家で休める <eos>      sos eos          \n",
              "50               <sos> つだけ 願い事 かなえてくれるんだ <eos>      sos eos          \n",
              "302                <sos> ロープを辿っていく みんな行ける <eos>      sos eos          \n",
              "350               <sos> 目をつぶって 私があげるものは <eos>    sos ああ eos         \n",
              "2658                    <sos> 謝りに来たのに 喧嘩して <eos>   sos でも eos         \n",
              "2089          <sos> セレスティア校長に話してくるわ 今すぐにね <eos>      sos eos          \n",
              "1195             <sos> やっぱ 貯金とか してんのかな ?  <eos>      sos  eos         \n",
              "230             <sos> マッチみたいだけど たくさん集まると <eos>      sos eos          \n",
              "26            <sos> 巨匠に新しくしたらって 言ってるんだけど <eos>      sos eos          \n",
              "443                             <sos> 下ろして <eos>      sos  eos         \n",
              "729          <sos> 夫は女房を怪しんで ある晩 女房の後をつけた <eos>      sos  eos         \n",
              "2827             <sos> ジョンロンソン 私の考える最善の策は <eos>      sos eos          \n",
              "56                         <sos> 善良な人間だった <eos>      sos eos          \n",
              "2832           <sos> エイリアンも警察犬を ?  知らなかったわ <eos>   sos しかし eos         \n",
              "930            <sos> 銀行の上司にそのことを 報告したいと思って <eos>      sos eos          \n",
              "2374                       <sos> ヶ月前に 死んだ <eos>    sos はい eos         \n",
              "1458                      <sos> 土台となることです <eos>      sos eos          \n",
              "2589                         <sos> 誇り無き民族と <eos>      sos  eos         \n",
              "2734             <sos> どこで計算に入れるんですか ?  <eos>    sos ああ eos         "
            ]
          },
          "metadata": {
            "tags": []
          },
          "execution_count": 202
        }
      ]
    },
    {
      "cell_type": "code",
      "metadata": {
        "colab_type": "code",
        "id": "i67_15zEhuOD",
        "outputId": "d1d25af2-889d-48b2-a4cd-38e4daa2d603",
        "colab": {
          "base_uri": "https://localhost:8080/",
          "height": 618
        }
      },
      "source": [
        "fig, ax = plt.subplots(nrows=2,ncols=2,figsize=(10,10))\n",
        "\n",
        "\n",
        "def plot_history_precision(history):\n",
        "    # Plot the loss\n",
        "    ax[0, 0].plot(history.history['precision'],label=\"precision for training\")\n",
        "    ax[0, 0].plot(history.history['val_precision'],label=\"precision for validation\")\n",
        "    ax[0, 0].set_title('model precision')\n",
        "    ax[0, 0].set_xlabel('epoch')\n",
        "    ax[0, 0].set_ylabel('precision')\n",
        "    ax[0, 0].legend(loc='upper right')\n",
        "\n",
        "\n",
        "def plot_history_recall(history):\n",
        "    # Plot the loss\n",
        "    ax[0, 1].plot(history.history['recall'],label=\"recall for training\")\n",
        "    ax[0, 1].plot(history.history['val_recall'],label=\"recall for validation\")\n",
        "    ax[0, 1].set_title('model recall')\n",
        "    ax[0, 1].set_xlabel('epoch')\n",
        "    ax[0, 1].set_ylabel('recall')\n",
        "    ax[0, 1].legend(loc='upper right')\n",
        "\n",
        "\n",
        "def plot_history_f1_score(history):\n",
        "    # Plot the loss\n",
        "    ax[1, 0].plot(history.history['f1_score'],label=\"f1_score for training\")\n",
        "    ax[1, 0].plot(history.history['val_f1_score'],label=\"f1_score for validation\")\n",
        "    ax[1, 0].set_title('model f1_score')\n",
        "    ax[1, 0].set_xlabel('epoch')\n",
        "    ax[1, 0].set_ylabel('f1_score')\n",
        "    ax[1, 0].legend(loc='upper right')\n",
        "\n",
        "ax[1,1].axis('off')\n",
        "\n",
        "plot_history_precision(history)\n",
        "plot_history_recall(history)\n",
        "plot_history_f1_score(history)\n",
        "\n",
        "plt.show()"
      ],
      "execution_count": 0,
      "outputs": [
        {
          "output_type": "display_data",
          "data": {
            "image/png": "[encoded data removed]",
            "text/plain": [
              "<Figure size 720x720 with 4 Axes>"
            ]
          },
          "metadata": {
            "tags": []
          }
        }
      ]
    }
  ]
}