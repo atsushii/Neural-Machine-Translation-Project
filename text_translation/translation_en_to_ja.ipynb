{
  "nbformat": 4,
  "nbformat_minor": 0,
  "metadata": {
    "accelerator": "GPU",
    "colab": {
      "name": "translation_en_to_ja.ipynb",
      "provenance": [],
      "collapsed_sections": [],
      "machine_shape": "hm"
    },
    "kernelspec": {
      "name": "python3",
      "display_name": "Python 3"
    },
    "language_info": {
      "codemirror_mode": {
        "name": "ipython",
        "version": 3
      },
      "file_extension": ".py",
      "mimetype": "text/x-python",
      "name": "python",
      "nbconvert_exporter": "python",
      "pygments_lexer": "ipython3",
      "version": "3.7.5"
    }
  },
  "cells": [
    {
      "cell_type": "code",
      "metadata": {
        "colab_type": "code",
        "id": "Zb93R3DCCXK0",
        "outputId": "d7c4d403-8713-4c5c-86b6-cfdae840760f",
        "colab": {
          "base_uri": "https://localhost:8080/",
          "height": 34
        }
      },
      "source": [
        "import tensorflow as tf\n",
        "import string\n",
        "import re\n",
        "from numpy import array, argmax, random, take\n",
        "import pandas as pd\n",
        "from keras.models import Sequential\n",
        "from keras.layers import Dense, LSTM, Embedding, RepeatVector, Dropout\n",
        "from keras.preprocessing.text import Tokenizer\n",
        "from keras.callbacks import ModelCheckpoint\n",
        "from keras.preprocessing.sequence import pad_sequences\n",
        "from keras.models import load_model\n",
        "from keras import optimizers\n",
        "import matplotlib.pyplot as plt\n",
        "import nltk\n",
        "import io\n",
        "from nltk.tokenize.toktok import ToktokTokenizer\n",
        "import unicodedata\n",
        "\n",
        "# plot japanese lang\n",
        "!pip install japanize-matplotlib\n",
        "import japanize_matplotlib\n",
        "\n",
        "# ignore warning\n",
        "import os\n",
        "os.environ['TF_CPP_MIN_LOG_LEVEL'] = '3'"
      ],
      "execution_count": 125,
      "outputs": [
        {
          "output_type": "stream",
          "text": [
            "Requirement already satisfied: japanize-matplotlib in /usr/local/lib/python3.6/dist-packages (1.0.5)\n"
          ],
          "name": "stdout"
        }
      ]
    },
    {
      "cell_type": "code",
      "metadata": {
        "id": "I0pBJimVLzNU",
        "colab_type": "code",
        "outputId": "ddd048d5-f676-4d76-dfb9-8f4463165d59",
        "colab": {
          "base_uri": "https://localhost:8080/",
          "height": 34
        }
      },
      "source": [
        "# mount google drive \n",
        "from google.colab import drive\n",
        "drive.mount('/content/drive')"
      ],
      "execution_count": 126,
      "outputs": [
        {
          "output_type": "stream",
          "text": [
            "Drive already mounted at /content/drive; to attempt to forcibly remount, call drive.mount(\"/content/drive\", force_remount=True).\n"
          ],
          "name": "stdout"
        }
      ]
    },
    {
      "cell_type": "code",
      "metadata": {
        "colab_type": "code",
        "id": "bmv0RqrACbd-",
        "colab": {}
      },
      "source": [
        "# create each languages list\n",
        "def create_lang_list(num_example):\n",
        "    # load txt file\n",
        "    lines =  io.open(\"/content/drive/My Drive/Colab Notebooks/raw.txt\", encoding='UTF-8').read().strip().split('\\n')\n",
        "\n",
        "    word_pairs = [[w for w in l.split('\\t')]  for l in lines[:num_example]]\n",
        "\n",
        "    return zip(*word_pairs)"
      ],
      "execution_count": 0,
      "outputs": []
    },
    {
      "cell_type": "code",
      "metadata": {
        "colab_type": "code",
        "id": "pf5s0qc9Dpa6",
        "colab": {}
      },
      "source": [
        "# e.g.\n",
        "english_text, japanese_text = create_lang_list(10000)"
      ],
      "execution_count": 0,
      "outputs": []
    },
    {
      "cell_type": "code",
      "metadata": {
        "colab_type": "code",
        "id": "Ttcy6dKhDrmB",
        "colab": {}
      },
      "source": [
        "# Removing accented characters\n",
        "def english_unicode_to_ascii(text):\n",
        "     return ''.join(ascii_text for ascii_text in unicodedata.normalize('NFKD', text).encode('ascii', 'ignore').decode('utf-8', 'ignore'))\n",
        "\n",
        "def japanese_unicode_to_ascii(text):\n",
        "    return ''.join(ascii_text for ascii_text in unicodedata.normalize('NFKD', text))"
      ],
      "execution_count": 0,
      "outputs": []
    },
    {
      "cell_type": "code",
      "metadata": {
        "colab_type": "code",
        "id": "OMHI0M1qPWqa",
        "colab": {
          "base_uri": "https://localhost:8080/",
          "height": 34
        },
        "outputId": "10ce371b-1b01-4c84-cea1-b38bf78ed028"
      },
      "source": [
        "# e.g.\n",
        "japanese_unicode_to_ascii(\"こんにちは。今日は\"), english_unicode_to_ascii(\"Hello world é \")"
      ],
      "execution_count": 130,
      "outputs": [
        {
          "output_type": "execute_result",
          "data": {
            "text/plain": [
              "('こんにちは。今日は', 'Hello world e ')"
            ]
          },
          "metadata": {
            "tags": []
          },
          "execution_count": 130
        }
      ]
    },
    {
      "cell_type": "code",
      "metadata": {
        "colab_type": "code",
        "id": "cUEU_GU1PYNq",
        "colab": {}
      },
      "source": [
        "def expand_constraction(text):\n",
        "\n",
        "    #  dic for expand constraction words\n",
        "    constraction_dict= {\n",
        "        \"ain't\": \"is not\",\n",
        "        \"aren't\": \"are not\",\n",
        "        \"can't\": \"cannot\",\n",
        "        \"can't've\": \"cannot have\",\n",
        "        \"'cause\": \"because\",\n",
        "        \"could've\": \"could have\",\n",
        "        \"couldn't\": \"could not\",\n",
        "        \"couldn't've\": \"could not have\",\n",
        "        \"didn't\": \"did not\",\n",
        "        \"doesn't\": \"does not\",\n",
        "        \"don't\": \"do not\",\n",
        "        \"hadn't\": \"had not\",\n",
        "        \"hadn't've\": \"had not have\",\n",
        "        \"hasn't\": \"has not\",\n",
        "        \"haven't\": \"have not\",\n",
        "        \"he'd\": \"he would\",\n",
        "        \"he'd've\": \"he would have\",\n",
        "        \"he'll\": \"he will\",\n",
        "        \"he'll've\": \"he he will have\",\n",
        "        \"he's\": \"he is\",\n",
        "        \"how'd\": \"how did\",\n",
        "        \"how'd'y\": \"how do you\",\n",
        "        \"how'll\": \"how will\",\n",
        "        \"how's\": \"how is\",\n",
        "        \"I'd\": \"I would\",\n",
        "        \"I'd've\": \"I would have\",\n",
        "        \"I'll\": \"I will\",\n",
        "        \"I'll've\": \"I will have\",\n",
        "        \"I'm\": \"I am\",\n",
        "        \"I've\": \"I have\",\n",
        "        \"i'd\": \"i would\",\n",
        "        \"i'd've\": \"i would have\",\n",
        "        \"i'll\": \"i will\",\n",
        "        \"i'll've\": \"i will have\",\n",
        "        \"i'm\": \"i am\",\n",
        "        \"i've\": \"i have\",\n",
        "        \"isn't\": \"is not\",\n",
        "        \"it'd\": \"it would\",\n",
        "        \"it'd've\": \"it would have\",\n",
        "        \"it'll\": \"it will\",\n",
        "        \"it'll've\": \"it will have\",\n",
        "        \"it's\": \"it is\",\n",
        "        \"let's\": \"let us\",\n",
        "        \"ma'am\": \"madam\",\n",
        "        \"mayn't\": \"may not\",\n",
        "        \"might've\": \"might have\",\n",
        "        \"mightn't\": \"might not\",\n",
        "        \"mightn't've\": \"might not have\",\n",
        "        \"must've\": \"must have\",\n",
        "        \"mustn't\": \"must not\",\n",
        "        \"mustn't've\": \"must not have\",\n",
        "        \"needn't\": \"need not\",\n",
        "        \"needn't've\": \"need not have\",\n",
        "        \"o'clock\": \"of the clock\",\n",
        "        \"oughtn't\": \"ought not\",\n",
        "        \"oughtn't've\": \"ought not have\",\n",
        "        \"shan't\": \"shall not\",\n",
        "        \"sha'n't\": \"shall not\",\n",
        "        \"shan't've\": \"shall not have\",\n",
        "        \"she'd\": \"she would\",\n",
        "        \"she'd've\": \"she would have\",\n",
        "        \"she'll\": \"she will\",\n",
        "        \"she'll've\": \"she will have\",\n",
        "        \"she's\": \"she is\",\n",
        "        \"should've\": \"should have\",\n",
        "        \"shouldn't\": \"should not\",\n",
        "        \"shouldn't've\": \"should not have\",\n",
        "        \"so've\": \"so have\",\n",
        "        \"so's\": \"so as\",\n",
        "        \"that'd\": \"that would\",\n",
        "        \"that'd've\": \"that would have\",\n",
        "        \"that's\": \"that is\",\n",
        "        \"there'd\": \"there would\",\n",
        "        \"there'd've\": \"there would have\",\n",
        "        \"there's\": \"there is\",\n",
        "        \"they'd\": \"they would\",\n",
        "        \"they'd've\": \"they would have\",\n",
        "        \"they'll\": \"they will\",\n",
        "        \"they'll've\": \"they will have\",\n",
        "        \"they're\": \"they are\",\n",
        "        \"they've\": \"they have\",\n",
        "        \"to've\": \"to have\",\n",
        "        \"wasn't\": \"was not\",\n",
        "        \"we'd\": \"we would\",\n",
        "        \"we'd've\": \"we would have\",\n",
        "        \"we'll\": \"we will\",\n",
        "        \"we'll've\": \"we will have\",\n",
        "        \"we're\": \"we are\",\n",
        "        \"we've\": \"we have\",\n",
        "        \"weren't\": \"were not\",\n",
        "        \"what'll\": \"what will\",\n",
        "        \"what'll've\": \"what will have\",\n",
        "        \"what're\": \"what are\",\n",
        "        \"what's\": \"what is\",\n",
        "        \"what've\": \"what have\",\n",
        "        \"when's\": \"when is\",\n",
        "        \"when've\": \"when have\",\n",
        "        \"where'd\": \"where did\",\n",
        "        \"where's\": \"where is\",\n",
        "        \"where've\": \"where have\",\n",
        "        \"who'll\": \"who will\",\n",
        "        \"who'll've\": \"who will have\",\n",
        "        \"who's\": \"who is\",\n",
        "        \"who've\": \"who have\",\n",
        "        \"why's\": \"why is\",\n",
        "        \"why've\": \"why have\",\n",
        "        \"will've\": \"will have\",\n",
        "        \"won't\": \"will not\",\n",
        "        \"won't've\": \"will not have\",\n",
        "        \"would've\": \"would have\",\n",
        "        \"wouldn't\": \"would not\",\n",
        "        \"wouldn't've\": \"would not have\",\n",
        "        \"y'all\": \"you all\",\n",
        "        \"y'all'd\": \"you all would\",\n",
        "        \"y'all'd've\": \"you all would have\",\n",
        "        \"y'all're\": \"you all are\",\n",
        "        \"y'all've\": \"you all have\",\n",
        "        \"you'd\": \"you would\",\n",
        "        \"you'd've\": \"you would have\",\n",
        "        \"you'll\": \"you will\",\n",
        "        \"you'll've\": \"you will have\",\n",
        "        \"you're\": \"you are\",\n",
        "        \"you've\": \"you have\"\n",
        "    }\n",
        "\n",
        "    #  define match pattern\n",
        "    #  IGNORECASE → no matter if word is lowercase or uppercase\n",
        "    #  DOTAIL → . is going to match \\n\n",
        "    contraction_pattern = re.compile('({})'.format('|'.join(constraction_dict.keys())),\n",
        "                                                  flags=re.IGNORECASE | re.DOTALL)\n",
        "    #  expand words\n",
        "    def expand_match(constraction):\n",
        "        # get constraction word\n",
        "        match = constraction.group(0)\n",
        "        first_char = match[0]\n",
        "        #  get expand word from constraction dict\n",
        "        expand_constraction = constraction_dict.get(match)\\\n",
        "                                                    if constraction_dict.get(match) \\\n",
        "                                                    else constraction_dict.get(match.lower())\n",
        "        \n",
        "        # create expand constraction\n",
        "        expand_constraction = first_char + expand_constraction[1:]\n",
        "        return expand_constraction\n",
        "    \n",
        "    expanded_text = contraction_pattern.sub(expand_match, text)\n",
        "    expanded_text = re.sub(\"'\", \"\", expanded_text)\n",
        "    return expanded_text"
      ],
      "execution_count": 0,
      "outputs": []
    },
    {
      "cell_type": "code",
      "metadata": {
        "colab_type": "code",
        "id": "3ikqxXGePadk",
        "outputId": "f57a5104-16b7-4cb8-e637-4d589786fc6d",
        "colab": {
          "base_uri": "https://localhost:8080/",
          "height": 34
        }
      },
      "source": [
        "# e.g.\n",
        "expand_constraction(\"you're good I'd like to go he's she's\")"
      ],
      "execution_count": 132,
      "outputs": [
        {
          "output_type": "execute_result",
          "data": {
            "text/plain": [
              "'you are good I would like to go he is she is'"
            ]
          },
          "metadata": {
            "tags": []
          },
          "execution_count": 132
        }
      ]
    },
    {
      "cell_type": "code",
      "metadata": {
        "id": "RBMqrm3o-sJt",
        "colab_type": "code",
        "colab": {}
      },
      "source": [
        "def replace_special_character_to_space(text):\n",
        "    pattern = r\"[^a-zA-Z\\u3041-\\u309F\\u30A1-\\u30FF\\uFF66-\\uFF9F\\u4E00-\\u9FD0\\u309B\\u3099\\uFF9E\\u309C\\u309A\\uFF9F?!\\-/\\s]+\"\n",
        "    text = re.sub(pattern, '', text).rstrip().strip()\n",
        "    text = text.replace(\"・\" , \"\")\n",
        "\n",
        "    text = re.sub(r\"([?!.,。、])\", r\" \\1 \", text)\n",
        "    text = text.lower()\n",
        "\n",
        "    return text"
      ],
      "execution_count": 0,
      "outputs": []
    },
    {
      "cell_type": "code",
      "metadata": {
        "colab_type": "code",
        "id": "oeOvXEYFQq_-",
        "colab": {
          "base_uri": "https://localhost:8080/",
          "height": 34
        },
        "outputId": "df1a63be-166f-4dce-92b0-23f42aa2a522"
      },
      "source": [
        "# e.g.\n",
        "replace_special_character_to_space(\"hello, . #@…123world.\"), replace_special_character_to_space(\"こん・にちは。・ いい天気。\")"
      ],
      "execution_count": 134,
      "outputs": [
        {
          "output_type": "execute_result",
          "data": {
            "text/plain": [
              "('hello  world', 'こんにちは いい天気')"
            ]
          },
          "metadata": {
            "tags": []
          },
          "execution_count": 134
        }
      ]
    },
    {
      "cell_type": "code",
      "metadata": {
        "id": "QrYiW2_Pl1lf",
        "colab_type": "code",
        "colab": {}
      },
      "source": [
        "def stemmer_word(text):\n",
        "    ps = nltk.stem.PorterStemmer()\n",
        "    text = ' '.join([ps.stem(word) for word in text.split()])\n",
        "    return text"
      ],
      "execution_count": 0,
      "outputs": []
    },
    {
      "cell_type": "code",
      "metadata": {
        "id": "n-iz13U2awVV",
        "colab_type": "code",
        "outputId": "ef67d06c-ce84-412c-9dc5-afa758498b96",
        "colab": {
          "base_uri": "https://localhost:8080/",
          "height": 34
        }
      },
      "source": [
        "# e.g.\n",
        "stemmer_word(\"hello world she has cat but he had dogs he is went to traveling\")"
      ],
      "execution_count": 136,
      "outputs": [
        {
          "output_type": "execute_result",
          "data": {
            "text/plain": [
              "'hello world she ha cat but he had dog he is went to travel'"
            ]
          },
          "metadata": {
            "tags": []
          },
          "execution_count": 136
        }
      ]
    },
    {
      "cell_type": "code",
      "metadata": {
        "colab_type": "code",
        "id": "sizAmLv2Pj-j",
        "colab": {}
      },
      "source": [
        "def normalize_english(english_text, japanese_text):\n",
        "    \n",
        "    input_value = ()\n",
        "    target_value = ()\n",
        "    \n",
        "    for en_text, ja_text in zip(english_text, japanese_text):\n",
        "        \n",
        "        # normalize English\n",
        "        en_text = english_unicode_to_ascii(en_text)\n",
        "        en_text = expand_constraction(en_text)\n",
        "        en_text = replace_special_character_to_space(en_text)\n",
        "\n",
        "        en_text = \"<sos> \" + en_text + \" <eos>\"\n",
        "        \n",
        "        input_value += (en_text, )\n",
        "\n",
        "        # normalize Japanese\n",
        "        ja_text = japanese_unicode_to_ascii(ja_text)\n",
        "        ja_text = expand_constraction(ja_text)\n",
        "        ja_text = replace_special_character_to_space(ja_text)\n",
        "\n",
        "        ja_text = \"<sos> \" + ja_text + \" <eos>\"\n",
        "        \n",
        "        target_value += (ja_text, )\n",
        "\n",
        "    return input_value, target_value"
      ],
      "execution_count": 0,
      "outputs": []
    },
    {
      "cell_type": "code",
      "metadata": {
        "colab_type": "code",
        "id": "1WLwCK4xVynu",
        "colab": {}
      },
      "source": [
        "input_value, target_value = normalize_english(english_text, japanese_text)"
      ],
      "execution_count": 0,
      "outputs": []
    },
    {
      "cell_type": "code",
      "metadata": {
        "colab_type": "code",
        "id": "ZEdYwmc3PoJT",
        "colab": {}
      },
      "source": [
        "# build a tokenizer\n",
        "def tokenization(lines):\n",
        "    tokenizer = Tokenizer()\n",
        "    tokenizer.fit_on_texts(lines)\n",
        "    return tokenizer"
      ],
      "execution_count": 0,
      "outputs": []
    },
    {
      "cell_type": "code",
      "metadata": {
        "colab_type": "code",
        "id": "2UVxaCNJU7Bm",
        "outputId": "058a1e9b-54ca-4f53-aa84-9003a68bb945",
        "colab": {
          "base_uri": "https://localhost:8080/",
          "height": 34
        }
      },
      "source": [
        "# prepare English tokenizer\n",
        "eng_tokenizer = tokenization(input_value)\n",
        "eng_vocab_size = len(eng_tokenizer.word_index) + 1\n",
        "\n",
        "# must all the sequences of the same length.\n",
        "eng_length = 42\n",
        "print('English Vocabulary Size: %d' % eng_vocab_size)"
      ],
      "execution_count": 142,
      "outputs": [
        {
          "output_type": "stream",
          "text": [
            "English Vocabulary Size: 8668\n"
          ],
          "name": "stdout"
        }
      ]
    },
    {
      "cell_type": "code",
      "metadata": {
        "colab_type": "code",
        "id": "jAkfW5TfWaca",
        "outputId": "328fbbc6-7409-44f8-f6ef-1f232a1bee8f",
        "colab": {
          "base_uri": "https://localhost:8080/",
          "height": 34
        }
      },
      "source": [
        "# prepare Japanese tokenizer\n",
        "ja_tokenizer = tokenization(target_value)\n",
        "ja_vocab_size = len(ja_tokenizer.word_index) + 1\n",
        "\n",
        "# must all the sequences of the same length.\n",
        "ja_length = 12\n",
        "print('Deutch Vocabulary Size: %d' % ja_vocab_size)"
      ],
      "execution_count": 143,
      "outputs": [
        {
          "output_type": "stream",
          "text": [
            "Deutch Vocabulary Size: 14899\n"
          ],
          "name": "stdout"
        }
      ]
    },
    {
      "cell_type": "code",
      "metadata": {
        "colab_type": "code",
        "id": "cw26UoZEWf6h",
        "colab": {}
      },
      "source": [
        "# encode and pad sequences\n",
        "def encode_sequences(tokenizer, length, lines):\n",
        "    # integer encode sequences\n",
        "    seq = tokenizer.texts_to_sequences(lines)\n",
        "    # pad sequences with 0 values\n",
        "    seq = pad_sequences(seq, maxlen=length, padding='post')\n",
        "    return seq"
      ],
      "execution_count": 0,
      "outputs": []
    },
    {
      "cell_type": "code",
      "metadata": {
        "colab_type": "code",
        "id": "ANKcc_U6WjmX",
        "colab": {}
      },
      "source": [
        "from sklearn.model_selection import train_test_split\n",
        "\n",
        "# split data into train and test set\n",
        "X_train, X_test,  y_train, y_test = train_test_split(input_value, target_value, test_size=0.3, random_state = 42)"
      ],
      "execution_count": 0,
      "outputs": []
    },
    {
      "cell_type": "code",
      "metadata": {
        "id": "ClRso5dOwFoW",
        "colab_type": "code",
        "outputId": "8fee005b-a0b8-4e38-8c1f-decb5fd90809",
        "colab": {
          "base_uri": "https://localhost:8080/",
          "height": 187
        }
      },
      "source": [
        "X_test[:10]"
      ],
      "execution_count": 146,
      "outputs": [
        {
          "output_type": "execute_result",
          "data": {
            "text/plain": [
              "['<sos> do not let it open !  close it !  they will get in <eos>',\n",
              " '<sos> he passed me a copy of the incident report <eos>',\n",
              " '<sos> to ruin my own wedding ?  <eos>',\n",
              " '<sos> i have been on the road for a couple of months <eos>',\n",
              " '<sos> it is here <eos>',\n",
              " '<sos> i know you dont drive <eos>',\n",
              " '<sos> a cat ?  <eos>',\n",
              " '<sos> good but if i find out he is been playing you doctor <eos>',\n",
              " '<sos> yup that is it <eos>',\n",
              " '<sos> what are you doing ?  <eos>']"
            ]
          },
          "metadata": {
            "tags": []
          },
          "execution_count": 146
        }
      ]
    },
    {
      "cell_type": "code",
      "metadata": {
        "colab_type": "code",
        "id": "UIpLRoOLWlKr",
        "colab": {}
      },
      "source": [
        "# prepare training data\n",
        "X_train = encode_sequences(eng_tokenizer, eng_length, X_train)\n",
        "Y_train = encode_sequences(ja_tokenizer, ja_length, y_train)\n",
        "\n",
        "# prepare validation data\n",
        "X_test = encode_sequences(eng_tokenizer, eng_length, X_test)\n",
        "Y_test = encode_sequences(ja_tokenizer, ja_length, y_test)\n"
      ],
      "execution_count": 0,
      "outputs": []
    },
    {
      "cell_type": "code",
      "metadata": {
        "colab_type": "code",
        "outputId": "5005ca28-4913-4072-d0b1-7d1edd8431c6",
        "id": "KKZ8k4bnpSIc",
        "colab": {
          "base_uri": "https://localhost:8080/",
          "height": 136
        }
      },
      "source": [
        "X_train"
      ],
      "execution_count": 0,
      "outputs": [
        {
          "output_type": "execute_result",
          "data": {
            "text/plain": [
              "array([[ 1, 57,  6, ...,  0,  0,  0],\n",
              "       [ 1, 30,  6, ...,  0,  0,  0],\n",
              "       [ 1, 84, 85, ...,  0,  0,  0],\n",
              "       ...,\n",
              "       [ 1, 54, 55, ...,  0,  0,  0],\n",
              "       [ 1, 68,  2, ...,  0,  0,  0],\n",
              "       [ 1, 38, 12, ...,  0,  0,  0]], dtype=int32)"
            ]
          },
          "metadata": {
            "tags": []
          },
          "execution_count": 39
        }
      ]
    },
    {
      "cell_type": "code",
      "metadata": {
        "colab_type": "code",
        "id": "Ma59RoqRWnMy",
        "colab": {}
      },
      "source": [
        "# build NMT model\n",
        "def define_model(in_vocab,out_vocab, in_timesteps,out_timesteps,units):\n",
        "    model = Sequential()\n",
        "    model.add(Embedding(in_vocab, units, input_length=in_timesteps, mask_zero=True))\n",
        "    model.add(LSTM(units))\n",
        "    Dropout(rate=0.6)\n",
        "    model.add(RepeatVector(out_timesteps))\n",
        "    Dropout(rate=0.6)\n",
        "    model.add(LSTM(units, return_sequences=True))\n",
        "    model.add(Dense(out_vocab, activation='softmax'))\n",
        "    return model"
      ],
      "execution_count": 0,
      "outputs": []
    },
    {
      "cell_type": "code",
      "metadata": {
        "colab_type": "code",
        "id": "Ti0TrucnWqzr",
        "colab": {}
      },
      "source": [
        "# model compilation\n",
        "model = define_model(eng_vocab_size, ja_vocab_size, eng_length, ja_length, 512)"
      ],
      "execution_count": 0,
      "outputs": []
    },
    {
      "cell_type": "code",
      "metadata": {
        "colab_type": "code",
        "id": "aYQVg6NRWsuN",
        "colab": {}
      },
      "source": [
        "# optimize loss function\n",
        "rms = optimizers.RMSprop()\n",
        "import keras.backend as K\n",
        "\n",
        "#precision\n",
        "def precision(y_true, y_pred):\n",
        "    true_positives = K.sum(K.cast(K.greater(K.clip(y_true * y_pred, 0, 1), 0.20), 'float32'))\n",
        "    pred_positives = K.sum(K.cast(K.greater(K.clip(y_pred, 0, 1), 0.20), 'float32'))\n",
        "\n",
        "    precision_v = true_positives / (pred_positives + K.epsilon())\n",
        "    return precision_v\n",
        "\n",
        "#recall\n",
        "def recall(y_true, y_pred):\n",
        "    true_positives = K.sum(K.cast(K.greater(K.clip(y_true * y_pred, 0, 1), 0.20), 'float32'))\n",
        "    poss_positives = K.sum(K.cast(K.greater(K.clip(y_true, 0, 1), 0.20), 'float32'))\n",
        "\n",
        "    recall_v = true_positives / (poss_positives + K.epsilon())\n",
        "    return recall_v\n",
        "\n",
        "#f1 score\n",
        "def f1_score(y_true, y_pred):\n",
        "    precision_v = precision(y_true, y_pred)\n",
        "    recall_v = recall(y_true, y_pred)\n",
        "    f1_score_v = 2 * precision_v * recall_v / (precision_v + recall_v)\n",
        "\n",
        "    return f1_score_v\n",
        "\n",
        "model.compile(optimizer=rms, loss='sparse_categorical_crossentropy', metrics=['accuracy', precision, recall, f1_score])"
      ],
      "execution_count": 0,
      "outputs": []
    },
    {
      "cell_type": "code",
      "metadata": {
        "colab_type": "code",
        "id": "dhAUdzArWvju",
        "outputId": "5f1b644a-3d1c-4f40-a0cf-d02a305ae0f9",
        "colab": {
          "base_uri": "https://localhost:8080/",
          "height": 734
        }
      },
      "source": [
        "# checkpoint\n",
        "filename = 'model.h1.22_Nov_19'\n",
        "checkpoint = ModelCheckpoint(filename, monitor='val_loss', verbose=1, save_best_only=True, mode='min')\n",
        "\n",
        "# train model\n",
        "history = model.fit(X_train, Y_train.reshape(Y_train.shape[0], Y_train.shape[1], 1),\n",
        "                    epochs=10, batch_size=128, validation_split = 0.2, callbacks=[checkpoint],                    \n",
        "                    verbose=1)"
      ],
      "execution_count": 176,
      "outputs": [
        {
          "output_type": "stream",
          "text": [
            "Train on 5600 samples, validate on 1400 samples\n",
            "Epoch 1/10\n",
            "5600/5600 [==============================] - 12s 2ms/step - loss: 2.5488 - acc: 0.7465 - precision: 1529485693562.6897 - recall: 1590.2651 - f1_score: 1275.9183 - val_loss: 1.8247 - val_acc: 0.8153 - val_precision: 694.1843 - val_recall: 2253.4396 - val_f1_score: 1061.2496\n",
            "\n",
            "Epoch 00001: val_loss improved from inf to 1.82473, saving model to model.h1.22_Nov_19\n",
            "Epoch 2/10\n",
            "5600/5600 [==============================] - 8s 1ms/step - loss: 1.6209 - acc: 0.8101 - precision: 693.6872 - recall: 2266.1422 - f1_score: 1061.9282 - val_loss: 1.9781 - val_acc: 0.8041 - val_precision: 708.7828 - val_recall: 2485.5837 - val_f1_score: 1102.8817\n",
            "\n",
            "Epoch 00002: val_loss did not improve from 1.82473\n",
            "Epoch 3/10\n",
            "5600/5600 [==============================] - 8s 1ms/step - loss: 1.5699 - acc: 0.8106 - precision: 734.2191 - recall: 2358.8545 - f1_score: 1118.7386 - val_loss: 1.9770 - val_acc: 0.8212 - val_precision: 746.7510 - val_recall: 2421.7074 - val_f1_score: 1141.3527\n",
            "\n",
            "Epoch 00003: val_loss did not improve from 1.82473\n",
            "Epoch 4/10\n",
            "5600/5600 [==============================] - 8s 1ms/step - loss: 1.4885 - acc: 0.8147 - precision: 719.3626 - recall: 2325.1923 - f1_score: 1098.6439 - val_loss: 1.9415 - val_acc: 0.8204 - val_precision: 714.4816 - val_recall: 2313.7418 - val_f1_score: 1091.6619\n",
            "\n",
            "Epoch 00004: val_loss did not improve from 1.82473\n",
            "Epoch 5/10\n",
            "5600/5600 [==============================] - 8s 1ms/step - loss: 1.4477 - acc: 0.8155 - precision: 681.4784 - recall: 2212.5464 - f1_score: 1041.8843 - val_loss: 1.9587 - val_acc: 0.8107 - val_precision: 663.5827 - val_recall: 2203.9851 - val_f1_score: 1019.9063\n",
            "\n",
            "Epoch 00005: val_loss did not improve from 1.82473\n",
            "Epoch 6/10\n",
            "5600/5600 [==============================] - 8s 1ms/step - loss: 1.4008 - acc: 0.8188 - precision: 639.0087 - recall: 2059.3265 - f1_score: 975.2560 - val_loss: 2.0717 - val_acc: 0.8165 - val_precision: 527.0720 - val_recall: 1618.6242 - val_f1_score: 795.0839\n",
            "\n",
            "Epoch 00006: val_loss did not improve from 1.82473\n",
            "Epoch 7/10\n",
            "5600/5600 [==============================] - 8s 1ms/step - loss: 1.3528 - acc: 0.8199 - precision: 580.1498 - recall: 1857.6993 - f1_score: 884.0748 - val_loss: 1.9255 - val_acc: 0.8223 - val_precision: 530.0307 - val_recall: 1673.6320 - val_f1_score: 804.9814\n",
            "\n",
            "Epoch 00007: val_loss did not improve from 1.82473\n",
            "Epoch 8/10\n",
            "5600/5600 [==============================] - 8s 1ms/step - loss: 1.3027 - acc: 0.8227 - precision: 517.8109 - recall: 1643.5175 - f1_score: 787.4059 - val_loss: 1.9618 - val_acc: 0.8195 - val_precision: 462.4320 - val_recall: 1445.9492 - val_f1_score: 700.6682\n",
            "\n",
            "Epoch 00008: val_loss did not improve from 1.82473\n",
            "Epoch 9/10\n",
            "5600/5600 [==============================] - 8s 1ms/step - loss: 1.2533 - acc: 0.8247 - precision: 459.6587 - recall: 1444.7355 - f1_score: 697.3428 - val_loss: 1.9293 - val_acc: 0.8192 - val_precision: 431.5956 - val_recall: 1353.5172 - val_f1_score: 654.3925\n",
            "\n",
            "Epoch 00009: val_loss did not improve from 1.82473\n",
            "Epoch 10/10\n",
            "5600/5600 [==============================] - 8s 1ms/step - loss: 1.2027 - acc: 0.8270 - precision: 407.2502 - recall: 1268.2866 - f1_score: 616.4589 - val_loss: 1.9578 - val_acc: 0.8207 - val_precision: 375.8991 - val_recall: 1164.8450 - val_f1_score: 568.3023\n",
            "\n",
            "Epoch 00010: val_loss did not improve from 1.82473\n"
          ],
          "name": "stdout"
        }
      ]
    },
    {
      "cell_type": "code",
      "metadata": {
        "id": "Pce1wkdUHm7N",
        "colab_type": "code",
        "outputId": "7886fc9f-9c6d-4d92-845a-baefd22d3306",
        "colab": {
          "base_uri": "https://localhost:8080/",
          "height": 644
        }
      },
      "source": [
        "from keras.utils import plot_model\n",
        "\n",
        "# model plot\n",
        "plot_model(model, to_file='train-bert.png', show_shapes=True)"
      ],
      "execution_count": 177,
      "outputs": [
        {
          "output_type": "execute_result",
          "data": {
            "image/png": "[encoded data removed]",
            "text/plain": [
              "<IPython.core.display.Image object>"
            ]
          },
          "metadata": {
            "tags": []
          },
          "execution_count": 177
        }
      ]
    },
    {
      "cell_type": "code",
      "metadata": {
        "colab_type": "code",
        "id": "3Vm5oB5JW2NA",
        "outputId": "2d0e64e9-282d-4a2c-c8a5-735318f7348d",
        "colab": {
          "base_uri": "https://localhost:8080/",
          "height": 309
        }
      },
      "source": [
        "fig, (ax1, ax2) = plt.subplots(ncols=2, figsize=(10,4))\n",
        "print(history.history.keys())\n",
        "def plot_history_acc(history):\n",
        "    # plot the accuracy\n",
        "    ax1.plot(history.history['acc'],label=\"accuracy for training\")\n",
        "    ax1.plot(history.history['val_acc'],label=\"accuracy for validation\")\n",
        "    ax1.set_title('model accuracy')\n",
        "    ax1.set_xlabel('epoch')\n",
        "    ax1.set_ylabel('accuracy')\n",
        "    ax1.legend(loc='upper right')\n",
        "\n",
        "def plot_history_loss(history):\n",
        "    # Plot the loss\n",
        "    ax2.plot(history.history['loss'],label=\"loss for training\")\n",
        "    ax2.plot(history.history['val_loss'],label=\"loss for validation\")\n",
        "    ax2.set_title('model loss')\n",
        "    ax2.set_xlabel('epoch')\n",
        "    ax2.set_ylabel('loss')\n",
        "    ax2.legend(loc='upper right')\n",
        "\n",
        "\n",
        "\n",
        "plot_history_loss(history)\n",
        "plot_history_acc(history)\n",
        "plt.show()"
      ],
      "execution_count": 213,
      "outputs": [
        {
          "output_type": "stream",
          "text": [
            "dict_keys(['val_loss', 'val_acc', 'val_precision', 'val_recall', 'val_f1_score', 'loss', 'acc', 'precision', 'recall', 'f1_score'])\n"
          ],
          "name": "stdout"
        },
        {
          "output_type": "display_data",
          "data": {
            "image/png": "[encoded data removed]",
            "text/plain": [
              "<Figure size 720x288 with 2 Axes>"
            ]
          },
          "metadata": {
            "tags": []
          }
        }
      ]
    },
    {
      "cell_type": "code",
      "metadata": {
        "colab_type": "code",
        "id": "x3S1NMKGY5Tm",
        "colab": {}
      },
      "source": [
        "# load model data \n",
        "# model = load_model('model.h1.22_Nov_19')\n",
        "\n",
        "# predict\n",
        "preds = model.predict_classes(X_test)"
      ],
      "execution_count": 0,
      "outputs": []
    },
    {
      "cell_type": "code",
      "metadata": {
        "id": "WfidRuLJ0trr",
        "colab_type": "code",
        "outputId": "5ab4c9f7-d72a-460a-a3dd-e4e3026756a1",
        "colab": {
          "base_uri": "https://localhost:8080/",
          "height": 136
        }
      },
      "source": [
        "X_test.reshape((X_test.shape[0],X_test.shape[1]))"
      ],
      "execution_count": 181,
      "outputs": [
        {
          "output_type": "execute_result",
          "data": {
            "text/plain": [
              "array([[   1,   17,   12, ...,    0,    0,    0],\n",
              "       [   1,   25,  773, ...,    0,    0,    0],\n",
              "       [   1,    7, 2527, ...,    0,    0,    0],\n",
              "       ...,\n",
              "       [   1,   31,   41, ...,    0,    0,    0],\n",
              "       [   1,   11,   16, ...,    0,    0,    0],\n",
              "       [   1,   33,  259, ...,    0,    0,    0]], dtype=int32)"
            ]
          },
          "metadata": {
            "tags": []
          },
          "execution_count": 181
        }
      ]
    },
    {
      "cell_type": "code",
      "metadata": {
        "id": "ZsP9ZAY0HITa",
        "colab_type": "code",
        "outputId": "eb92caf8-5190-4480-a9f7-9eaabde56f66",
        "colab": {
          "base_uri": "https://localhost:8080/",
          "height": 34
        }
      },
      "source": [
        "Y_test.shape"
      ],
      "execution_count": 182,
      "outputs": [
        {
          "output_type": "execute_result",
          "data": {
            "text/plain": [
              "(3000, 12)"
            ]
          },
          "metadata": {
            "tags": []
          },
          "execution_count": 182
        }
      ]
    },
    {
      "cell_type": "code",
      "metadata": {
        "id": "eM9TKTYB01PY",
        "colab_type": "code",
        "outputId": "038e3001-0c24-4202-8d2d-4b80e39b59cf",
        "colab": {
          "base_uri": "https://localhost:8080/",
          "height": 34
        }
      },
      "source": [
        "preds.shape"
      ],
      "execution_count": 183,
      "outputs": [
        {
          "output_type": "execute_result",
          "data": {
            "text/plain": [
              "(3000, 12)"
            ]
          },
          "metadata": {
            "tags": []
          },
          "execution_count": 183
        }
      ]
    },
    {
      "cell_type": "code",
      "metadata": {
        "id": "v5VHrdPAHNHk",
        "colab_type": "code",
        "colab": {}
      },
      "source": [
        ""
      ],
      "execution_count": 0,
      "outputs": []
    },
    {
      "cell_type": "code",
      "metadata": {
        "colab_type": "code",
        "id": "fSnPPvraY_uW",
        "colab": {}
      },
      "source": [
        "def get_word(n, tokenizer):\n",
        "    for word, index in tokenizer.word_index.items():\n",
        "        if index == n:\n",
        "            return word\n",
        "    return None"
      ],
      "execution_count": 0,
      "outputs": []
    },
    {
      "cell_type": "code",
      "metadata": {
        "colab_type": "code",
        "id": "OchHfcobZKbY",
        "colab": {}
      },
      "source": [
        "preds_text = []\n",
        "for i in preds:\n",
        "    temp = []\n",
        "    for j in range(len(i)):\n",
        "        t = get_word(i[j], ja_tokenizer)\n",
        "\n",
        "        if j > 0:\n",
        "            if (t == get_word(i[j-1], ja_tokenizer)) or (t == None):\n",
        "                temp.append('')\n",
        "            else:\n",
        "                temp.append(t)\n",
        "        else:\n",
        "            if(t == None):\n",
        "                temp.append('')\n",
        "            else:\n",
        "                temp.append(t) \n",
        "\n",
        "    preds_text.append(' '.join(temp))"
      ],
      "execution_count": 0,
      "outputs": []
    },
    {
      "cell_type": "code",
      "metadata": {
        "colab_type": "code",
        "id": "Q01F6aF4ZMB_",
        "colab": {}
      },
      "source": [
        "# view actual sentence anf predict result\n",
        "pred_df = pd.DataFrame({'actual' : y_test, 'predicted' : preds_text})"
      ],
      "execution_count": 0,
      "outputs": []
    },
    {
      "cell_type": "code",
      "metadata": {
        "colab_type": "code",
        "id": "tyF2rYenhsDJ",
        "outputId": "ab2a09ac-ec00-45a9-a3da-33941d090304",
        "colab": {
          "base_uri": "https://localhost:8080/",
          "height": 1000
        }
      },
      "source": [
        "pred_df.sample(50)"
      ],
      "execution_count": 202,
      "outputs": [
        {
          "output_type": "execute_result",
          "data": {
            "text/html": [
              "<div>\n",
              "<style scoped>\n",
              "    .dataframe tbody tr th:only-of-type {\n",
              "        vertical-align: middle;\n",
              "    }\n",
              "\n",
              "    .dataframe tbody tr th {\n",
              "        vertical-align: top;\n",
              "    }\n",
              "\n",
              "    .dataframe thead th {\n",
              "        text-align: right;\n",
              "    }\n",
              "</style>\n",
              "<table border=\"1\" class=\"dataframe\">\n",
              "  <thead>\n",
              "    <tr style=\"text-align: right;\">\n",
              "      <th></th>\n",
              "      <th>actual</th>\n",
              "      <th>predicted</th>\n",
              "    </tr>\n",
              "  </thead>\n",
              "  <tbody>\n",
              "    <tr>\n",
              "      <th>2871</th>\n",
              "      <td>&lt;sos&gt; それで済ますわけには いかないな &lt;eos&gt;</td>\n",
              "      <td>sos でも eos</td>\n",
              "    </tr>\n",
              "    <tr>\n",
              "      <th>2195</th>\n",
              "      <td>&lt;sos&gt; 手配 前科 前歴 該当なし &lt;eos&gt;</td>\n",
              "      <td>sos いや eos</td>\n",
              "    </tr>\n",
              "    <tr>\n",
              "      <th>1437</th>\n",
              "      <td>&lt;sos&gt; あの男が 日の光から逃げるために作った &lt;eos&gt;</td>\n",
              "      <td>sos eos</td>\n",
              "    </tr>\n",
              "    <tr>\n",
              "      <th>1285</th>\n",
              "      <td>&lt;sos&gt; あの動きさ &lt;eos&gt;</td>\n",
              "      <td>sos ああ eos</td>\n",
              "    </tr>\n",
              "    <tr>\n",
              "      <th>2621</th>\n",
              "      <td>&lt;sos&gt; この雨の中 一晩中 墓地にいたい ?  &lt;eos&gt;</td>\n",
              "      <td>sos eos</td>\n",
              "    </tr>\n",
              "    <tr>\n",
              "      <th>1453</th>\n",
              "      <td>&lt;sos&gt; そういう勤務記録を提出しろ &lt;eos&gt;</td>\n",
              "      <td>sos でも eos</td>\n",
              "    </tr>\n",
              "    <tr>\n",
              "      <th>1505</th>\n",
              "      <td>&lt;sos&gt; しかし 経営者というのも &lt;eos&gt;</td>\n",
              "      <td>sos ああ eos</td>\n",
              "    </tr>\n",
              "    <tr>\n",
              "      <th>1019</th>\n",
              "      <td>&lt;sos&gt; 最新の予想を見ていたのですが &lt;eos&gt;</td>\n",
              "      <td>sos eos</td>\n",
              "    </tr>\n",
              "    <tr>\n",
              "      <th>2966</th>\n",
              "      <td>&lt;sos&gt; 弱いんだ &lt;eos&gt;</td>\n",
              "      <td>sos eos</td>\n",
              "    </tr>\n",
              "    <tr>\n",
              "      <th>2395</th>\n",
              "      <td>&lt;sos&gt; うん太っているエイミー &lt;eos&gt;</td>\n",
              "      <td>sos ああ eos</td>\n",
              "    </tr>\n",
              "    <tr>\n",
              "      <th>687</th>\n",
              "      <td>&lt;sos&gt; あと回 &lt;eos&gt;</td>\n",
              "      <td>sos いや eos</td>\n",
              "    </tr>\n",
              "    <tr>\n",
              "      <th>132</th>\n",
              "      <td>&lt;sos&gt; ナイジェル どけよ &lt;eos&gt;</td>\n",
              "      <td>sos eos</td>\n",
              "    </tr>\n",
              "    <tr>\n",
              "      <th>1922</th>\n",
              "      <td>&lt;sos&gt; もっと簡素化してみましょう &lt;eos&gt;</td>\n",
              "      <td>sos eos</td>\n",
              "    </tr>\n",
              "    <tr>\n",
              "      <th>1076</th>\n",
              "      <td>&lt;sos&gt; 彼らに 事件現場を任せてもらえますか ?  &lt;eos&gt;</td>\n",
              "      <td>sos eos</td>\n",
              "    </tr>\n",
              "    <tr>\n",
              "      <th>1718</th>\n",
              "      <td>&lt;sos&gt; どうやって逃げだしたミラ ?  &lt;eos&gt;</td>\n",
              "      <td>sos  eos</td>\n",
              "    </tr>\n",
              "    <tr>\n",
              "      <th>2480</th>\n",
              "      <td>&lt;sos&gt; そう言われたんです お医者さんに &lt;eos&gt;</td>\n",
              "      <td>sos いや eos</td>\n",
              "    </tr>\n",
              "    <tr>\n",
              "      <th>1231</th>\n",
              "      <td>&lt;sos&gt; これは外交官によって長い間 知られてきたことを &lt;eos&gt;</td>\n",
              "      <td>sos なんだ eos</td>\n",
              "    </tr>\n",
              "    <tr>\n",
              "      <th>2337</th>\n",
              "      <td>&lt;sos&gt; 敵は人 まっすぐ森を抜ける気だな &lt;eos&gt;</td>\n",
              "      <td>sos eos</td>\n",
              "    </tr>\n",
              "    <tr>\n",
              "      <th>1261</th>\n",
              "      <td>&lt;sos&gt; マリアかな ?  &lt;eos&gt;</td>\n",
              "      <td>sos eos</td>\n",
              "    </tr>\n",
              "    <tr>\n",
              "      <th>790</th>\n",
              "      <td>&lt;sos&gt; それは 鑑識の仕事ですよね &lt;eos&gt;</td>\n",
              "      <td>sos eos</td>\n",
              "    </tr>\n",
              "    <tr>\n",
              "      <th>1972</th>\n",
              "      <td>&lt;sos&gt; 肥料を取って来い ?  &lt;eos&gt;</td>\n",
              "      <td>sos eos</td>\n",
              "    </tr>\n",
              "    <tr>\n",
              "      <th>2824</th>\n",
              "      <td>&lt;sos&gt; つ理解できない事が &lt;eos&gt;</td>\n",
              "      <td>sos  eos</td>\n",
              "    </tr>\n",
              "    <tr>\n",
              "      <th>74</th>\n",
              "      <td>&lt;sos&gt; 冷静に聞いてくれよ !  &lt;eos&gt;</td>\n",
              "      <td>sos eos</td>\n",
              "    </tr>\n",
              "    <tr>\n",
              "      <th>2854</th>\n",
              "      <td>&lt;sos&gt; ヒートブラストサチュレーション &lt;eos&gt;</td>\n",
              "      <td>sos  eos</td>\n",
              "    </tr>\n",
              "    <tr>\n",
              "      <th>1976</th>\n",
              "      <td>&lt;sos&gt; でも得られるものは色ある &lt;eos&gt;</td>\n",
              "      <td>sos eos</td>\n",
              "    </tr>\n",
              "    <tr>\n",
              "      <th>2971</th>\n",
              "      <td>&lt;sos&gt; 今度はマコー買えよ !  &lt;eos&gt;</td>\n",
              "      <td>sos ああ eos</td>\n",
              "    </tr>\n",
              "    <tr>\n",
              "      <th>2815</th>\n",
              "      <td>&lt;sos&gt; ダイナマイトナックル &lt;eos&gt;</td>\n",
              "      <td>sos  eos</td>\n",
              "    </tr>\n",
              "    <tr>\n",
              "      <th>1980</th>\n",
              "      <td>&lt;sos&gt; じゃあ 仕事終わったら 医局に来てよ &lt;eos&gt;</td>\n",
              "      <td>sos eos</td>\n",
              "    </tr>\n",
              "    <tr>\n",
              "      <th>1522</th>\n",
              "      <td>&lt;sos&gt; 本来店就快要倒闭了 &lt;eos&gt;</td>\n",
              "      <td>sos  eos</td>\n",
              "    </tr>\n",
              "    <tr>\n",
              "      <th>356</th>\n",
              "      <td>&lt;sos&gt; ここにある こいつは ミイラ化してる &lt;eos&gt;</td>\n",
              "      <td>sos いや eos</td>\n",
              "    </tr>\n",
              "    <tr>\n",
              "      <th>2952</th>\n",
              "      <td>&lt;sos&gt; natoのような協定が 彼らの協定よりも力を持っていれば &lt;eos&gt;</td>\n",
              "      <td>sos eos</td>\n",
              "    </tr>\n",
              "    <tr>\n",
              "      <th>854</th>\n",
              "      <td>&lt;sos&gt; 裁判まで家で休める &lt;eos&gt;</td>\n",
              "      <td>sos eos</td>\n",
              "    </tr>\n",
              "    <tr>\n",
              "      <th>50</th>\n",
              "      <td>&lt;sos&gt; つだけ 願い事 かなえてくれるんだ &lt;eos&gt;</td>\n",
              "      <td>sos eos</td>\n",
              "    </tr>\n",
              "    <tr>\n",
              "      <th>302</th>\n",
              "      <td>&lt;sos&gt; ロープを辿っていく みんな行ける &lt;eos&gt;</td>\n",
              "      <td>sos eos</td>\n",
              "    </tr>\n",
              "    <tr>\n",
              "      <th>350</th>\n",
              "      <td>&lt;sos&gt; 目をつぶって 私があげるものは &lt;eos&gt;</td>\n",
              "      <td>sos ああ eos</td>\n",
              "    </tr>\n",
              "    <tr>\n",
              "      <th>2658</th>\n",
              "      <td>&lt;sos&gt; 謝りに来たのに 喧嘩して &lt;eos&gt;</td>\n",
              "      <td>sos でも eos</td>\n",
              "    </tr>\n",
              "    <tr>\n",
              "      <th>2089</th>\n",
              "      <td>&lt;sos&gt; セレスティア校長に話してくるわ 今すぐにね &lt;eos&gt;</td>\n",
              "      <td>sos eos</td>\n",
              "    </tr>\n",
              "    <tr>\n",
              "      <th>1195</th>\n",
              "      <td>&lt;sos&gt; やっぱ 貯金とか してんのかな ?  &lt;eos&gt;</td>\n",
              "      <td>sos  eos</td>\n",
              "    </tr>\n",
              "    <tr>\n",
              "      <th>230</th>\n",
              "      <td>&lt;sos&gt; マッチみたいだけど たくさん集まると &lt;eos&gt;</td>\n",
              "      <td>sos eos</td>\n",
              "    </tr>\n",
              "    <tr>\n",
              "      <th>26</th>\n",
              "      <td>&lt;sos&gt; 巨匠に新しくしたらって 言ってるんだけど &lt;eos&gt;</td>\n",
              "      <td>sos eos</td>\n",
              "    </tr>\n",
              "    <tr>\n",
              "      <th>443</th>\n",
              "      <td>&lt;sos&gt; 下ろして &lt;eos&gt;</td>\n",
              "      <td>sos  eos</td>\n",
              "    </tr>\n",
              "    <tr>\n",
              "      <th>729</th>\n",
              "      <td>&lt;sos&gt; 夫は女房を怪しんで ある晩 女房の後をつけた &lt;eos&gt;</td>\n",
              "      <td>sos  eos</td>\n",
              "    </tr>\n",
              "    <tr>\n",
              "      <th>2827</th>\n",
              "      <td>&lt;sos&gt; ジョンロンソン 私の考える最善の策は &lt;eos&gt;</td>\n",
              "      <td>sos eos</td>\n",
              "    </tr>\n",
              "    <tr>\n",
              "      <th>56</th>\n",
              "      <td>&lt;sos&gt; 善良な人間だった &lt;eos&gt;</td>\n",
              "      <td>sos eos</td>\n",
              "    </tr>\n",
              "    <tr>\n",
              "      <th>2832</th>\n",
              "      <td>&lt;sos&gt; エイリアンも警察犬を ?  知らなかったわ &lt;eos&gt;</td>\n",
              "      <td>sos しかし eos</td>\n",
              "    </tr>\n",
              "    <tr>\n",
              "      <th>930</th>\n",
              "      <td>&lt;sos&gt; 銀行の上司にそのことを 報告したいと思って &lt;eos&gt;</td>\n",
              "      <td>sos eos</td>\n",
              "    </tr>\n",
              "    <tr>\n",
              "      <th>2374</th>\n",
              "      <td>&lt;sos&gt; ヶ月前に 死んだ &lt;eos&gt;</td>\n",
              "      <td>sos はい eos</td>\n",
              "    </tr>\n",
              "    <tr>\n",
              "      <th>1458</th>\n",
              "      <td>&lt;sos&gt; 土台となることです &lt;eos&gt;</td>\n",
              "      <td>sos eos</td>\n",
              "    </tr>\n",
              "    <tr>\n",
              "      <th>2589</th>\n",
              "      <td>&lt;sos&gt; 誇り無き民族と &lt;eos&gt;</td>\n",
              "      <td>sos  eos</td>\n",
              "    </tr>\n",
              "    <tr>\n",
              "      <th>2734</th>\n",
              "      <td>&lt;sos&gt; どこで計算に入れるんですか ?  &lt;eos&gt;</td>\n",
              "      <td>sos ああ eos</td>\n",
              "    </tr>\n",
              "  </tbody>\n",
              "</table>\n",
              "</div>"
            ],
            "text/plain": [
              "                                          actual              predicted\n",
              "2871               <sos> それで済ますわけには いかないな <eos>   sos でも eos         \n",
              "2195                   <sos> 手配 前科 前歴 該当なし <eos>    sos いや eos         \n",
              "1437           <sos> あの男が 日の光から逃げるために作った <eos>      sos eos          \n",
              "1285                           <sos> あの動きさ <eos>    sos ああ eos         \n",
              "2621             <sos> この雨の中 一晩中 墓地にいたい ?  <eos>      sos eos          \n",
              "1453                   <sos> そういう勤務記録を提出しろ <eos>   sos でも eos         \n",
              "1505                    <sos> しかし 経営者というのも <eos>    sos ああ eos         \n",
              "1019                <sos> 最新の予想を見ていたのですが <eos>      sos eos          \n",
              "2966                           <sos> 弱いんだ <eos>      sos eos          \n",
              "2395                     <sos> うん太っているエイミー <eos>    sos ああ eos         \n",
              "687                              <sos> あと回 <eos>    sos いや eos         \n",
              "132                      <sos> ナイジェル どけよ <eos>      sos eos          \n",
              "1922                   <sos> もっと簡素化してみましょう <eos>      sos eos          \n",
              "1076           <sos> 彼らに 事件現場を任せてもらえますか ?  <eos>      sos eos          \n",
              "1718              <sos> どうやって逃げだしたミラ ?  <eos>      sos  eos         \n",
              "2480               <sos> そう言われたんです お医者さんに <eos>    sos いや eos         \n",
              "1231         <sos> これは外交官によって長い間 知られてきたことを <eos>  sos なんだ eos         \n",
              "2337              <sos> 敵は人 まっすぐ森を抜ける気だな <eos>      sos eos          \n",
              "1261                        <sos> マリアかな ?  <eos>      sos eos          \n",
              "790                   <sos> それは 鑑識の仕事ですよね <eos>      sos eos          \n",
              "1972                     <sos> 肥料を取って来い ?  <eos>      sos eos          \n",
              "2824                     <sos> つ理解できない事が <eos>      sos  eos         \n",
              "74                      <sos> 冷静に聞いてくれよ !  <eos>      sos eos          \n",
              "2854                <sos> ヒートブラストサチュレーション <eos>      sos  eos         \n",
              "1976                   <sos> でも得られるものは色ある <eos>      sos eos          \n",
              "2971                    <sos> 今度はマコー買えよ !  <eos>    sos ああ eos         \n",
              "2815                     <sos> ダイナマイトナックル <eos>      sos  eos         \n",
              "1980             <sos> じゃあ 仕事終わったら 医局に来てよ <eos>      sos eos          \n",
              "1522                       <sos> 本来店就快要倒闭了 <eos>      sos  eos         \n",
              "356               <sos> ここにある こいつは ミイラ化してる <eos>    sos いや eos         \n",
              "2952  <sos> natoのような協定が 彼らの協定よりも力を持っていれば <eos>      sos eos          \n",
              "854                      <sos> 裁判まで家で休める <eos>      sos eos          \n",
              "50               <sos> つだけ 願い事 かなえてくれるんだ <eos>      sos eos          \n",
              "302                <sos> ロープを辿っていく みんな行ける <eos>      sos eos          \n",
              "350               <sos> 目をつぶって 私があげるものは <eos>    sos ああ eos         \n",
              "2658                    <sos> 謝りに来たのに 喧嘩して <eos>   sos でも eos         \n",
              "2089          <sos> セレスティア校長に話してくるわ 今すぐにね <eos>      sos eos          \n",
              "1195             <sos> やっぱ 貯金とか してんのかな ?  <eos>      sos  eos         \n",
              "230             <sos> マッチみたいだけど たくさん集まると <eos>      sos eos          \n",
              "26            <sos> 巨匠に新しくしたらって 言ってるんだけど <eos>      sos eos          \n",
              "443                             <sos> 下ろして <eos>      sos  eos         \n",
              "729          <sos> 夫は女房を怪しんで ある晩 女房の後をつけた <eos>      sos  eos         \n",
              "2827             <sos> ジョンロンソン 私の考える最善の策は <eos>      sos eos          \n",
              "56                         <sos> 善良な人間だった <eos>      sos eos          \n",
              "2832           <sos> エイリアンも警察犬を ?  知らなかったわ <eos>   sos しかし eos         \n",
              "930            <sos> 銀行の上司にそのことを 報告したいと思って <eos>      sos eos          \n",
              "2374                       <sos> ヶ月前に 死んだ <eos>    sos はい eos         \n",
              "1458                      <sos> 土台となることです <eos>      sos eos          \n",
              "2589                         <sos> 誇り無き民族と <eos>      sos  eos         \n",
              "2734             <sos> どこで計算に入れるんですか ?  <eos>    sos ああ eos         "
            ]
          },
          "metadata": {
            "tags": []
          },
          "execution_count": 202
        }
      ]
    },
    {
      "cell_type": "code",
      "metadata": {
        "colab_type": "code",
        "id": "i67_15zEhuOD",
        "colab": {
          "base_uri": "https://localhost:8080/",
          "height": 618
        },
        "outputId": "d1d25af2-889d-48b2-a4cd-38e4daa2d603"
      },
      "source": [
        "fig, ax = plt.subplots(nrows=2,ncols=2,figsize=(10,10))\n",
        "\n",
        "\n",
        "def plot_history_precision(history):\n",
        "    # Plot the loss\n",
        "    ax[0, 0].plot(history.history['precision'],label=\"precision for training\")\n",
        "    ax[0, 0].plot(history.history['val_precision'],label=\"precision for validation\")\n",
        "    ax[0, 0].set_title('model precision')\n",
        "    ax[0, 0].set_xlabel('epoch')\n",
        "    ax[0, 0].set_ylabel('precision')\n",
        "    ax[0, 0].legend(loc='upper right')\n",
        "\n",
        "\n",
        "def plot_history_recall(history):\n",
        "    # Plot the loss\n",
        "    ax[0, 1].plot(history.history['recall'],label=\"recall for training\")\n",
        "    ax[0, 1].plot(history.history['val_recall'],label=\"recall for validation\")\n",
        "    ax[0, 1].set_title('model recall')\n",
        "    ax[0, 1].set_xlabel('epoch')\n",
        "    ax[0, 1].set_ylabel('recall')\n",
        "    ax[0, 1].legend(loc='upper right')\n",
        "\n",
        "\n",
        "def plot_history_f1_score(history):\n",
        "    # Plot the loss\n",
        "    ax[1, 0].plot(history.history['f1_score'],label=\"f1_score for training\")\n",
        "    ax[1, 0].plot(history.history['val_f1_score'],label=\"f1_score for validation\")\n",
        "    ax[1, 0].set_title('model f1_score')\n",
        "    ax[1, 0].set_xlabel('epoch')\n",
        "    ax[1, 0].set_ylabel('f1_score')\n",
        "    ax[1, 0].legend(loc='upper right')\n",
        "\n",
        "ax[1,1].axis('off')\n",
        "\n",
        "plot_history_precision(history)\n",
        "plot_history_recall(history)\n",
        "plot_history_f1_score(history)\n",
        "\n",
        "plt.show()"
      ],
      "execution_count": 221,
      "outputs": [
        {
          "output_type": "display_data",
          "data": {
            "image/png": "[encoded data removed]",
            "text/plain": [
              "<Figure size 720x720 with 4 Axes>"
            ]
          },
          "metadata": {
            "tags": []
          }
        }
      ]
    }
  ]
}