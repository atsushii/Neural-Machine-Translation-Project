{
  "nbformat": 4,
  "nbformat_minor": 0,
  "metadata": {
    "accelerator": "GPU",
    "colab": {
      "name": "keras.ipynb",
      "provenance": [],
      "collapsed_sections": [],
      "machine_shape": "hm"
    },
    "kernelspec": {
      "name": "python3",
      "display_name": "Python 3"
    },
    "language_info": {
      "codemirror_mode": {
        "name": "ipython",
        "version": 3
      },
      "file_extension": ".py",
      "mimetype": "text/x-python",
      "name": "python",
      "nbconvert_exporter": "python",
      "pygments_lexer": "ipython3",
      "version": "3.7.5"
    }
  },
  "cells": [
    {
      "cell_type": "code",
      "metadata": {
        "colab_type": "code",
        "id": "Zb93R3DCCXK0",
        "outputId": "e42a84e0-2dec-42fd-efea-b350578ff90a",
        "colab": {
          "base_uri": "https://localhost:8080/",
          "height": 97
        }
      },
      "source": [
        "import string\n",
        "import re\n",
        "from numpy import array, argmax, random, take\n",
        "import pandas as pd\n",
        "from keras.models import Sequential\n",
        "from keras.layers import Dense, LSTM, Embedding, RepeatVector, Dropout\n",
        "from keras.preprocessing.text import Tokenizer\n",
        "from keras.callbacks import ModelCheckpoint\n",
        "from keras.preprocessing.sequence import pad_sequences\n",
        "from keras.models import load_model\n",
        "from keras import optimizers\n",
        "import matplotlib.pyplot as plt\n",
        "import io\n",
        "# !apt-get -q -y install sudo file mecab libmecab-dev mecab-ipadic-utf8 git curl python-mecab > /dev/null\n",
        "# !git clone --depth 1 https://github.com/neologd/mecab-ipadic-neologd.git > /dev/null \n",
        "# !echo yes | mecab-ipadic-neologd/bin/install-mecab-ipadic-neologd -n > /dev/null 2>&1\n",
        "# !pip install mecab-python3 > /dev/null\n",
        "%matplotlib inline\n",
        "pd.set_option('display.max_colwidth', 200)"
      ],
      "execution_count": 1,
      "outputs": [
        {
          "output_type": "stream",
          "text": [
            "Using TensorFlow backend.\n"
          ],
          "name": "stderr"
        },
        {
          "output_type": "display_data",
          "data": {
            "text/html": [
              "<p style=\"color: red;\">\n",
              "The default version of TensorFlow in Colab will soon switch to TensorFlow 2.x.<br>\n",
              "We recommend you <a href=\"https://www.tensorflow.org/guide/migrate\" target=\"_blank\">upgrade</a> now \n",
              "or ensure your notebook will continue to use TensorFlow 1.x via the <code>%tensorflow_version 1.x</code> magic:\n",
              "<a href=\"https://colab.research.google.com/notebooks/tensorflow_version.ipynb\" target=\"_blank\">more info</a>.</p>\n"
            ],
            "text/plain": [
              "<IPython.core.display.HTML object>"
            ]
          },
          "metadata": {
            "tags": []
          }
        }
      ]
    },
    {
      "cell_type": "code",
      "metadata": {
        "id": "I0pBJimVLzNU",
        "colab_type": "code",
        "outputId": "84ac172d-7818-4af2-f9a5-a9deb1d0175d",
        "colab": {
          "base_uri": "https://localhost:8080/",
          "height": 54
        }
      },
      "source": [
        "from google.colab import drive\n",
        "drive.mount('/content/drive')"
      ],
      "execution_count": 2,
      "outputs": [
        {
          "output_type": "stream",
          "text": [
            "Drive already mounted at /content/drive; to attempt to forcibly remount, call drive.mount(\"/content/drive\", force_remount=True).\n"
          ],
          "name": "stdout"
        }
      ]
    },
    {
      "cell_type": "code",
      "metadata": {
        "colab_type": "code",
        "id": "bmv0RqrACbd-",
        "colab": {}
      },
      "source": [
        "# function to read raw text file\n",
        "def read_text(filename):\n",
        "        # open the file\n",
        "        file = open(filename, mode='rt', encoding='utf-8')\n",
        "        \n",
        "        # read all text\n",
        "        text = file.read()\n",
        "        file.close()\n",
        "        return text"
      ],
      "execution_count": 0,
      "outputs": []
    },
    {
      "cell_type": "code",
      "metadata": {
        "colab_type": "code",
        "id": "pf5s0qc9Dpa6",
        "colab": {}
      },
      "source": [
        "# split a text into sentences\n",
        "def to_lines(text):\n",
        "      sents = text.strip().split('\\n')\n",
        "      sents = [i.split('\\t') for i in sents]\n",
        "      return sents"
      ],
      "execution_count": 0,
      "outputs": []
    },
    {
      "cell_type": "code",
      "metadata": {
        "colab_type": "code",
        "id": "Ttcy6dKhDrmB",
        "colab": {}
      },
      "source": [
        "data = read_text(\"/content/drive/My Drive/Colab Notebooks/raw.txt\")\n",
        "deu_eng = to_lines(data)\n",
        "deu_eng = array(deu_eng)"
      ],
      "execution_count": 0,
      "outputs": []
    },
    {
      "cell_type": "code",
      "metadata": {
        "colab_type": "code",
        "id": "fbFOP29gDth6",
        "outputId": "b883009e-7f05-4277-bd5d-d3efb13847f3",
        "colab": {
          "base_uri": "https://localhost:8080/",
          "height": 136
        }
      },
      "source": [
        "deu_eng"
      ],
      "execution_count": 6,
      "outputs": [
        {
          "output_type": "execute_result",
          "data": {
            "text/plain": [
              "array([[\"you are back, aren't you, harold?\", 'あなたは戻ったのね ハロルド?'],\n",
              "       ['my opponent is shark.', '俺の相手は シャークだ。'],\n",
              "       ['this is one thing in exchange for another.', '引き換えだ ある事とある物の'],\n",
              "       ...,\n",
              "       ['your words are so encouraging.', 'そういった お言葉を力に...。'],\n",
              "       ['goodbye, george.', '切るぞ'],\n",
              "       ['do you want to hear it?', '聞きたくなければ言わないけれど。']], dtype='<U352')"
            ]
          },
          "metadata": {
            "tags": []
          },
          "execution_count": 6
        }
      ]
    },
    {
      "cell_type": "code",
      "metadata": {
        "colab_type": "code",
        "id": "OMHI0M1qPWqa",
        "colab": {}
      },
      "source": [
        "deu_eng = deu_eng[:20000,:]"
      ],
      "execution_count": 0,
      "outputs": []
    },
    {
      "cell_type": "code",
      "metadata": {
        "colab_type": "code",
        "id": "cUEU_GU1PYNq",
        "outputId": "7a787a41-2023-435e-9a1b-0cf7f0c28a35",
        "colab": {
          "base_uri": "https://localhost:8080/",
          "height": 153
        }
      },
      "source": [
        "deu_eng"
      ],
      "execution_count": 8,
      "outputs": [
        {
          "output_type": "execute_result",
          "data": {
            "text/plain": [
              "array([[\"you are back, aren't you, harold?\", 'あなたは戻ったのね ハロルド?'],\n",
              "       ['my opponent is shark.', '俺の相手は シャークだ。'],\n",
              "       ['this is one thing in exchange for another.', '引き換えだ ある事とある物の'],\n",
              "       ...,\n",
              "       ['what was he doing in 1920?', '1920年で何してるんだろう?'],\n",
              "       ['and he fell hopelessly in love', '出演した女優に どうしようもなく'],\n",
              "       ['now our operation is small but there is a lot of potential for aggressive expansion.',\n",
              "        'でだ 俺の作戦は 微々たるもんだが 飛躍的拡大の']], dtype='<U352')"
            ]
          },
          "metadata": {
            "tags": []
          },
          "execution_count": 8
        }
      ]
    },
    {
      "cell_type": "code",
      "metadata": {
        "colab_type": "code",
        "id": "3ikqxXGePadk",
        "outputId": "9c398f1d-fde5-4a68-f7ed-82aba071e582",
        "colab": {
          "base_uri": "https://localhost:8080/",
          "height": 153
        }
      },
      "source": [
        "# Remove punctuation\n",
        "deu_eng[:,0] = [s.translate(str.maketrans('', '', string.punctuation)) for s in deu_eng[:,0]]\n",
        "deu_eng[:,1] = [s.translate(str.maketrans('', '', string.punctuation)) for s in deu_eng[:,1]]\n",
        "deu_eng"
      ],
      "execution_count": 9,
      "outputs": [
        {
          "output_type": "execute_result",
          "data": {
            "text/plain": [
              "array([['you are back arent you harold', 'あなたは戻ったのね ハロルド'],\n",
              "       ['my opponent is shark', '俺の相手は シャークだ。'],\n",
              "       ['this is one thing in exchange for another', '引き換えだ ある事とある物の'],\n",
              "       ...,\n",
              "       ['what was he doing in 1920', '1920年で何してるんだろう'],\n",
              "       ['and he fell hopelessly in love', '出演した女優に どうしようもなく'],\n",
              "       ['now our operation is small but there is a lot of potential for aggressive expansion',\n",
              "        'でだ 俺の作戦は 微々たるもんだが 飛躍的拡大の']], dtype='<U352')"
            ]
          },
          "metadata": {
            "tags": []
          },
          "execution_count": 9
        }
      ]
    },
    {
      "cell_type": "code",
      "metadata": {
        "colab_type": "code",
        "id": "oeOvXEYFQq_-",
        "outputId": "df625b1c-63dd-48cd-8c4f-104edc0eae0e",
        "colab": {
          "base_uri": "https://localhost:8080/",
          "height": 136
        }
      },
      "source": [
        "# sentencePiece\n",
        "import sentencepiece as spm\n",
        "\n",
        "sp = spm.SentencePieceProcessor()\n",
        "# load pretrain model\n",
        "sp.Load('/content/drive/My Drive/wiki-ja.model')\n",
        "\n",
        "# check sentences\n",
        "i = 0\n",
        "for text in deu_eng:\n",
        "  print(text)\n",
        "  i += 1\n",
        "  if i > 5: break"
      ],
      "execution_count": 10,
      "outputs": [
        {
          "output_type": "stream",
          "text": [
            "['you are back arent you harold' 'あなたは戻ったのね ハロルド']\n",
            "['my opponent is shark' '俺の相手は シャークだ。']\n",
            "['this is one thing in exchange for another' '引き換えだ ある事とある物の']\n",
            "['yeah im fine' 'もういいよ ごちそうさま ううん']\n",
            "['dont come to the office anymore dont call me either'\n",
            " 'もう会社には来ないでくれ 電話もするな']\n",
            "['looks beautiful' 'きれいだ。']\n"
          ],
          "name": "stdout"
        }
      ]
    },
    {
      "cell_type": "code",
      "metadata": {
        "id": "n-iz13U2awVV",
        "colab_type": "code",
        "colab": {
          "base_uri": "https://localhost:8080/",
          "height": 153
        },
        "outputId": "16692319-e1e4-4fae-ea8b-28a8d620733e"
      },
      "source": [
        "# convert \n",
        "deu_eng[:,0] = [\"\".join(sp.encode_as_pieces(i)).replace('▁', ' ') for i in deu_eng[:,0]]\n",
        "deu_eng[:,1] = [\"\".join(sp.encode_as_pieces(i)).replace('▁', ' ') for i in deu_eng[:,1]]\n",
        "deu_eng"
      ],
      "execution_count": 11,
      "outputs": [
        {
          "output_type": "execute_result",
          "data": {
            "text/plain": [
              "array([[' you are back arent you harold', ' あなたは戻ったのね ハロルド'],\n",
              "       [' my opponent is shark', ' 俺の相手は シャークだ。'],\n",
              "       [' this is one thing in exchange for another', ' 引き換えだ ある事とある物の'],\n",
              "       ...,\n",
              "       [' what was he doing in 1920', ' 1920年で何してるんだろう'],\n",
              "       [' and he fell hopelessly in love', ' 出演した女優に どうしようもなく'],\n",
              "       [' now our operation is small but there is a lot of potential for aggressive expansion',\n",
              "        ' でだ 俺の作戦は 微々たるもんだが 飛躍的拡大の']], dtype='<U352')"
            ]
          },
          "metadata": {
            "tags": []
          },
          "execution_count": 11
        }
      ]
    },
    {
      "cell_type": "code",
      "metadata": {
        "colab_type": "code",
        "id": "NNXVUvFNPgfy",
        "outputId": "4cf64c26-4813-4b6a-ccfa-b6219d8c3d7b",
        "colab": {
          "base_uri": "https://localhost:8080/",
          "height": 153
        }
      },
      "source": [
        "# convert text to lowercase\n",
        "for i in range(len(deu_eng)):\n",
        "    deu_eng[i,0] = deu_eng[i,0].lower()\n",
        "    deu_eng[i,1] = deu_eng[i,1].lower()\n",
        "\n",
        "deu_eng"
      ],
      "execution_count": 12,
      "outputs": [
        {
          "output_type": "execute_result",
          "data": {
            "text/plain": [
              "array([[' you are back arent you harold', ' あなたは戻ったのね ハロルド'],\n",
              "       [' my opponent is shark', ' 俺の相手は シャークだ。'],\n",
              "       [' this is one thing in exchange for another', ' 引き換えだ ある事とある物の'],\n",
              "       ...,\n",
              "       [' what was he doing in 1920', ' 1920年で何してるんだろう'],\n",
              "       [' and he fell hopelessly in love', ' 出演した女優に どうしようもなく'],\n",
              "       [' now our operation is small but there is a lot of potential for aggressive expansion',\n",
              "        ' でだ 俺の作戦は 微々たるもんだが 飛躍的拡大の']], dtype='<U352')"
            ]
          },
          "metadata": {
            "tags": []
          },
          "execution_count": 12
        }
      ]
    },
    {
      "cell_type": "code",
      "metadata": {
        "colab_type": "code",
        "id": "sizAmLv2Pj-j",
        "outputId": "a08f3654-d6dd-4822-8261-e36f4641bfd1",
        "colab": {
          "base_uri": "https://localhost:8080/",
          "height": 281
        }
      },
      "source": [
        "# empty lists\n",
        "eng_l = []\n",
        "deu_l = []\n",
        "\n",
        "# populate the lists with sentence lengths\n",
        "for i in deu_eng[:,0]:\n",
        "      eng_l.append(len(i.split()))\n",
        "\n",
        "for i in deu_eng[:,1]:\n",
        "      deu_l.append(len(i.split()))\n",
        "\n",
        "length_df = pd.DataFrame({'eng':eng_l, 'ja':deu_l})\n",
        "\n",
        "length_df.hist(bins = 30)\n",
        "plt.show()"
      ],
      "execution_count": 13,
      "outputs": [
        {
          "output_type": "display_data",
          "data": {
            "image/png": "[encoded data removed]",
            "text/plain": [
              "<Figure size 432x288 with 2 Axes>"
            ]
          },
          "metadata": {
            "tags": []
          }
        }
      ]
    },
    {
      "cell_type": "code",
      "metadata": {
        "colab_type": "code",
        "id": "1WLwCK4xVynu",
        "outputId": "fc88f9f9-c723-4a09-d030-589539b65a8d",
        "colab": {
          "base_uri": "https://localhost:8080/",
          "height": 51
        }
      },
      "source": [
        "print(\"max length English {}\".format(max(eng_l)))\n",
        "print(\"max length Japanese {}\".format(max(deu_l)))"
      ],
      "execution_count": 14,
      "outputs": [
        {
          "output_type": "stream",
          "text": [
            "max length English 42\n",
            "max length Japanese 10\n"
          ],
          "name": "stdout"
        }
      ]
    },
    {
      "cell_type": "code",
      "metadata": {
        "colab_type": "code",
        "id": "ZEdYwmc3PoJT",
        "colab": {}
      },
      "source": [
        "# function to build a tokenizer\n",
        "def tokenization(lines):\n",
        "    tokenizer = Tokenizer()\n",
        "    tokenizer.fit_on_texts(lines)\n",
        "    return tokenizer"
      ],
      "execution_count": 0,
      "outputs": []
    },
    {
      "cell_type": "code",
      "metadata": {
        "colab_type": "code",
        "id": "2UVxaCNJU7Bm",
        "outputId": "b0f50590-0f35-4a9c-ecda-9d8e8065a610",
        "colab": {
          "base_uri": "https://localhost:8080/",
          "height": 34
        }
      },
      "source": [
        "# prepare English tokenizer\n",
        "eng_tokenizer = tokenization(deu_eng[:, 0])\n",
        "eng_vocab_size = len(eng_tokenizer.word_index) + 1\n",
        "\n",
        "eng_length = 10\n",
        "print('English Vocabulary Size: %d' % eng_vocab_size)"
      ],
      "execution_count": 17,
      "outputs": [
        {
          "output_type": "stream",
          "text": [
            "English Vocabulary Size: 13546\n"
          ],
          "name": "stdout"
        }
      ]
    },
    {
      "cell_type": "code",
      "metadata": {
        "colab_type": "code",
        "id": "jAkfW5TfWaca",
        "outputId": "f6f3e377-e0a8-4c17-ad76-67984084d95d",
        "colab": {
          "base_uri": "https://localhost:8080/",
          "height": 34
        }
      },
      "source": [
        "# prepare Japanese tokenizer\n",
        "deu_tokenizer = tokenization(deu_eng[:, 1])\n",
        "deu_vocab_size = len(deu_tokenizer.word_index) + 1\n",
        "\n",
        "deu_length = 10\n",
        "print('Deutch Vocabulary Size: %d' % deu_vocab_size)"
      ],
      "execution_count": 18,
      "outputs": [
        {
          "output_type": "stream",
          "text": [
            "Deutch Vocabulary Size: 29491\n"
          ],
          "name": "stdout"
        }
      ]
    },
    {
      "cell_type": "code",
      "metadata": {
        "colab_type": "code",
        "id": "cw26UoZEWf6h",
        "colab": {}
      },
      "source": [
        "# encode and pad sequences\n",
        "def encode_sequences(tokenizer, length, lines):\n",
        "    # integer encode sequences\n",
        "    seq = tokenizer.texts_to_sequences(lines)\n",
        "    # pad sequences with 0 values\n",
        "    seq = pad_sequences(seq, maxlen=length, padding='post')\n",
        "    return seq"
      ],
      "execution_count": 0,
      "outputs": []
    },
    {
      "cell_type": "code",
      "metadata": {
        "colab_type": "code",
        "id": "ANKcc_U6WjmX",
        "colab": {}
      },
      "source": [
        "from sklearn.model_selection import train_test_split\n",
        "\n",
        "# split data into train and test set\n",
        "train, test = train_test_split(deu_eng, test_size=0.3, random_state = 42)"
      ],
      "execution_count": 0,
      "outputs": []
    },
    {
      "cell_type": "code",
      "metadata": {
        "colab_type": "code",
        "id": "UIpLRoOLWlKr",
        "colab": {}
      },
      "source": [
        "# prepare training data\n",
        "trainY = encode_sequences(deu_tokenizer, deu_length, train[:, 1])\n",
        "trainX = encode_sequences(eng_tokenizer, eng_length, train[:, 0])\n",
        "\n",
        "# prepare validation data\n",
        "testY = encode_sequences(deu_tokenizer, deu_length, test[:, 1])\n",
        "testX = encode_sequences(eng_tokenizer, eng_length, test[:, 0])"
      ],
      "execution_count": 0,
      "outputs": []
    },
    {
      "cell_type": "code",
      "metadata": {
        "colab_type": "code",
        "id": "Ma59RoqRWnMy",
        "colab": {}
      },
      "source": [
        "# build NMT model\n",
        "def define_model(in_vocab,out_vocab, in_timesteps,out_timesteps,units):\n",
        "    model = Sequential()\n",
        "    model.add(Embedding(in_vocab, units, input_length=in_timesteps, mask_zero=True))\n",
        "    model.add(LSTM(units))\n",
        "    model.add(RepeatVector(out_timesteps))\n",
        "    Dropout(rate=0.5)\n",
        "    model.add(LSTM(units, return_sequences=True))\n",
        "    model.add(Dense(out_vocab, activation='softmax'))\n",
        "    return model"
      ],
      "execution_count": 0,
      "outputs": []
    },
    {
      "cell_type": "code",
      "metadata": {
        "colab_type": "code",
        "id": "Ti0TrucnWqzr",
        "colab": {
          "base_uri": "https://localhost:8080/",
          "height": 190
        },
        "outputId": "d29e5601-8513-4e26-93d7-805d42ffde59"
      },
      "source": [
        "# model compilation\n",
        "model = define_model(eng_vocab_size, deu_vocab_size,eng_length, deu_length, 512)"
      ],
      "execution_count": 23,
      "outputs": [
        {
          "output_type": "stream",
          "text": [
            "WARNING:tensorflow:From /usr/local/lib/python3.6/dist-packages/keras/backend/tensorflow_backend.py:66: The name tf.get_default_graph is deprecated. Please use tf.compat.v1.get_default_graph instead.\n",
            "\n",
            "WARNING:tensorflow:From /usr/local/lib/python3.6/dist-packages/keras/backend/tensorflow_backend.py:541: The name tf.placeholder is deprecated. Please use tf.compat.v1.placeholder instead.\n",
            "\n",
            "WARNING:tensorflow:From /usr/local/lib/python3.6/dist-packages/keras/backend/tensorflow_backend.py:4432: The name tf.random_uniform is deprecated. Please use tf.random.uniform instead.\n",
            "\n",
            "WARNING:tensorflow:From /usr/local/lib/python3.6/dist-packages/keras/backend/tensorflow_backend.py:3239: where (from tensorflow.python.ops.array_ops) is deprecated and will be removed in a future version.\n",
            "Instructions for updating:\n",
            "Use tf.where in 2.0, which has the same broadcast rule as np.where\n"
          ],
          "name": "stdout"
        }
      ]
    },
    {
      "cell_type": "code",
      "metadata": {
        "colab_type": "code",
        "id": "aYQVg6NRWsuN",
        "colab": {}
      },
      "source": [
        "rms = optimizers.RMSprop(lr=0.1)\n",
        "\n",
        "model.compile(optimizer=rms, loss='sparse_categorical_crossentropy', metrics=['accuracy'])"
      ],
      "execution_count": 0,
      "outputs": []
    },
    {
      "cell_type": "code",
      "metadata": {
        "colab_type": "code",
        "id": "dhAUdzArWvju",
        "colab": {}
      },
      "source": [
        "filename = 'model.h1.22_Nov_19'\n",
        "checkpoint = ModelCheckpoint(filename, monitor='val_loss', verbose=1, save_best_only=True, mode='min')\n",
        "# train model\n",
        "history = model.fit(trainX, trainY.reshape(trainY.shape[0], trainY.shape[1], 1),\n",
        "                    epochs=15, batch_size=128, validation_split = 0.2, callbacks=[checkpoint],                    \n",
        "                    verbose=1)"
      ],
      "execution_count": 0,
      "outputs": []
    },
    {
      "cell_type": "code",
      "metadata": {
        "colab_type": "code",
        "id": "3Vm5oB5JW2NA",
        "outputId": "64897250-16d5-45fb-e7bf-3e73a31ebc69",
        "colab": {
          "base_uri": "https://localhost:8080/",
          "height": 312
        }
      },
      "source": [
        "fig, (ax1, ax2) = plt.subplots(ncols=2, figsize=(10,4))\n",
        "print(history.history.keys())\n",
        "def plot_history_loss(history):\n",
        "  ax1.plot(history.history['acc'],label=\"accuracy for training\")\n",
        "  ax1.plot(history.history['val_acc'],label=\"accuracy for validation\")\n",
        "  ax1.set_title('model accuracy')\n",
        "  ax1.set_xlabel('epoch')\n",
        "  ax1.set_ylabel('accuracy')\n",
        "  ax1.legend(loc='upper right')\n",
        "\n",
        "def plot_history_acc(history):\n",
        "    # Plot the loss in the history\n",
        "    ax2.plot(history.history['loss'],label=\"loss for training\")\n",
        "    ax2.plot(history.history['val_loss'],label=\"loss for validation\")\n",
        "    ax2.set_title('model loss')\n",
        "    ax2.set_xlabel('epoch')\n",
        "    ax2.set_ylabel('loss')\n",
        "    ax2.legend(loc='upper right')\n",
        "\n",
        "plot_history_loss(history)\n",
        "plot_history_acc(history)\n",
        "\n",
        "plt.show()"
      ],
      "execution_count": 26,
      "outputs": [
        {
          "output_type": "stream",
          "text": [
            "dict_keys(['val_loss', 'val_acc', 'loss', 'acc'])\n"
          ],
          "name": "stdout"
        },
        {
          "output_type": "display_data",
          "data": {
            "image/png": "[encoded data removed]",
            "text/plain": [
              "<Figure size 720x288 with 2 Axes>"
            ]
          },
          "metadata": {
            "tags": []
          }
        }
      ]
    },
    {
      "cell_type": "code",
      "metadata": {
        "colab_type": "code",
        "id": "x3S1NMKGY5Tm",
        "colab": {}
      },
      "source": [
        "model = load_model('model.h1.22_Nov_19')\n",
        "preds = model.predict_classes(testX.reshape((testX.shape[0],testX.shape[1])))"
      ],
      "execution_count": 0,
      "outputs": []
    },
    {
      "cell_type": "code",
      "metadata": {
        "colab_type": "code",
        "id": "fSnPPvraY_uW",
        "colab": {}
      },
      "source": [
        "def get_word(n, tokenizer):\n",
        "      for word, index in tokenizer.word_index.items():\n",
        "          if index == n:\n",
        "              return word\n",
        "      return None"
      ],
      "execution_count": 0,
      "outputs": []
    },
    {
      "cell_type": "code",
      "metadata": {
        "colab_type": "code",
        "id": "OchHfcobZKbY",
        "colab": {}
      },
      "source": [
        "preds_text = []\n",
        "for i in preds:\n",
        "       temp = []\n",
        "       for j in range(len(i)):\n",
        "            t = get_word(i[j], deu_tokenizer)\n",
        "\n",
        "            if j > 0:\n",
        "                if (t == get_word(i[j-1], deu_tokenizer)) or (t == None):\n",
        "                     temp.append('')\n",
        "                else:\n",
        "                     temp.append(t)\n",
        "            else:\n",
        "                   if(t == None):\n",
        "                          temp.append('')\n",
        "                   else:\n",
        "                          temp.append(t) \n",
        "\n",
        "       preds_text.append(' '.join(temp))\n"
      ],
      "execution_count": 0,
      "outputs": []
    },
    {
      "cell_type": "code",
      "metadata": {
        "colab_type": "code",
        "id": "Q01F6aF4ZMB_",
        "colab": {}
      },
      "source": [
        "pred_df = pd.DataFrame({'actual' : test[:,1], 'predicted' : preds_text})"
      ],
      "execution_count": 0,
      "outputs": []
    },
    {
      "cell_type": "code",
      "metadata": {
        "colab_type": "code",
        "id": "tyF2rYenhsDJ",
        "outputId": "624cc0d5-a8cf-4f62-df33-4e9934cf3b4f",
        "colab": {
          "base_uri": "https://localhost:8080/",
          "height": 1000
        }
      },
      "source": [
        "pred_df.sample(50)"
      ],
      "execution_count": 32,
      "outputs": [
        {
          "output_type": "execute_result",
          "data": {
            "text/html": [
              "<div>\n",
              "<style scoped>\n",
              "    .dataframe tbody tr th:only-of-type {\n",
              "        vertical-align: middle;\n",
              "    }\n",
              "\n",
              "    .dataframe tbody tr th {\n",
              "        vertical-align: top;\n",
              "    }\n",
              "\n",
              "    .dataframe thead th {\n",
              "        text-align: right;\n",
              "    }\n",
              "</style>\n",
              "<table border=\"1\" class=\"dataframe\">\n",
              "  <thead>\n",
              "    <tr style=\"text-align: right;\">\n",
              "      <th></th>\n",
              "      <th>actual</th>\n",
              "      <th>predicted</th>\n",
              "    </tr>\n",
              "  </thead>\n",
              "  <tbody>\n",
              "    <tr>\n",
              "      <th>2840</th>\n",
              "      <td>堀池 清美の ロスタイムが 終わりました。</td>\n",
              "      <td></td>\n",
              "    </tr>\n",
              "    <tr>\n",
              "      <th>2455</th>\n",
              "      <td>その時進入できる。</td>\n",
              "      <td></td>\n",
              "    </tr>\n",
              "    <tr>\n",
              "      <th>2683</th>\n",
              "      <td>背後から 彼女を襲ったのか</td>\n",
              "      <td></td>\n",
              "    </tr>\n",
              "    <tr>\n",
              "      <th>1515</th>\n",
              "      <td>よくやった</td>\n",
              "      <td></td>\n",
              "    </tr>\n",
              "    <tr>\n",
              "      <th>159</th>\n",
              "      <td>教会の犬め</td>\n",
              "      <td></td>\n",
              "    </tr>\n",
              "    <tr>\n",
              "      <th>2005</th>\n",
              "      <td>馴れたもんだろ</td>\n",
              "      <td></td>\n",
              "    </tr>\n",
              "    <tr>\n",
              "      <th>2403</th>\n",
              "      <td>おおきになぁ。 あっ いえいえ。</td>\n",
              "      <td></td>\n",
              "    </tr>\n",
              "    <tr>\n",
              "      <th>633</th>\n",
              "      <td>何だよ それ 子供は親の所有物じゃないのに</td>\n",
              "      <td></td>\n",
              "    </tr>\n",
              "    <tr>\n",
              "      <th>1918</th>\n",
              "      <td>ばかげてます</td>\n",
              "      <td></td>\n",
              "    </tr>\n",
              "    <tr>\n",
              "      <th>566</th>\n",
              "      <td>不安を感じながらも どうにかやり遂げたというような感じです</td>\n",
              "      <td></td>\n",
              "    </tr>\n",
              "    <tr>\n",
              "      <th>2284</th>\n",
              "      <td>でも 俺は 何ももらえないの</td>\n",
              "      <td></td>\n",
              "    </tr>\n",
              "    <tr>\n",
              "      <th>819</th>\n",
              "      <td>臨床腫瘍学と苦痛緩和看護</td>\n",
              "      <td></td>\n",
              "    </tr>\n",
              "    <tr>\n",
              "      <th>967</th>\n",
              "      <td>「ブロディが居るのを見た」</td>\n",
              "      <td></td>\n",
              "    </tr>\n",
              "    <tr>\n",
              "      <th>2251</th>\n",
              "      <td>それで、コーチはこんなふうに座って</td>\n",
              "      <td></td>\n",
              "    </tr>\n",
              "    <tr>\n",
              "      <th>1265</th>\n",
              "      <td>うちは いつも こうなんじゃない え</td>\n",
              "      <td></td>\n",
              "    </tr>\n",
              "    <tr>\n",
              "      <th>1605</th>\n",
              "      <td>そりゃ また ずいぶん でかいですね。</td>\n",
              "      <td></td>\n",
              "    </tr>\n",
              "    <tr>\n",
              "      <th>1757</th>\n",
              "      <td>それで 「ジャック」に持ち込む。</td>\n",
              "      <td></td>\n",
              "    </tr>\n",
              "    <tr>\n",
              "      <th>1251</th>\n",
              "      <td>国防省のマイク フェイバー大佐を</td>\n",
              "      <td></td>\n",
              "    </tr>\n",
              "    <tr>\n",
              "      <th>1140</th>\n",
              "      <td>我々はリスクを冒すことも辞しませんでした 当然ですよね</td>\n",
              "      <td></td>\n",
              "    </tr>\n",
              "    <tr>\n",
              "      <th>1098</th>\n",
              "      <td>我々が期待してたものとは 違うな 現場から発見されたこの45口径の弾丸は 去年 リコ法の証人から取り出された</td>\n",
              "      <td></td>\n",
              "    </tr>\n",
              "    <tr>\n",
              "      <th>716</th>\n",
              "      <td>どこの山で 採れたんですか そのタケノコ。</td>\n",
              "      <td></td>\n",
              "    </tr>\n",
              "    <tr>\n",
              "      <th>855</th>\n",
              "      <td>ねぇ ここ開けていい</td>\n",
              "      <td></td>\n",
              "    </tr>\n",
              "    <tr>\n",
              "      <th>952</th>\n",
              "      <td>何がわかる</td>\n",
              "      <td></td>\n",
              "    </tr>\n",
              "    <tr>\n",
              "      <th>143</th>\n",
              "      <td>ある創作をします</td>\n",
              "      <td></td>\n",
              "    </tr>\n",
              "    <tr>\n",
              "      <th>1600</th>\n",
              "      <td>当然在外表上是不会发现的</td>\n",
              "      <td></td>\n",
              "    </tr>\n",
              "    <tr>\n",
              "      <th>463</th>\n",
              "      <td>絶対に</td>\n",
              "      <td></td>\n",
              "    </tr>\n",
              "    <tr>\n",
              "      <th>2745</th>\n",
              "      <td>契約を結ぶ為に ボトルサービスさえ付けた</td>\n",
              "      <td></td>\n",
              "    </tr>\n",
              "    <tr>\n",
              "      <th>697</th>\n",
              "      <td>smの部屋じゃなかったの</td>\n",
              "      <td></td>\n",
              "    </tr>\n",
              "    <tr>\n",
              "      <th>453</th>\n",
              "      <td>わかった、そうか</td>\n",
              "      <td></td>\n",
              "    </tr>\n",
              "    <tr>\n",
              "      <th>389</th>\n",
              "      <td>森の中に消える</td>\n",
              "      <td></td>\n",
              "    </tr>\n",
              "    <tr>\n",
              "      <th>1551</th>\n",
              "      <td>君が守ってたら 特殊部隊じゃなくなるな 会いたいわ</td>\n",
              "      <td></td>\n",
              "    </tr>\n",
              "    <tr>\n",
              "      <th>637</th>\n",
              "      <td>あぁ、選択肢は1つだ 今日、君が300ドル払って―</td>\n",
              "      <td></td>\n",
              "    </tr>\n",
              "    <tr>\n",
              "      <th>2003</th>\n",
              "      <td>この脚本は 高倉 雄二が 書いたものでは ありません。</td>\n",
              "      <td></td>\n",
              "    </tr>\n",
              "    <tr>\n",
              "      <th>2695</th>\n",
              "      <td>あなたはやったのですか</td>\n",
              "      <td></td>\n",
              "    </tr>\n",
              "    <tr>\n",
              "      <th>470</th>\n",
              "      <td>帰ったら最初に 甘えさせて</td>\n",
              "      <td></td>\n",
              "    </tr>\n",
              "    <tr>\n",
              "      <th>433</th>\n",
              "      <td>危険がないと証明するためのものでした</td>\n",
              "      <td></td>\n",
              "    </tr>\n",
              "    <tr>\n",
              "      <th>2013</th>\n",
              "      <td>少しドキドキしたくらい。</td>\n",
              "      <td></td>\n",
              "    </tr>\n",
              "    <tr>\n",
              "      <th>2382</th>\n",
              "      <td>貴女が産んだ最後の世代は 既に全員が成熟</td>\n",
              "      <td></td>\n",
              "    </tr>\n",
              "    <tr>\n",
              "      <th>2322</th>\n",
              "      <td>私なんかでも 本当に何かできるの</td>\n",
              "      <td></td>\n",
              "    </tr>\n",
              "    <tr>\n",
              "      <th>1670</th>\n",
              "      <td>15年</td>\n",
              "      <td></td>\n",
              "    </tr>\n",
              "    <tr>\n",
              "      <th>2263</th>\n",
              "      <td>ではなぜ</td>\n",
              "      <td></td>\n",
              "    </tr>\n",
              "    <tr>\n",
              "      <th>318</th>\n",
              "      <td>金持ちだった</td>\n",
              "      <td></td>\n",
              "    </tr>\n",
              "    <tr>\n",
              "      <th>1171</th>\n",
              "      <td>スピードカウンターを4つ取り除くことで</td>\n",
              "      <td></td>\n",
              "    </tr>\n",
              "    <tr>\n",
              "      <th>859</th>\n",
              "      <td>ほら 行きたいだろ</td>\n",
              "      <td></td>\n",
              "    </tr>\n",
              "    <tr>\n",
              "      <th>1999</th>\n",
              "      <td>よく遊んでもらったでしょ</td>\n",
              "      <td></td>\n",
              "    </tr>\n",
              "    <tr>\n",
              "      <th>1588</th>\n",
              "      <td>彼があなたにしたことを許せない。</td>\n",
              "      <td></td>\n",
              "    </tr>\n",
              "    <tr>\n",
              "      <th>565</th>\n",
              "      <td>このお魚は誰</td>\n",
              "      <td></td>\n",
              "    </tr>\n",
              "    <tr>\n",
              "      <th>2696</th>\n",
              "      <td>わかった。行くって言っといて。</td>\n",
              "      <td></td>\n",
              "    </tr>\n",
              "    <tr>\n",
              "      <th>151</th>\n",
              "      <td>この野郎</td>\n",
              "      <td></td>\n",
              "    </tr>\n",
              "    <tr>\n",
              "      <th>750</th>\n",
              "      <td>ダクサスに彼自身と 熱意があり冷静で覚悟ができている 選りすぐりの20人が必要と伝えよ</td>\n",
              "      <td></td>\n",
              "    </tr>\n",
              "  </tbody>\n",
              "</table>\n",
              "</div>"
            ],
            "text/plain": [
              "                                                       actual predicted\n",
              "2840                                    堀池 清美の ロスタイムが 終わりました。          \n",
              "2455                                                その時進入できる。          \n",
              "2683                                            背後から 彼女を襲ったのか          \n",
              "1515                                                    よくやった          \n",
              "159                                                     教会の犬め          \n",
              "2005                                                  馴れたもんだろ          \n",
              "2403                                         おおきになぁ。 あっ いえいえ。          \n",
              "633                                     何だよ それ 子供は親の所有物じゃないのに          \n",
              "1918                                                   ばかげてます          \n",
              "566                             不安を感じながらも どうにかやり遂げたというような感じです          \n",
              "2284                                           でも 俺は 何ももらえないの          \n",
              "819                                              臨床腫瘍学と苦痛緩和看護          \n",
              "967                                             「ブロディが居るのを見た」          \n",
              "2251                                        それで、コーチはこんなふうに座って          \n",
              "1265                                       うちは いつも こうなんじゃない え          \n",
              "1605                                      そりゃ また ずいぶん でかいですね。          \n",
              "1757                                         それで 「ジャック」に持ち込む。          \n",
              "1251                                         国防省のマイク フェイバー大佐を          \n",
              "1140                              我々はリスクを冒すことも辞しませんでした 当然ですよね          \n",
              "1098   我々が期待してたものとは 違うな 現場から発見されたこの45口径の弾丸は 去年 リコ法の証人から取り出された          \n",
              "716                                     どこの山で 採れたんですか そのタケノコ。          \n",
              "855                                                ねぇ ここ開けていい          \n",
              "952                                                     何がわかる          \n",
              "143                                                  ある創作をします          \n",
              "1600                                             当然在外表上是不会发现的          \n",
              "463                                                       絶対に          \n",
              "2745                                     契約を結ぶ為に ボトルサービスさえ付けた          \n",
              "697                                              smの部屋じゃなかったの          \n",
              "453                                                  わかった、そうか          \n",
              "389                                                   森の中に消える          \n",
              "1551                                君が守ってたら 特殊部隊じゃなくなるな 会いたいわ          \n",
              "637                                 あぁ、選択肢は1つだ 今日、君が300ドル払って―          \n",
              "2003                              この脚本は 高倉 雄二が 書いたものでは ありません。          \n",
              "2695                                              あなたはやったのですか          \n",
              "470                                             帰ったら最初に 甘えさせて          \n",
              "433                                        危険がないと証明するためのものでした          \n",
              "2013                                             少しドキドキしたくらい。          \n",
              "2382                                     貴女が産んだ最後の世代は 既に全員が成熟          \n",
              "2322                                         私なんかでも 本当に何かできるの          \n",
              "1670                                                      15年          \n",
              "2263                                                     ではなぜ          \n",
              "318                                                    金持ちだった          \n",
              "1171                                      スピードカウンターを4つ取り除くことで          \n",
              "859                                                 ほら 行きたいだろ          \n",
              "1999                                             よく遊んでもらったでしょ          \n",
              "1588                                         彼があなたにしたことを許せない。          \n",
              "565                                                    このお魚は誰          \n",
              "2696                                          わかった。行くって言っといて。          \n",
              "151                                                      この野郎          \n",
              "750               ダクサスに彼自身と 熱意があり冷静で覚悟ができている 選りすぐりの20人が必要と伝えよ          "
            ]
          },
          "metadata": {
            "tags": []
          },
          "execution_count": 32
        }
      ]
    },
    {
      "cell_type": "code",
      "metadata": {
        "colab_type": "code",
        "id": "i67_15zEhuOD",
        "colab": {}
      },
      "source": [
        ""
      ],
      "execution_count": 0,
      "outputs": []
    }
  ]
}