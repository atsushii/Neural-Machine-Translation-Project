{
  "nbformat": 4,
  "nbformat_minor": 0,
  "metadata": {
    "accelerator": "GPU",
    "colab": {
      "name": "translation_en_to_ja.ipynb",
      "provenance": [],
      "collapsed_sections": [],
      "machine_shape": "hm"
    },
    "kernelspec": {
      "name": "python3",
      "display_name": "Python 3"
    },
    "language_info": {
      "codemirror_mode": {
        "name": "ipython",
        "version": 3
      },
      "file_extension": ".py",
      "mimetype": "text/x-python",
      "name": "python",
      "nbconvert_exporter": "python",
      "pygments_lexer": "ipython3",
      "version": "3.7.5"
    }
  },
  "cells": [
    {
      "cell_type": "code",
      "metadata": {
        "colab_type": "code",
        "id": "Zb93R3DCCXK0",
        "outputId": "d439b654-5356-46d8-d0bd-b5e1ea000178",
        "colab": {
          "base_uri": "https://localhost:8080/",
          "height": 202
        }
      },
      "source": [
        "import string\n",
        "import re\n",
        "from numpy import array, argmax, random, take\n",
        "import pandas as pd\n",
        "from keras.models import Sequential\n",
        "from keras.layers import Dense, LSTM, Embedding, RepeatVector, Dropout\n",
        "from keras.preprocessing.text import Tokenizer\n",
        "from keras.callbacks import ModelCheckpoint\n",
        "from keras.preprocessing.sequence import pad_sequences\n",
        "from keras.models import load_model\n",
        "from keras import optimizers\n",
        "import matplotlib.pyplot as plt\n",
        "import io\n",
        "! pip install sentencepiece\n",
        "%matplotlib inline\n",
        "\n",
        "# ignore warning\n",
        "import os\n",
        "os.environ['TF_CPP_MIN_LOG_LEVEL'] = '3'"
      ],
      "execution_count": 1,
      "outputs": [
        {
          "output_type": "stream",
          "text": [
            "Using TensorFlow backend.\n"
          ],
          "name": "stderr"
        },
        {
          "output_type": "display_data",
          "data": {
            "text/html": [
              "<p style=\"color: red;\">\n",
              "The default version of TensorFlow in Colab will soon switch to TensorFlow 2.x.<br>\n",
              "We recommend you <a href=\"https://www.tensorflow.org/guide/migrate\" target=\"_blank\">upgrade</a> now \n",
              "or ensure your notebook will continue to use TensorFlow 1.x via the <code>%tensorflow_version 1.x</code> magic:\n",
              "<a href=\"https://colab.research.google.com/notebooks/tensorflow_version.ipynb\" target=\"_blank\">more info</a>.</p>\n"
            ],
            "text/plain": [
              "<IPython.core.display.HTML object>"
            ]
          },
          "metadata": {
            "tags": []
          }
        },
        {
          "output_type": "stream",
          "text": [
            "Collecting sentencepiece\n",
            "\u001b[?25l  Downloading https://files.pythonhosted.org/packages/14/3d/efb655a670b98f62ec32d66954e1109f403db4d937c50d779a75b9763a29/sentencepiece-0.1.83-cp36-cp36m-manylinux1_x86_64.whl (1.0MB)\n",
            "\u001b[K     |████████████████████████████████| 1.0MB 2.8MB/s \n",
            "\u001b[?25hInstalling collected packages: sentencepiece\n",
            "Successfully installed sentencepiece-0.1.83\n"
          ],
          "name": "stdout"
        }
      ]
    },
    {
      "cell_type": "code",
      "metadata": {
        "id": "I0pBJimVLzNU",
        "colab_type": "code",
        "outputId": "fd4300e4-82b6-40af-8a75-7796b2684373",
        "colab": {
          "base_uri": "https://localhost:8080/",
          "height": 122
        }
      },
      "source": [
        "# mount google drive \n",
        "from google.colab import drive\n",
        "drive.mount('/content/drive')"
      ],
      "execution_count": 2,
      "outputs": [
        {
          "output_type": "stream",
          "text": [
            "Go to this URL in a browser: https://accounts.google.com/o/oauth2/auth?client_id=947318989803-6bn6qk8qdgf4n4g3pfee6491hc0brc4i.apps.googleusercontent.com&redirect_uri=urn%3aietf%3awg%3aoauth%3a2.0%3aoob&response_type=code&scope=email%20https%3a%2f%2fwww.googleapis.com%2fauth%2fdocs.test%20https%3a%2f%2fwww.googleapis.com%2fauth%2fdrive%20https%3a%2f%2fwww.googleapis.com%2fauth%2fdrive.photos.readonly%20https%3a%2f%2fwww.googleapis.com%2fauth%2fpeopleapi.readonly\n",
            "\n",
            "Enter your authorization code:\n",
            "··········\n",
            "Mounted at /content/drive\n"
          ],
          "name": "stdout"
        }
      ]
    },
    {
      "cell_type": "code",
      "metadata": {
        "colab_type": "code",
        "id": "bmv0RqrACbd-",
        "colab": {}
      },
      "source": [
        "# function to read raw text file\n",
        "def read_text(filename):\n",
        "    # open the file\n",
        "    file = open(filename, mode='rt', encoding='utf-8')\n",
        "\n",
        "    # read all text\n",
        "    text = file.read()\n",
        "    file.close()\n",
        "    return text"
      ],
      "execution_count": 0,
      "outputs": []
    },
    {
      "cell_type": "code",
      "metadata": {
        "colab_type": "code",
        "id": "pf5s0qc9Dpa6",
        "colab": {}
      },
      "source": [
        "# split a text into sentences\n",
        "def to_lines(text):\n",
        "    sentence = text.strip().split('\\n')\n",
        "    sentence = [i.split('\\t') for i in sentence]\n",
        "    return sentence"
      ],
      "execution_count": 0,
      "outputs": []
    },
    {
      "cell_type": "code",
      "metadata": {
        "colab_type": "code",
        "id": "Ttcy6dKhDrmB",
        "outputId": "0ec62ba9-1722-443a-aa24-9d53497182b5",
        "colab": {
          "base_uri": "https://localhost:8080/",
          "height": 34
        }
      },
      "source": [
        "data = read_text(\"/content/drive/My Drive/Colab Notebooks/raw.txt\")\n",
        "# split each sentence\n",
        "eng_ja = to_lines(data)\n",
        "# to numpy array\n",
        "eng_ja = array(eng_ja)\n",
        "type(eng_ja)"
      ],
      "execution_count": 5,
      "outputs": [
        {
          "output_type": "execute_result",
          "data": {
            "text/plain": [
              "numpy.ndarray"
            ]
          },
          "metadata": {
            "tags": []
          },
          "execution_count": 5
        }
      ]
    },
    {
      "cell_type": "code",
      "metadata": {
        "colab_type": "code",
        "id": "OMHI0M1qPWqa",
        "colab": {}
      },
      "source": [
        "# get number of sentences\n",
        "eng_ja = eng_ja[:10000,:]"
      ],
      "execution_count": 0,
      "outputs": []
    },
    {
      "cell_type": "code",
      "metadata": {
        "colab_type": "code",
        "id": "cUEU_GU1PYNq",
        "outputId": "54c11360-39bd-4436-d528-8dbc632bc961",
        "colab": {
          "base_uri": "https://localhost:8080/",
          "height": 153
        }
      },
      "source": [
        "eng_ja"
      ],
      "execution_count": 7,
      "outputs": [
        {
          "output_type": "execute_result",
          "data": {
            "text/plain": [
              "array([[\"you are back, aren't you, harold?\", 'あなたは戻ったのね ハロルド?'],\n",
              "       ['my opponent is shark.', '俺の相手は シャークだ。'],\n",
              "       ['this is one thing in exchange for another.', '引き換えだ ある事とある物の'],\n",
              "       ...,\n",
              "       [\"got to take the perks where i can get 'em.\", '特権は利用しないと'],\n",
              "       ['i do not fall.', '大事な仲間に そんなことはできない。'],\n",
              "       ['we knew that it was just one long dream.', 'あたしたちは長い夢を見てるんだって']],\n",
              "      dtype='<U352')"
            ]
          },
          "metadata": {
            "tags": []
          },
          "execution_count": 7
        }
      ]
    },
    {
      "cell_type": "code",
      "metadata": {
        "colab_type": "code",
        "id": "3ikqxXGePadk",
        "outputId": "15a7558b-7c70-459d-8674-45e26dd4840b",
        "colab": {
          "base_uri": "https://localhost:8080/",
          "height": 153
        }
      },
      "source": [
        "# Remove punctuation from english \n",
        "eng_ja[:,0] = [s.translate(str.maketrans('', '', string.punctuation)) for s in eng_ja[:,0]]\n",
        "# Remove punctuation from Japanese\n",
        "eng_ja[:,1] = [s.translate(str.maketrans('', '', string.punctuation)) for s in eng_ja[:,1]]\n",
        "eng_ja"
      ],
      "execution_count": 8,
      "outputs": [
        {
          "output_type": "execute_result",
          "data": {
            "text/plain": [
              "array([['you are back arent you harold', 'あなたは戻ったのね ハロルド'],\n",
              "       ['my opponent is shark', '俺の相手は シャークだ。'],\n",
              "       ['this is one thing in exchange for another', '引き換えだ ある事とある物の'],\n",
              "       ...,\n",
              "       ['got to take the perks where i can get em', '特権は利用しないと'],\n",
              "       ['i do not fall', '大事な仲間に そんなことはできない。'],\n",
              "       ['we knew that it was just one long dream', 'あたしたちは長い夢を見てるんだって']],\n",
              "      dtype='<U352')"
            ]
          },
          "metadata": {
            "tags": []
          },
          "execution_count": 8
        }
      ]
    },
    {
      "cell_type": "code",
      "metadata": {
        "id": "RBMqrm3o-sJt",
        "colab_type": "code",
        "outputId": "11f545c9-88e1-4cca-d29e-d5b6221fd772",
        "colab": {
          "base_uri": "https://localhost:8080/",
          "height": 153
        }
      },
      "source": [
        "# convert text to lowercase\n",
        "for i in range(len(eng_ja)):\n",
        "    eng_ja[i,0] = eng_ja[i,0].lower()\n",
        "    eng_ja[i,1] = eng_ja[i,1].lower()\n",
        "\n",
        "eng_ja"
      ],
      "execution_count": 9,
      "outputs": [
        {
          "output_type": "execute_result",
          "data": {
            "text/plain": [
              "array([['you are back arent you harold', 'あなたは戻ったのね ハロルド'],\n",
              "       ['my opponent is shark', '俺の相手は シャークだ。'],\n",
              "       ['this is one thing in exchange for another', '引き換えだ ある事とある物の'],\n",
              "       ...,\n",
              "       ['got to take the perks where i can get em', '特権は利用しないと'],\n",
              "       ['i do not fall', '大事な仲間に そんなことはできない。'],\n",
              "       ['we knew that it was just one long dream', 'あたしたちは長い夢を見てるんだって']],\n",
              "      dtype='<U352')"
            ]
          },
          "metadata": {
            "tags": []
          },
          "execution_count": 9
        }
      ]
    },
    {
      "cell_type": "code",
      "metadata": {
        "colab_type": "code",
        "id": "oeOvXEYFQq_-",
        "colab": {}
      },
      "source": [
        "# using sentencePiece for split sentence\n",
        "import sentencepiece as spm\n",
        "sp = spm.SentencePieceProcessor()"
      ],
      "execution_count": 0,
      "outputs": []
    },
    {
      "cell_type": "code",
      "metadata": {
        "id": "QrYiW2_Pl1lf",
        "colab_type": "code",
        "outputId": "f79cc583-d735-45eb-a298-7bc59c831683",
        "colab": {
          "base_uri": "https://localhost:8080/",
          "height": 34
        }
      },
      "source": [
        "# train SentencePiece using english text \n",
        "spm.SentencePieceTrainer.Train('--input=english.txt --model_prefix=m --vocab_size=8000')"
      ],
      "execution_count": 11,
      "outputs": [
        {
          "output_type": "execute_result",
          "data": {
            "text/plain": [
              "True"
            ]
          },
          "metadata": {
            "tags": []
          },
          "execution_count": 11
        }
      ]
    },
    {
      "cell_type": "code",
      "metadata": {
        "id": "n-iz13U2awVV",
        "colab_type": "code",
        "outputId": "e1453f99-9060-4eb1-9cc2-f557df074ad7",
        "colab": {
          "base_uri": "https://localhost:8080/",
          "height": 153
        }
      },
      "source": [
        "# english sentencepiece\n",
        "sp.Load('m.model')\n",
        "eng_ja[:,0] = [\"\".join(sp.encode_as_pieces(i)).replace('▁', ' ') for i in eng_ja[:,0]]\n",
        "\n",
        "# japanese sentencepiece\n",
        "# using pretrain sentencepiece\n",
        "# it is trained by wiki\n",
        "sp.Load('/content/drive/My Drive/wiki-ja.model')\n",
        "eng_ja[:,1] = [\"\".join(sp.encode_as_pieces(i)).replace('▁', ' ') for i in eng_ja[:,1]]\n",
        "eng_ja"
      ],
      "execution_count": 12,
      "outputs": [
        {
          "output_type": "execute_result",
          "data": {
            "text/plain": [
              "array([[' you are back arent you harold', ' あなたは戻ったのね ハロルド'],\n",
              "       [' my opponent is shark', ' 俺の相手は シャークだ。'],\n",
              "       [' this is one thing in exchange for another', ' 引き換えだ ある事とある物の'],\n",
              "       ...,\n",
              "       [' got to take the perks where i can get em', ' 特権は利用しないと'],\n",
              "       [' i do not fall', ' 大事な仲間に そんなことはできない。'],\n",
              "       [' we knew that it was just one long dream', ' あたしたちは長い夢を見てるんだって']],\n",
              "      dtype='<U352')"
            ]
          },
          "metadata": {
            "tags": []
          },
          "execution_count": 12
        }
      ]
    },
    {
      "cell_type": "code",
      "metadata": {
        "colab_type": "code",
        "id": "sizAmLv2Pj-j",
        "outputId": "55bf29ad-8ce3-423a-dcfb-1ff2cc05fdbb",
        "colab": {
          "base_uri": "https://localhost:8080/",
          "height": 281
        }
      },
      "source": [
        "# empty lists\n",
        "eng_list = []\n",
        "ja_list = []\n",
        "\n",
        "# check sentence length\n",
        "# english\n",
        "for i in eng_ja[:,0]:\n",
        "    eng_list.append(len(i.split()))\n",
        "\n",
        "# Japanese\n",
        "for i in eng_ja[:,1]:\n",
        "    ja_list.append(len(i.split()))\n",
        "\n",
        "length_df = pd.DataFrame({'eng':eng_list, 'ja':ja_list})\n",
        "\n",
        "length_df.hist(bins = 30)\n",
        "plt.show()"
      ],
      "execution_count": 13,
      "outputs": [
        {
          "output_type": "display_data",
          "data": {
            "image/png": "[encoded data removed]",
            "text/plain": [
              "<Figure size 432x288 with 2 Axes>"
            ]
          },
          "metadata": {
            "tags": []
          }
        }
      ]
    },
    {
      "cell_type": "code",
      "metadata": {
        "colab_type": "code",
        "id": "1WLwCK4xVynu",
        "outputId": "6c6b2dbd-23df-4fa6-f7e2-5d14c366bb3d",
        "colab": {
          "base_uri": "https://localhost:8080/",
          "height": 51
        }
      },
      "source": [
        "print(\"max length English {}\".format(max(eng_list)))\n",
        "print(\"max length Japanese {}\".format(max(ja_list)))"
      ],
      "execution_count": 14,
      "outputs": [
        {
          "output_type": "stream",
          "text": [
            "max length English 39\n",
            "max length Japanese 8\n"
          ],
          "name": "stdout"
        }
      ]
    },
    {
      "cell_type": "code",
      "metadata": {
        "colab_type": "code",
        "id": "ZEdYwmc3PoJT",
        "colab": {}
      },
      "source": [
        "# build a tokenizer\n",
        "def tokenization(lines):\n",
        "    tokenizer = Tokenizer()\n",
        "    tokenizer.fit_on_texts(lines)\n",
        "    return tokenizer"
      ],
      "execution_count": 0,
      "outputs": []
    },
    {
      "cell_type": "code",
      "metadata": {
        "colab_type": "code",
        "id": "2UVxaCNJU7Bm",
        "outputId": "1780cdcd-723e-4c0a-a308-cfee103541fb",
        "colab": {
          "base_uri": "https://localhost:8080/",
          "height": 34
        }
      },
      "source": [
        "# prepare English tokenizer\n",
        "eng_tokenizer = tokenization(eng_ja[:, 0])\n",
        "eng_vocab_size = len(eng_tokenizer.word_index) + 1\n",
        "\n",
        "# must all the sequences of the same length.\n",
        "eng_length = 39\n",
        "print('English Vocabulary Size: %d' % eng_vocab_size)"
      ],
      "execution_count": 16,
      "outputs": [
        {
          "output_type": "stream",
          "text": [
            "English Vocabulary Size: 8849\n"
          ],
          "name": "stdout"
        }
      ]
    },
    {
      "cell_type": "code",
      "metadata": {
        "colab_type": "code",
        "id": "jAkfW5TfWaca",
        "outputId": "4c2274e8-2871-4233-b798-38f3e97981aa",
        "colab": {
          "base_uri": "https://localhost:8080/",
          "height": 34
        }
      },
      "source": [
        "# prepare Japanese tokenizer\n",
        "ja_tokenizer = tokenization(eng_ja[:, 1])\n",
        "ja_vocab_size = len(ja_tokenizer.word_index) + 1\n",
        "\n",
        "# must all the sequences of the same length.\n",
        "ja_length = 8\n",
        "print('Deutch Vocabulary Size: %d' % ja_vocab_size)"
      ],
      "execution_count": 17,
      "outputs": [
        {
          "output_type": "stream",
          "text": [
            "Deutch Vocabulary Size: 15128\n"
          ],
          "name": "stdout"
        }
      ]
    },
    {
      "cell_type": "code",
      "metadata": {
        "colab_type": "code",
        "id": "cw26UoZEWf6h",
        "colab": {}
      },
      "source": [
        "# encode and pad sequences\n",
        "def encode_sequences(tokenizer, length, lines):\n",
        "    # integer encode sequences\n",
        "    seq = tokenizer.texts_to_sequences(lines)\n",
        "    # pad sequences with 0 values\n",
        "    seq = pad_sequences(seq, maxlen=length, padding='post')\n",
        "    return seq"
      ],
      "execution_count": 0,
      "outputs": []
    },
    {
      "cell_type": "code",
      "metadata": {
        "colab_type": "code",
        "id": "ANKcc_U6WjmX",
        "colab": {}
      },
      "source": [
        "from sklearn.model_selection import train_test_split\n",
        "\n",
        "# split data into train and test set\n",
        "train, test = train_test_split(eng_ja, test_size=0.3, random_state = 42)"
      ],
      "execution_count": 0,
      "outputs": []
    },
    {
      "cell_type": "code",
      "metadata": {
        "id": "ClRso5dOwFoW",
        "colab_type": "code",
        "colab": {
          "base_uri": "https://localhost:8080/",
          "height": 221
        },
        "outputId": "8a282f02-2529-4206-e261-baa87f549b66"
      },
      "source": [
        "test[:10]"
      ],
      "execution_count": 20,
      "outputs": [
        {
          "output_type": "execute_result",
          "data": {
            "text/plain": [
              "array([[' dont let it open close it theyll get in', ' 開くな 閉じろ'],\n",
              "       [' he passed me a copy of the incident report',\n",
              "        ' 彼は事件報告の コピーを渡したの'],\n",
              "       [' to ruin my own wedding', ' 潰そうとしなくちゃ いけないんですか'],\n",
              "       [' ive been on the road for a couple of months', ' 数ヶ月路上に居たよ'],\n",
              "       [' its here', ' こっちよ'],\n",
              "       [' i know you dont drive', ' あぁ クソ'],\n",
              "       [' a cat', ' ネコ'],\n",
              "       [' good but if i find out hes been playing you doctor',\n",
              "        ' 結構 だがもし 奴が君を騙していたとなれば━'],\n",
              "       [' yup thats it', ' しょうゆうこと'],\n",
              "       [' what are you doing', ' なにシンクロしてんだ']], dtype='<U352')"
            ]
          },
          "metadata": {
            "tags": []
          },
          "execution_count": 20
        }
      ]
    },
    {
      "cell_type": "code",
      "metadata": {
        "colab_type": "code",
        "id": "UIpLRoOLWlKr",
        "colab": {}
      },
      "source": [
        "# prepare training data\n",
        "X_train = encode_sequences(eng_tokenizer, eng_length, train[:, 0])\n",
        "Y_train = encode_sequences(ja_tokenizer, ja_length, train[:, 1])\n",
        "\n",
        "# prepare validation data\n",
        "X_test = encode_sequences(eng_tokenizer, eng_length, test[:, 0])\n",
        "Y_test = encode_sequences(ja_tokenizer, ja_length, test[:, 1])\n"
      ],
      "execution_count": 0,
      "outputs": []
    },
    {
      "cell_type": "code",
      "metadata": {
        "colab_type": "code",
        "id": "Ma59RoqRWnMy",
        "colab": {}
      },
      "source": [
        "# build NMT model\n",
        "def define_model(in_vocab,out_vocab, in_timesteps,out_timesteps,units):\n",
        "    model = Sequential()\n",
        "    model.add(Embedding(in_vocab, units, input_length=in_timesteps, mask_zero=True))\n",
        "    model.add(LSTM(units))\n",
        "    Dropout(rate=0.5)\n",
        "    model.add(RepeatVector(out_timesteps))\n",
        "    Dropout(rate=0.5)\n",
        "    model.add(LSTM(units, return_sequences=True))\n",
        "    model.add(Dense(out_vocab, activation='softmax'))\n",
        "    return model"
      ],
      "execution_count": 0,
      "outputs": []
    },
    {
      "cell_type": "code",
      "metadata": {
        "colab_type": "code",
        "id": "Ti0TrucnWqzr",
        "colab": {
          "base_uri": "https://localhost:8080/",
          "height": 190
        },
        "outputId": "4730cfea-6268-440e-ba2b-cb821569e635"
      },
      "source": [
        "# model compilation\n",
        "model = define_model(eng_vocab_size, ja_vocab_size, eng_length, ja_length, 512)"
      ],
      "execution_count": 23,
      "outputs": [
        {
          "output_type": "stream",
          "text": [
            "WARNING:tensorflow:From /usr/local/lib/python3.6/dist-packages/keras/backend/tensorflow_backend.py:66: The name tf.get_default_graph is deprecated. Please use tf.compat.v1.get_default_graph instead.\n",
            "\n",
            "WARNING:tensorflow:From /usr/local/lib/python3.6/dist-packages/keras/backend/tensorflow_backend.py:541: The name tf.placeholder is deprecated. Please use tf.compat.v1.placeholder instead.\n",
            "\n",
            "WARNING:tensorflow:From /usr/local/lib/python3.6/dist-packages/keras/backend/tensorflow_backend.py:4432: The name tf.random_uniform is deprecated. Please use tf.random.uniform instead.\n",
            "\n",
            "WARNING:tensorflow:From /usr/local/lib/python3.6/dist-packages/keras/backend/tensorflow_backend.py:3239: where (from tensorflow.python.ops.array_ops) is deprecated and will be removed in a future version.\n",
            "Instructions for updating:\n",
            "Use tf.where in 2.0, which has the same broadcast rule as np.where\n"
          ],
          "name": "stdout"
        }
      ]
    },
    {
      "cell_type": "code",
      "metadata": {
        "colab_type": "code",
        "id": "aYQVg6NRWsuN",
        "colab": {
          "base_uri": "https://localhost:8080/",
          "height": 105
        },
        "outputId": "877fc362-6481-44de-d5b8-ee77febe97ec"
      },
      "source": [
        "# optimize loss function\n",
        "rms = optimizers.RMSprop(lr=0.00001)\n",
        "\n",
        "model.compile(optimizer=rms, loss='sparse_categorical_crossentropy', metrics=['accuracy'])"
      ],
      "execution_count": 24,
      "outputs": [
        {
          "output_type": "stream",
          "text": [
            "WARNING:tensorflow:From /usr/local/lib/python3.6/dist-packages/keras/optimizers.py:793: The name tf.train.Optimizer is deprecated. Please use tf.compat.v1.train.Optimizer instead.\n",
            "\n",
            "WARNING:tensorflow:From /usr/local/lib/python3.6/dist-packages/keras/backend/tensorflow_backend.py:3622: The name tf.log is deprecated. Please use tf.math.log instead.\n",
            "\n"
          ],
          "name": "stdout"
        }
      ]
    },
    {
      "cell_type": "code",
      "metadata": {
        "colab_type": "code",
        "id": "dhAUdzArWvju",
        "outputId": "6f473801-7317-4acf-df60-74e55bf02d92",
        "colab": {
          "base_uri": "https://localhost:8080/",
          "height": 666
        }
      },
      "source": [
        "# checkpoint\n",
        "filename = 'model.h1.22_Nov_19'\n",
        "checkpoint = ModelCheckpoint(filename, monitor='val_loss', verbose=1, save_best_only=True, mode='min')\n",
        "\n",
        "# train model\n",
        "history = model.fit(X_train, Y_train.reshape(Y_train.shape[0], Y_train.shape[1], 1),\n",
        "                    epochs=5, batch_size=128, validation_split = 0.2, callbacks=[checkpoint],                    \n",
        "                    verbose=1)"
      ],
      "execution_count": 25,
      "outputs": [
        {
          "output_type": "stream",
          "text": [
            "WARNING:tensorflow:From /usr/local/lib/python3.6/dist-packages/keras/backend/tensorflow_backend.py:1033: The name tf.assign_add is deprecated. Please use tf.compat.v1.assign_add instead.\n",
            "\n",
            "WARNING:tensorflow:From /usr/local/lib/python3.6/dist-packages/keras/backend/tensorflow_backend.py:1020: The name tf.assign is deprecated. Please use tf.compat.v1.assign instead.\n",
            "\n",
            "WARNING:tensorflow:From /usr/local/lib/python3.6/dist-packages/keras/backend/tensorflow_backend.py:3005: The name tf.Session is deprecated. Please use tf.compat.v1.Session instead.\n",
            "\n",
            "Train on 5600 samples, validate on 1400 samples\n",
            "Epoch 1/5\n",
            "WARNING:tensorflow:From /usr/local/lib/python3.6/dist-packages/keras/backend/tensorflow_backend.py:190: The name tf.get_default_session is deprecated. Please use tf.compat.v1.get_default_session instead.\n",
            "\n",
            "WARNING:tensorflow:From /usr/local/lib/python3.6/dist-packages/keras/backend/tensorflow_backend.py:197: The name tf.ConfigProto is deprecated. Please use tf.compat.v1.ConfigProto instead.\n",
            "\n",
            "WARNING:tensorflow:From /usr/local/lib/python3.6/dist-packages/keras/backend/tensorflow_backend.py:207: The name tf.global_variables is deprecated. Please use tf.compat.v1.global_variables instead.\n",
            "\n",
            "WARNING:tensorflow:From /usr/local/lib/python3.6/dist-packages/keras/backend/tensorflow_backend.py:216: The name tf.is_variable_initialized is deprecated. Please use tf.compat.v1.is_variable_initialized instead.\n",
            "\n",
            "WARNING:tensorflow:From /usr/local/lib/python3.6/dist-packages/keras/backend/tensorflow_backend.py:223: The name tf.variables_initializer is deprecated. Please use tf.compat.v1.variables_initializer instead.\n",
            "\n",
            "5600/5600 [==============================] - 11s 2ms/step - loss: 9.6217 - acc: 0.4164 - val_loss: 9.6192 - val_acc: 0.7774\n",
            "\n",
            "Epoch 00001: val_loss improved from inf to 9.61917, saving model to model.h1.22_Nov_19\n",
            "Epoch 2/5\n",
            "5600/5600 [==============================] - 6s 1ms/step - loss: 9.6153 - acc: 0.7841 - val_loss: 9.6105 - val_acc: 0.7874\n",
            "\n",
            "Epoch 00002: val_loss improved from 9.61917 to 9.61054, saving model to model.h1.22_Nov_19\n",
            "Epoch 3/5\n",
            "5600/5600 [==============================] - 6s 1ms/step - loss: 9.6020 - acc: 0.7869 - val_loss: 9.5915 - val_acc: 0.7874\n",
            "\n",
            "Epoch 00003: val_loss improved from 9.61054 to 9.59146, saving model to model.h1.22_Nov_19\n",
            "Epoch 4/5\n",
            "5600/5600 [==============================] - 6s 1ms/step - loss: 9.5713 - acc: 0.7869 - val_loss: 9.5462 - val_acc: 0.7874\n",
            "\n",
            "Epoch 00004: val_loss improved from 9.59146 to 9.54624, saving model to model.h1.22_Nov_19\n",
            "Epoch 5/5\n",
            "5600/5600 [==============================] - 6s 1ms/step - loss: 9.4947 - acc: 0.7869 - val_loss: 9.4288 - val_acc: 0.7874\n",
            "\n",
            "Epoch 00005: val_loss improved from 9.54624 to 9.42880, saving model to model.h1.22_Nov_19\n"
          ],
          "name": "stdout"
        }
      ]
    },
    {
      "cell_type": "code",
      "metadata": {
        "id": "Pce1wkdUHm7N",
        "colab_type": "code",
        "outputId": "8c8eef2b-f9aa-4c6a-9e53-663f88ffa40a",
        "colab": {
          "base_uri": "https://localhost:8080/",
          "height": 644
        }
      },
      "source": [
        "from keras.utils import plot_model\n",
        "\n",
        "# model plot\n",
        "plot_model(model, to_file='train-bert.png', show_shapes=True)"
      ],
      "execution_count": 26,
      "outputs": [
        {
          "output_type": "execute_result",
          "data": {
            "image/png": "[encoded data removed]",
            "text/plain": [
              "<IPython.core.display.Image object>"
            ]
          },
          "metadata": {
            "tags": []
          },
          "execution_count": 26
        }
      ]
    },
    {
      "cell_type": "code",
      "metadata": {
        "colab_type": "code",
        "id": "3Vm5oB5JW2NA",
        "outputId": "80331ee9-5aec-4bbd-c828-397a98fabb1e",
        "colab": {
          "base_uri": "https://localhost:8080/",
          "height": 312
        }
      },
      "source": [
        "fig, (ax1, ax2) = plt.subplots(ncols=2, figsize=(10,4))\n",
        "print(history.history.keys())\n",
        "def plot_history_acc(history):\n",
        "    # plot the accuracy\n",
        "    ax1.plot(history.history['acc'],label=\"accuracy for training\")\n",
        "    ax1.plot(history.history['val_acc'],label=\"accuracy for validation\")\n",
        "    ax1.set_title('model accuracy')\n",
        "    ax1.set_xlabel('epoch')\n",
        "    ax1.set_ylabel('accuracy')\n",
        "    ax1.legend(loc='upper right')\n",
        "\n",
        "def plot_history_loss(history):\n",
        "    # Plot the loss\n",
        "    ax2.plot(history.history['loss'],label=\"loss for training\")\n",
        "    ax2.plot(history.history['val_loss'],label=\"loss for validation\")\n",
        "    ax2.set_title('model loss')\n",
        "    ax2.set_xlabel('epoch')\n",
        "    ax2.set_ylabel('loss')\n",
        "    ax2.legend(loc='upper right')\n",
        "\n",
        "plot_history_loss(history)\n",
        "plot_history_acc(history)\n",
        "\n",
        "plt.show()"
      ],
      "execution_count": 27,
      "outputs": [
        {
          "output_type": "stream",
          "text": [
            "dict_keys(['val_loss', 'val_acc', 'loss', 'acc'])\n"
          ],
          "name": "stdout"
        },
        {
          "output_type": "display_data",
          "data": {
            "image/png": "[encoded data removed]",
            "text/plain": [
              "<Figure size 720x288 with 2 Axes>"
            ]
          },
          "metadata": {
            "tags": []
          }
        }
      ]
    },
    {
      "cell_type": "code",
      "metadata": {
        "colab_type": "code",
        "id": "x3S1NMKGY5Tm",
        "colab": {}
      },
      "source": [
        "# load model data \n",
        "model = load_model('model.h1.22_Nov_19')\n",
        "\n",
        "# predict\n",
        "preds = model.predict_classes(X_test)"
      ],
      "execution_count": 0,
      "outputs": []
    },
    {
      "cell_type": "code",
      "metadata": {
        "id": "WfidRuLJ0trr",
        "colab_type": "code",
        "colab": {
          "base_uri": "https://localhost:8080/",
          "height": 136
        },
        "outputId": "2d8e1f08-245b-4b27-a362-32bec6d65c18"
      },
      "source": [
        "X_test.reshape((X_test.shape[0],X_test.shape[1]))"
      ],
      "execution_count": 29,
      "outputs": [
        {
          "output_type": "execute_result",
          "data": {
            "text/plain": [
              "array([[  33,  142,    9, ...,    0,    0,    0],\n",
              "       [  32,  805,   15, ...,    0,    0,    0],\n",
              "       [   4, 2587,   20, ...,    0,    0,    0],\n",
              "       ...,\n",
              "       [  28,   39,    2, ...,    0,    0,    0],\n",
              "       [   6,   14,   75, ...,    0,    0,    0],\n",
              "       [  30,  276,   87, ...,    0,    0,    0]], dtype=int32)"
            ]
          },
          "metadata": {
            "tags": []
          },
          "execution_count": 29
        }
      ]
    },
    {
      "cell_type": "code",
      "metadata": {
        "id": "ZsP9ZAY0HITa",
        "colab_type": "code",
        "colab": {
          "base_uri": "https://localhost:8080/",
          "height": 136
        },
        "outputId": "a48553de-6c35-4546-c722-f3f1526db6e7"
      },
      "source": [
        "Y_test"
      ],
      "execution_count": 30,
      "outputs": [
        {
          "output_type": "execute_result",
          "data": {
            "text/plain": [
              "array([[ 9715,  9716,     0, ...,     0,     0,     0],\n",
              "       [ 7392,  7393,     0, ...,     0,     0,     0],\n",
              "       [ 3181,  3182,     0, ...,     0,     0,     0],\n",
              "       ...,\n",
              "       [ 5073,     0,     0, ...,     0,     0,     0],\n",
              "       [10052,     0,     0, ...,     0,     0,     0],\n",
              "       [ 7420,     0,     0, ...,     0,     0,     0]], dtype=int32)"
            ]
          },
          "metadata": {
            "tags": []
          },
          "execution_count": 30
        }
      ]
    },
    {
      "cell_type": "code",
      "metadata": {
        "id": "eM9TKTYB01PY",
        "colab_type": "code",
        "colab": {
          "base_uri": "https://localhost:8080/",
          "height": 51
        },
        "outputId": "9450582f-26c7-4074-aed6-086c187d532c"
      },
      "source": [
        "preds[:2]"
      ],
      "execution_count": 31,
      "outputs": [
        {
          "output_type": "execute_result",
          "data": {
            "text/plain": [
              "array([[0, 0, 0, 0, 0, 0, 0, 0],\n",
              "       [0, 0, 0, 0, 0, 0, 0, 0]])"
            ]
          },
          "metadata": {
            "tags": []
          },
          "execution_count": 31
        }
      ]
    },
    {
      "cell_type": "code",
      "metadata": {
        "id": "v5VHrdPAHNHk",
        "colab_type": "code",
        "colab": {}
      },
      "source": [
        "from sklearn.metrics import confusion_matrix\n",
        "from sklearn.metrics import precision_score, recall_score, f1_score\n",
        "precision = precision_score(Y_test, preds)\n",
        "recall = recall_score(Y_test, preds)\n",
        "f1 = f1_score(Y_test, preds)\n",
        "print(\"Precision\", precision)\n",
        "print(\"Recall\", recall)\n",
        "print(\"F1Score\", f1)\n",
        "print(confusion_matrix(Y_test, preds))"
      ],
      "execution_count": 0,
      "outputs": []
    },
    {
      "cell_type": "code",
      "metadata": {
        "colab_type": "code",
        "id": "fSnPPvraY_uW",
        "colab": {}
      },
      "source": [
        "def get_word(n, tokenizer):\n",
        "    for word, index in tokenizer.word_index.items():\n",
        "        if index == n:\n",
        "            return word\n",
        "    return None"
      ],
      "execution_count": 0,
      "outputs": []
    },
    {
      "cell_type": "code",
      "metadata": {
        "colab_type": "code",
        "id": "OchHfcobZKbY",
        "colab": {}
      },
      "source": [
        "preds_text = []\n",
        "for i in preds:\n",
        "    print(i)\n",
        "    temp = []\n",
        "    for j in range(len(i)):\n",
        "        t = get_word(i[j], ja_tokenizer)\n",
        "\n",
        "        if j > 0:\n",
        "            if (t == get_word(i[j-1], ja_tokenizer)) or (t == None):\n",
        "                temp.append('')\n",
        "            else:\n",
        "                temp.append(t)\n",
        "        else:\n",
        "            if(t == None):\n",
        "                temp.append('')\n",
        "            else:\n",
        "                temp.append(t) \n",
        "\n",
        "    preds_text.append(' '.join(temp))"
      ],
      "execution_count": 0,
      "outputs": []
    },
    {
      "cell_type": "code",
      "metadata": {
        "colab_type": "code",
        "id": "Q01F6aF4ZMB_",
        "colab": {}
      },
      "source": [
        "# view actual sentence anf predict result\n",
        "pred_df = pd.DataFrame({'actual' : test[:,1], 'predicted' : preds_text})"
      ],
      "execution_count": 0,
      "outputs": []
    },
    {
      "cell_type": "code",
      "metadata": {
        "colab_type": "code",
        "id": "tyF2rYenhsDJ",
        "outputId": "624cc0d5-a8cf-4f62-df33-4e9934cf3b4f",
        "colab": {
          "base_uri": "https://localhost:8080/",
          "height": 1000
        }
      },
      "source": [
        "pred_df.sample(50)"
      ],
      "execution_count": 0,
      "outputs": [
        {
          "output_type": "execute_result",
          "data": {
            "text/html": [
              "<div>\n",
              "<style scoped>\n",
              "    .dataframe tbody tr th:only-of-type {\n",
              "        vertical-align: middle;\n",
              "    }\n",
              "\n",
              "    .dataframe tbody tr th {\n",
              "        vertical-align: top;\n",
              "    }\n",
              "\n",
              "    .dataframe thead th {\n",
              "        text-align: right;\n",
              "    }\n",
              "</style>\n",
              "<table border=\"1\" class=\"dataframe\">\n",
              "  <thead>\n",
              "    <tr style=\"text-align: right;\">\n",
              "      <th></th>\n",
              "      <th>actual</th>\n",
              "      <th>predicted</th>\n",
              "    </tr>\n",
              "  </thead>\n",
              "  <tbody>\n",
              "    <tr>\n",
              "      <th>2840</th>\n",
              "      <td>堀池 清美の ロスタイムが 終わりました。</td>\n",
              "      <td></td>\n",
              "    </tr>\n",
              "    <tr>\n",
              "      <th>2455</th>\n",
              "      <td>その時進入できる。</td>\n",
              "      <td></td>\n",
              "    </tr>\n",
              "    <tr>\n",
              "      <th>2683</th>\n",
              "      <td>背後から 彼女を襲ったのか</td>\n",
              "      <td></td>\n",
              "    </tr>\n",
              "    <tr>\n",
              "      <th>1515</th>\n",
              "      <td>よくやった</td>\n",
              "      <td></td>\n",
              "    </tr>\n",
              "    <tr>\n",
              "      <th>159</th>\n",
              "      <td>教会の犬め</td>\n",
              "      <td></td>\n",
              "    </tr>\n",
              "    <tr>\n",
              "      <th>2005</th>\n",
              "      <td>馴れたもんだろ</td>\n",
              "      <td></td>\n",
              "    </tr>\n",
              "    <tr>\n",
              "      <th>2403</th>\n",
              "      <td>おおきになぁ。 あっ いえいえ。</td>\n",
              "      <td></td>\n",
              "    </tr>\n",
              "    <tr>\n",
              "      <th>633</th>\n",
              "      <td>何だよ それ 子供は親の所有物じゃないのに</td>\n",
              "      <td></td>\n",
              "    </tr>\n",
              "    <tr>\n",
              "      <th>1918</th>\n",
              "      <td>ばかげてます</td>\n",
              "      <td></td>\n",
              "    </tr>\n",
              "    <tr>\n",
              "      <th>566</th>\n",
              "      <td>不安を感じながらも どうにかやり遂げたというような感じです</td>\n",
              "      <td></td>\n",
              "    </tr>\n",
              "    <tr>\n",
              "      <th>2284</th>\n",
              "      <td>でも 俺は 何ももらえないの</td>\n",
              "      <td></td>\n",
              "    </tr>\n",
              "    <tr>\n",
              "      <th>819</th>\n",
              "      <td>臨床腫瘍学と苦痛緩和看護</td>\n",
              "      <td></td>\n",
              "    </tr>\n",
              "    <tr>\n",
              "      <th>967</th>\n",
              "      <td>「ブロディが居るのを見た」</td>\n",
              "      <td></td>\n",
              "    </tr>\n",
              "    <tr>\n",
              "      <th>2251</th>\n",
              "      <td>それで、コーチはこんなふうに座って</td>\n",
              "      <td></td>\n",
              "    </tr>\n",
              "    <tr>\n",
              "      <th>1265</th>\n",
              "      <td>うちは いつも こうなんじゃない え</td>\n",
              "      <td></td>\n",
              "    </tr>\n",
              "    <tr>\n",
              "      <th>1605</th>\n",
              "      <td>そりゃ また ずいぶん でかいですね。</td>\n",
              "      <td></td>\n",
              "    </tr>\n",
              "    <tr>\n",
              "      <th>1757</th>\n",
              "      <td>それで 「ジャック」に持ち込む。</td>\n",
              "      <td></td>\n",
              "    </tr>\n",
              "    <tr>\n",
              "      <th>1251</th>\n",
              "      <td>国防省のマイク フェイバー大佐を</td>\n",
              "      <td></td>\n",
              "    </tr>\n",
              "    <tr>\n",
              "      <th>1140</th>\n",
              "      <td>我々はリスクを冒すことも辞しませんでした 当然ですよね</td>\n",
              "      <td></td>\n",
              "    </tr>\n",
              "    <tr>\n",
              "      <th>1098</th>\n",
              "      <td>我々が期待してたものとは 違うな 現場から発見されたこの45口径の弾丸は 去年 リコ法の証人から取り出された</td>\n",
              "      <td></td>\n",
              "    </tr>\n",
              "    <tr>\n",
              "      <th>716</th>\n",
              "      <td>どこの山で 採れたんですか そのタケノコ。</td>\n",
              "      <td></td>\n",
              "    </tr>\n",
              "    <tr>\n",
              "      <th>855</th>\n",
              "      <td>ねぇ ここ開けていい</td>\n",
              "      <td></td>\n",
              "    </tr>\n",
              "    <tr>\n",
              "      <th>952</th>\n",
              "      <td>何がわかる</td>\n",
              "      <td></td>\n",
              "    </tr>\n",
              "    <tr>\n",
              "      <th>143</th>\n",
              "      <td>ある創作をします</td>\n",
              "      <td></td>\n",
              "    </tr>\n",
              "    <tr>\n",
              "      <th>1600</th>\n",
              "      <td>当然在外表上是不会发现的</td>\n",
              "      <td></td>\n",
              "    </tr>\n",
              "    <tr>\n",
              "      <th>463</th>\n",
              "      <td>絶対に</td>\n",
              "      <td></td>\n",
              "    </tr>\n",
              "    <tr>\n",
              "      <th>2745</th>\n",
              "      <td>契約を結ぶ為に ボトルサービスさえ付けた</td>\n",
              "      <td></td>\n",
              "    </tr>\n",
              "    <tr>\n",
              "      <th>697</th>\n",
              "      <td>smの部屋じゃなかったの</td>\n",
              "      <td></td>\n",
              "    </tr>\n",
              "    <tr>\n",
              "      <th>453</th>\n",
              "      <td>わかった、そうか</td>\n",
              "      <td></td>\n",
              "    </tr>\n",
              "    <tr>\n",
              "      <th>389</th>\n",
              "      <td>森の中に消える</td>\n",
              "      <td></td>\n",
              "    </tr>\n",
              "    <tr>\n",
              "      <th>1551</th>\n",
              "      <td>君が守ってたら 特殊部隊じゃなくなるな 会いたいわ</td>\n",
              "      <td></td>\n",
              "    </tr>\n",
              "    <tr>\n",
              "      <th>637</th>\n",
              "      <td>あぁ、選択肢は1つだ 今日、君が300ドル払って―</td>\n",
              "      <td></td>\n",
              "    </tr>\n",
              "    <tr>\n",
              "      <th>2003</th>\n",
              "      <td>この脚本は 高倉 雄二が 書いたものでは ありません。</td>\n",
              "      <td></td>\n",
              "    </tr>\n",
              "    <tr>\n",
              "      <th>2695</th>\n",
              "      <td>あなたはやったのですか</td>\n",
              "      <td></td>\n",
              "    </tr>\n",
              "    <tr>\n",
              "      <th>470</th>\n",
              "      <td>帰ったら最初に 甘えさせて</td>\n",
              "      <td></td>\n",
              "    </tr>\n",
              "    <tr>\n",
              "      <th>433</th>\n",
              "      <td>危険がないと証明するためのものでした</td>\n",
              "      <td></td>\n",
              "    </tr>\n",
              "    <tr>\n",
              "      <th>2013</th>\n",
              "      <td>少しドキドキしたくらい。</td>\n",
              "      <td></td>\n",
              "    </tr>\n",
              "    <tr>\n",
              "      <th>2382</th>\n",
              "      <td>貴女が産んだ最後の世代は 既に全員が成熟</td>\n",
              "      <td></td>\n",
              "    </tr>\n",
              "    <tr>\n",
              "      <th>2322</th>\n",
              "      <td>私なんかでも 本当に何かできるの</td>\n",
              "      <td></td>\n",
              "    </tr>\n",
              "    <tr>\n",
              "      <th>1670</th>\n",
              "      <td>15年</td>\n",
              "      <td></td>\n",
              "    </tr>\n",
              "    <tr>\n",
              "      <th>2263</th>\n",
              "      <td>ではなぜ</td>\n",
              "      <td></td>\n",
              "    </tr>\n",
              "    <tr>\n",
              "      <th>318</th>\n",
              "      <td>金持ちだった</td>\n",
              "      <td></td>\n",
              "    </tr>\n",
              "    <tr>\n",
              "      <th>1171</th>\n",
              "      <td>スピードカウンターを4つ取り除くことで</td>\n",
              "      <td></td>\n",
              "    </tr>\n",
              "    <tr>\n",
              "      <th>859</th>\n",
              "      <td>ほら 行きたいだろ</td>\n",
              "      <td></td>\n",
              "    </tr>\n",
              "    <tr>\n",
              "      <th>1999</th>\n",
              "      <td>よく遊んでもらったでしょ</td>\n",
              "      <td></td>\n",
              "    </tr>\n",
              "    <tr>\n",
              "      <th>1588</th>\n",
              "      <td>彼があなたにしたことを許せない。</td>\n",
              "      <td></td>\n",
              "    </tr>\n",
              "    <tr>\n",
              "      <th>565</th>\n",
              "      <td>このお魚は誰</td>\n",
              "      <td></td>\n",
              "    </tr>\n",
              "    <tr>\n",
              "      <th>2696</th>\n",
              "      <td>わかった。行くって言っといて。</td>\n",
              "      <td></td>\n",
              "    </tr>\n",
              "    <tr>\n",
              "      <th>151</th>\n",
              "      <td>この野郎</td>\n",
              "      <td></td>\n",
              "    </tr>\n",
              "    <tr>\n",
              "      <th>750</th>\n",
              "      <td>ダクサスに彼自身と 熱意があり冷静で覚悟ができている 選りすぐりの20人が必要と伝えよ</td>\n",
              "      <td></td>\n",
              "    </tr>\n",
              "  </tbody>\n",
              "</table>\n",
              "</div>"
            ],
            "text/plain": [
              "                                                       actual predicted\n",
              "2840                                    堀池 清美の ロスタイムが 終わりました。          \n",
              "2455                                                その時進入できる。          \n",
              "2683                                            背後から 彼女を襲ったのか          \n",
              "1515                                                    よくやった          \n",
              "159                                                     教会の犬め          \n",
              "2005                                                  馴れたもんだろ          \n",
              "2403                                         おおきになぁ。 あっ いえいえ。          \n",
              "633                                     何だよ それ 子供は親の所有物じゃないのに          \n",
              "1918                                                   ばかげてます          \n",
              "566                             不安を感じながらも どうにかやり遂げたというような感じです          \n",
              "2284                                           でも 俺は 何ももらえないの          \n",
              "819                                              臨床腫瘍学と苦痛緩和看護          \n",
              "967                                             「ブロディが居るのを見た」          \n",
              "2251                                        それで、コーチはこんなふうに座って          \n",
              "1265                                       うちは いつも こうなんじゃない え          \n",
              "1605                                      そりゃ また ずいぶん でかいですね。          \n",
              "1757                                         それで 「ジャック」に持ち込む。          \n",
              "1251                                         国防省のマイク フェイバー大佐を          \n",
              "1140                              我々はリスクを冒すことも辞しませんでした 当然ですよね          \n",
              "1098   我々が期待してたものとは 違うな 現場から発見されたこの45口径の弾丸は 去年 リコ法の証人から取り出された          \n",
              "716                                     どこの山で 採れたんですか そのタケノコ。          \n",
              "855                                                ねぇ ここ開けていい          \n",
              "952                                                     何がわかる          \n",
              "143                                                  ある創作をします          \n",
              "1600                                             当然在外表上是不会发现的          \n",
              "463                                                       絶対に          \n",
              "2745                                     契約を結ぶ為に ボトルサービスさえ付けた          \n",
              "697                                              smの部屋じゃなかったの          \n",
              "453                                                  わかった、そうか          \n",
              "389                                                   森の中に消える          \n",
              "1551                                君が守ってたら 特殊部隊じゃなくなるな 会いたいわ          \n",
              "637                                 あぁ、選択肢は1つだ 今日、君が300ドル払って―          \n",
              "2003                              この脚本は 高倉 雄二が 書いたものでは ありません。          \n",
              "2695                                              あなたはやったのですか          \n",
              "470                                             帰ったら最初に 甘えさせて          \n",
              "433                                        危険がないと証明するためのものでした          \n",
              "2013                                             少しドキドキしたくらい。          \n",
              "2382                                     貴女が産んだ最後の世代は 既に全員が成熟          \n",
              "2322                                         私なんかでも 本当に何かできるの          \n",
              "1670                                                      15年          \n",
              "2263                                                     ではなぜ          \n",
              "318                                                    金持ちだった          \n",
              "1171                                      スピードカウンターを4つ取り除くことで          \n",
              "859                                                 ほら 行きたいだろ          \n",
              "1999                                             よく遊んでもらったでしょ          \n",
              "1588                                         彼があなたにしたことを許せない。          \n",
              "565                                                    このお魚は誰          \n",
              "2696                                          わかった。行くって言っといて。          \n",
              "151                                                      この野郎          \n",
              "750               ダクサスに彼自身と 熱意があり冷静で覚悟ができている 選りすぐりの20人が必要と伝えよ          "
            ]
          },
          "metadata": {
            "tags": []
          },
          "execution_count": 32
        }
      ]
    },
    {
      "cell_type": "code",
      "metadata": {
        "colab_type": "code",
        "id": "i67_15zEhuOD",
        "colab": {}
      },
      "source": [
        ""
      ],
      "execution_count": 0,
      "outputs": []
    }
  ]
}