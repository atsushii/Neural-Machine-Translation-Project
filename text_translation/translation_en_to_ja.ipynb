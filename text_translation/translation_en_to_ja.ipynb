{
  "nbformat": 4,
  "nbformat_minor": 0,
  "metadata": {
    "accelerator": "GPU",
    "colab": {
      "name": "translation_en_to_ja.ipynb",
      "provenance": [],
      "collapsed_sections": [],
      "toc_visible": true,
      "machine_shape": "hm"
    },
    "kernelspec": {
      "name": "python3",
      "display_name": "Python 3"
    },
    "language_info": {
      "codemirror_mode": {
        "name": "ipython",
        "version": 3
      },
      "file_extension": ".py",
      "mimetype": "text/x-python",
      "name": "python",
      "nbconvert_exporter": "python",
      "pygments_lexer": "ipython3",
      "version": "3.7.5"
    }
  },
  "cells": [
    {
      "cell_type": "code",
      "metadata": {
        "id": "RmjVpP_kv4yc",
        "colab_type": "code",
        "outputId": "8d850e9c-6c28-4fa6-9fd6-4c04f8bf5c34",
        "colab": {
          "base_uri": "https://localhost:8080/",
          "height": 122
        }
      },
      "source": [
        "# mount google drive \n",
        "from google.colab import drive\n",
        "drive.mount('/content/drive')"
      ],
      "execution_count": 0,
      "outputs": [
        {
          "output_type": "stream",
          "text": [
            "Go to this URL in a browser: https://accounts.google.com/o/oauth2/auth?client_id=947318989803-6bn6qk8qdgf4n4g3pfee6491hc0brc4i.apps.googleusercontent.com&redirect_uri=urn%3aietf%3awg%3aoauth%3a2.0%3aoob&response_type=code&scope=email%20https%3a%2f%2fwww.googleapis.com%2fauth%2fdocs.test%20https%3a%2f%2fwww.googleapis.com%2fauth%2fdrive%20https%3a%2f%2fwww.googleapis.com%2fauth%2fdrive.photos.readonly%20https%3a%2f%2fwww.googleapis.com%2fauth%2fpeopleapi.readonly\n",
            "\n",
            "Enter your authorization code:\n",
            "··········\n",
            "Mounted at /content/drive\n"
          ],
          "name": "stdout"
        }
      ]
    },
    {
      "cell_type": "code",
      "metadata": {
        "colab_type": "code",
        "id": "Zb93R3DCCXK0",
        "outputId": "6efa0096-758b-4d38-89fd-8983b66752fe",
        "colab": {
          "base_uri": "https://localhost:8080/",
          "height": 114
        }
      },
      "source": [
        "import tensorflow as tf\n",
        "import numpy as np\n",
        "import re\n",
        "from numpy import array, argmax, random, take\n",
        "import pandas as pd\n",
        "from keras.models import Sequential\n",
        "from keras.models import Model, load_model\n",
        "from keras.layers import Dense, LSTM, Embedding, RepeatVector, Dropout, Bidirectional, Input, dot, Activation\n",
        "from keras.preprocessing.text import Tokenizer\n",
        "from keras.callbacks import ModelCheckpoint\n",
        "from keras.preprocessing.sequence import pad_sequences\n",
        "from keras import optimizers\n",
        "from keras.engine.topology import Layer\n",
        "from keras import initializers, regularizers, constraints\n",
        "from keras import backend as K\n",
        "import keras\n",
        "\n",
        "import matplotlib.pyplot as plt\n",
        "import nltk\n",
        "import io\n",
        "from nltk.tokenize.toktok import ToktokTokenizer\n",
        "import unicodedata\n",
        "\n",
        "# plot japanese lang\n",
        "!pip install japanize-matplotlib\n",
        "import japanize_matplotlib\n",
        "\n",
        "# ignore warning\n",
        "import os\n",
        "os.environ['TF_CPP_MIN_LOG_LEVEL'] = '3'"
      ],
      "execution_count": 11,
      "outputs": [
        {
          "output_type": "display_data",
          "data": {
            "text/html": [
              "<p style=\"color: red;\">\n",
              "The default version of TensorFlow in Colab will soon switch to TensorFlow 2.x.<br>\n",
              "We recommend you <a href=\"https://www.tensorflow.org/guide/migrate\" target=\"_blank\">upgrade</a> now \n",
              "or ensure your notebook will continue to use TensorFlow 1.x via the <code>%tensorflow_version 1.x</code> magic:\n",
              "<a href=\"https://colab.research.google.com/notebooks/tensorflow_version.ipynb\" target=\"_blank\">more info</a>.</p>\n"
            ],
            "text/plain": [
              "<IPython.core.display.HTML object>"
            ]
          },
          "metadata": {
            "tags": []
          }
        },
        {
          "output_type": "stream",
          "text": [
            "Using TensorFlow backend.\n"
          ],
          "name": "stderr"
        },
        {
          "output_type": "stream",
          "text": [
            "Requirement already satisfied: japanize-matplotlib in /usr/local/lib/python3.6/dist-packages (1.0.5)\n"
          ],
          "name": "stdout"
        }
      ]
    },
    {
      "cell_type": "markdown",
      "metadata": {
        "id": "xm1CEgijFK_B",
        "colab_type": "text"
      },
      "source": [
        "# load text file\n",
        "\n",
        "**this dataset is aleady implemented a SentenceSpace**"
      ]
    },
    {
      "cell_type": "code",
      "metadata": {
        "colab_type": "code",
        "id": "bmv0RqrACbd-",
        "colab": {}
      },
      "source": [
        "num_example = 30000\n",
        "\n",
        "# create each languages list\n",
        "def create_lang_list(num_example):\n",
        "    # load txt file\n",
        "    lines =  io.open(\"/content/drive/My Drive/Colab Notebooks/raw.txt\", encoding='UTF-8').read().strip().split('\\n')\n",
        "\n",
        "    word_pairs = [[w for w in l.split('\\t')]  for l in lines[:num_example]]\n",
        "\n",
        "    return zip(*word_pairs)"
      ],
      "execution_count": 0,
      "outputs": []
    },
    {
      "cell_type": "code",
      "metadata": {
        "id": "aLGytFt5qxDo",
        "colab_type": "code",
        "colab": {}
      },
      "source": [
        "en, ja = create_lang_list(num_example)"
      ],
      "execution_count": 0,
      "outputs": []
    },
    {
      "cell_type": "code",
      "metadata": {
        "id": "fl22ZyPk2PfM",
        "colab_type": "code",
        "colab": {}
      },
      "source": [
        "# use other dataset\n",
        "en = io.open(\"/content/drive/My Drive/OpenSubtitles2016.en-ja.en\", encoding=\"utf-8\").read().strip().split(\"\\n\")\n",
        "ja = io.open(\"/content/drive/My Drive/OpenSubtitles2016.en-ja.ja\", encoding=\"utf-8\").read().strip().split(\"\\n\")\n",
        "en = en[:10000]\n",
        "ja = ja[:10000]"
      ],
      "execution_count": 0,
      "outputs": []
    },
    {
      "cell_type": "code",
      "metadata": {
        "id": "Vnsuu4-gzjB6",
        "colab_type": "code",
        "outputId": "4855c03e-84f6-42fe-fa87-f21c293ffb58",
        "colab": {
          "base_uri": "https://localhost:8080/",
          "height": 51
        }
      },
      "source": [
        "# sentencepiece\n",
        "!pip install sentencepiece\n",
        "import sentencepiece as spm\n",
        "spm_model = spm.SentencePieceProcessor()\n",
        "spm_model. load(\"/content/drive/My Drive/wiki-ja.model\")"
      ],
      "execution_count": 54,
      "outputs": [
        {
          "output_type": "stream",
          "text": [
            "Requirement already satisfied: sentencepiece in /usr/local/lib/python3.6/dist-packages (0.1.85)\n"
          ],
          "name": "stdout"
        },
        {
          "output_type": "execute_result",
          "data": {
            "text/plain": [
              "True"
            ]
          },
          "metadata": {
            "tags": []
          },
          "execution_count": 54
        }
      ]
    },
    {
      "cell_type": "code",
      "metadata": {
        "id": "IEtoY2Kl2Jai",
        "colab_type": "code",
        "colab": {}
      },
      "source": [
        "  ja = [\" \".join(spm_model.encode_as_pieces(i)).replace(\"▁\", \"\") for i in ja]"
      ],
      "execution_count": 0,
      "outputs": []
    },
    {
      "cell_type": "markdown",
      "metadata": {
        "id": "QAhEAtSYFSys",
        "colab_type": "text"
      },
      "source": [
        "# Text Pre-processing\n",
        "\n",
        "**Removing accented characters** \n",
        "\n",
        "e.g. é → e.\n",
        "\n",
        "**Expanding Contractions** \n",
        "\n",
        "e.g. don't → do not, I'd → I would\n",
        "\n",
        "**remove special word** \n",
        "\n",
        "e.g. remove \"123#@\"\n",
        "\n",
        "**Stemming**\n",
        "\n",
        " e.g. corder, codes → code\n",
        "\n",
        "**Lemmatization**\n",
        "\n",
        " e.g. better → good\n",
        "\n",
        "**Tokenize**\n",
        "\n",
        " e.g. I am going to restaurant → [[I], [am], [going], [to], [restaurant]]"
      ]
    },
    {
      "cell_type": "markdown",
      "metadata": {
        "id": "iS0AX_jOFk_l",
        "colab_type": "text"
      },
      "source": [
        "# Removing accented characters\n",
        "\n",
        "English might have accent like é but Japanese doesn't have any accent I just create different function to ascii for Japanese and English"
      ]
    },
    {
      "cell_type": "code",
      "metadata": {
        "colab_type": "code",
        "id": "Ttcy6dKhDrmB",
        "colab": {}
      },
      "source": [
        "# Removing accented characters\n",
        "def english_unicode_to_ascii(text):\n",
        "     return ''.join(ascii_text for ascii_text in unicodedata.normalize('NFKD', text).encode('ascii', 'ignore').decode('utf-8', 'ignore'))\n",
        "\n",
        "def japanese_unicode_to_ascii(text):\n",
        "    return ''.join(ascii_text for ascii_text in unicodedata.normalize('NFKD', text))"
      ],
      "execution_count": 0,
      "outputs": []
    },
    {
      "cell_type": "code",
      "metadata": {
        "colab_type": "code",
        "id": "OMHI0M1qPWqa",
        "outputId": "8097e2f1-35ce-45ea-fea5-1e4f4a8a9c4c",
        "colab": {
          "base_uri": "https://localhost:8080/",
          "height": 34
        }
      },
      "source": [
        "# e.g.\n",
        "japanese_unicode_to_ascii(\"こんにちは。今日は\"), english_unicode_to_ascii(\"Hello world é \")"
      ],
      "execution_count": 14,
      "outputs": [
        {
          "output_type": "execute_result",
          "data": {
            "text/plain": [
              "('こんにちは。今日は', 'Hello world e ')"
            ]
          },
          "metadata": {
            "tags": []
          },
          "execution_count": 14
        }
      ]
    },
    {
      "cell_type": "markdown",
      "metadata": {
        "id": "wO9i_n__FrHg",
        "colab_type": "text"
      },
      "source": [
        "# Expanding Contractions\n",
        "Japanese doesn't have a Contraction words so I just create a one function to expand Contractions for Engish"
      ]
    },
    {
      "cell_type": "code",
      "metadata": {
        "colab_type": "code",
        "id": "cUEU_GU1PYNq",
        "colab": {}
      },
      "source": [
        "def expand_constraction(text):\n",
        "\n",
        "    #  dic for expand constraction words\n",
        "    constraction_dict= {\n",
        "        \"ain't\": \"is not\",\n",
        "        \"aren't\": \"are not\",\n",
        "        \"can't\": \"cannot\",\n",
        "        \"can't've\": \"cannot have\",\n",
        "        \"'cause\": \"because\",\n",
        "        \"could've\": \"could have\",\n",
        "        \"couldn't\": \"could not\",\n",
        "        \"couldn't've\": \"could not have\",\n",
        "        \"didn't\": \"did not\",\n",
        "        \"doesn't\": \"does not\",\n",
        "        \"don't\": \"do not\",\n",
        "        \"hadn't\": \"had not\",\n",
        "        \"hadn't've\": \"had not have\",\n",
        "        \"hasn't\": \"has not\",\n",
        "        \"haven't\": \"have not\",\n",
        "        \"he'd\": \"he would\",\n",
        "        \"he'd've\": \"he would have\",\n",
        "        \"he'll\": \"he will\",\n",
        "        \"he'll've\": \"he he will have\",\n",
        "        \"he's\": \"he is\",\n",
        "        \"how'd\": \"how did\",\n",
        "        \"how'd'y\": \"how do you\",\n",
        "        \"how'll\": \"how will\",\n",
        "        \"how's\": \"how is\",\n",
        "        \"I'd\": \"I would\",\n",
        "        \"I'd've\": \"I would have\",\n",
        "        \"I'll\": \"I will\",\n",
        "        \"I'll've\": \"I will have\",\n",
        "        \"I'm\": \"I am\",\n",
        "        \"I've\": \"I have\",\n",
        "        \"i'd\": \"i would\",\n",
        "        \"i'd've\": \"i would have\",\n",
        "        \"i'll\": \"i will\",\n",
        "        \"i'll've\": \"i will have\",\n",
        "        \"i'm\": \"i am\",\n",
        "        \"i've\": \"i have\",\n",
        "        \"isn't\": \"is not\",\n",
        "        \"it'd\": \"it would\",\n",
        "        \"it'd've\": \"it would have\",\n",
        "        \"it'll\": \"it will\",\n",
        "        \"it'll've\": \"it will have\",\n",
        "        \"it's\": \"it is\",\n",
        "        \"let's\": \"let us\",\n",
        "        \"ma'am\": \"madam\",\n",
        "        \"mayn't\": \"may not\",\n",
        "        \"might've\": \"might have\",\n",
        "        \"mightn't\": \"might not\",\n",
        "        \"mightn't've\": \"might not have\",\n",
        "        \"must've\": \"must have\",\n",
        "        \"mustn't\": \"must not\",\n",
        "        \"mustn't've\": \"must not have\",\n",
        "        \"needn't\": \"need not\",\n",
        "        \"needn't've\": \"need not have\",\n",
        "        \"o'clock\": \"of the clock\",\n",
        "        \"oughtn't\": \"ought not\",\n",
        "        \"oughtn't've\": \"ought not have\",\n",
        "        \"shan't\": \"shall not\",\n",
        "        \"sha'n't\": \"shall not\",\n",
        "        \"shan't've\": \"shall not have\",\n",
        "        \"she'd\": \"she would\",\n",
        "        \"she'd've\": \"she would have\",\n",
        "        \"she'll\": \"she will\",\n",
        "        \"she'll've\": \"she will have\",\n",
        "        \"she's\": \"she is\",\n",
        "        \"should've\": \"should have\",\n",
        "        \"shouldn't\": \"should not\",\n",
        "        \"shouldn't've\": \"should not have\",\n",
        "        \"so've\": \"so have\",\n",
        "        \"so's\": \"so as\",\n",
        "        \"that'd\": \"that would\",\n",
        "        \"that'd've\": \"that would have\",\n",
        "        \"that's\": \"that is\",\n",
        "        \"there'd\": \"there would\",\n",
        "        \"there'd've\": \"there would have\",\n",
        "        \"there's\": \"there is\",\n",
        "        \"they'd\": \"they would\",\n",
        "        \"they'd've\": \"they would have\",\n",
        "        \"they'll\": \"they will\",\n",
        "        \"they'll've\": \"they will have\",\n",
        "        \"they're\": \"they are\",\n",
        "        \"they've\": \"they have\",\n",
        "        \"to've\": \"to have\",\n",
        "        \"wasn't\": \"was not\",\n",
        "        \"we'd\": \"we would\",\n",
        "        \"we'd've\": \"we would have\",\n",
        "        \"we'll\": \"we will\",\n",
        "        \"we'll've\": \"we will have\",\n",
        "        \"we're\": \"we are\",\n",
        "        \"we've\": \"we have\",\n",
        "        \"weren't\": \"were not\",\n",
        "        \"what'll\": \"what will\",\n",
        "        \"what'll've\": \"what will have\",\n",
        "        \"what're\": \"what are\",\n",
        "        \"what's\": \"what is\",\n",
        "        \"what've\": \"what have\",\n",
        "        \"when's\": \"when is\",\n",
        "        \"when've\": \"when have\",\n",
        "        \"where'd\": \"where did\",\n",
        "        \"where's\": \"where is\",\n",
        "        \"where've\": \"where have\",\n",
        "        \"who'll\": \"who will\",\n",
        "        \"who'll've\": \"who will have\",\n",
        "        \"who's\": \"who is\",\n",
        "        \"who've\": \"who have\",\n",
        "        \"why's\": \"why is\",\n",
        "        \"why've\": \"why have\",\n",
        "        \"will've\": \"will have\",\n",
        "        \"won't\": \"will not\",\n",
        "        \"won't've\": \"will not have\",\n",
        "        \"would've\": \"would have\",\n",
        "        \"wouldn't\": \"would not\",\n",
        "        \"wouldn't've\": \"would not have\",\n",
        "        \"y'all\": \"you all\",\n",
        "        \"y'all'd\": \"you all would\",\n",
        "        \"y'all'd've\": \"you all would have\",\n",
        "        \"y'all're\": \"you all are\",\n",
        "        \"y'all've\": \"you all have\",\n",
        "        \"you'd\": \"you would\",\n",
        "        \"you'd've\": \"you would have\",\n",
        "        \"you'll\": \"you will\",\n",
        "        \"you'll've\": \"you will have\",\n",
        "        \"you're\": \"you are\",\n",
        "        \"you've\": \"you have\"\n",
        "    }\n",
        "\n",
        "    #  define match pattern\n",
        "    #  IGNORECASE → no matter if word is lowercase or uppercase\n",
        "    #  DOTAIL → . is going to match \\n\n",
        "    contraction_pattern = re.compile('({})'.format('|'.join(constraction_dict.keys())),\n",
        "                                                  flags=re.IGNORECASE | re.DOTALL)\n",
        "    #  expand words\n",
        "    def expand_match(constraction):\n",
        "        # get constraction word\n",
        "        match = constraction.group(0)\n",
        "        first_char = match[0]\n",
        "        #  get expand word from constraction dict\n",
        "        expand_constraction = constraction_dict.get(match)\\\n",
        "                                                    if constraction_dict.get(match) \\\n",
        "                                                    else constraction_dict.get(match.lower())\n",
        "        \n",
        "        # create expand constraction\n",
        "        expand_constraction = first_char + expand_constraction[1:]\n",
        "        return expand_constraction\n",
        "    \n",
        "    expanded_text = contraction_pattern.sub(expand_match, text)\n",
        "    expanded_text = re.sub(\"'\", \"\", expanded_text)\n",
        "    return expanded_text"
      ],
      "execution_count": 0,
      "outputs": []
    },
    {
      "cell_type": "code",
      "metadata": {
        "colab_type": "code",
        "id": "3ikqxXGePadk",
        "outputId": "099b63e5-202b-4db0-89ed-6abfe86944cc",
        "colab": {
          "base_uri": "https://localhost:8080/",
          "height": 34
        }
      },
      "source": [
        "# e.g.\n",
        "expand_constraction(\"you're good I'd like to go he's she's\")"
      ],
      "execution_count": 16,
      "outputs": [
        {
          "output_type": "execute_result",
          "data": {
            "text/plain": [
              "'you are good I would like to go he is she is'"
            ]
          },
          "metadata": {
            "tags": []
          },
          "execution_count": 16
        }
      ]
    },
    {
      "cell_type": "markdown",
      "metadata": {
        "id": "zGZrYrRxFwc8",
        "colab_type": "text"
      },
      "source": [
        "# remove special characters and create space between word and punctuation\n",
        "\n",
        "replacing everything with space except(a-z, A-Z, \"?\", \"!\", \"-\", \"ー\", \"Kanji\", \"Katakana\", \"Hiragana\") \n",
        "create space between word and punctuation (? ! )"
      ]
    },
    {
      "cell_type": "code",
      "metadata": {
        "id": "RBMqrm3o-sJt",
        "colab_type": "code",
        "colab": {}
      },
      "source": [
        "def replace_special_character_to_space(text):\n",
        "    pattern = r\"[^a-zA-Z\\u3041-\\u309F\\u30A1-\\u30FF\\uFF66-\\uFF9F\\u4E00-\\u9FD0\\u309B\\u3099\\uFF9E\\u309C\\u309A\\uFF9F?!\\-/\\s]+\"\n",
        "    text = re.sub(pattern, '', text).rstrip().strip()\n",
        "    text = text.replace(\"・\" , \"\")\n",
        "\n",
        "    text = re.sub(r\"([?!.,。、])\", r\" \\1 \", text)\n",
        "    text = text.lower()\n",
        "\n",
        "    return text"
      ],
      "execution_count": 0,
      "outputs": []
    },
    {
      "cell_type": "code",
      "metadata": {
        "colab_type": "code",
        "id": "oeOvXEYFQq_-",
        "outputId": "b86f09cb-6d6c-4b97-db39-3d703a18a4b4",
        "colab": {
          "base_uri": "https://localhost:8080/",
          "height": 34
        }
      },
      "source": [
        "# e.g.\n",
        "replace_special_character_to_space(\"hello, . #@…123world.\"), replace_special_character_to_space(\"こん・にちは。・ いい天気。\")"
      ],
      "execution_count": 18,
      "outputs": [
        {
          "output_type": "execute_result",
          "data": {
            "text/plain": [
              "('hello  world', 'こんにちは いい天気')"
            ]
          },
          "metadata": {
            "tags": []
          },
          "execution_count": 18
        }
      ]
    },
    {
      "cell_type": "markdown",
      "metadata": {
        "id": "r0-z-PhGGQqL",
        "colab_type": "text"
      },
      "source": [
        "# Stemming and Lemmatization\n",
        "I will do stemming only english which can create a base form of a word from a given word. Japanese language doesn't need a stemming"
      ]
    },
    {
      "cell_type": "code",
      "metadata": {
        "id": "QrYiW2_Pl1lf",
        "colab_type": "code",
        "colab": {}
      },
      "source": [
        "def stemmer_word(text):\n",
        "    ps = nltk.stem.PorterStemmer()\n",
        "    text = ' '.join([ps.stem(word) for word in text.split()])\n",
        "    return text"
      ],
      "execution_count": 0,
      "outputs": []
    },
    {
      "cell_type": "code",
      "metadata": {
        "id": "n-iz13U2awVV",
        "colab_type": "code",
        "outputId": "9513ac1f-a2a5-45f9-9422-2ad0f9be61b5",
        "colab": {
          "base_uri": "https://localhost:8080/",
          "height": 34
        }
      },
      "source": [
        "# e.g.\n",
        "stemmer_word(\"hello world she has cat but he had dogs he is went to traveling\")"
      ],
      "execution_count": 20,
      "outputs": [
        {
          "output_type": "execute_result",
          "data": {
            "text/plain": [
              "'hello world she ha cat but he had dog he is went to travel'"
            ]
          },
          "metadata": {
            "tags": []
          },
          "execution_count": 20
        }
      ]
    },
    {
      "cell_type": "markdown",
      "metadata": {
        "id": "xsqW5RHMGifD",
        "colab_type": "text"
      },
      "source": [
        "# Normalize each word"
      ]
    },
    {
      "cell_type": "code",
      "metadata": {
        "colab_type": "code",
        "id": "sizAmLv2Pj-j",
        "colab": {}
      },
      "source": [
        "def normalize_english(english_text, japanese_text):\n",
        "    \n",
        "    input_value = ()\n",
        "    target_value = ()\n",
        "    \n",
        "    for en_text, ja_text in zip(english_text, japanese_text):\n",
        "        \n",
        "        # normalize English\n",
        "        en_text = english_unicode_to_ascii(en_text)\n",
        "        en_text = expand_constraction(en_text)\n",
        "        en_text = replace_special_character_to_space(en_text)\n",
        "\n",
        "        en_text = \"<sos> \" + en_text + \" <eos>\"\n",
        "        \n",
        "        input_value += (en_text, )\n",
        "\n",
        "        # normalize Japanese\n",
        "        ja_text = japanese_unicode_to_ascii(ja_text)\n",
        "        ja_text = expand_constraction(ja_text)\n",
        "        ja_text = replace_special_character_to_space(ja_text)\n",
        "\n",
        "        ja_text = \"<sos> \" + ja_text + \" <eos>\"\n",
        "        \n",
        "        target_value += (ja_text, )\n",
        "\n",
        "    return input_value, target_value"
      ],
      "execution_count": 0,
      "outputs": []
    },
    {
      "cell_type": "markdown",
      "metadata": {
        "id": "eMa52HiWGtQ-",
        "colab_type": "text"
      },
      "source": [
        "# get clean text data"
      ]
    },
    {
      "cell_type": "code",
      "metadata": {
        "colab_type": "code",
        "id": "1WLwCK4xVynu",
        "colab": {}
      },
      "source": [
        "input_value, target_value = normalize_english(en, ja)"
      ],
      "execution_count": 0,
      "outputs": []
    },
    {
      "cell_type": "code",
      "metadata": {
        "id": "EdiAdGYR97Fv",
        "colab_type": "code",
        "outputId": "48631bec-0fd4-435e-cbf8-65b012cd8984",
        "colab": {
          "base_uri": "https://localhost:8080/",
          "height": 187
        }
      },
      "source": [
        "target_value[:10]"
      ],
      "execution_count": 57,
      "outputs": [
        {
          "output_type": "execute_result",
          "data": {
            "text/plain": [
              "('<sos> カリ ガリ 博士 の 小屋 <eos>',\n",
              " '<sos> 幕 <eos>',\n",
              " '<sos> 私は 亡 霊 の おかげで 家族 や 家庭 を捨て ざる を えなかった <eos>',\n",
              " '<sos> 僕 の 婚約 者 だ <eos>',\n",
              " '<sos> 僕 と 彼女の 体験 は あなた の物語 よりも 恐ろしい <eos>',\n",
              " '<sos> 今 から それを 話 して あげ よう <eos>',\n",
              " '<sos> 故郷 ハ レ シュ テン バル での 出来事 だ <eos>',\n",
              " '<sos> お 祭り が ひら かれた <eos>',\n",
              " '<sos> ある 香 具 師 が やってきた <eos>',\n",
              " '<sos> 親友 の アラン だ <eos>')"
            ]
          },
          "metadata": {
            "tags": []
          },
          "execution_count": 57
        }
      ]
    },
    {
      "cell_type": "code",
      "metadata": {
        "id": "6su97bf9HZhX",
        "colab_type": "code",
        "outputId": "bffc933e-c90c-4213-c314-a148fdb49e81",
        "colab": {
          "base_uri": "https://localhost:8080/",
          "height": 545
        }
      },
      "source": [
        "# populate the lists with sentence lengths\n",
        "english_len = [len(i.split()) for i in input_value]\n",
        "\n",
        "japanese_len = [len(i.split()) for i in target_value]\n",
        "\n",
        "plt.figure()\n",
        "plt.hist(english_len)\n",
        "\n",
        "plt.figure()\n",
        "plt.hist(japanese_len)\n",
        "\n",
        "# print max length\n",
        "print(\"english length:\", max(english_len))\n",
        "print(\"japanese length:\", max(japanese_len))"
      ],
      "execution_count": 58,
      "outputs": [
        {
          "output_type": "stream",
          "text": [
            "english length: 54\n",
            "japanese length: 49\n"
          ],
          "name": "stdout"
        },
        {
          "output_type": "display_data",
          "data": {
            "image/png": "[encoded data removed]",
            "text/plain": [
              "<Figure size 432x288 with 1 Axes>"
            ]
          },
          "metadata": {
            "tags": []
          }
        },
        {
          "output_type": "display_data",
          "data": {
            "image/png": "[encoded data removed]",
            "text/plain": [
              "<Figure size 432x288 with 1 Axes>"
            ]
          },
          "metadata": {
            "tags": []
          }
        }
      ]
    },
    {
      "cell_type": "markdown",
      "metadata": {
        "id": "lieg1fN2G5Qr",
        "colab_type": "text"
      },
      "source": [
        "# tokenize\n",
        "tokenize each language word based on space"
      ]
    },
    {
      "cell_type": "code",
      "metadata": {
        "colab_type": "code",
        "id": "ZEdYwmc3PoJT",
        "colab": {}
      },
      "source": [
        "# build a tokenizer\n",
        "def tokenization(lines):\n",
        "    tokenizer = Tokenizer()\n",
        "    tokenizer.fit_on_texts(lines)\n",
        "    return tokenizer"
      ],
      "execution_count": 0,
      "outputs": []
    },
    {
      "cell_type": "code",
      "metadata": {
        "colab_type": "code",
        "id": "2UVxaCNJU7Bm",
        "outputId": "8f788c48-72a1-4f1a-e2a1-2cce431666ed",
        "colab": {
          "base_uri": "https://localhost:8080/",
          "height": 34
        }
      },
      "source": [
        "# prepare English tokenizer\n",
        "eng_tokenizer = tokenization(input_value)\n",
        "eng_vocab_size = len(eng_tokenizer.word_index) + 1\n",
        "\n",
        "# must all the sequences of the same length.\n",
        "eng_length = 54\n",
        "print('English Vocabulary Size: %d' % eng_vocab_size)"
      ],
      "execution_count": 59,
      "outputs": [
        {
          "output_type": "stream",
          "text": [
            "English Vocabulary Size: 5612\n"
          ],
          "name": "stdout"
        }
      ]
    },
    {
      "cell_type": "code",
      "metadata": {
        "colab_type": "code",
        "id": "jAkfW5TfWaca",
        "outputId": "d35c1208-d977-4c8b-8658-93babfa65e7a",
        "colab": {
          "base_uri": "https://localhost:8080/",
          "height": 34
        }
      },
      "source": [
        "# prepare Japanese tokenizer\n",
        "ja_tokenizer = tokenization(target_value)\n",
        "ja_vocab_size = len(ja_tokenizer.word_index) + 1\n",
        "\n",
        "# must all the sequences of the same length.\n",
        "ja_length = 49\n",
        "print('japanese Vocabulary Size: %d' % ja_vocab_size)"
      ],
      "execution_count": 60,
      "outputs": [
        {
          "output_type": "stream",
          "text": [
            "japanese Vocabulary Size: 6903\n"
          ],
          "name": "stdout"
        }
      ]
    },
    {
      "cell_type": "code",
      "metadata": {
        "colab_type": "code",
        "id": "cw26UoZEWf6h",
        "colab": {}
      },
      "source": [
        "# encode and pad sequences\n",
        "def encode_sequences(tokenizer, length, lines, padding):\n",
        "    # integer encode sequences\n",
        "    seq = tokenizer.texts_to_sequences(lines)\n",
        "    # pad sequences with 0 values\n",
        "    seq = pad_sequences(seq, maxlen=length, padding=padding)\n",
        "    return seq"
      ],
      "execution_count": 0,
      "outputs": []
    },
    {
      "cell_type": "markdown",
      "metadata": {
        "id": "ekxavmNNOrFn",
        "colab_type": "text"
      },
      "source": [
        "# load Word2Vec pre train model\n",
        "I will use pre-train model for embedding for English and Japanese words"
      ]
    },
    {
      "cell_type": "code",
      "metadata": {
        "id": "OPONamPGOsxi",
        "colab_type": "code",
        "outputId": "b8f29efd-16ba-43ec-9a5e-1e991dbfd884",
        "colab": {
          "base_uri": "https://localhost:8080/",
          "height": 71
        }
      },
      "source": [
        "import gensim\n",
        "import gensim.models.keyedvectors as word2vec\n",
        "\n",
        "# load pre-trian model for Japanese \n",
        "ja_word2vec_model = gensim.models.Word2Vec.load('/content/drive/My Drive/jawiki.doc2vec.dbow300d/jawiki.doc2vec.dbow300d.model')\n",
        "\n",
        "# load pre-train model for English\n",
        "en_word2vec_model = word2vec.KeyedVectors.load_word2vec_format(\"/content/drive/My Drive/GoogleNews-vectors-negative300.bin\", binary=True, unicode_errors='ignore')"
      ],
      "execution_count": 32,
      "outputs": [
        {
          "output_type": "stream",
          "text": [
            "/usr/local/lib/python3.6/dist-packages/smart_open/smart_open_lib.py:402: UserWarning: This function is deprecated, use smart_open.open instead. See the migration notes for details: https://github.com/RaRe-Technologies/smart_open/blob/master/README.rst#migrating-to-the-new-open-function\n",
            "  'See the migration notes for details: %s' % _MIGRATION_NOTES_URL\n"
          ],
          "name": "stderr"
        }
      ]
    },
    {
      "cell_type": "code",
      "metadata": {
        "id": "wIK0RuB8O11B",
        "colab_type": "code",
        "outputId": "284d5633-79ba-429b-f314-cfa223c9c628",
        "colab": {
          "base_uri": "https://localhost:8080/",
          "height": 241
        }
      },
      "source": [
        "# similar word with country name\n",
        "ja_word2vec_model.wv.most_similar(\"日本\")"
      ],
      "execution_count": 0,
      "outputs": [
        {
          "output_type": "stream",
          "text": [
            "/usr/local/lib/python3.6/dist-packages/gensim/matutils.py:737: FutureWarning: Conversion of the second argument of issubdtype from `int` to `np.signedinteger` is deprecated. In future, it will be treated as `np.int64 == np.dtype(int).type`.\n",
            "  if np.issubdtype(vec.dtype, np.int):\n"
          ],
          "name": "stderr"
        },
        {
          "output_type": "execute_result",
          "data": {
            "text/plain": [
              "[('アメリカ', 0.6172695159912109),\n",
              " ('日本国内', 0.6169887781143188),\n",
              " ('米国', 0.5836105346679688),\n",
              " ('韓国', 0.583561897277832),\n",
              " ('海外', 0.5563584566116333),\n",
              " ('アジア', 0.5504777431488037),\n",
              " ('中国', 0.5415611863136292),\n",
              " ('アジア地域', 0.5271817445755005),\n",
              " ('台湾', 0.52516770362854),\n",
              " ('アジア諸国', 0.5203936100006104)]"
            ]
          },
          "metadata": {
            "tags": []
          },
          "execution_count": 21
        }
      ]
    },
    {
      "cell_type": "code",
      "metadata": {
        "id": "qu5lAxFOO33V",
        "colab_type": "code",
        "outputId": "d140d307-9c86-49c9-86e5-82ed0a765191",
        "colab": {
          "base_uri": "https://localhost:8080/",
          "height": 241
        }
      },
      "source": [
        "# calculate word and word\n",
        "ja_word2vec_model.wv.most_similar(positive=[\"お父さん\", \"死\"], negative=[\"泣\"])"
      ],
      "execution_count": 0,
      "outputs": [
        {
          "output_type": "stream",
          "text": [
            "/usr/local/lib/python3.6/dist-packages/gensim/matutils.py:737: FutureWarning: Conversion of the second argument of issubdtype from `int` to `np.signedinteger` is deprecated. In future, it will be treated as `np.int64 == np.dtype(int).type`.\n",
            "  if np.issubdtype(vec.dtype, np.int):\n"
          ],
          "name": "stderr"
        },
        {
          "output_type": "execute_result",
          "data": {
            "text/plain": [
              "[('息子', 0.5948961973190308),\n",
              " ('お母さん', 0.5658013820648193),\n",
              " ('母親', 0.559698760509491),\n",
              " ('おばあちゃん', 0.5565805435180664),\n",
              " ('父', 0.5533062815666199),\n",
              " ('母', 0.5530043840408325),\n",
              " ('パパ', 0.5508877635002136),\n",
              " ('亡き', 0.5500179529190063),\n",
              " ('婚約者', 0.5495285391807556),\n",
              " ('死ん', 0.546082615852356)]"
            ]
          },
          "metadata": {
            "tags": []
          },
          "execution_count": 22
        }
      ]
    },
    {
      "cell_type": "code",
      "metadata": {
        "id": "zywx76VUO7EA",
        "colab_type": "code",
        "outputId": "f2f014c1-b163-47ec-b915-f7a9010dc686",
        "colab": {
          "base_uri": "https://localhost:8080/",
          "height": 241
        }
      },
      "source": [
        "# similar word with country name\n",
        "en_word2vec_model.most_similar(\"Canada\")"
      ],
      "execution_count": 0,
      "outputs": [
        {
          "output_type": "stream",
          "text": [
            "/usr/local/lib/python3.6/dist-packages/gensim/matutils.py:737: FutureWarning: Conversion of the second argument of issubdtype from `int` to `np.signedinteger` is deprecated. In future, it will be treated as `np.int64 == np.dtype(int).type`.\n",
            "  if np.issubdtype(vec.dtype, np.int):\n"
          ],
          "name": "stderr"
        },
        {
          "output_type": "execute_result",
          "data": {
            "text/plain": [
              "[('Canadian', 0.7513011693954468),\n",
              " ('Ontario', 0.6928848028182983),\n",
              " ('Nova_Scotia', 0.6792765259742737),\n",
              " ('Manitoba', 0.67861008644104),\n",
              " ('Alberta', 0.6736730337142944),\n",
              " ('Canadians', 0.6654781103134155),\n",
              " ('Quebec', 0.6514720320701599),\n",
              " ('British_Columbia', 0.6478375196456909),\n",
              " ('Peller_Estates_Icewine', 0.6433447003364563),\n",
              " ('Saskatchewan', 0.6383945941925049)]"
            ]
          },
          "metadata": {
            "tags": []
          },
          "execution_count": 23
        }
      ]
    },
    {
      "cell_type": "code",
      "metadata": {
        "id": "QFq7wb9dO9NJ",
        "colab_type": "code",
        "outputId": "02c7e4c3-5f24-4d8d-d090-474836e23dcf",
        "colab": {
          "base_uri": "https://localhost:8080/",
          "height": 241
        }
      },
      "source": [
        "# calculate word and word\n",
        "en_word2vec_model.most_similar(positive=[\"programmer\", \"skill\"], negative=[\"money\"])"
      ],
      "execution_count": 0,
      "outputs": [
        {
          "output_type": "stream",
          "text": [
            "/usr/local/lib/python3.6/dist-packages/gensim/matutils.py:737: FutureWarning: Conversion of the second argument of issubdtype from `int` to `np.signedinteger` is deprecated. In future, it will be treated as `np.int64 == np.dtype(int).type`.\n",
            "  if np.issubdtype(vec.dtype, np.int):\n"
          ],
          "name": "stderr"
        },
        {
          "output_type": "execute_result",
          "data": {
            "text/plain": [
              "[('Programmer', 0.4614413380622864),\n",
              " ('3D_modeller', 0.4489377737045288),\n",
              " ('skils', 0.4471549987792969),\n",
              " ('puzzle_solver', 0.4467487633228302),\n",
              " ('Jon_Shiring', 0.4382207989692688),\n",
              " ('programmers', 0.4363787770271301),\n",
              " ('coder', 0.434060662984848),\n",
              " ('skills', 0.42342013120651245),\n",
              " ('skillset', 0.42207223176956177),\n",
              " ('animator', 0.4214385449886322)]"
            ]
          },
          "metadata": {
            "tags": []
          },
          "execution_count": 24
        }
      ]
    },
    {
      "cell_type": "code",
      "metadata": {
        "id": "k6S8JEquPCB1",
        "colab_type": "code",
        "colab": {}
      },
      "source": [
        "# get weights\n",
        "# English\n",
        "input_embedding_matrix = np.zeros((eng_vocab_size, 300))\n",
        "for word, i in eng_tokenizer.word_index.items():\n",
        "    if i >= num_example:\n",
        "        continue\n",
        "    try:\n",
        "        input_embedding_matrix[i] = en_word2vec_model.get_vector(word)\n",
        "    except KeyError:\n",
        "        continue\n",
        "\n",
        "# Japanese\n",
        "target_embedding_matrix = np.zeros((ja_vocab_size, 300))\n",
        "for word, i in ja_tokenizer.word_index.items():\n",
        "    if i >= num_example:\n",
        "        continue\n",
        "    try:\n",
        "        target_embedding_matrix[i] = ja_word2vec_model.wv.get_vector(word)\n",
        "    except KeyError:\n",
        "        continue"
      ],
      "execution_count": 0,
      "outputs": []
    },
    {
      "cell_type": "code",
      "metadata": {
        "id": "SihjmkklPQm9",
        "colab_type": "code",
        "outputId": "f49ce858-4d8c-479a-aed2-3a29ebe108f3",
        "colab": {
          "base_uri": "https://localhost:8080/",
          "height": 34
        }
      },
      "source": [
        "input_embedding_matrix.shape, target_embedding_matrix.shape"
      ],
      "execution_count": 63,
      "outputs": [
        {
          "output_type": "execute_result",
          "data": {
            "text/plain": [
              "((5612, 300), (6903, 300))"
            ]
          },
          "metadata": {
            "tags": []
          },
          "execution_count": 63
        }
      ]
    },
    {
      "cell_type": "markdown",
      "metadata": {
        "id": "JkhMN5EAJTDt",
        "colab_type": "text"
      },
      "source": [
        "# Create train data"
      ]
    },
    {
      "cell_type": "code",
      "metadata": {
        "colab_type": "code",
        "id": "ANKcc_U6WjmX",
        "colab": {}
      },
      "source": [
        "from sklearn.model_selection import train_test_split\n",
        "\n",
        "# split data into train and test set\n",
        "X_train, X_test,  y_train, y_test = train_test_split(input_value, target_value, test_size=0.3, random_state = 42)"
      ],
      "execution_count": 0,
      "outputs": []
    },
    {
      "cell_type": "code",
      "metadata": {
        "colab_type": "code",
        "id": "UIpLRoOLWlKr",
        "colab": {}
      },
      "source": [
        "# prepare training data\n",
        "X_train = encode_sequences(eng_tokenizer, eng_length, X_train, \"post\")\n",
        "Y_train = encode_sequences(ja_tokenizer, ja_length, y_train, \"post\")\n",
        "\n",
        "# prepare validation data\n",
        "X_test = encode_sequences(eng_tokenizer, eng_length, X_test, \"post\")\n",
        "Y_test = encode_sequences(ja_tokenizer, ja_length, y_test, \"post\")\n"
      ],
      "execution_count": 0,
      "outputs": []
    },
    {
      "cell_type": "code",
      "metadata": {
        "colab_type": "code",
        "outputId": "d109a3c0-7110-493f-9325-ad479677a3d3",
        "id": "KKZ8k4bnpSIc",
        "colab": {
          "base_uri": "https://localhost:8080/",
          "height": 102
        }
      },
      "source": [
        "print(X_train.shape), print(Y_train.shape), print(X_test.shape), print(Y_test.shape)"
      ],
      "execution_count": 66,
      "outputs": [
        {
          "output_type": "stream",
          "text": [
            "(7000, 54)\n",
            "(7000, 49)\n",
            "(3000, 54)\n",
            "(3000, 49)\n"
          ],
          "name": "stdout"
        },
        {
          "output_type": "execute_result",
          "data": {
            "text/plain": [
              "(None, None, None, None)"
            ]
          },
          "metadata": {
            "tags": []
          },
          "execution_count": 66
        }
      ]
    },
    {
      "cell_type": "markdown",
      "metadata": {
        "id": "rSAahGbWKIAj",
        "colab_type": "text"
      },
      "source": [
        "# Model building"
      ]
    },
    {
      "cell_type": "code",
      "metadata": {
        "colab_type": "code",
        "id": "Ma59RoqRWnMy",
        "colab": {}
      },
      "source": [
        "# build NMT model\n",
        "def define_model(in_vocab,out_vocab, in_timesteps,out_timesteps,units):\n",
        "\n",
        "    # build encoder model\n",
        "    encoder_input = Input(shape=(in_timesteps, ))\n",
        "\n",
        "    # use pre-trained model Word2Vec\n",
        "    encoder_embedding = Embedding(input_dim=in_vocab, output_dim=300, weights=[input_embedding_matrix], \n",
        "                                                            trainable=False)(encoder_input) \n",
        "    # Dropout\n",
        "    encoder_embedding = Dropout(0.6)(encoder_embedding)\n",
        "\n",
        "    encoder = LSTM(units, return_sequences=True, unroll=True)(encoder_embedding)\n",
        "    encoder_last = encoder[:, -1, :]\n",
        "\n",
        "\n",
        "    # build decoder model\n",
        "    decoder_input = Input(shape=(out_timesteps, ))\n",
        "\n",
        "    # use pre-trained model Word2Vec\n",
        "    decoder_embedding = Embedding(input_dim=out_vocab, output_dim=300, weights=[target_embedding_matrix], \n",
        "                                                            trainable=False)\n",
        "    decoder = decoder_embedding(decoder_input)\n",
        "\n",
        "    # Dropout\n",
        "    decoder = Dropout(0.6)(decoder)\n",
        "\n",
        "    decoder = LSTM(units, return_sequences=True, unroll=True)(decoder, initial_state=[encoder_last, encoder_last])\n",
        "\n",
        "    t = Dense(5000, activation='relu')(decoder)\n",
        "    t2 = Dense(5000, activation='relu')(encoder)\n",
        "    attention = dot([t, t2], axes=[2, 2])\n",
        "\n",
        "    attention = Dense(in_timesteps, activation='relu')(attention)\n",
        "    attention = Activation('softmax')(attention)\n",
        "\n",
        "    context = dot([attention, encoder], axes = [2,1])\n",
        "\n",
        "    decoder_combined_context = keras.layers.concatenate([context, decoder])\n",
        "\n",
        "    decoder_combined_context=Dense(2000, activation='relu')(decoder_combined_context)\n",
        "    output=(Dense(out_vocab, activation=\"softmax\"))(decoder_combined_context)\n",
        "\n",
        "    model = Model(inputs=[encoder_input, decoder_input], outputs=[output])\n",
        "\n",
        "    return model"
      ],
      "execution_count": 0,
      "outputs": []
    },
    {
      "cell_type": "code",
      "metadata": {
        "colab_type": "code",
        "id": "Ti0TrucnWqzr",
        "outputId": "b8df9170-dc3b-43ee-8b3b-f27004c51dc5",
        "colab": {
          "base_uri": "https://localhost:8080/",
          "height": 54
        }
      },
      "source": [
        "# model compilation\n",
        "model = define_model(eng_vocab_size, ja_vocab_size, eng_length, ja_length, 512)"
      ],
      "execution_count": 73,
      "outputs": [
        {
          "output_type": "stream",
          "text": [
            "WARNING:tensorflow:Large dropout rate: 0.6 (>0.5). In TensorFlow 2.x, dropout() uses dropout rate instead of keep_prob. Please ensure that this is intended.\n"
          ],
          "name": "stdout"
        }
      ]
    },
    {
      "cell_type": "code",
      "metadata": {
        "id": "9udgb841KSvm",
        "colab_type": "code",
        "colab": {}
      },
      "source": [
        "#precision\n",
        "def precision(y_true, y_pred):\n",
        "    true_positives = K.sum(K.cast(K.greater(K.clip(y_true * y_pred, 0, 1), 0.20), 'float32'))\n",
        "    pred_positives = K.sum(K.cast(K.greater(K.clip(y_pred, 0, 1), 0.20), 'float32'))\n",
        "\n",
        "    precision_v = true_positives / (pred_positives + K.epsilon())\n",
        "    return precision_v\n",
        "\n",
        "#recall\n",
        "def recall(y_true, y_pred):\n",
        "    true_positives = K.sum(K.cast(K.greater(K.clip(y_true * y_pred, 0, 1), 0.20), 'float32'))\n",
        "    poss_positives = K.sum(K.cast(K.greater(K.clip(y_true, 0, 1), 0.20), 'float32'))\n",
        "\n",
        "    recall_v = true_positives / (poss_positives + K.epsilon())\n",
        "    return recall_v\n",
        "\n",
        "#f1 score\n",
        "def f1_score(y_true, y_pred):\n",
        "    precision_v = precision(y_true, y_pred)\n",
        "    recall_v = recall(y_true, y_pred)\n",
        "    f1_score_v = 2 * precision_v * recall_v / (precision_v + recall_v)\n",
        "\n",
        "    return f1_score_v\n"
      ],
      "execution_count": 0,
      "outputs": []
    },
    {
      "cell_type": "code",
      "metadata": {
        "colab_type": "code",
        "id": "aYQVg6NRWsuN",
        "colab": {}
      },
      "source": [
        "# optimize loss function\n",
        "adam = optimizers.Adam(lr=0.001, decay=1e-6)\n",
        "\n",
        "model.compile(optimizer=adam, loss='sparse_categorical_crossentropy', metrics=['accuracy'])"
      ],
      "execution_count": 0,
      "outputs": []
    },
    {
      "cell_type": "code",
      "metadata": {
        "colab_type": "code",
        "id": "dhAUdzArWvju",
        "outputId": "cda3c3d6-4bea-4e3f-9eda-6bafcfa2bd5e",
        "colab": {
          "base_uri": "https://localhost:8080/",
          "height": 428
        }
      },
      "source": [
        "# checkpoint\n",
        "filename = 'model.h1.22_Nov_19'\n",
        "checkpoint = ModelCheckpoint(filename, monitor='val_loss', save_best_only=True, mode='min')\n",
        "\n",
        "# train model\n",
        "history = model.fit([X_train, Y_train], Y_train.reshape(Y_train.shape[0], Y_train.shape[1], 1),\n",
        "                    epochs=10, batch_size=64, validation_split = 0.33, callbacks=[checkpoint],                    \n",
        "                    verbose=1)"
      ],
      "execution_count": 75,
      "outputs": [
        {
          "output_type": "stream",
          "text": [
            "Train on 4689 samples, validate on 2311 samples\n",
            "Epoch 1/10\n",
            "4689/4689 [==============================] - 50s 11ms/step - loss: 1.5623 - acc: 0.8442 - val_loss: 0.9633 - val_acc: 0.8717\n"
          ],
          "name": "stdout"
        },
        {
          "output_type": "stream",
          "text": [
            "/usr/local/lib/python3.6/dist-packages/keras/engine/network.py:883: UserWarning: Layer lstm_8 was passed non-serializable keyword arguments: {'initial_state': [<tf.Tensor 'strided_slice_3:0' shape=(?, 512) dtype=float32>, <tf.Tensor 'strided_slice_3:0' shape=(?, 512) dtype=float32>]}. They will not be included in the serialized model (and thus will be missing at deserialization time).\n",
            "  '. They will not be included '\n"
          ],
          "name": "stderr"
        },
        {
          "output_type": "stream",
          "text": [
            "Epoch 2/10\n",
            "4689/4689 [==============================] - 14s 3ms/step - loss: 0.9059 - acc: 0.8727 - val_loss: 0.8650 - val_acc: 0.8761\n",
            "Epoch 3/10\n",
            "4689/4689 [==============================] - 14s 3ms/step - loss: 0.7996 - acc: 0.8780 - val_loss: 0.7869 - val_acc: 0.8845\n",
            "Epoch 4/10\n",
            "4689/4689 [==============================] - 14s 3ms/step - loss: 0.7189 - acc: 0.8852 - val_loss: 0.7273 - val_acc: 0.8926\n",
            "Epoch 5/10\n",
            "4689/4689 [==============================] - 14s 3ms/step - loss: 0.6489 - acc: 0.8936 - val_loss: 0.6700 - val_acc: 0.9043\n",
            "Epoch 6/10\n",
            "4689/4689 [==============================] - 14s 3ms/step - loss: 0.5802 - acc: 0.9021 - val_loss: 0.6212 - val_acc: 0.9122\n",
            "Epoch 7/10\n",
            "4689/4689 [==============================] - 14s 3ms/step - loss: 0.5225 - acc: 0.9097 - val_loss: 0.5851 - val_acc: 0.9184\n",
            "Epoch 8/10\n",
            "4689/4689 [==============================] - 14s 3ms/step - loss: 0.4665 - acc: 0.9174 - val_loss: 0.5265 - val_acc: 0.9303\n",
            "Epoch 9/10\n",
            "4689/4689 [==============================] - 14s 3ms/step - loss: 0.4060 - acc: 0.9249 - val_loss: 0.4921 - val_acc: 0.9359\n",
            "Epoch 10/10\n",
            "4689/4689 [==============================] - 14s 3ms/step - loss: 0.3592 - acc: 0.9312 - val_loss: 0.4691 - val_acc: 0.9403\n"
          ],
          "name": "stdout"
        }
      ]
    },
    {
      "cell_type": "code",
      "metadata": {
        "id": "Pce1wkdUHm7N",
        "colab_type": "code",
        "outputId": "df5f722e-468b-46ce-fb0d-583737916fae",
        "colab": {
          "base_uri": "https://localhost:8080/",
          "height": 1000
        }
      },
      "source": [
        "from keras.utils import plot_model\n",
        "\n",
        "# model plot\n",
        "plot_model(model, to_file='train-bert.png', show_shapes=True)"
      ],
      "execution_count": 76,
      "outputs": [
        {
          "output_type": "execute_result",
          "data": {
            "image/png": "[encoded data removed]",
            "text/plain": [
              "<IPython.core.display.Image object>"
            ]
          },
          "metadata": {
            "tags": []
          },
          "execution_count": 76
        }
      ]
    },
    {
      "cell_type": "code",
      "metadata": {
        "colab_type": "code",
        "id": "3Vm5oB5JW2NA",
        "outputId": "c65f89d4-efed-428e-bb28-ffb02e6eae4e",
        "colab": {
          "base_uri": "https://localhost:8080/",
          "height": 309
        }
      },
      "source": [
        "fig, (ax1, ax2) = plt.subplots(ncols=2, figsize=(10,4))\n",
        "print(history.history.keys())\n",
        "def plot_history_acc(history):\n",
        "    # plot the accuracy\n",
        "    ax1.plot(history.history['acc'],label=\"accuracy for training\")\n",
        "    ax1.plot(history.history['val_acc'],label=\"accuracy for validation\")\n",
        "    ax1.set_title('model accuracy')\n",
        "    ax1.set_xlabel('epoch')\n",
        "    ax1.set_ylabel('accuracy')\n",
        "    ax1.legend(loc='upper right')\n",
        "\n",
        "def plot_history_loss(history):\n",
        "    # Plot the loss\n",
        "    ax2.plot(history.history['loss'],label=\"loss for training\")\n",
        "    ax2.plot(history.history['val_loss'],label=\"loss for validation\")\n",
        "    ax2.set_title('model loss')\n",
        "    ax2.set_xlabel('epoch')\n",
        "    ax2.set_ylabel('loss')\n",
        "    ax2.legend(loc='upper right')\n",
        "\n",
        "\n",
        "\n",
        "plot_history_loss(history)\n",
        "plot_history_acc(history)\n",
        "plt.show()"
      ],
      "execution_count": 77,
      "outputs": [
        {
          "output_type": "stream",
          "text": [
            "dict_keys(['val_loss', 'val_acc', 'loss', 'acc'])\n"
          ],
          "name": "stdout"
        },
        {
          "output_type": "display_data",
          "data": {
            "image/png": "[encoded data removed]",
            "text/plain": [
              "<Figure size 720x288 with 2 Axes>"
            ]
          },
          "metadata": {
            "tags": []
          }
        }
      ]
    },
    {
      "cell_type": "code",
      "metadata": {
        "id": "VfJ9Ay8n4fch",
        "colab_type": "code",
        "outputId": "6f5f2a8e-1e80-4870-ace3-4c077b6e5d00",
        "colab": {
          "base_uri": "https://localhost:8080/",
          "height": 618
        }
      },
      "source": [
        "fig, ax = plt.subplots(nrows=2,ncols=2,figsize=(10,10))\n",
        "\n",
        "\n",
        "def plot_history_precision(history):\n",
        "    # Plot the loss\n",
        "    ax[0, 0].plot(history.history['precision'],label=\"precision for training\")\n",
        "    ax[0, 0].plot(history.history['val_precision'],label=\"precision for validation\")\n",
        "    ax[0, 0].set_title('model precision')\n",
        "    ax[0, 0].set_xlabel('epoch')\n",
        "    ax[0, 0].set_ylabel('precision')\n",
        "    ax[0, 0].legend(loc='upper right')\n",
        "\n",
        "\n",
        "def plot_history_recall(history):\n",
        "    # Plot the loss\n",
        "    ax[0, 1].plot(history.history['recall'],label=\"recall for training\")\n",
        "    ax[0, 1].plot(history.history['val_recall'],label=\"recall for validation\")\n",
        "    ax[0, 1].set_title('model recall')\n",
        "    ax[0, 1].set_xlabel('epoch')\n",
        "    ax[0, 1].set_ylabel('recall')\n",
        "    ax[0, 1].legend(loc='upper right')\n",
        "\n",
        "\n",
        "def plot_history_f1_score(history):\n",
        "    # Plot the loss\n",
        "    ax[1, 0].plot(history.history['f1_score'],label=\"f1_score for training\")\n",
        "    ax[1, 0].plot(history.history['val_f1_score'],label=\"f1_score for validation\")\n",
        "    ax[1, 0].set_title('model f1_score')\n",
        "    ax[1, 0].set_xlabel('epoch')\n",
        "    ax[1, 0].set_ylabel('f1_score')\n",
        "    ax[1, 0].legend(loc='upper right')\n",
        "\n",
        "ax[1,1].axis('off')\n",
        "\n",
        "plot_history_precision(history)\n",
        "plot_history_recall(history)\n",
        "plot_history_f1_score(history)\n",
        "\n",
        "plt.show()"
      ],
      "execution_count": 0,
      "outputs": [
        {
          "output_type": "display_data",
          "data": {
            "image/png": "[encoded data removed]",
            "text/plain": [
              "<Figure size 720x720 with 4 Axes>"
            ]
          },
          "metadata": {
            "tags": []
          }
        }
      ]
    },
    {
      "cell_type": "code",
      "metadata": {
        "colab_type": "code",
        "id": "x3S1NMKGY5Tm",
        "colab": {
          "base_uri": "https://localhost:8080/",
          "height": 615
        },
        "outputId": "e1de7d2c-fd6a-4204-be99-03cc75daf3d4"
      },
      "source": [
        "# load model data \n",
        "model = load_model('model.h1.22_Nov_19')"
      ],
      "execution_count": 18,
      "outputs": [
        {
          "output_type": "stream",
          "text": [
            "WARNING:tensorflow:From /usr/local/lib/python3.6/dist-packages/keras/backend/tensorflow_backend.py:541: The name tf.placeholder is deprecated. Please use tf.compat.v1.placeholder instead.\n",
            "\n",
            "WARNING:tensorflow:From /usr/local/lib/python3.6/dist-packages/keras/backend/tensorflow_backend.py:66: The name tf.get_default_graph is deprecated. Please use tf.compat.v1.get_default_graph instead.\n",
            "\n",
            "WARNING:tensorflow:From /usr/local/lib/python3.6/dist-packages/keras/backend/tensorflow_backend.py:4432: The name tf.random_uniform is deprecated. Please use tf.random.uniform instead.\n",
            "\n",
            "WARNING:tensorflow:From /usr/local/lib/python3.6/dist-packages/keras/backend/tensorflow_backend.py:148: The name tf.placeholder_with_default is deprecated. Please use tf.compat.v1.placeholder_with_default instead.\n",
            "\n",
            "WARNING:tensorflow:From /usr/local/lib/python3.6/dist-packages/keras/backend/tensorflow_backend.py:3733: calling dropout (from tensorflow.python.ops.nn_ops) with keep_prob is deprecated and will be removed in a future version.\n",
            "Instructions for updating:\n",
            "Please use `rate` instead of `keep_prob`. Rate should be set to `rate = 1 - keep_prob`.\n",
            "WARNING:tensorflow:From /usr/local/lib/python3.6/dist-packages/keras/backend/tensorflow_backend.py:190: The name tf.get_default_session is deprecated. Please use tf.compat.v1.get_default_session instead.\n",
            "\n",
            "WARNING:tensorflow:From /usr/local/lib/python3.6/dist-packages/keras/backend/tensorflow_backend.py:197: The name tf.ConfigProto is deprecated. Please use tf.compat.v1.ConfigProto instead.\n",
            "\n",
            "WARNING:tensorflow:From /usr/local/lib/python3.6/dist-packages/keras/backend/tensorflow_backend.py:203: The name tf.Session is deprecated. Please use tf.compat.v1.Session instead.\n",
            "\n",
            "WARNING:tensorflow:From /usr/local/lib/python3.6/dist-packages/keras/backend/tensorflow_backend.py:207: The name tf.global_variables is deprecated. Please use tf.compat.v1.global_variables instead.\n",
            "\n",
            "WARNING:tensorflow:From /usr/local/lib/python3.6/dist-packages/keras/backend/tensorflow_backend.py:216: The name tf.is_variable_initialized is deprecated. Please use tf.compat.v1.is_variable_initialized instead.\n",
            "\n",
            "WARNING:tensorflow:From /usr/local/lib/python3.6/dist-packages/keras/backend/tensorflow_backend.py:223: The name tf.variables_initializer is deprecated. Please use tf.compat.v1.variables_initializer instead.\n",
            "\n",
            "WARNING:tensorflow:From /usr/local/lib/python3.6/dist-packages/keras/optimizers.py:793: The name tf.train.Optimizer is deprecated. Please use tf.compat.v1.train.Optimizer instead.\n",
            "\n",
            "WARNING:tensorflow:From /usr/local/lib/python3.6/dist-packages/keras/backend/tensorflow_backend.py:3622: The name tf.log is deprecated. Please use tf.math.log instead.\n",
            "\n",
            "WARNING:tensorflow:From /usr/local/lib/python3.6/dist-packages/tensorflow_core/python/ops/math_grad.py:1424: where (from tensorflow.python.ops.array_ops) is deprecated and will be removed in a future version.\n",
            "Instructions for updating:\n",
            "Use tf.where in 2.0, which has the same broadcast rule as np.where\n",
            "WARNING:tensorflow:From /usr/local/lib/python3.6/dist-packages/keras/backend/tensorflow_backend.py:1033: The name tf.assign_add is deprecated. Please use tf.compat.v1.assign_add instead.\n",
            "\n",
            "WARNING:tensorflow:From /usr/local/lib/python3.6/dist-packages/keras/backend/tensorflow_backend.py:1020: The name tf.assign is deprecated. Please use tf.compat.v1.assign instead.\n",
            "\n"
          ],
          "name": "stdout"
        }
      ]
    },
    {
      "cell_type": "code",
      "metadata": {
        "id": "u0QN5x3hJ1zy",
        "colab_type": "code",
        "colab": {}
      },
      "source": [
        "def word_for_id(integer, tokenizer):\n",
        "  for word, index in tokenizer.word_index.items():\n",
        "    if index == integer:\n",
        "      return word\n",
        "  return None"
      ],
      "execution_count": 0,
      "outputs": []
    },
    {
      "cell_type": "code",
      "metadata": {
        "id": "nio7KzckJ3En",
        "colab_type": "code",
        "colab": {}
      },
      "source": [
        "def predict_sequence(model, tokenizer, x, y):\n",
        "  prediction = model.predict([x, y], verbose=0)[0]\n",
        "  integers = [argmax(vector) for vector in prediction]\n",
        "  target = list()\n",
        "  for i in integers:\n",
        "    word = word_for_id(i, tokenizer)\n",
        "    if word is None:\n",
        "      break\n",
        "    target.append(word)\n",
        "  return ' '.join(target)"
      ],
      "execution_count": 0,
      "outputs": []
    },
    {
      "cell_type": "code",
      "metadata": {
        "id": "k-qW8STNNldO",
        "colab_type": "code",
        "colab": {}
      },
      "source": [
        "predicted = list()\n",
        "actual = list()\n",
        "for i, (en, ja) in enumerate(zip(X_test, Y_test)):\n",
        "  # translate encoded source text\n",
        "\n",
        "  en = en.reshape((1, en.shape[0]))\n",
        "  ja = ja.reshape((1, ja.shape[0]))\n",
        "  translation = predict_sequence(model, ja_tokenizer, en, ja)\n",
        "\n",
        "  actual.append([y_test[i]]) \n",
        "  predicted.append(translation)"
      ],
      "execution_count": 0,
      "outputs": []
    },
    {
      "cell_type": "code",
      "metadata": {
        "id": "XzkJAClrjTMi",
        "colab_type": "code",
        "colab": {
          "base_uri": "https://localhost:8080/",
          "height": 51
        },
        "outputId": "27d989f3-7955-477b-9f05-2e1a1c562866"
      },
      "source": [
        "from nltk.translate.bleu_score import corpus_bleu\n",
        "\n",
        "# calculate BLEU score\n",
        "print('BLEU corpus: %f' % corpus_bleu(actual, predicted))\n",
        "from nltk.translate.bleu_score import sentence_bleu\n",
        "print(\"BLUE  sentense: %f\" % sentence_bleu(actual, predicted))"
      ],
      "execution_count": 81,
      "outputs": [
        {
          "output_type": "stream",
          "text": [
            "BLEU corpus: 0.333420\n",
            "BLUE  sentense: 0.000000\n"
          ],
          "name": "stdout"
        }
      ]
    },
    {
      "cell_type": "code",
      "metadata": {
        "id": "L_tOYFO-kFuG",
        "colab_type": "code",
        "colab": {
          "base_uri": "https://localhost:8080/",
          "height": 703
        },
        "outputId": "9b70b550-c6b5-4f62-c30e-d36aa05c0757"
      },
      "source": [
        "# view actual sentence anf predict result\n",
        "pred_df = pd.DataFrame({'actual' : y_test, 'predicted' : predicted})\n",
        "pred_df.head(20)"
      ],
      "execution_count": 82,
      "outputs": [
        {
          "output_type": "execute_result",
          "data": {
            "text/html": [
              "<div>\n",
              "<style scoped>\n",
              "    .dataframe tbody tr th:only-of-type {\n",
              "        vertical-align: middle;\n",
              "    }\n",
              "\n",
              "    .dataframe tbody tr th {\n",
              "        vertical-align: top;\n",
              "    }\n",
              "\n",
              "    .dataframe thead th {\n",
              "        text-align: right;\n",
              "    }\n",
              "</style>\n",
              "<table border=\"1\" class=\"dataframe\">\n",
              "  <thead>\n",
              "    <tr style=\"text-align: right;\">\n",
              "      <th></th>\n",
              "      <th>actual</th>\n",
              "      <th>predicted</th>\n",
              "    </tr>\n",
              "  </thead>\n",
              "  <tbody>\n",
              "    <tr>\n",
              "      <th>0</th>\n",
              "      <td>&lt;sos&gt; そう は  なり たくない だ ろ &lt;eos&gt;</td>\n",
              "      <td>sos そう は また たくない だ ろ eos</td>\n",
              "    </tr>\n",
              "    <tr>\n",
              "      <th>1</th>\n",
              "      <td>&lt;sos&gt; -  初め ま して  何 の 用 だ  ?  &lt;eos&gt;</td>\n",
              "      <td>sos 起き ま だ 何 の 用 だ eos</td>\n",
              "    </tr>\n",
              "    <tr>\n",
              "      <th>2</th>\n",
              "      <td>&lt;sos&gt; 唯一 直接 本人 から のもの です  とても 妙 です な &lt;eos&gt;</td>\n",
              "      <td>sos この また 話 から つき だ 大変 妙 だ な eos</td>\n",
              "    </tr>\n",
              "    <tr>\n",
              "      <th>3</th>\n",
              "      <td>&lt;sos&gt; 恋 する 時の よう &lt;eos&gt;</td>\n",
              "      <td>sos 愛 する だ よう eos</td>\n",
              "    </tr>\n",
              "    <tr>\n",
              "      <th>4</th>\n",
              "      <td>&lt;sos&gt; 力 のある 人と の  コ ネ が  エージェント も 必要 だし  お金...</td>\n",
              "      <td>sos 力 が だ の コ ネ られた だ も 必要 だ ほしい にくい の eos</td>\n",
              "    </tr>\n",
              "    <tr>\n",
              "      <th>5</th>\n",
              "      <td>&lt;sos&gt; 一度 だけだ から  よく 見て て &lt;eos&gt;</td>\n",
              "      <td>sos 入れ が から 似 だ て eos</td>\n",
              "    </tr>\n",
              "    <tr>\n",
              "      <th>6</th>\n",
              "      <td>&lt;sos&gt; また 明日 だと  ?  &lt;eos&gt;</td>\n",
              "      <td>sos また 明日 が eos</td>\n",
              "    </tr>\n",
              "    <tr>\n",
              "      <th>7</th>\n",
              "      <td>&lt;sos&gt; 裁判 を 取材 して て  どう 思う  ?  &lt;eos&gt;</td>\n",
              "      <td>sos 警察 を 担当 だ て だ やる eos</td>\n",
              "    </tr>\n",
              "    <tr>\n",
              "      <th>8</th>\n",
              "      <td>&lt;sos&gt; さ あ リ ラックス して &lt;eos&gt;</td>\n",
              "      <td>sos さ あ リ サン だ eos</td>\n",
              "    </tr>\n",
              "    <tr>\n",
              "      <th>9</th>\n",
              "      <td>&lt;sos&gt; 見 ろ よ  あれ &lt;eos&gt;</td>\n",
              "      <td>sos 見 ろ よ もし eos</td>\n",
              "    </tr>\n",
              "    <tr>\n",
              "      <th>10</th>\n",
              "      <td>&lt;sos&gt; ね え  冷静 に 行動 する んだ &lt;eos&gt;</td>\n",
              "      <td>sos ね え 大変 に かける する んだ eos</td>\n",
              "    </tr>\n",
              "    <tr>\n",
              "      <th>11</th>\n",
              "      <td>&lt;sos&gt; 知り ません ここに 誰も い ません &lt;eos&gt;</td>\n",
              "      <td>sos 知り だ ここに だ い だ eos</td>\n",
              "    </tr>\n",
              "    <tr>\n",
              "      <th>12</th>\n",
              "      <td>&lt;sos&gt; ここ は ロサンゼルス &lt;eos&gt;</td>\n",
              "      <td>sos ここ は どこ eos</td>\n",
              "    </tr>\n",
              "    <tr>\n",
              "      <th>13</th>\n",
              "      <td>&lt;sos&gt; いい え  聞いて ません &lt;eos&gt;</td>\n",
              "      <td>sos いい え だ ぞ eos</td>\n",
              "    </tr>\n",
              "    <tr>\n",
              "      <th>14</th>\n",
              "      <td>&lt;sos&gt; -  ラム  コリンズ 一 つね  ?  &lt;eos&gt;</td>\n",
              "      <td>sos アラン だ 一 ろ eos</td>\n",
              "    </tr>\n",
              "    <tr>\n",
              "      <th>15</th>\n",
              "      <td>&lt;sos&gt; -  そう  管理 人 よ  魔女 な の &lt;eos&gt;</td>\n",
              "      <td>sos そう とおり 人 よ 猫 な の eos</td>\n",
              "    </tr>\n",
              "    <tr>\n",
              "      <th>16</th>\n",
              "      <td>&lt;sos&gt; コンスタンティノープル &lt;eos&gt;</td>\n",
              "      <td>sos どう eos</td>\n",
              "    </tr>\n",
              "    <tr>\n",
              "      <th>17</th>\n",
              "      <td>&lt;sos&gt; -  磁気 牽引 機は どう ですか  ?  &lt;eos&gt;</td>\n",
              "      <td>sos 網 板 だ だ だ eos</td>\n",
              "    </tr>\n",
              "    <tr>\n",
              "      <th>18</th>\n",
              "      <td>&lt;sos&gt; 複数の 人物が 関わって る &lt;eos&gt;</td>\n",
              "      <td>sos どう だ だ る eos</td>\n",
              "    </tr>\n",
              "    <tr>\n",
              "      <th>19</th>\n",
              "      <td>&lt;sos&gt; 仲間 が 妙 な 気 起 こ さん うちに 白 状 しろ &lt;eos&gt;</td>\n",
              "      <td>sos 父 が 妙 な 気 起 こ さん うちに 頭 状 しろ eos</td>\n",
              "    </tr>\n",
              "  </tbody>\n",
              "</table>\n",
              "</div>"
            ],
            "text/plain": [
              "                                               actual                                       predicted\n",
              "0                      <sos> そう は  なり たくない だ ろ <eos>                       sos そう は また たくない だ ろ eos\n",
              "1                <sos> -  初め ま して  何 の 用 だ  ?  <eos>                        sos 起き ま だ 何 の 用 だ eos\n",
              "2        <sos> 唯一 直接 本人 から のもの です  とても 妙 です な <eos>              sos この また 話 から つき だ 大変 妙 だ な eos\n",
              "3                              <sos> 恋 する 時の よう <eos>                              sos 愛 する だ よう eos\n",
              "4   <sos> 力 のある 人と の  コ ネ が  エージェント も 必要 だし  お金...  sos 力 が だ の コ ネ られた だ も 必要 だ ほしい にくい の eos\n",
              "5                    <sos> 一度 だけだ から  よく 見て て <eos>                         sos 入れ が から 似 だ て eos\n",
              "6                           <sos> また 明日 だと  ?  <eos>                                sos また 明日 が eos\n",
              "7                <sos> 裁判 を 取材 して て  どう 思う  ?  <eos>                      sos 警察 を 担当 だ て だ やる eos\n",
              "8                           <sos> さ あ リ ラックス して <eos>                             sos さ あ リ サン だ eos\n",
              "9                               <sos> 見 ろ よ  あれ <eos>                                sos 見 ろ よ もし eos\n",
              "10                    <sos> ね え  冷静 に 行動 する んだ <eos>                     sos ね え 大変 に かける する んだ eos\n",
              "11                    <sos> 知り ません ここに 誰も い ません <eos>                       sos 知り だ ここに だ い だ eos\n",
              "12                           <sos> ここ は ロサンゼルス <eos>                                sos ここ は どこ eos\n",
              "13                          <sos> いい え  聞いて ません <eos>                              sos いい え だ ぞ eos\n",
              "14                  <sos> -  ラム  コリンズ 一 つね  ?  <eos>                              sos アラン だ 一 ろ eos\n",
              "15                  <sos> -  そう  管理 人 よ  魔女 な の <eos>                        sos そう とおり 人 よ 猫 な の eos\n",
              "16                           <sos> コンスタンティノープル <eos>                                     sos どう eos\n",
              "17               <sos> -  磁気 牽引 機は どう ですか  ?  <eos>                            sos 網 板 だ だ だ eos\n",
              "18                        <sos> 複数の 人物が 関わって る <eos>                             sos どう だ だ る eos\n",
              "19          <sos> 仲間 が 妙 な 気 起 こ さん うちに 白 状 しろ <eos>            sos 父 が 妙 な 気 起 こ さん うちに 頭 状 しろ eos"
            ]
          },
          "metadata": {
            "tags": []
          },
          "execution_count": 82
        }
      ]
    },
    {
      "cell_type": "markdown",
      "metadata": {
        "id": "V2tR3wEMNxGQ",
        "colab_type": "text"
      },
      "source": [
        ""
      ]
    },
    {
      "cell_type": "code",
      "metadata": {
        "id": "42aD6GUb8c4u",
        "colab_type": "code",
        "colab": {}
      },
      "source": [
        ""
      ],
      "execution_count": 0,
      "outputs": []
    }
  ]
}