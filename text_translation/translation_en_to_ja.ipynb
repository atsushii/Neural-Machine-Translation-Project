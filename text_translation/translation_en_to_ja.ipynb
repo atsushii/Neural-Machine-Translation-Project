{
  "nbformat": 4,
  "nbformat_minor": 0,
  "metadata": {
    "accelerator": "GPU",
    "colab": {
      "name": "translation_en_to_ja.ipynb",
      "provenance": [],
      "collapsed_sections": [],
      "toc_visible": true,
      "machine_shape": "hm"
    },
    "kernelspec": {
      "name": "python3",
      "display_name": "Python 3"
    },
    "language_info": {
      "codemirror_mode": {
        "name": "ipython",
        "version": 3
      },
      "file_extension": ".py",
      "mimetype": "text/x-python",
      "name": "python",
      "nbconvert_exporter": "python",
      "pygments_lexer": "ipython3",
      "version": "3.7.5"
    }
  },
  "cells": [
    {
      "cell_type": "code",
      "metadata": {
        "id": "RmjVpP_kv4yc",
        "colab_type": "code",
        "outputId": "2c0b4640-3c8a-4490-a827-0fd7fd94522f",
        "colab": {
          "base_uri": "https://localhost:8080/",
          "height": 34
        }
      },
      "source": [
        "# mount google drive \n",
        "from google.colab import drive\n",
        "drive.mount('/content/drive')"
      ],
      "execution_count": 1,
      "outputs": [
        {
          "output_type": "stream",
          "text": [
            "Drive already mounted at /content/drive; to attempt to forcibly remount, call drive.mount(\"/content/drive\", force_remount=True).\n"
          ],
          "name": "stdout"
        }
      ]
    },
    {
      "cell_type": "code",
      "metadata": {
        "colab_type": "code",
        "id": "Zb93R3DCCXK0",
        "outputId": "87992b97-e20d-4ad4-e878-8c9e1cf4ec22",
        "colab": {
          "base_uri": "https://localhost:8080/",
          "height": 34
        }
      },
      "source": [
        "import tensorflow as tf\n",
        "import numpy as np\n",
        "import re\n",
        "from numpy import array, argmax, random, take\n",
        "import pandas as pd\n",
        "from keras.models import Sequential\n",
        "from keras.models import Model, load_model\n",
        "from keras.layers import Dense, LSTM, Embedding, RepeatVector, Dropout, Bidirectional, Input, dot, Activation, TimeDistributed\n",
        "from keras.preprocessing.text import Tokenizer\n",
        "from keras.callbacks import ModelCheckpoint\n",
        "from keras.preprocessing.sequence import pad_sequences\n",
        "from keras import optimizers\n",
        "from keras.engine.topology import Layer\n",
        "from keras import initializers, regularizers, constraints\n",
        "from keras import backend as K\n",
        "import keras\n",
        "\n",
        "import matplotlib.pyplot as plt\n",
        "import nltk\n",
        "import io\n",
        "from nltk.tokenize.toktok import ToktokTokenizer\n",
        "import unicodedata\n",
        "\n",
        "# plot japanese lang\n",
        "!pip install japanize-matplotlib\n",
        "import japanize_matplotlib\n",
        "\n",
        "# ignore warning\n",
        "import os\n",
        "os.environ['TF_CPP_MIN_LOG_LEVEL'] = '3'"
      ],
      "execution_count": 145,
      "outputs": [
        {
          "output_type": "stream",
          "text": [
            "Requirement already satisfied: japanize-matplotlib in /usr/local/lib/python3.6/dist-packages (1.0.5)\n"
          ],
          "name": "stdout"
        }
      ]
    },
    {
      "cell_type": "markdown",
      "metadata": {
        "id": "xm1CEgijFK_B",
        "colab_type": "text"
      },
      "source": [
        "# load text file\n",
        "\n",
        "**this dataset is aleady implemented a SentenceSpace**"
      ]
    },
    {
      "cell_type": "code",
      "metadata": {
        "colab_type": "code",
        "id": "bmv0RqrACbd-",
        "colab": {}
      },
      "source": [
        "num_example = 30000\n",
        "\n",
        "# create each languages list\n",
        "def create_lang_list(num_example):\n",
        "    # load txt file\n",
        "    lines =  io.open(\"/content/drive/My Drive/Colab Notebooks/raw.txt\", encoding='UTF-8').read().strip().split('\\n')\n",
        "\n",
        "    word_pairs = [[w for w in l.split('\\t')]  for l in lines[:num_example]]\n",
        "\n",
        "    return zip(*word_pairs)"
      ],
      "execution_count": 0,
      "outputs": []
    },
    {
      "cell_type": "code",
      "metadata": {
        "id": "aLGytFt5qxDo",
        "colab_type": "code",
        "colab": {
          "base_uri": "https://localhost:8080/",
          "height": 164
        },
        "outputId": "9d2b7920-33b1-41ba-f16e-b11f3bdf5dad"
      },
      "source": [
        "en, ja = create_lang_list(num_example)"
      ],
      "execution_count": 157,
      "outputs": [
        {
          "output_type": "error",
          "ename": "NameError",
          "evalue": "ignored",
          "traceback": [
            "\u001b[0;31m---------------------------------------------------------------------------\u001b[0m",
            "\u001b[0;31mNameError\u001b[0m                                 Traceback (most recent call last)",
            "\u001b[0;32m<ipython-input-157-791a9d6d7d38>\u001b[0m in \u001b[0;36m<module>\u001b[0;34m()\u001b[0m\n\u001b[0;32m----> 1\u001b[0;31m \u001b[0men\u001b[0m\u001b[0;34m,\u001b[0m \u001b[0mja\u001b[0m \u001b[0;34m=\u001b[0m \u001b[0mcreate_lang_list\u001b[0m\u001b[0;34m(\u001b[0m\u001b[0mnum_example\u001b[0m\u001b[0;34m)\u001b[0m\u001b[0;34m\u001b[0m\u001b[0;34m\u001b[0m\u001b[0m\n\u001b[0m",
            "\u001b[0;31mNameError\u001b[0m: name 'create_lang_list' is not defined"
          ]
        }
      ]
    },
    {
      "cell_type": "code",
      "metadata": {
        "id": "fl22ZyPk2PfM",
        "colab_type": "code",
        "colab": {}
      },
      "source": [
        "# use other dataset\n",
        "en = io.open(\"/content/drive/My Drive/OpenSubtitles2016.en-ja.en\", encoding=\"utf-8\").read().strip().split(\"\\n\")\n",
        "ja = io.open(\"/content/drive/My Drive/OpenSubtitles2016.en-ja.ja\", encoding=\"utf-8\").read().strip().split(\"\\n\")\n",
        "en = en[:30000]\n",
        "ja = ja[:30000]"
      ],
      "execution_count": 0,
      "outputs": []
    },
    {
      "cell_type": "code",
      "metadata": {
        "id": "Vnsuu4-gzjB6",
        "colab_type": "code",
        "outputId": "a216cd17-6632-42ea-89eb-1509c318a6e4",
        "colab": {
          "base_uri": "https://localhost:8080/",
          "height": 51
        }
      },
      "source": [
        "# sentencepiece\n",
        "!pip install sentencepiece\n",
        "import sentencepiece as spm\n",
        "spm_model = spm.SentencePieceProcessor()\n",
        "spm_model. load(\"/content/drive/My Drive/wiki-ja.model\")"
      ],
      "execution_count": 207,
      "outputs": [
        {
          "output_type": "stream",
          "text": [
            "Requirement already satisfied: sentencepiece in /usr/local/lib/python3.6/dist-packages (0.1.85)\n"
          ],
          "name": "stdout"
        },
        {
          "output_type": "execute_result",
          "data": {
            "text/plain": [
              "True"
            ]
          },
          "metadata": {
            "tags": []
          },
          "execution_count": 207
        }
      ]
    },
    {
      "cell_type": "code",
      "metadata": {
        "id": "IEtoY2Kl2Jai",
        "colab_type": "code",
        "colab": {}
      },
      "source": [
        "  ja = [\" \".join(spm_model.encode_as_pieces(i)).replace(\"▁\", \"\") for i in ja]"
      ],
      "execution_count": 0,
      "outputs": []
    },
    {
      "cell_type": "markdown",
      "metadata": {
        "id": "QAhEAtSYFSys",
        "colab_type": "text"
      },
      "source": [
        "# Text Pre-processing\n",
        "\n",
        "**Removing accented characters** \n",
        "\n",
        "e.g. é → e.\n",
        "\n",
        "**Expanding Contractions** \n",
        "\n",
        "e.g. don't → do not, I'd → I would\n",
        "\n",
        "**remove special word** \n",
        "\n",
        "e.g. remove \"123#@\"\n",
        "\n",
        "**Stemming**\n",
        "\n",
        " e.g. corder, codes → code\n",
        "\n",
        "**Lemmatization**\n",
        "\n",
        " e.g. better → good\n",
        "\n",
        "**Tokenize**\n",
        "\n",
        " e.g. I am going to restaurant → [[I], [am], [going], [to], [restaurant]]"
      ]
    },
    {
      "cell_type": "markdown",
      "metadata": {
        "id": "iS0AX_jOFk_l",
        "colab_type": "text"
      },
      "source": [
        "# Removing accented characters\n",
        "\n",
        "English might have accent like é but Japanese doesn't have any accent I just create different function to ascii for Japanese and English"
      ]
    },
    {
      "cell_type": "code",
      "metadata": {
        "colab_type": "code",
        "id": "Ttcy6dKhDrmB",
        "colab": {}
      },
      "source": [
        "# Removing accented characters\n",
        "def english_unicode_to_ascii(text):\n",
        "     return ''.join(ascii_text for ascii_text in unicodedata.normalize('NFKD', text).encode('ascii', 'ignore').decode('utf-8', 'ignore'))\n",
        "\n",
        "def japanese_unicode_to_ascii(text):\n",
        "    return ''.join(ascii_text for ascii_text in unicodedata.normalize('NFKD', text))"
      ],
      "execution_count": 0,
      "outputs": []
    },
    {
      "cell_type": "code",
      "metadata": {
        "colab_type": "code",
        "id": "OMHI0M1qPWqa",
        "outputId": "e9e9b872-6685-472e-9b62-bd53946c4d99",
        "colab": {
          "base_uri": "https://localhost:8080/",
          "height": 34
        }
      },
      "source": [
        "# e.g.\n",
        "japanese_unicode_to_ascii(\"こんにちは。今日は\"), english_unicode_to_ascii(\"Hello world é \")"
      ],
      "execution_count": 9,
      "outputs": [
        {
          "output_type": "execute_result",
          "data": {
            "text/plain": [
              "('こんにちは。今日は', 'Hello world e ')"
            ]
          },
          "metadata": {
            "tags": []
          },
          "execution_count": 9
        }
      ]
    },
    {
      "cell_type": "markdown",
      "metadata": {
        "id": "wO9i_n__FrHg",
        "colab_type": "text"
      },
      "source": [
        "# Expanding Contractions\n",
        "Japanese doesn't have a Contraction words so I just create a one function to expand Contractions for Engish"
      ]
    },
    {
      "cell_type": "code",
      "metadata": {
        "colab_type": "code",
        "id": "cUEU_GU1PYNq",
        "colab": {}
      },
      "source": [
        "def expand_constraction(text):\n",
        "\n",
        "    #  dic for expand constraction words\n",
        "    constraction_dict= {\n",
        "        \"ain't\": \"is not\",\n",
        "        \"aren't\": \"are not\",\n",
        "        \"can't\": \"cannot\",\n",
        "        \"can't've\": \"cannot have\",\n",
        "        \"'cause\": \"because\",\n",
        "        \"could've\": \"could have\",\n",
        "        \"couldn't\": \"could not\",\n",
        "        \"couldn't've\": \"could not have\",\n",
        "        \"didn't\": \"did not\",\n",
        "        \"doesn't\": \"does not\",\n",
        "        \"don't\": \"do not\",\n",
        "        \"hadn't\": \"had not\",\n",
        "        \"hadn't've\": \"had not have\",\n",
        "        \"hasn't\": \"has not\",\n",
        "        \"haven't\": \"have not\",\n",
        "        \"he'd\": \"he would\",\n",
        "        \"he'd've\": \"he would have\",\n",
        "        \"he'll\": \"he will\",\n",
        "        \"he'll've\": \"he he will have\",\n",
        "        \"he's\": \"he is\",\n",
        "        \"how'd\": \"how did\",\n",
        "        \"how'd'y\": \"how do you\",\n",
        "        \"how'll\": \"how will\",\n",
        "        \"how's\": \"how is\",\n",
        "        \"I'd\": \"I would\",\n",
        "        \"I'd've\": \"I would have\",\n",
        "        \"I'll\": \"I will\",\n",
        "        \"I'll've\": \"I will have\",\n",
        "        \"I'm\": \"I am\",\n",
        "        \"I've\": \"I have\",\n",
        "        \"i'd\": \"i would\",\n",
        "        \"i'd've\": \"i would have\",\n",
        "        \"i'll\": \"i will\",\n",
        "        \"i'll've\": \"i will have\",\n",
        "        \"i'm\": \"i am\",\n",
        "        \"i've\": \"i have\",\n",
        "        \"isn't\": \"is not\",\n",
        "        \"it'd\": \"it would\",\n",
        "        \"it'd've\": \"it would have\",\n",
        "        \"it'll\": \"it will\",\n",
        "        \"it'll've\": \"it will have\",\n",
        "        \"it's\": \"it is\",\n",
        "        \"let's\": \"let us\",\n",
        "        \"ma'am\": \"madam\",\n",
        "        \"mayn't\": \"may not\",\n",
        "        \"might've\": \"might have\",\n",
        "        \"mightn't\": \"might not\",\n",
        "        \"mightn't've\": \"might not have\",\n",
        "        \"must've\": \"must have\",\n",
        "        \"mustn't\": \"must not\",\n",
        "        \"mustn't've\": \"must not have\",\n",
        "        \"needn't\": \"need not\",\n",
        "        \"needn't've\": \"need not have\",\n",
        "        \"o'clock\": \"of the clock\",\n",
        "        \"oughtn't\": \"ought not\",\n",
        "        \"oughtn't've\": \"ought not have\",\n",
        "        \"shan't\": \"shall not\",\n",
        "        \"sha'n't\": \"shall not\",\n",
        "        \"shan't've\": \"shall not have\",\n",
        "        \"she'd\": \"she would\",\n",
        "        \"she'd've\": \"she would have\",\n",
        "        \"she'll\": \"she will\",\n",
        "        \"she'll've\": \"she will have\",\n",
        "        \"she's\": \"she is\",\n",
        "        \"should've\": \"should have\",\n",
        "        \"shouldn't\": \"should not\",\n",
        "        \"shouldn't've\": \"should not have\",\n",
        "        \"so've\": \"so have\",\n",
        "        \"so's\": \"so as\",\n",
        "        \"that'd\": \"that would\",\n",
        "        \"that'd've\": \"that would have\",\n",
        "        \"that's\": \"that is\",\n",
        "        \"there'd\": \"there would\",\n",
        "        \"there'd've\": \"there would have\",\n",
        "        \"there's\": \"there is\",\n",
        "        \"they'd\": \"they would\",\n",
        "        \"they'd've\": \"they would have\",\n",
        "        \"they'll\": \"they will\",\n",
        "        \"they'll've\": \"they will have\",\n",
        "        \"they're\": \"they are\",\n",
        "        \"they've\": \"they have\",\n",
        "        \"to've\": \"to have\",\n",
        "        \"wasn't\": \"was not\",\n",
        "        \"we'd\": \"we would\",\n",
        "        \"we'd've\": \"we would have\",\n",
        "        \"we'll\": \"we will\",\n",
        "        \"we'll've\": \"we will have\",\n",
        "        \"we're\": \"we are\",\n",
        "        \"we've\": \"we have\",\n",
        "        \"weren't\": \"were not\",\n",
        "        \"what'll\": \"what will\",\n",
        "        \"what'll've\": \"what will have\",\n",
        "        \"what're\": \"what are\",\n",
        "        \"what's\": \"what is\",\n",
        "        \"what've\": \"what have\",\n",
        "        \"when's\": \"when is\",\n",
        "        \"when've\": \"when have\",\n",
        "        \"where'd\": \"where did\",\n",
        "        \"where's\": \"where is\",\n",
        "        \"where've\": \"where have\",\n",
        "        \"who'll\": \"who will\",\n",
        "        \"who'll've\": \"who will have\",\n",
        "        \"who's\": \"who is\",\n",
        "        \"who've\": \"who have\",\n",
        "        \"why's\": \"why is\",\n",
        "        \"why've\": \"why have\",\n",
        "        \"will've\": \"will have\",\n",
        "        \"won't\": \"will not\",\n",
        "        \"won't've\": \"will not have\",\n",
        "        \"would've\": \"would have\",\n",
        "        \"wouldn't\": \"would not\",\n",
        "        \"wouldn't've\": \"would not have\",\n",
        "        \"y'all\": \"you all\",\n",
        "        \"y'all'd\": \"you all would\",\n",
        "        \"y'all'd've\": \"you all would have\",\n",
        "        \"y'all're\": \"you all are\",\n",
        "        \"y'all've\": \"you all have\",\n",
        "        \"you'd\": \"you would\",\n",
        "        \"you'd've\": \"you would have\",\n",
        "        \"you'll\": \"you will\",\n",
        "        \"you'll've\": \"you will have\",\n",
        "        \"you're\": \"you are\",\n",
        "        \"you've\": \"you have\"\n",
        "    }\n",
        "\n",
        "    #  define match pattern\n",
        "    #  IGNORECASE → no matter if word is lowercase or uppercase\n",
        "    #  DOTAIL → . is going to match \\n\n",
        "    contraction_pattern = re.compile('({})'.format('|'.join(constraction_dict.keys())),\n",
        "                                                  flags=re.IGNORECASE | re.DOTALL)\n",
        "    #  expand words\n",
        "    def expand_match(constraction):\n",
        "        # get constraction word\n",
        "        match = constraction.group(0)\n",
        "        first_char = match[0]\n",
        "        #  get expand word from constraction dict\n",
        "        expand_constraction = constraction_dict.get(match)\\\n",
        "                                                    if constraction_dict.get(match) \\\n",
        "                                                    else constraction_dict.get(match.lower())\n",
        "        \n",
        "        # create expand constraction\n",
        "        expand_constraction = first_char + expand_constraction[1:]\n",
        "        return expand_constraction\n",
        "    \n",
        "    expanded_text = contraction_pattern.sub(expand_match, text)\n",
        "    expanded_text = re.sub(\"'\", \"\", expanded_text)\n",
        "    return expanded_text"
      ],
      "execution_count": 0,
      "outputs": []
    },
    {
      "cell_type": "code",
      "metadata": {
        "colab_type": "code",
        "id": "3ikqxXGePadk",
        "outputId": "9ed6cf57-7a37-49fe-aff3-fd3970fa38e8",
        "colab": {
          "base_uri": "https://localhost:8080/",
          "height": 34
        }
      },
      "source": [
        "# e.g.\n",
        "expand_constraction(\"you're good I'd like to go he's she's\")"
      ],
      "execution_count": 0,
      "outputs": [
        {
          "output_type": "execute_result",
          "data": {
            "text/plain": [
              "'you are good I would like to go he is she is'"
            ]
          },
          "metadata": {
            "tags": []
          },
          "execution_count": 9
        }
      ]
    },
    {
      "cell_type": "markdown",
      "metadata": {
        "id": "zGZrYrRxFwc8",
        "colab_type": "text"
      },
      "source": [
        "# remove special characters and create space between word and punctuation\n",
        "\n",
        "replacing everything with space except(a-z, A-Z, \"?\", \"!\", \"-\", \"ー\", \"Kanji\", \"Katakana\", \"Hiragana\") \n",
        "create space between word and punctuation (? ! )"
      ]
    },
    {
      "cell_type": "code",
      "metadata": {
        "id": "RBMqrm3o-sJt",
        "colab_type": "code",
        "colab": {}
      },
      "source": [
        "def replace_special_character_to_space(text):\n",
        "    pattern = r\"[^a-zA-Z\\u3041-\\u309F\\u30A1-\\u30FF\\uFF66-\\uFF9F\\u4E00-\\u9FD0\\u309B\\u3099\\uFF9E\\u309C\\u309A\\uFF9F?!\\-/\\s]+\"\n",
        "    text = re.sub(pattern, '', text).rstrip().strip()\n",
        "    text = text.replace(\"・\" , \"\")\n",
        "\n",
        "    text = re.sub(r\"([?!.,。、])\", r\" \\1 \", text)\n",
        "    text = text.lower()\n",
        "\n",
        "    return text"
      ],
      "execution_count": 0,
      "outputs": []
    },
    {
      "cell_type": "code",
      "metadata": {
        "colab_type": "code",
        "id": "oeOvXEYFQq_-",
        "outputId": "c71344c8-b564-4f64-e672-a69c1d3689bb",
        "colab": {
          "base_uri": "https://localhost:8080/",
          "height": 34
        }
      },
      "source": [
        "# e.g.\n",
        "replace_special_character_to_space(\"hello, . #@…123world.\"), replace_special_character_to_space(\"こん・にちは。・ いい天気。\")"
      ],
      "execution_count": 0,
      "outputs": [
        {
          "output_type": "execute_result",
          "data": {
            "text/plain": [
              "('hello  world', 'こんにちは いい天気')"
            ]
          },
          "metadata": {
            "tags": []
          },
          "execution_count": 11
        }
      ]
    },
    {
      "cell_type": "markdown",
      "metadata": {
        "id": "r0-z-PhGGQqL",
        "colab_type": "text"
      },
      "source": [
        "# Stemming and Lemmatization\n",
        "I will do stemming only english which can create a base form of a word from a given word. Japanese language doesn't need a stemming"
      ]
    },
    {
      "cell_type": "code",
      "metadata": {
        "id": "QrYiW2_Pl1lf",
        "colab_type": "code",
        "colab": {}
      },
      "source": [
        "def stemmer_word(text):\n",
        "    ps = nltk.stem.PorterStemmer()\n",
        "    text = ' '.join([ps.stem(word) for word in text.split()])\n",
        "    return text"
      ],
      "execution_count": 0,
      "outputs": []
    },
    {
      "cell_type": "code",
      "metadata": {
        "id": "n-iz13U2awVV",
        "colab_type": "code",
        "outputId": "e4ce00e6-5aba-4a7d-9939-fd3570b9d504",
        "colab": {
          "base_uri": "https://localhost:8080/",
          "height": 34
        }
      },
      "source": [
        "# e.g.\n",
        "stemmer_word(\"hello world she has cat but he had dogs he is went to traveling\")"
      ],
      "execution_count": 0,
      "outputs": [
        {
          "output_type": "execute_result",
          "data": {
            "text/plain": [
              "'hello world she ha cat but he had dog he is went to travel'"
            ]
          },
          "metadata": {
            "tags": []
          },
          "execution_count": 13
        }
      ]
    },
    {
      "cell_type": "markdown",
      "metadata": {
        "id": "xsqW5RHMGifD",
        "colab_type": "text"
      },
      "source": [
        "# Normalize each word"
      ]
    },
    {
      "cell_type": "code",
      "metadata": {
        "colab_type": "code",
        "id": "sizAmLv2Pj-j",
        "colab": {}
      },
      "source": [
        "def normalize_english(english_text, japanese_text):\n",
        "    \n",
        "    input_value = ()\n",
        "    target_value = ()\n",
        "    \n",
        "    for en_text, ja_text in zip(english_text, japanese_text):\n",
        "        \n",
        "        # normalize English\n",
        "        en_text = english_unicode_to_ascii(en_text)\n",
        "        en_text = expand_constraction(en_text)\n",
        "        en_text = replace_special_character_to_space(en_text)\n",
        "        \n",
        "        input_value += (en_text, )\n",
        "\n",
        "        # normalize Japanese\n",
        "        ja_text = japanese_unicode_to_ascii(ja_text)\n",
        "        ja_text = expand_constraction(ja_text)\n",
        "        ja_text = replace_special_character_to_space(ja_text)\n",
        "\n",
        "        ja_text = \"<sos> \" + ja_text + \" <eos>\"\n",
        "        \n",
        "        target_value += (ja_text, )\n",
        "\n",
        "    return input_value, target_value"
      ],
      "execution_count": 0,
      "outputs": []
    },
    {
      "cell_type": "markdown",
      "metadata": {
        "id": "eMa52HiWGtQ-",
        "colab_type": "text"
      },
      "source": [
        "# get clean text data"
      ]
    },
    {
      "cell_type": "code",
      "metadata": {
        "colab_type": "code",
        "id": "1WLwCK4xVynu",
        "colab": {}
      },
      "source": [
        "input_value, target_value = normalize_english(en, ja)"
      ],
      "execution_count": 0,
      "outputs": []
    },
    {
      "cell_type": "code",
      "metadata": {
        "id": "EdiAdGYR97Fv",
        "colab_type": "code",
        "outputId": "a22a2c9a-218c-417d-d62f-38701879a3a7",
        "colab": {
          "base_uri": "https://localhost:8080/",
          "height": 357
        }
      },
      "source": [
        "input_value[:10], target_value[:10]"
      ],
      "execution_count": 211,
      "outputs": [
        {
          "output_type": "execute_result",
          "data": {
            "text/plain": [
              "(('the cabinet of dr caligari',\n",
              "  'act',\n",
              "  'spirits surround us on every side - they have driven me from hearth and home from wife and child',\n",
              "  'she is my bride',\n",
              "  'what she and i have experienced is yet more remarkable than the story you have told me',\n",
              "  'i will tell you',\n",
              "  'in the small town where i was born',\n",
              "  'a traveling fair had arrived',\n",
              "  'him',\n",
              "  'my friend alan'),\n",
              " ('<sos> カリ ガリ 博士 の 小屋 <eos>',\n",
              "  '<sos> 幕 <eos>',\n",
              "  '<sos> 私は 亡 霊 の おかげで 家族 や 家庭 を捨て ざる を えなかった <eos>',\n",
              "  '<sos> 僕 の 婚約 者 だ <eos>',\n",
              "  '<sos> 僕 と 彼女の 体験 は あなた の物語 よりも 恐ろしい <eos>',\n",
              "  '<sos> 今 から それを 話 して あげ よう <eos>',\n",
              "  '<sos> 故郷 ハ レ シュ テン バル での 出来事 だ <eos>',\n",
              "  '<sos> お 祭り が ひら かれた <eos>',\n",
              "  '<sos> ある 香 具 師 が やってきた <eos>',\n",
              "  '<sos> 親友 の アラン だ <eos>'))"
            ]
          },
          "metadata": {
            "tags": []
          },
          "execution_count": 211
        }
      ]
    },
    {
      "cell_type": "code",
      "metadata": {
        "id": "6su97bf9HZhX",
        "colab_type": "code",
        "outputId": "bcb94be7-5f85-4004-8c96-224f96df4416",
        "colab": {
          "base_uri": "https://localhost:8080/",
          "height": 545
        }
      },
      "source": [
        "# populate the lists with sentence lengths\n",
        "english_len = [len(i.split()) for i in input_value]\n",
        "\n",
        "japanese_len = [len(i.split()) for i in target_value]\n",
        "\n",
        "plt.figure()\n",
        "plt.hist(english_len)\n",
        "\n",
        "plt.figure()\n",
        "plt.hist(japanese_len)\n",
        "\n",
        "# print max length\n",
        "print(\"english length:\", max(english_len))\n",
        "print(\"japanese length:\", max(japanese_len))"
      ],
      "execution_count": 212,
      "outputs": [
        {
          "output_type": "stream",
          "text": [
            "english length: 54\n",
            "japanese length: 49\n"
          ],
          "name": "stdout"
        },
        {
          "output_type": "display_data",
          "data": {
            "image/png": "[encoded data removed]",
            "text/plain": [
              "<Figure size 432x288 with 1 Axes>"
            ]
          },
          "metadata": {
            "tags": []
          }
        },
        {
          "output_type": "display_data",
          "data": {
            "image/png": "[encoded data removed]",
            "text/plain": [
              "<Figure size 432x288 with 1 Axes>"
            ]
          },
          "metadata": {
            "tags": []
          }
        }
      ]
    },
    {
      "cell_type": "markdown",
      "metadata": {
        "id": "lieg1fN2G5Qr",
        "colab_type": "text"
      },
      "source": [
        "# tokenize\n",
        "tokenize each language word based on space"
      ]
    },
    {
      "cell_type": "code",
      "metadata": {
        "colab_type": "code",
        "id": "ZEdYwmc3PoJT",
        "colab": {}
      },
      "source": [
        "# build a tokenizer\n",
        "def tokenization(lines):\n",
        "    tokenizer = Tokenizer()\n",
        "    tokenizer.fit_on_texts(lines)\n",
        "    return tokenizer"
      ],
      "execution_count": 0,
      "outputs": []
    },
    {
      "cell_type": "code",
      "metadata": {
        "colab_type": "code",
        "id": "2UVxaCNJU7Bm",
        "outputId": "4f3b9f19-fe27-4180-adef-f7e68402120c",
        "colab": {
          "base_uri": "https://localhost:8080/",
          "height": 34
        }
      },
      "source": [
        "# prepare English tokenizer\n",
        "eng_tokenizer = tokenization(input_value)\n",
        "eng_vocab_size = len(eng_tokenizer.word_index) + 1\n",
        "\n",
        "# must all the sequences of the same length.\n",
        "eng_length = 54\n",
        "print('English Vocabulary Size: %d' % eng_vocab_size)"
      ],
      "execution_count": 214,
      "outputs": [
        {
          "output_type": "stream",
          "text": [
            "English Vocabulary Size: 11676\n"
          ],
          "name": "stdout"
        }
      ]
    },
    {
      "cell_type": "code",
      "metadata": {
        "colab_type": "code",
        "id": "jAkfW5TfWaca",
        "outputId": "8b8f15cf-2e41-43ce-9a67-677d0fcc7a94",
        "colab": {
          "base_uri": "https://localhost:8080/",
          "height": 34
        }
      },
      "source": [
        "# prepare Japanese tokenizer\n",
        "ja_tokenizer = tokenization(target_value)\n",
        "ja_vocab_size = len(ja_tokenizer.word_index) + 1\n",
        "\n",
        "# must all the sequences of the same length.\n",
        "ja_length = 49\n",
        "print('japanese Vocabulary Size: %d' % ja_vocab_size)"
      ],
      "execution_count": 215,
      "outputs": [
        {
          "output_type": "stream",
          "text": [
            "japanese Vocabulary Size: 11367\n"
          ],
          "name": "stdout"
        }
      ]
    },
    {
      "cell_type": "code",
      "metadata": {
        "colab_type": "code",
        "id": "cw26UoZEWf6h",
        "colab": {}
      },
      "source": [
        "# encode and pad sequences\n",
        "def encode_sequences(tokenizer, length, lines, padding):\n",
        "    # integer encode sequences\n",
        "    seq = tokenizer.texts_to_sequences(lines)\n",
        "    # pad sequences with 0 values\n",
        "    seq = pad_sequences(seq, maxlen=length, padding=padding)\n",
        "    return seq"
      ],
      "execution_count": 0,
      "outputs": []
    },
    {
      "cell_type": "markdown",
      "metadata": {
        "id": "ekxavmNNOrFn",
        "colab_type": "text"
      },
      "source": [
        "# load Word2Vec pre train model\n",
        "I will use pre-train model for embedding for English and Japanese words"
      ]
    },
    {
      "cell_type": "code",
      "metadata": {
        "id": "OPONamPGOsxi",
        "colab_type": "code",
        "outputId": "2b77b34f-b4f0-4add-edc4-9c9ca9796eda",
        "colab": {
          "base_uri": "https://localhost:8080/",
          "height": 71
        }
      },
      "source": [
        "import gensim\n",
        "import gensim.models.keyedvectors as word2vec\n",
        "\n",
        "# load pre-trian model for Japanese \n",
        "ja_word2vec_model = gensim.models.Word2Vec.load('/content/drive/My Drive/jawiki.doc2vec.dbow300d/jawiki.doc2vec.dbow300d.model')\n",
        "\n",
        "# load pre-train model for English\n",
        "en_word2vec_model = word2vec.KeyedVectors.load_word2vec_format(\"/content/drive/My Drive/GoogleNews-vectors-negative300.bin\", binary=True, unicode_errors='ignore')"
      ],
      "execution_count": 0,
      "outputs": [
        {
          "output_type": "stream",
          "text": [
            "/usr/local/lib/python3.6/dist-packages/smart_open/smart_open_lib.py:402: UserWarning: This function is deprecated, use smart_open.open instead. See the migration notes for details: https://github.com/RaRe-Technologies/smart_open/blob/master/README.rst#migrating-to-the-new-open-function\n",
            "  'See the migration notes for details: %s' % _MIGRATION_NOTES_URL\n"
          ],
          "name": "stderr"
        }
      ]
    },
    {
      "cell_type": "code",
      "metadata": {
        "id": "wIK0RuB8O11B",
        "colab_type": "code",
        "outputId": "284d5633-79ba-429b-f314-cfa223c9c628",
        "colab": {
          "base_uri": "https://localhost:8080/",
          "height": 241
        }
      },
      "source": [
        "# similar word with country name\n",
        "ja_word2vec_model.wv.most_similar(\"日本\")"
      ],
      "execution_count": 0,
      "outputs": [
        {
          "output_type": "stream",
          "text": [
            "/usr/local/lib/python3.6/dist-packages/gensim/matutils.py:737: FutureWarning: Conversion of the second argument of issubdtype from `int` to `np.signedinteger` is deprecated. In future, it will be treated as `np.int64 == np.dtype(int).type`.\n",
            "  if np.issubdtype(vec.dtype, np.int):\n"
          ],
          "name": "stderr"
        },
        {
          "output_type": "execute_result",
          "data": {
            "text/plain": [
              "[('アメリカ', 0.6172695159912109),\n",
              " ('日本国内', 0.6169887781143188),\n",
              " ('米国', 0.5836105346679688),\n",
              " ('韓国', 0.583561897277832),\n",
              " ('海外', 0.5563584566116333),\n",
              " ('アジア', 0.5504777431488037),\n",
              " ('中国', 0.5415611863136292),\n",
              " ('アジア地域', 0.5271817445755005),\n",
              " ('台湾', 0.52516770362854),\n",
              " ('アジア諸国', 0.5203936100006104)]"
            ]
          },
          "metadata": {
            "tags": []
          },
          "execution_count": 21
        }
      ]
    },
    {
      "cell_type": "code",
      "metadata": {
        "id": "qu5lAxFOO33V",
        "colab_type": "code",
        "outputId": "d140d307-9c86-49c9-86e5-82ed0a765191",
        "colab": {
          "base_uri": "https://localhost:8080/",
          "height": 241
        }
      },
      "source": [
        "# calculate word and word\n",
        "ja_word2vec_model.wv.most_similar(positive=[\"お父さん\", \"死\"], negative=[\"泣\"])"
      ],
      "execution_count": 0,
      "outputs": [
        {
          "output_type": "stream",
          "text": [
            "/usr/local/lib/python3.6/dist-packages/gensim/matutils.py:737: FutureWarning: Conversion of the second argument of issubdtype from `int` to `np.signedinteger` is deprecated. In future, it will be treated as `np.int64 == np.dtype(int).type`.\n",
            "  if np.issubdtype(vec.dtype, np.int):\n"
          ],
          "name": "stderr"
        },
        {
          "output_type": "execute_result",
          "data": {
            "text/plain": [
              "[('息子', 0.5948961973190308),\n",
              " ('お母さん', 0.5658013820648193),\n",
              " ('母親', 0.559698760509491),\n",
              " ('おばあちゃん', 0.5565805435180664),\n",
              " ('父', 0.5533062815666199),\n",
              " ('母', 0.5530043840408325),\n",
              " ('パパ', 0.5508877635002136),\n",
              " ('亡き', 0.5500179529190063),\n",
              " ('婚約者', 0.5495285391807556),\n",
              " ('死ん', 0.546082615852356)]"
            ]
          },
          "metadata": {
            "tags": []
          },
          "execution_count": 22
        }
      ]
    },
    {
      "cell_type": "code",
      "metadata": {
        "id": "zywx76VUO7EA",
        "colab_type": "code",
        "outputId": "f2f014c1-b163-47ec-b915-f7a9010dc686",
        "colab": {
          "base_uri": "https://localhost:8080/",
          "height": 241
        }
      },
      "source": [
        "# similar word with country name\n",
        "en_word2vec_model.most_similar(\"Canada\")"
      ],
      "execution_count": 0,
      "outputs": [
        {
          "output_type": "stream",
          "text": [
            "/usr/local/lib/python3.6/dist-packages/gensim/matutils.py:737: FutureWarning: Conversion of the second argument of issubdtype from `int` to `np.signedinteger` is deprecated. In future, it will be treated as `np.int64 == np.dtype(int).type`.\n",
            "  if np.issubdtype(vec.dtype, np.int):\n"
          ],
          "name": "stderr"
        },
        {
          "output_type": "execute_result",
          "data": {
            "text/plain": [
              "[('Canadian', 0.7513011693954468),\n",
              " ('Ontario', 0.6928848028182983),\n",
              " ('Nova_Scotia', 0.6792765259742737),\n",
              " ('Manitoba', 0.67861008644104),\n",
              " ('Alberta', 0.6736730337142944),\n",
              " ('Canadians', 0.6654781103134155),\n",
              " ('Quebec', 0.6514720320701599),\n",
              " ('British_Columbia', 0.6478375196456909),\n",
              " ('Peller_Estates_Icewine', 0.6433447003364563),\n",
              " ('Saskatchewan', 0.6383945941925049)]"
            ]
          },
          "metadata": {
            "tags": []
          },
          "execution_count": 23
        }
      ]
    },
    {
      "cell_type": "code",
      "metadata": {
        "id": "QFq7wb9dO9NJ",
        "colab_type": "code",
        "outputId": "02c7e4c3-5f24-4d8d-d090-474836e23dcf",
        "colab": {
          "base_uri": "https://localhost:8080/",
          "height": 241
        }
      },
      "source": [
        "# calculate word and word\n",
        "en_word2vec_model.most_similar(positive=[\"programmer\", \"skill\"], negative=[\"money\"])"
      ],
      "execution_count": 0,
      "outputs": [
        {
          "output_type": "stream",
          "text": [
            "/usr/local/lib/python3.6/dist-packages/gensim/matutils.py:737: FutureWarning: Conversion of the second argument of issubdtype from `int` to `np.signedinteger` is deprecated. In future, it will be treated as `np.int64 == np.dtype(int).type`.\n",
            "  if np.issubdtype(vec.dtype, np.int):\n"
          ],
          "name": "stderr"
        },
        {
          "output_type": "execute_result",
          "data": {
            "text/plain": [
              "[('Programmer', 0.4614413380622864),\n",
              " ('3D_modeller', 0.4489377737045288),\n",
              " ('skils', 0.4471549987792969),\n",
              " ('puzzle_solver', 0.4467487633228302),\n",
              " ('Jon_Shiring', 0.4382207989692688),\n",
              " ('programmers', 0.4363787770271301),\n",
              " ('coder', 0.434060662984848),\n",
              " ('skills', 0.42342013120651245),\n",
              " ('skillset', 0.42207223176956177),\n",
              " ('animator', 0.4214385449886322)]"
            ]
          },
          "metadata": {
            "tags": []
          },
          "execution_count": 24
        }
      ]
    },
    {
      "cell_type": "code",
      "metadata": {
        "id": "k6S8JEquPCB1",
        "colab_type": "code",
        "colab": {}
      },
      "source": [
        "# get weights\n",
        "# English\n",
        "input_embedding_matrix = np.zeros((eng_vocab_size, 300))\n",
        "for word, i in eng_tokenizer.word_index.items():\n",
        "    if i >= num_example:\n",
        "        continue\n",
        "    try:\n",
        "        input_embedding_matrix[i] = en_word2vec_model.get_vector(word)\n",
        "    except KeyError:\n",
        "        continue\n",
        "\n",
        "# Japanese\n",
        "target_embedding_matrix = np.zeros((ja_vocab_size, 300))\n",
        "for word, i in ja_tokenizer.word_index.items():\n",
        "    if i >= num_example:\n",
        "        continue\n",
        "    try:\n",
        "        target_embedding_matrix[i] = ja_word2vec_model.wv.get_vector(word)\n",
        "    except KeyError:\n",
        "        continue"
      ],
      "execution_count": 0,
      "outputs": []
    },
    {
      "cell_type": "code",
      "metadata": {
        "id": "SihjmkklPQm9",
        "colab_type": "code",
        "outputId": "68c9a502-3636-471a-aabe-20fba08f1675",
        "colab": {
          "base_uri": "https://localhost:8080/",
          "height": 34
        }
      },
      "source": [
        "input_embedding_matrix.shape, target_embedding_matrix.shape"
      ],
      "execution_count": 0,
      "outputs": [
        {
          "output_type": "execute_result",
          "data": {
            "text/plain": [
              "((22248, 300), (69132, 300))"
            ]
          },
          "metadata": {
            "tags": []
          },
          "execution_count": 23
        }
      ]
    },
    {
      "cell_type": "markdown",
      "metadata": {
        "id": "JkhMN5EAJTDt",
        "colab_type": "text"
      },
      "source": [
        "# Create train data"
      ]
    },
    {
      "cell_type": "code",
      "metadata": {
        "colab_type": "code",
        "id": "M5RD5VPb-afS",
        "colab": {}
      },
      "source": [
        "from sklearn.model_selection import train_test_split\n",
        "\n",
        "# split data into train and test set\n",
        "encoder_input_train, encoder_input_test , decoder_output_train, decoder_output_test = train_test_split(input_value, target_value, test_size=0.33, random_state = 42)"
      ],
      "execution_count": 0,
      "outputs": []
    },
    {
      "cell_type": "code",
      "metadata": {
        "id": "eTMk_tcT-ce9",
        "colab_type": "code",
        "colab": {}
      },
      "source": [
        "# remove <sos> token from decoder_input\n",
        "decoder_input_train = decoder_output_train.copy()\n",
        "decoder_input_test = decoder_output_test.copy()\n",
        "# encoder_input_train = [i.replace(\" <eos>\", \"\").replace(\"<sos> \", \"\") for i in encoder_input_train]\n",
        "# encoder_input_test = [i.replace(\" <eos>\", \"\").replace(\"<sos> \", \"\") for i in encoder_input_test]\n",
        "\n",
        "decoder_input_train = [i.replace(\" <eos>\", \"\") for i in decoder_input_train]\n",
        "decoder_input_test = [i.replace(\" <eos>\", \"\") for i in decoder_input_test]\n",
        "decoder_output_train = [i.replace(\"<sos> \", \"\") for i in decoder_output_train]\n",
        "decoder_output_test = [i.replace(\"<sos> \", \"\") for i in decoder_output_test]"
      ],
      "execution_count": 0,
      "outputs": []
    },
    {
      "cell_type": "code",
      "metadata": {
        "id": "YI8NXSy__D1L",
        "colab_type": "code",
        "colab": {
          "base_uri": "https://localhost:8080/",
          "height": 357
        },
        "outputId": "1b399fe4-0ed5-4a5d-ebd7-cfe1204beb9a"
      },
      "source": [
        "decoder_input_test[:20]"
      ],
      "execution_count": 221,
      "outputs": [
        {
          "output_type": "execute_result",
          "data": {
            "text/plain": [
              "['<sos> 殺人 者は ロジャース の ポケット に  鍵 を 戻 して ベッド に入る',\n",
              " '<sos> 頭 に 手 を置いて ください',\n",
              " '<sos> 似たような も んだ',\n",
              " '<sos> -  奴 は どこ だ  ? ',\n",
              " '<sos> そう 思 って る なら  窓 を 開け なかった ね',\n",
              " '<sos> -  誰 に 聞く んだ  ピート  ? ',\n",
              " '<sos> 芸術家 だ と言って  部屋 を借り ました  彼 も 一 緒 だった',\n",
              " '<sos> 大 丈夫 か  ? ',\n",
              " '<sos> いま 服を着 ます から',\n",
              " '<sos> 元気 になった ら 出 て行く って  ドー ラン から 聞いた わ',\n",
              " '<sos> 相手 は 誰 な の  ? ',\n",
              " '<sos> ゼ ブラ クラブ で 会 おう',\n",
              " '<sos> 質問 された 際に     正しい 答え が  言 える ように',\n",
              " '<sos> 見せ かけ の はず が  真実 になった',\n",
              " '<sos> その',\n",
              " '<sos> 心配 ない',\n",
              " '<sos> -  は い  閣 下',\n",
              " '<sos> 何 の 希望者 だ  ? ',\n",
              " '<sos> す まない',\n",
              " '<sos> 党 から  同情 してもらう  つもり はない わ']"
            ]
          },
          "metadata": {
            "tags": []
          },
          "execution_count": 221
        }
      ]
    },
    {
      "cell_type": "code",
      "metadata": {
        "colab_type": "code",
        "id": "UIpLRoOLWlKr",
        "colab": {}
      },
      "source": [
        "# prepare training data\n",
        "# eng_tokenizer = tokenization(input_value)\n",
        "X_train = encode_sequences(eng_tokenizer, eng_length, encoder_input_train, \"post\")\n",
        "Y_train_input = encode_sequences(ja_tokenizer, ja_length, decoder_input_train, \"post\")\n",
        "Y_train_output = encode_sequences(ja_tokenizer, ja_length, decoder_output_train, \"post\")\n",
        "\n",
        "\n",
        "# prepare validation data\n",
        "X_test = encode_sequences(eng_tokenizer, eng_length, encoder_input_test, \"post\")\n",
        "Y_test_input = encode_sequences(ja_tokenizer, ja_length, decoder_input_test, \"post\")\n",
        "Y_test_output = encode_sequences(ja_tokenizer, ja_length, decoder_output_test, \"post\")"
      ],
      "execution_count": 0,
      "outputs": []
    },
    {
      "cell_type": "code",
      "metadata": {
        "colab_type": "code",
        "outputId": "d96c5579-a53c-46ec-f4f9-e0ceec733704",
        "id": "KKZ8k4bnpSIc",
        "colab": {
          "base_uri": "https://localhost:8080/",
          "height": 85
        }
      },
      "source": [
        "print(X_train.shape)\n",
        "print(Y_train_input.shape)\n",
        "print(X_test.shape)\n",
        "print(Y_test_input.shape)"
      ],
      "execution_count": 223,
      "outputs": [
        {
          "output_type": "stream",
          "text": [
            "(20100, 54)\n",
            "(20100, 49)\n",
            "(9900, 54)\n",
            "(9900, 49)\n"
          ],
          "name": "stdout"
        }
      ]
    },
    {
      "cell_type": "markdown",
      "metadata": {
        "id": "rSAahGbWKIAj",
        "colab_type": "text"
      },
      "source": [
        "# Model building"
      ]
    },
    {
      "cell_type": "code",
      "metadata": {
        "colab_type": "code",
        "id": "Ma59RoqRWnMy",
        "colab": {}
      },
      "source": [
        "# build NMT model\n",
        "def define_model(in_vocab,out_vocab, in_timesteps,out_timesteps,units):\n",
        "\n",
        "    # build encoder model\n",
        "    encoder_input = Input(shape=(in_timesteps, ))\n",
        "\n",
        "    # use pre-trained model Word2Vec\n",
        "    encoder_embedding = Embedding(input_dim=in_vocab, output_dim=300,)(encoder_input) \n",
        "    # Dropout\n",
        "    encoder_embedding = Dropout(0.4)(encoder_embedding)\n",
        "\n",
        "    encoder_output, state_h, state_c  = LSTM(units, return_sequences=True, return_state=True)(encoder_embedding)\n",
        "    encoder_states = [state_h, state_c]\n",
        "\n",
        "\n",
        "    # build decoder model\n",
        "    decoder_input = Input(shape=(out_timesteps, ))\n",
        "\n",
        "    # use pre-trained model Word2Vec\n",
        "    decoder_embedding = Embedding(input_dim=out_vocab, output_dim=300, )\n",
        "    decoder_emb = decoder_embedding(decoder_input)\n",
        "\n",
        "    # Dropout\n",
        "    decoder = Dropout(0.8)(decoder_emb)\n",
        "\n",
        "    decoder_lstm = LSTM(units, return_sequences=True, return_state=True)\n",
        "    decoder, _, _ = decoder_lstm(decoder_emb, initial_state=encoder_states)\n",
        "\n",
        "    t = Dense(5000, activation='tanh')(decoder)\n",
        "    t2 = Dense(5000, activation='tanh')(encoder_output)\n",
        "    attention = dot([t, t2], axes=[2, 2])\n",
        "\n",
        "    attention = Dense(in_timesteps, activation='tanh')(attention)\n",
        "    attention = Activation('softmax')(attention)\n",
        "\n",
        "    context = dot([attention, encoder_output], axes = [2,1])\n",
        "\n",
        "    decoder_combined_context = keras.layers.concatenate([context, decoder])\n",
        "\n",
        "    decoder_combined_context=Dense(2000, activation='tanh')(decoder_combined_context)\n",
        "    output=(Dense(out_vocab, activation=\"softmax\"))(decoder_combined_context)\n",
        "\n",
        "    model = Model(inputs=[encoder_input, decoder_input], outputs=[output])\n",
        "\n",
        "    return model"
      ],
      "execution_count": 0,
      "outputs": []
    },
    {
      "cell_type": "code",
      "metadata": {
        "colab_type": "code",
        "id": "Ti0TrucnWqzr",
        "colab": {}
      },
      "source": [
        "# model compilation\n",
        "model = define_model(eng_vocab_size, ja_vocab_size, eng_length, ja_length, 512)"
      ],
      "execution_count": 0,
      "outputs": []
    },
    {
      "cell_type": "code",
      "metadata": {
        "id": "9udgb841KSvm",
        "colab_type": "code",
        "colab": {}
      },
      "source": [
        "#precision\n",
        "def precision(y_true, y_pred):\n",
        "    true_positives = K.sum(K.cast(K.greater(K.clip(y_true * y_pred, 0, 1), 0.20), 'float32'))\n",
        "    pred_positives = K.sum(K.cast(K.greater(K.clip(y_pred, 0, 1), 0.20), 'float32'))\n",
        "\n",
        "    precision_v = true_positives / (pred_positives + K.epsilon())\n",
        "    return precision_v\n",
        "\n",
        "#recall\n",
        "def recall(y_true, y_pred):\n",
        "    true_positives = K.sum(K.cast(K.greater(K.clip(y_true * y_pred, 0, 1), 0.20), 'float32'))\n",
        "    poss_positives = K.sum(K.cast(K.greater(K.clip(y_true, 0, 1), 0.20), 'float32'))\n",
        "\n",
        "    recall_v = true_positives / (poss_positives + K.epsilon())\n",
        "    return recall_v\n",
        "\n",
        "#f1 score\n",
        "def f1_score(y_true, y_pred):\n",
        "    precision_v = precision(y_true, y_pred)\n",
        "    recall_v = recall(y_true, y_pred)\n",
        "    f1_score_v = 2 * precision_v * recall_v / (precision_v + recall_v)\n",
        "\n",
        "    return f1_score_v\n"
      ],
      "execution_count": 0,
      "outputs": []
    },
    {
      "cell_type": "code",
      "metadata": {
        "colab_type": "code",
        "id": "aYQVg6NRWsuN",
        "outputId": "98c9f45a-8c44-473f-c142-af869023730d",
        "colab": {
          "base_uri": "https://localhost:8080/",
          "height": 782
        }
      },
      "source": [
        "# optimize loss function\n",
        "adam = optimizers.Adam(lr=0.0001, decay=1e-4)\n",
        "\n",
        "model.compile(optimizer=adam, loss='sparse_categorical_crossentropy', metrics=['accuracy'])\n",
        "model.summary()"
      ],
      "execution_count": 226,
      "outputs": [
        {
          "output_type": "stream",
          "text": [
            "Model: \"model_22\"\n",
            "__________________________________________________________________________________________________\n",
            "Layer (type)                    Output Shape         Param #     Connected to                     \n",
            "==================================================================================================\n",
            "input_45 (InputLayer)           (None, 54)           0                                            \n",
            "__________________________________________________________________________________________________\n",
            "embedding_45 (Embedding)        (None, 54, 300)      3502800     input_45[0][0]                   \n",
            "__________________________________________________________________________________________________\n",
            "input_46 (InputLayer)           (None, 49)           0                                            \n",
            "__________________________________________________________________________________________________\n",
            "dropout_33 (Dropout)            (None, 54, 300)      0           embedding_45[0][0]               \n",
            "__________________________________________________________________________________________________\n",
            "embedding_46 (Embedding)        (None, 49, 300)      3410100     input_46[0][0]                   \n",
            "__________________________________________________________________________________________________\n",
            "lstm_45 (LSTM)                  [(None, 54, 512), (N 1665024     dropout_33[0][0]                 \n",
            "__________________________________________________________________________________________________\n",
            "lstm_46 (LSTM)                  [(None, 49, 512), (N 1665024     embedding_46[0][0]               \n",
            "                                                                 lstm_45[0][1]                    \n",
            "                                                                 lstm_45[0][2]                    \n",
            "__________________________________________________________________________________________________\n",
            "dense_110 (Dense)               (None, 49, 5000)     2565000     lstm_46[0][0]                    \n",
            "__________________________________________________________________________________________________\n",
            "dense_111 (Dense)               (None, 54, 5000)     2565000     lstm_45[0][0]                    \n",
            "__________________________________________________________________________________________________\n",
            "dot_43 (Dot)                    (None, 49, 54)       0           dense_110[0][0]                  \n",
            "                                                                 dense_111[0][0]                  \n",
            "__________________________________________________________________________________________________\n",
            "dense_112 (Dense)               (None, 49, 54)       2970        dot_43[0][0]                     \n",
            "__________________________________________________________________________________________________\n",
            "activation_22 (Activation)      (None, 49, 54)       0           dense_112[0][0]                  \n",
            "__________________________________________________________________________________________________\n",
            "dot_44 (Dot)                    (None, 49, 512)      0           activation_22[0][0]              \n",
            "                                                                 lstm_45[0][0]                    \n",
            "__________________________________________________________________________________________________\n",
            "concatenate_22 (Concatenate)    (None, 49, 1024)     0           dot_44[0][0]                     \n",
            "                                                                 lstm_46[0][0]                    \n",
            "__________________________________________________________________________________________________\n",
            "dense_113 (Dense)               (None, 49, 2000)     2050000     concatenate_22[0][0]             \n",
            "__________________________________________________________________________________________________\n",
            "dense_114 (Dense)               (None, 49, 11367)    22745367    dense_113[0][0]                  \n",
            "==================================================================================================\n",
            "Total params: 40,171,285\n",
            "Trainable params: 40,171,285\n",
            "Non-trainable params: 0\n",
            "__________________________________________________________________________________________________\n"
          ],
          "name": "stdout"
        }
      ]
    },
    {
      "cell_type": "code",
      "metadata": {
        "colab_type": "code",
        "id": "dhAUdzArWvju",
        "outputId": "92aebb67-ea3d-4e1b-f878-4b5dc913fad8",
        "colab": {
          "base_uri": "https://localhost:8080/",
          "height": 204
        }
      },
      "source": [
        "# checkpoint\n",
        "filename = 'model.h1.22_Nov_19'\n",
        "checkpoint = ModelCheckpoint(filename, monitor='val_loss', save_best_only=True, mode='min')              \n",
        "\n",
        "# train model\n",
        "history = model.fit([X_train, Y_train_input], Y_train_output.reshape(Y_train_output.shape[0], Y_train_output.shape[1], 1),\n",
        "                    epochs=5, batch_size=128, validation_split=0.33 , callbacks=[checkpoint],                    \n",
        "                    verbose=1)"
      ],
      "execution_count": 227,
      "outputs": [
        {
          "output_type": "stream",
          "text": [
            "Train on 13466 samples, validate on 6634 samples\n",
            "Epoch 1/5\n",
            "13466/13466 [==============================] - 78s 6ms/step - loss: 2.7169 - acc: 0.8399 - val_loss: 1.0982 - val_acc: 0.8511\n",
            "Epoch 2/5\n",
            "13466/13466 [==============================] - 63s 5ms/step - loss: 1.0834 - acc: 0.8504 - val_loss: 1.0598 - val_acc: 0.8529\n",
            "Epoch 3/5\n",
            "13466/13466 [==============================] - 63s 5ms/step - loss: 1.0439 - acc: 0.8554 - val_loss: 1.0355 - val_acc: 0.8599\n",
            "Epoch 4/5\n",
            "13466/13466 [==============================] - 63s 5ms/step - loss: 1.0247 - acc: 0.8617 - val_loss: 1.0223 - val_acc: 0.8665\n",
            "Epoch 5/5\n",
            "13466/13466 [==============================] - 62s 5ms/step - loss: 1.0091 - acc: 0.8664 - val_loss: 1.0153 - val_acc: 0.8686\n"
          ],
          "name": "stdout"
        }
      ]
    },
    {
      "cell_type": "code",
      "metadata": {
        "id": "Pce1wkdUHm7N",
        "colab_type": "code",
        "outputId": "75795584-228b-49cd-e57e-cfc729e4c7f7",
        "colab": {
          "base_uri": "https://localhost:8080/",
          "height": 1000
        }
      },
      "source": [
        "from keras.utils import plot_model\n",
        "\n",
        "# model plot\n",
        "plot_model(model, to_file='train-bert.png', show_shapes=True)"
      ],
      "execution_count": 228,
      "outputs": [
        {
          "output_type": "execute_result",
          "data": {
            "image/png": "[encoded data removed]",
            "text/plain": [
              "<IPython.core.display.Image object>"
            ]
          },
          "metadata": {
            "tags": []
          },
          "execution_count": 228
        }
      ]
    },
    {
      "cell_type": "code",
      "metadata": {
        "colab_type": "code",
        "id": "3Vm5oB5JW2NA",
        "outputId": "e43e04e6-ba1c-41a3-9978-fb6f839845ed",
        "colab": {
          "base_uri": "https://localhost:8080/",
          "height": 309
        }
      },
      "source": [
        "fig, (ax1, ax2) = plt.subplots(ncols=2, figsize=(10,4))\n",
        "print(history.history.keys())\n",
        "def plot_history_acc(history):\n",
        "    # plot the accuracy\n",
        "    ax1.plot(history.history['acc'],label=\"accuracy for training\")\n",
        "    ax1.plot(history.history['val_acc'],label=\"accuracy for validation\")\n",
        "    ax1.set_title('model accuracy')\n",
        "    ax1.set_xlabel('epoch')\n",
        "    ax1.set_ylabel('accuracy')\n",
        "    ax1.legend(loc='upper right')\n",
        "\n",
        "def plot_history_loss(history):\n",
        "    # Plot the loss\n",
        "    ax2.plot(history.history['loss'],label=\"loss for training\")\n",
        "    ax2.plot(history.history['val_loss'],label=\"loss for validation\")\n",
        "    ax2.set_title('model loss')\n",
        "    ax2.set_xlabel('epoch')\n",
        "    ax2.set_ylabel('loss')\n",
        "    ax2.legend(loc='upper right')\n",
        "\n",
        "plot_history_loss(history)\n",
        "plot_history_acc(history)\n",
        "plt.show()"
      ],
      "execution_count": 229,
      "outputs": [
        {
          "output_type": "stream",
          "text": [
            "dict_keys(['val_loss', 'val_acc', 'loss', 'acc'])\n"
          ],
          "name": "stdout"
        },
        {
          "output_type": "display_data",
          "data": {
            "image/png": "[encoded data removed]",
            "text/plain": [
              "<Figure size 720x288 with 2 Axes>"
            ]
          },
          "metadata": {
            "tags": []
          }
        }
      ]
    },
    {
      "cell_type": "code",
      "metadata": {
        "id": "VfJ9Ay8n4fch",
        "colab_type": "code",
        "outputId": "6f5f2a8e-1e80-4870-ace3-4c077b6e5d00",
        "colab": {
          "base_uri": "https://localhost:8080/",
          "height": 618
        }
      },
      "source": [
        "fig, ax = plt.subplots(nrows=2,ncols=2,figsize=(10,10))\n",
        "\n",
        "def plot_history_precision(history):\n",
        "    # Plot the loss\n",
        "    ax[0, 0].plot(history.history['precision'],label=\"precision for training\")\n",
        "    ax[0, 0].plot(history.history['val_precision'],label=\"precision for validation\")\n",
        "    ax[0, 0].set_title('model precision')\n",
        "    ax[0, 0].set_xlabel('epoch')\n",
        "    ax[0, 0].set_ylabel('precision')\n",
        "    ax[0, 0].legend(loc='upper right')\n",
        "\n",
        "def plot_history_recall(history):\n",
        "    # Plot the loss\n",
        "    ax[0, 1].plot(history.history['recall'],label=\"recall for training\")\n",
        "    ax[0, 1].plot(history.history['val_recall'],label=\"recall for validation\")\n",
        "    ax[0, 1].set_title('model recall')\n",
        "    ax[0, 1].set_xlabel('epoch')\n",
        "    ax[0, 1].set_ylabel('recall')\n",
        "    ax[0, 1].legend(loc='upper right')\n",
        "\n",
        "def plot_history_f1_score(history):\n",
        "    # Plot the loss\n",
        "    ax[1, 0].plot(history.history['f1_score'],label=\"f1_score for training\")\n",
        "    ax[1, 0].plot(history.history['val_f1_score'],label=\"f1_score for validation\")\n",
        "    ax[1, 0].set_title('model f1_score')\n",
        "    ax[1, 0].set_xlabel('epoch')\n",
        "    ax[1, 0].set_ylabel('f1_score')\n",
        "    ax[1, 0].legend(loc='upper right')\n",
        "\n",
        "ax[1,1].axis('off')\n",
        "\n",
        "plot_history_precision(history)\n",
        "plot_history_recall(history)\n",
        "plot_history_f1_score(history)\n",
        "\n",
        "plt.show()"
      ],
      "execution_count": 0,
      "outputs": [
        {
          "output_type": "display_data",
          "data": {
            "image/png": "[encoded data removed]",
            "text/plain": [
              "<Figure size 720x720 with 4 Axes>"
            ]
          },
          "metadata": {
            "tags": []
          }
        }
      ]
    },
    {
      "cell_type": "code",
      "metadata": {
        "colab_type": "code",
        "id": "x3S1NMKGY5Tm",
        "colab": {}
      },
      "source": [
        "# load model data \n",
        "model = load_model('model.h1.22_Nov_19')"
      ],
      "execution_count": 0,
      "outputs": []
    },
    {
      "cell_type": "code",
      "metadata": {
        "id": "u0QN5x3hJ1zy",
        "colab_type": "code",
        "colab": {}
      },
      "source": [
        "def word_for_id(integer, tokenizer):\n",
        "  for word, index in tokenizer.word_index.items():\n",
        "    if index == integer:\n",
        "      return word\n",
        "  return None"
      ],
      "execution_count": 0,
      "outputs": []
    },
    {
      "cell_type": "code",
      "metadata": {
        "id": "nio7KzckJ3En",
        "colab_type": "code",
        "colab": {}
      },
      "source": [
        "def predict_sequence(model, tokenizer, x, y):\n",
        "  prediction = model.predict([x, y], verbose=0)[0]\n",
        "  integers = [argmax(vector) for vector in prediction]\n",
        "  target = list()\n",
        "  for i in integers:\n",
        "    word = word_for_id(i, tokenizer)\n",
        "    if word is None:\n",
        "      break\n",
        "    target.append(word)\n",
        "  return ' '.join(target)"
      ],
      "execution_count": 0,
      "outputs": []
    },
    {
      "cell_type": "code",
      "metadata": {
        "id": "k-qW8STNNldO",
        "colab_type": "code",
        "colab": {}
      },
      "source": [
        "predicted = list()\n",
        "actual = list()\n",
        "for i, (en, ja) in enumerate(zip(X_test[:30], Y_test_input[:30])):\n",
        "  # translate encoded source text\n",
        "\n",
        "  en = en.reshape((1, en.shape[0]))\n",
        "  ja = ja.reshape((1, ja.shape[0]))\n",
        "  translation = predict_sequence(model, ja_tokenizer, en, ja)\n",
        "\n",
        "  actual.append([decoder_output_test[i]]) \n",
        "  predicted.append(translation)"
      ],
      "execution_count": 0,
      "outputs": []
    },
    {
      "cell_type": "code",
      "metadata": {
        "id": "XzkJAClrjTMi",
        "colab_type": "code",
        "outputId": "48d7cb10-dafc-45c8-a7ec-2970426dfbc2",
        "colab": {
          "base_uri": "https://localhost:8080/",
          "height": 102
        }
      },
      "source": [
        "from nltk.translate.bleu_score import corpus_bleu\n",
        "\n",
        "# calculate BLEU score\n",
        "print('BLEU corpus: %f' % corpus_bleu(actual, predicted))\n",
        "# from nltk.translate.bleu_score import sentence_bleu\n",
        "# print(\"BLUE  sentense: %f\" % sentence_bleu(actual, predicted))"
      ],
      "execution_count": 233,
      "outputs": [
        {
          "output_type": "stream",
          "text": [
            "BLEU corpus: 0.190363\n"
          ],
          "name": "stdout"
        },
        {
          "output_type": "stream",
          "text": [
            "/usr/local/lib/python3.6/dist-packages/nltk/translate/bleu_score.py:490: UserWarning: \n",
            "Corpus/Sentence contains 0 counts of 4-gram overlaps.\n",
            "BLEU scores might be undesirable; use SmoothingFunction().\n",
            "  warnings.warn(_msg)\n"
          ],
          "name": "stderr"
        }
      ]
    },
    {
      "cell_type": "code",
      "metadata": {
        "id": "L_tOYFO-kFuG",
        "colab_type": "code",
        "outputId": "2e25cb7b-f841-450b-d1d8-e0bf866568f7",
        "colab": {
          "base_uri": "https://localhost:8080/",
          "height": 1000
        }
      },
      "source": [
        "# view actual sentence anf predict result\n",
        "pred_df = pd.DataFrame({'actual' : actual[:30], 'predicted' : predicted})\n",
        "pred_df.head(30)"
      ],
      "execution_count": 235,
      "outputs": [
        {
          "output_type": "execute_result",
          "data": {
            "text/html": [
              "<div>\n",
              "<style scoped>\n",
              "    .dataframe tbody tr th:only-of-type {\n",
              "        vertical-align: middle;\n",
              "    }\n",
              "\n",
              "    .dataframe tbody tr th {\n",
              "        vertical-align: top;\n",
              "    }\n",
              "\n",
              "    .dataframe thead th {\n",
              "        text-align: right;\n",
              "    }\n",
              "</style>\n",
              "<table border=\"1\" class=\"dataframe\">\n",
              "  <thead>\n",
              "    <tr style=\"text-align: right;\">\n",
              "      <th></th>\n",
              "      <th>actual</th>\n",
              "      <th>predicted</th>\n",
              "    </tr>\n",
              "  </thead>\n",
              "  <tbody>\n",
              "    <tr>\n",
              "      <th>0</th>\n",
              "      <td>[殺人 者は ロジャース の ポケット に  鍵 を 戻 して ベッド に入る &lt;e...</td>\n",
              "      <td>俺 は は eos eos eos eos eos eos eos eos eos eos</td>\n",
              "    </tr>\n",
              "    <tr>\n",
              "      <th>1</th>\n",
              "      <td>[頭 に 手 を置いて ください &lt;eos&gt;]</td>\n",
              "      <td>俺 は eos eos eos eos</td>\n",
              "    </tr>\n",
              "    <tr>\n",
              "      <th>2</th>\n",
              "      <td>[似たような も んだ &lt;eos&gt;]</td>\n",
              "      <td>俺 は eos eos</td>\n",
              "    </tr>\n",
              "    <tr>\n",
              "      <th>3</th>\n",
              "      <td>[-  奴 は どこ だ  ?  &lt;eos&gt;]</td>\n",
              "      <td>俺 eos eos eos eos</td>\n",
              "    </tr>\n",
              "    <tr>\n",
              "      <th>4</th>\n",
              "      <td>[そう 思 って る なら  窓 を 開け なかった ね &lt;eos&gt;]</td>\n",
              "      <td>俺 は eos eos eos eos eos eos eos eos eos</td>\n",
              "    </tr>\n",
              "    <tr>\n",
              "      <th>5</th>\n",
              "      <td>[-  誰 に 聞く んだ  ピート  ?  &lt;eos&gt;]</td>\n",
              "      <td>俺 eos eos eos eos eos</td>\n",
              "    </tr>\n",
              "    <tr>\n",
              "      <th>6</th>\n",
              "      <td>[芸術家 だ と言って  部屋 を借り ました  彼 も 一 緒 だった &lt;eos&gt;]</td>\n",
              "      <td>俺 は eos eos eos eos eos eos eos eos eos eos</td>\n",
              "    </tr>\n",
              "    <tr>\n",
              "      <th>7</th>\n",
              "      <td>[大 丈夫 か  ?  &lt;eos&gt;]</td>\n",
              "      <td>俺 eos eos eos</td>\n",
              "    </tr>\n",
              "    <tr>\n",
              "      <th>8</th>\n",
              "      <td>[いま 服を着 ます から &lt;eos&gt;]</td>\n",
              "      <td>俺 eos eos eos eos</td>\n",
              "    </tr>\n",
              "    <tr>\n",
              "      <th>9</th>\n",
              "      <td>[元気 になった ら 出 て行く って  ドー ラン から 聞いた わ &lt;eos&gt;]</td>\n",
              "      <td>俺 は eos eos eos eos eos eos eos eos eos eos</td>\n",
              "    </tr>\n",
              "    <tr>\n",
              "      <th>10</th>\n",
              "      <td>[相手 は 誰 な の  ?  &lt;eos&gt;]</td>\n",
              "      <td>俺 eos eos eos eos eos</td>\n",
              "    </tr>\n",
              "    <tr>\n",
              "      <th>11</th>\n",
              "      <td>[ゼ ブラ クラブ で 会 おう &lt;eos&gt;]</td>\n",
              "      <td>俺 は eos eos eos eos eos</td>\n",
              "    </tr>\n",
              "    <tr>\n",
              "      <th>12</th>\n",
              "      <td>[質問 された 際に     正しい 答え が  言 える ように &lt;eos&gt;]</td>\n",
              "      <td>俺 は eos eos eos eos eos eos eos eos</td>\n",
              "    </tr>\n",
              "    <tr>\n",
              "      <th>13</th>\n",
              "      <td>[見せ かけ の はず が  真実 になった &lt;eos&gt;]</td>\n",
              "      <td>俺 は eos eos eos eos eos eos</td>\n",
              "    </tr>\n",
              "    <tr>\n",
              "      <th>14</th>\n",
              "      <td>[その &lt;eos&gt;]</td>\n",
              "      <td>俺 eos</td>\n",
              "    </tr>\n",
              "    <tr>\n",
              "      <th>15</th>\n",
              "      <td>[心配 ない &lt;eos&gt;]</td>\n",
              "      <td>俺 eos eos</td>\n",
              "    </tr>\n",
              "    <tr>\n",
              "      <th>16</th>\n",
              "      <td>[-  は い  閣 下 &lt;eos&gt;]</td>\n",
              "      <td>俺 eos eos eos eos</td>\n",
              "    </tr>\n",
              "    <tr>\n",
              "      <th>17</th>\n",
              "      <td>[何 の 希望者 だ  ?  &lt;eos&gt;]</td>\n",
              "      <td>俺 eos eos eos eos</td>\n",
              "    </tr>\n",
              "    <tr>\n",
              "      <th>18</th>\n",
              "      <td>[す まない &lt;eos&gt;]</td>\n",
              "      <td>俺 eos eos</td>\n",
              "    </tr>\n",
              "    <tr>\n",
              "      <th>19</th>\n",
              "      <td>[党 から  同情 してもらう  つもり はない わ &lt;eos&gt;]</td>\n",
              "      <td>俺 は eos eos eos eos eos eos</td>\n",
              "    </tr>\n",
              "    <tr>\n",
              "      <th>20</th>\n",
              "      <td>[あれ を見 ろ  !  &lt;eos&gt;]</td>\n",
              "      <td>俺 eos eos eos</td>\n",
              "    </tr>\n",
              "    <tr>\n",
              "      <th>21</th>\n",
              "      <td>[社長 は あ の娘 と  遊び 回 って る の  ?  &lt;eos&gt;]</td>\n",
              "      <td>俺 は eos eos eos eos eos eos eos eos eos</td>\n",
              "    </tr>\n",
              "    <tr>\n",
              "      <th>22</th>\n",
              "      <td>[いい 目 出して ください よ &lt;eos&gt;]</td>\n",
              "      <td>俺 は eos eos eos eos</td>\n",
              "    </tr>\n",
              "    <tr>\n",
              "      <th>23</th>\n",
              "      <td>[救急 病院 に 電話 しろ  すぐ 救急 車 を呼ぶ んだ &lt;eos&gt;]</td>\n",
              "      <td>俺 は eos eos eos eos eos eos eos eos eos</td>\n",
              "    </tr>\n",
              "    <tr>\n",
              "      <th>24</th>\n",
              "      <td>[話 する の を  拒 み ました  マイヤー ズが 隠れ て  二人 を 監視 して...</td>\n",
              "      <td>俺 は eos eos eos eos eos eos eos eos eos eos eo...</td>\n",
              "    </tr>\n",
              "    <tr>\n",
              "      <th>25</th>\n",
              "      <td>[病院 に 長く 入れ られた の &lt;eos&gt;]</td>\n",
              "      <td>俺 は eos eos eos eos eos</td>\n",
              "    </tr>\n",
              "    <tr>\n",
              "      <th>26</th>\n",
              "      <td>[ム ント の 副官 です &lt;eos&gt;]</td>\n",
              "      <td>俺 は eos eos eos eos</td>\n",
              "    </tr>\n",
              "    <tr>\n",
              "      <th>27</th>\n",
              "      <td>[親 父 なんて  ちょ ろ い もん よ &lt;eos&gt;]</td>\n",
              "      <td>俺 は は eos eos eos eos eos eos</td>\n",
              "    </tr>\n",
              "    <tr>\n",
              "      <th>28</th>\n",
              "      <td>[紫外線 下 では マスク は 不要 &lt;eos&gt;]</td>\n",
              "      <td>俺 は は eos eos eos eos</td>\n",
              "    </tr>\n",
              "    <tr>\n",
              "      <th>29</th>\n",
              "      <td>[ &lt;eos&gt;]</td>\n",
              "      <td>俺</td>\n",
              "    </tr>\n",
              "  </tbody>\n",
              "</table>\n",
              "</div>"
            ],
            "text/plain": [
              "                                               actual                                          predicted\n",
              "0   [殺人 者は ロジャース の ポケット に  鍵 を 戻 して ベッド に入る <e...      俺 は は eos eos eos eos eos eos eos eos eos eos\n",
              "1                            [頭 に 手 を置いて ください <eos>]                                俺 は eos eos eos eos\n",
              "2                                 [似たような も んだ <eos>]                                        俺 は eos eos\n",
              "3                           [-  奴 は どこ だ  ?  <eos>]                                  俺 eos eos eos eos\n",
              "4                 [そう 思 って る なら  窓 を 開け なかった ね <eos>]            俺 は eos eos eos eos eos eos eos eos eos\n",
              "5                     [-  誰 に 聞く んだ  ピート  ?  <eos>]                              俺 eos eos eos eos eos\n",
              "6       [芸術家 だ と言って  部屋 を借り ました  彼 も 一 緒 だった <eos>]        俺 は eos eos eos eos eos eos eos eos eos eos\n",
              "7                                  [大 丈夫 か  ?  <eos>]                                      俺 eos eos eos\n",
              "8                                [いま 服を着 ます から <eos>]                                  俺 eos eos eos eos\n",
              "9         [元気 になった ら 出 て行く って  ドー ラン から 聞いた わ <eos>]        俺 は eos eos eos eos eos eos eos eos eos eos\n",
              "10                             [相手 は 誰 な の  ?  <eos>]                              俺 eos eos eos eos eos\n",
              "11                        [ゼ ブラ クラブ で 会 おう <eos>]                            俺 は eos eos eos eos eos\n",
              "12          [質問 された 際に     正しい 答え が  言 える ように <eos>]                俺 は eos eos eos eos eos eos eos eos\n",
              "13                    [見せ かけ の はず が  真実 になった <eos>]                        俺 は eos eos eos eos eos eos\n",
              "14                                         [その <eos>]                                              俺 eos\n",
              "15                                      [心配 ない <eos>]                                          俺 eos eos\n",
              "16                                [-  は い  閣 下 <eos>]                                  俺 eos eos eos eos\n",
              "17                             [何 の 希望者 だ  ?  <eos>]                                  俺 eos eos eos eos\n",
              "18                                      [す まない <eos>]                                          俺 eos eos\n",
              "19                  [党 から  同情 してもらう  つもり はない わ <eos>]                        俺 は eos eos eos eos eos eos\n",
              "20                                [あれ を見 ろ  !  <eos>]                                      俺 eos eos eos\n",
              "21              [社長 は あ の娘 と  遊び 回 って る の  ?  <eos>]            俺 は eos eos eos eos eos eos eos eos eos\n",
              "22                           [いい 目 出して ください よ <eos>]                                俺 は eos eos eos eos\n",
              "23           [救急 病院 に 電話 しろ  すぐ 救急 車 を呼ぶ んだ <eos>]            俺 は eos eos eos eos eos eos eos eos eos\n",
              "24  [話 する の を  拒 み ました  マイヤー ズが 隠れ て  二人 を 監視 して...  俺 は eos eos eos eos eos eos eos eos eos eos eo...\n",
              "25                           [病院 に 長く 入れ られた の <eos>]                            俺 は eos eos eos eos eos\n",
              "26                              [ム ント の 副官 です <eos>]                                俺 は eos eos eos eos\n",
              "27                       [親 父 なんて  ちょ ろ い もん よ <eos>]                      俺 は は eos eos eos eos eos eos\n",
              "28                         [紫外線 下 では マスク は 不要 <eos>]                              俺 は は eos eos eos eos\n",
              "29                                           [ <eos>]                                                  俺"
            ]
          },
          "metadata": {
            "tags": []
          },
          "execution_count": 235
        }
      ]
    },
    {
      "cell_type": "markdown",
      "metadata": {
        "id": "V2tR3wEMNxGQ",
        "colab_type": "text"
      },
      "source": [
        "# Translation"
      ]
    },
    {
      "cell_type": "code",
      "metadata": {
        "id": "42aD6GUb8c4u",
        "colab_type": "code",
        "colab": {}
      },
      "source": [
        "encoder_model = Model([encoder_input, encoder_states])\n",
        "\n",
        "def  translation(encoder_model_output, in_timesteps):\n",
        "\n",
        "    decoder_state_h = Input(shape=(units,))\n",
        "    decoder_state_c = Input(shape=(units,))\n",
        "    decoder_states_inputs = [decoder_state_h, decoder_state_c]\n",
        "\n",
        "    decoder_emb = decoder_embedding(decoder_input)\n",
        "    decoder_lstm = LSTM(512, return_sequences=True, return_state=True)\n",
        "    decoder_outputs, state_h, state_c = decoder_lstm(decoder_emb, initial_state=decoder_states_inputs)\n",
        "\n",
        "    t = Dense(5000, activation='relu')(decoder_outputs)\n",
        "    t2 = Dense(5000, activation='relu')(encoder_model_output)\n",
        "    attention = dot([t, t2], axes=[2, 2])\n",
        "\n",
        "    attention = Dense(in_timesteps, activation='relu')(attention)\n",
        "    attention = Activation('softmax')(attention)\n",
        "\n",
        "    context = dot([attention, encoder_model_output], axes = [2,1])\n",
        "\n",
        "    decoder_combined_context = keras.layers.concatenate([context, decoder])\n",
        "\n",
        "    decoder_combined_context=Dense(2000, activation='relu')(decoder_combined_context)\n",
        "    output=(Dense(out_vocab, activation=\"softmax\"))(decoder_combined_context)\n",
        "    decoder_states = [state_h, state_c]\n",
        "\n",
        "    decoder_model = Model([decoder_input] + decoder_states_inputs, [output] + decoder_states)\n",
        "\n",
        "    return decoder_model"
      ],
      "execution_count": 0,
      "outputs": []
    },
    {
      "cell_type": "code",
      "metadata": {
        "id": "PEQO3ME5X1MK",
        "colab_type": "code",
        "colab": {}
      },
      "source": [
        "# reverse-lookup token index to turn sequences back to characters\n",
        "reverse_input_char_index = dict(\n",
        "  (i, char) for char, i in eng_tokenizer.word_index.items())\n",
        "reverse_target_char_index = dict(\n",
        "  (i, char) for char, i in ja_tokenizer.word_index.items())"
      ],
      "execution_count": 0,
      "outputs": []
    },
    {
      "cell_type": "code",
      "metadata": {
        "id": "5cT46cfGF75Q",
        "colab_type": "code",
        "colab": {}
      },
      "source": [
        "def decode_sequence(input_seq):\n",
        "  encoder_output = encoder_model.predict(input_seq)\n",
        "   # generate empty target sequence of length 1 with only the start character\n",
        "  target_seq = np.zeros((1, 1, ja_length))\n",
        "  target_seq[0, 0, ja_tokenizer.word_index['\\t']] = 1.\n",
        "  decoder_model = translation(encoder_output, in_timesteps)\n",
        "   # output sequence loop\n",
        "  stop_condition = False\n",
        "  decoded_sentence = ''\n",
        "  while not stop_condition:\n",
        "    output_tokens, h, c = decoder_model.predict([target_seq] + encoder_output)\n",
        "    # sample a token and add the corresponding character to the \n",
        "    # decoded sequence\n",
        "    sampled_token_index = np.argmax(output_tokens[0, -1, :])\n",
        "    sampled_char = reverse_target_char_index[sampled_token_index]\n",
        "    decoded_sentence += sampled_char\n",
        "    \n",
        "    # check for the exit condition: either hitting max length\n",
        "    # or predicting the 'stop' character\n",
        "    if (sampled_char == '\\n' or \n",
        "        len(decoded_sentence) > max_decoder_seq_length):\n",
        "      stop_condition = True\n",
        "      \n",
        "    # update the target sequence (length 1).\n",
        "    target_seq = np.zeros((1, 1, num_decoder_tokens))\n",
        "    target_seq[0, 0, sampled_token_index] = 1.\n",
        "    \n",
        "    # update states\n",
        "    states_value = [h, c]\n",
        "    \n",
        "  return decoded_sentence"
      ],
      "execution_count": 0,
      "outputs": []
    },
    {
      "cell_type": "code",
      "metadata": {
        "id": "DE-iyAjAVWCO",
        "colab_type": "code",
        "colab": {
          "base_uri": "https://localhost:8080/",
          "height": 358
        },
        "outputId": "8b57bb47-5559-4299-a6fd-55cae0031622"
      },
      "source": [
        "input_sentence = \"today\"\n",
        "test_sentence_tokenized = np.zeros(\n",
        "  (1, in_timesteps, in_vocab), dtype='float32')\n",
        "for t, char in enumerate(input_sentence.split()):\n",
        "  test_sentence_tokenized[0, t, eng_tokenizer.word_index[char]] = 1.\n",
        "print(input_sentence)\n",
        "print(decode_sequence(test_sentence_tokenized))"
      ],
      "execution_count": 142,
      "outputs": [
        {
          "output_type": "stream",
          "text": [
            "today\n"
          ],
          "name": "stdout"
        },
        {
          "output_type": "error",
          "ename": "AttributeError",
          "evalue": "ignored",
          "traceback": [
            "\u001b[0;31m---------------------------------------------------------------------------\u001b[0m",
            "\u001b[0;31mAttributeError\u001b[0m                            Traceback (most recent call last)",
            "\u001b[0;32m<ipython-input-142-c732ebdfec47>\u001b[0m in \u001b[0;36m<module>\u001b[0;34m()\u001b[0m\n\u001b[1;32m      5\u001b[0m   \u001b[0mtest_sentence_tokenized\u001b[0m\u001b[0;34m[\u001b[0m\u001b[0;36m0\u001b[0m\u001b[0;34m,\u001b[0m \u001b[0mt\u001b[0m\u001b[0;34m,\u001b[0m \u001b[0meng_tokenizer\u001b[0m\u001b[0;34m.\u001b[0m\u001b[0mword_index\u001b[0m\u001b[0;34m[\u001b[0m\u001b[0mchar\u001b[0m\u001b[0;34m]\u001b[0m\u001b[0;34m]\u001b[0m \u001b[0;34m=\u001b[0m \u001b[0;36m1.\u001b[0m\u001b[0;34m\u001b[0m\u001b[0;34m\u001b[0m\u001b[0m\n\u001b[1;32m      6\u001b[0m \u001b[0mprint\u001b[0m\u001b[0;34m(\u001b[0m\u001b[0minput_sentence\u001b[0m\u001b[0;34m)\u001b[0m\u001b[0;34m\u001b[0m\u001b[0;34m\u001b[0m\u001b[0m\n\u001b[0;32m----> 7\u001b[0;31m \u001b[0mprint\u001b[0m\u001b[0;34m(\u001b[0m\u001b[0mdecode_sequence\u001b[0m\u001b[0;34m(\u001b[0m\u001b[0mtest_sentence_tokenized\u001b[0m\u001b[0;34m)\u001b[0m\u001b[0;34m)\u001b[0m\u001b[0;34m\u001b[0m\u001b[0;34m\u001b[0m\u001b[0m\n\u001b[0m",
            "\u001b[0;32m<ipython-input-131-478958502616>\u001b[0m in \u001b[0;36mdecode_sequence\u001b[0;34m(input_seq)\u001b[0m\n\u001b[1;32m      1\u001b[0m \u001b[0;32mdef\u001b[0m \u001b[0mdecode_sequence\u001b[0m\u001b[0;34m(\u001b[0m\u001b[0minput_seq\u001b[0m\u001b[0;34m)\u001b[0m\u001b[0;34m:\u001b[0m\u001b[0;34m\u001b[0m\u001b[0;34m\u001b[0m\u001b[0m\n\u001b[0;32m----> 2\u001b[0;31m   \u001b[0mencoder_output\u001b[0m \u001b[0;34m=\u001b[0m \u001b[0mencoder_model\u001b[0m\u001b[0;34m.\u001b[0m\u001b[0mpredict\u001b[0m\u001b[0;34m(\u001b[0m\u001b[0minput_seq\u001b[0m\u001b[0;34m)\u001b[0m\u001b[0;34m\u001b[0m\u001b[0;34m\u001b[0m\u001b[0m\n\u001b[0m\u001b[1;32m      3\u001b[0m    \u001b[0;31m# generate empty target sequence of length 1 with only the start character\u001b[0m\u001b[0;34m\u001b[0m\u001b[0;34m\u001b[0m\u001b[0;34m\u001b[0m\u001b[0m\n\u001b[1;32m      4\u001b[0m   \u001b[0mtarget_seq\u001b[0m \u001b[0;34m=\u001b[0m \u001b[0mnp\u001b[0m\u001b[0;34m.\u001b[0m\u001b[0mzeros\u001b[0m\u001b[0;34m(\u001b[0m\u001b[0;34m(\u001b[0m\u001b[0;36m1\u001b[0m\u001b[0;34m,\u001b[0m \u001b[0;36m1\u001b[0m\u001b[0;34m,\u001b[0m \u001b[0mja_length\u001b[0m\u001b[0;34m)\u001b[0m\u001b[0;34m)\u001b[0m\u001b[0;34m\u001b[0m\u001b[0;34m\u001b[0m\u001b[0m\n\u001b[1;32m      5\u001b[0m   \u001b[0mtarget_seq\u001b[0m\u001b[0;34m[\u001b[0m\u001b[0;36m0\u001b[0m\u001b[0;34m,\u001b[0m \u001b[0;36m0\u001b[0m\u001b[0;34m,\u001b[0m \u001b[0mja_tokenizer\u001b[0m\u001b[0;34m.\u001b[0m\u001b[0mword_index\u001b[0m\u001b[0;34m[\u001b[0m\u001b[0;34m'\\t'\u001b[0m\u001b[0;34m]\u001b[0m\u001b[0;34m]\u001b[0m \u001b[0;34m=\u001b[0m \u001b[0;36m1.\u001b[0m\u001b[0;34m\u001b[0m\u001b[0;34m\u001b[0m\u001b[0m\n",
            "\u001b[0;32m/usr/local/lib/python3.6/dist-packages/keras/engine/training.py\u001b[0m in \u001b[0;36mpredict\u001b[0;34m(self, x, batch_size, verbose, steps, callbacks, max_queue_size, workers, use_multiprocessing)\u001b[0m\n\u001b[1;32m   1378\u001b[0m \u001b[0;34m\u001b[0m\u001b[0m\n\u001b[1;32m   1379\u001b[0m         \u001b[0;31m# Case 2: Symbolic tensors or Numpy array-like.\u001b[0m\u001b[0;34m\u001b[0m\u001b[0;34m\u001b[0m\u001b[0;34m\u001b[0m\u001b[0m\n\u001b[0;32m-> 1380\u001b[0;31m         \u001b[0mx\u001b[0m\u001b[0;34m,\u001b[0m \u001b[0m_\u001b[0m\u001b[0;34m,\u001b[0m \u001b[0m_\u001b[0m \u001b[0;34m=\u001b[0m \u001b[0mself\u001b[0m\u001b[0;34m.\u001b[0m\u001b[0m_standardize_user_data\u001b[0m\u001b[0;34m(\u001b[0m\u001b[0mx\u001b[0m\u001b[0;34m)\u001b[0m\u001b[0;34m\u001b[0m\u001b[0;34m\u001b[0m\u001b[0m\n\u001b[0m\u001b[1;32m   1381\u001b[0m         \u001b[0;32mif\u001b[0m \u001b[0mself\u001b[0m\u001b[0;34m.\u001b[0m\u001b[0mstateful\u001b[0m\u001b[0;34m:\u001b[0m\u001b[0;34m\u001b[0m\u001b[0;34m\u001b[0m\u001b[0m\n\u001b[1;32m   1382\u001b[0m             \u001b[0;32mif\u001b[0m \u001b[0mx\u001b[0m\u001b[0;34m[\u001b[0m\u001b[0;36m0\u001b[0m\u001b[0;34m]\u001b[0m\u001b[0;34m.\u001b[0m\u001b[0mshape\u001b[0m\u001b[0;34m[\u001b[0m\u001b[0;36m0\u001b[0m\u001b[0;34m]\u001b[0m \u001b[0;34m>\u001b[0m \u001b[0mbatch_size\u001b[0m \u001b[0;32mand\u001b[0m \u001b[0mx\u001b[0m\u001b[0;34m[\u001b[0m\u001b[0;36m0\u001b[0m\u001b[0;34m]\u001b[0m\u001b[0;34m.\u001b[0m\u001b[0mshape\u001b[0m\u001b[0;34m[\u001b[0m\u001b[0;36m0\u001b[0m\u001b[0;34m]\u001b[0m \u001b[0;34m%\u001b[0m \u001b[0mbatch_size\u001b[0m \u001b[0;34m!=\u001b[0m \u001b[0;36m0\u001b[0m\u001b[0;34m:\u001b[0m\u001b[0;34m\u001b[0m\u001b[0;34m\u001b[0m\u001b[0m\n",
            "\u001b[0;32m/usr/local/lib/python3.6/dist-packages/keras/engine/training.py\u001b[0m in \u001b[0;36m_standardize_user_data\u001b[0;34m(self, x, y, sample_weight, class_weight, check_array_lengths, batch_size)\u001b[0m\n\u001b[1;32m    681\u001b[0m             \u001b[0;31m# to match the value shapes.\u001b[0m\u001b[0;34m\u001b[0m\u001b[0;34m\u001b[0m\u001b[0;34m\u001b[0m\u001b[0m\n\u001b[1;32m    682\u001b[0m             \u001b[0;32mif\u001b[0m \u001b[0;32mnot\u001b[0m \u001b[0mself\u001b[0m\u001b[0;34m.\u001b[0m\u001b[0minputs\u001b[0m\u001b[0;34m:\u001b[0m\u001b[0;34m\u001b[0m\u001b[0;34m\u001b[0m\u001b[0m\n\u001b[0;32m--> 683\u001b[0;31m                 \u001b[0mself\u001b[0m\u001b[0;34m.\u001b[0m\u001b[0m_set_inputs\u001b[0m\u001b[0;34m(\u001b[0m\u001b[0mx\u001b[0m\u001b[0;34m)\u001b[0m\u001b[0;34m\u001b[0m\u001b[0;34m\u001b[0m\u001b[0m\n\u001b[0m\u001b[1;32m    684\u001b[0m \u001b[0;34m\u001b[0m\u001b[0m\n\u001b[1;32m    685\u001b[0m         \u001b[0;32mif\u001b[0m \u001b[0my\u001b[0m \u001b[0;32mis\u001b[0m \u001b[0;32mnot\u001b[0m \u001b[0;32mNone\u001b[0m\u001b[0;34m:\u001b[0m\u001b[0;34m\u001b[0m\u001b[0;34m\u001b[0m\u001b[0m\n",
            "\u001b[0;32m/usr/local/lib/python3.6/dist-packages/keras/engine/training.py\u001b[0m in \u001b[0;36m_set_inputs\u001b[0;34m(self, inputs, outputs, training)\u001b[0m\n\u001b[1;32m    640\u001b[0m                 \u001b[0moutputs\u001b[0m \u001b[0;34m=\u001b[0m \u001b[0mself\u001b[0m\u001b[0;34m.\u001b[0m\u001b[0mcall\u001b[0m\u001b[0;34m(\u001b[0m\u001b[0munpack_singleton\u001b[0m\u001b[0;34m(\u001b[0m\u001b[0mself\u001b[0m\u001b[0;34m.\u001b[0m\u001b[0minputs\u001b[0m\u001b[0;34m)\u001b[0m\u001b[0;34m,\u001b[0m \u001b[0mtraining\u001b[0m\u001b[0;34m=\u001b[0m\u001b[0mtraining\u001b[0m\u001b[0;34m)\u001b[0m\u001b[0;34m\u001b[0m\u001b[0;34m\u001b[0m\u001b[0m\n\u001b[1;32m    641\u001b[0m             \u001b[0;32melse\u001b[0m\u001b[0;34m:\u001b[0m\u001b[0;34m\u001b[0m\u001b[0;34m\u001b[0m\u001b[0m\n\u001b[0;32m--> 642\u001b[0;31m                 \u001b[0moutputs\u001b[0m \u001b[0;34m=\u001b[0m \u001b[0mself\u001b[0m\u001b[0;34m.\u001b[0m\u001b[0mcall\u001b[0m\u001b[0;34m(\u001b[0m\u001b[0munpack_singleton\u001b[0m\u001b[0;34m(\u001b[0m\u001b[0mself\u001b[0m\u001b[0;34m.\u001b[0m\u001b[0minputs\u001b[0m\u001b[0;34m)\u001b[0m\u001b[0;34m)\u001b[0m\u001b[0;34m\u001b[0m\u001b[0;34m\u001b[0m\u001b[0m\n\u001b[0m\u001b[1;32m    643\u001b[0m         \u001b[0moutputs\u001b[0m \u001b[0;34m=\u001b[0m \u001b[0mto_list\u001b[0m\u001b[0;34m(\u001b[0m\u001b[0moutputs\u001b[0m\u001b[0;34m,\u001b[0m \u001b[0mallow_tuple\u001b[0m\u001b[0;34m=\u001b[0m\u001b[0;32mTrue\u001b[0m\u001b[0;34m)\u001b[0m\u001b[0;34m\u001b[0m\u001b[0;34m\u001b[0m\u001b[0m\n\u001b[1;32m    644\u001b[0m         \u001b[0mself\u001b[0m\u001b[0;34m.\u001b[0m\u001b[0moutputs\u001b[0m \u001b[0;34m=\u001b[0m \u001b[0moutputs\u001b[0m\u001b[0;34m\u001b[0m\u001b[0;34m\u001b[0m\u001b[0m\n",
            "\u001b[0;32m/usr/local/lib/python3.6/dist-packages/keras/engine/network.py\u001b[0m in \u001b[0;36mcall\u001b[0;34m(self, inputs, mask)\u001b[0m\n\u001b[1;32m    565\u001b[0m         \u001b[0mcache_key\u001b[0m \u001b[0;34m=\u001b[0m \u001b[0mobject_list_uid\u001b[0m\u001b[0;34m(\u001b[0m\u001b[0minputs\u001b[0m\u001b[0;34m)\u001b[0m\u001b[0;34m\u001b[0m\u001b[0;34m\u001b[0m\u001b[0m\n\u001b[1;32m    566\u001b[0m         \u001b[0mcache_key\u001b[0m \u001b[0;34m+=\u001b[0m \u001b[0;34m'_'\u001b[0m \u001b[0;34m+\u001b[0m \u001b[0mobject_list_uid\u001b[0m\u001b[0;34m(\u001b[0m\u001b[0mmasks\u001b[0m\u001b[0;34m)\u001b[0m\u001b[0;34m\u001b[0m\u001b[0;34m\u001b[0m\u001b[0m\n\u001b[0;32m--> 567\u001b[0;31m         \u001b[0;32mif\u001b[0m \u001b[0mcache_key\u001b[0m \u001b[0;32min\u001b[0m \u001b[0mself\u001b[0m\u001b[0;34m.\u001b[0m\u001b[0m_output_tensor_cache\u001b[0m\u001b[0;34m:\u001b[0m\u001b[0;34m\u001b[0m\u001b[0;34m\u001b[0m\u001b[0m\n\u001b[0m\u001b[1;32m    568\u001b[0m             \u001b[0;32mreturn\u001b[0m \u001b[0mself\u001b[0m\u001b[0;34m.\u001b[0m\u001b[0m_output_tensor_cache\u001b[0m\u001b[0;34m[\u001b[0m\u001b[0mcache_key\u001b[0m\u001b[0;34m]\u001b[0m\u001b[0;34m\u001b[0m\u001b[0;34m\u001b[0m\u001b[0m\n\u001b[1;32m    569\u001b[0m         \u001b[0;32melse\u001b[0m\u001b[0;34m:\u001b[0m\u001b[0;34m\u001b[0m\u001b[0;34m\u001b[0m\u001b[0m\n",
            "\u001b[0;31mAttributeError\u001b[0m: 'Model' object has no attribute '_output_tensor_cache'"
          ]
        }
      ]
    },
    {
      "cell_type": "code",
      "metadata": {
        "id": "hQzyXGCTY_n0",
        "colab_type": "code",
        "colab": {
          "base_uri": "https://localhost:8080/",
          "height": 34
        },
        "outputId": "98b57886-ca26-49db-e9b7-25f6b1082429"
      },
      "source": [
        "eng_tokenizer.word_index[\"sam\"]"
      ],
      "execution_count": 141,
      "outputs": [
        {
          "output_type": "execute_result",
          "data": {
            "text/plain": [
              "966"
            ]
          },
          "metadata": {
            "tags": []
          },
          "execution_count": 141
        }
      ]
    },
    {
      "cell_type": "code",
      "metadata": {
        "id": "kvTVgRKbZktQ",
        "colab_type": "code",
        "colab": {}
      },
      "source": [
        ""
      ],
      "execution_count": 0,
      "outputs": []
    }
  ]
}