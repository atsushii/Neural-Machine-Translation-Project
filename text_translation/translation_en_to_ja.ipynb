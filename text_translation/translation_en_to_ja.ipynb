{
  "nbformat": 4,
  "nbformat_minor": 0,
  "metadata": {
    "accelerator": "GPU",
    "colab": {
      "name": "translation_en_to_ja.ipynb",
      "provenance": [],
      "collapsed_sections": [],
      "toc_visible": true,
      "machine_shape": "hm"
    },
    "kernelspec": {
      "name": "python3",
      "display_name": "Python 3"
    },
    "language_info": {
      "codemirror_mode": {
        "name": "ipython",
        "version": 3
      },
      "file_extension": ".py",
      "mimetype": "text/x-python",
      "name": "python",
      "nbconvert_exporter": "python",
      "pygments_lexer": "ipython3",
      "version": "3.7.5"
    }
  },
  "cells": [
    {
      "cell_type": "code",
      "metadata": {
        "id": "RmjVpP_kv4yc",
        "colab_type": "code",
        "colab": {
          "base_uri": "https://localhost:8080/",
          "height": 122
        },
        "outputId": "7d736672-67db-4221-d1c1-875324679e3e"
      },
      "source": [
        "# mount google drive \n",
        "from google.colab import drive\n",
        "drive.mount('/content/drive')"
      ],
      "execution_count": 12,
      "outputs": [
        {
          "output_type": "stream",
          "text": [
            "Go to this URL in a browser: https://accounts.google.com/o/oauth2/auth?client_id=947318989803-6bn6qk8qdgf4n4g3pfee6491hc0brc4i.apps.googleusercontent.com&redirect_uri=urn%3aietf%3awg%3aoauth%3a2.0%3aoob&response_type=code&scope=email%20https%3a%2f%2fwww.googleapis.com%2fauth%2fdocs.test%20https%3a%2f%2fwww.googleapis.com%2fauth%2fdrive%20https%3a%2f%2fwww.googleapis.com%2fauth%2fdrive.photos.readonly%20https%3a%2f%2fwww.googleapis.com%2fauth%2fpeopleapi.readonly\n",
            "\n",
            "Enter your authorization code:\n",
            "··········\n",
            "Mounted at /content/drive\n"
          ],
          "name": "stdout"
        }
      ]
    },
    {
      "cell_type": "code",
      "metadata": {
        "colab_type": "code",
        "id": "Zb93R3DCCXK0",
        "outputId": "0e8a73de-3746-4b08-835a-85c1a57a0f42",
        "colab": {
          "base_uri": "https://localhost:8080/",
          "height": 34
        }
      },
      "source": [
        "import tensorflow as tf\n",
        "import numpy as np\n",
        "import re\n",
        "from numpy import array, argmax, random, take\n",
        "import pandas as pd\n",
        "from keras.models import Sequential\n",
        "from keras.models import Model, load_model\n",
        "from keras.layers import Dense, LSTM, Embedding, RepeatVector, Dropout, Bidirectional, Input, dot, Activation\n",
        "from keras.preprocessing.text import Tokenizer\n",
        "from keras.callbacks import ModelCheckpoint\n",
        "from keras.preprocessing.sequence import pad_sequences\n",
        "from keras import optimizers\n",
        "from keras.engine.topology import Layer\n",
        "from keras import initializers, regularizers, constraints\n",
        "from keras import backend as K\n",
        "import keras\n",
        "\n",
        "import matplotlib.pyplot as plt\n",
        "import nltk\n",
        "import io\n",
        "from nltk.tokenize.toktok import ToktokTokenizer\n",
        "import unicodedata\n",
        "\n",
        "# plot japanese lang\n",
        "!pip install japanize-matplotlib\n",
        "import japanize_matplotlib\n",
        "\n",
        "# ignore warning\n",
        "import os\n",
        "os.environ['TF_CPP_MIN_LOG_LEVEL'] = '3'"
      ],
      "execution_count": 13,
      "outputs": [
        {
          "output_type": "stream",
          "text": [
            "Requirement already satisfied: japanize-matplotlib in /usr/local/lib/python3.6/dist-packages (1.0.5)\n"
          ],
          "name": "stdout"
        }
      ]
    },
    {
      "cell_type": "markdown",
      "metadata": {
        "id": "xm1CEgijFK_B",
        "colab_type": "text"
      },
      "source": [
        "# load text file\n",
        "\n",
        "**this dataset is aleady implemented a SentenceSpace**"
      ]
    },
    {
      "cell_type": "code",
      "metadata": {
        "colab_type": "code",
        "id": "bmv0RqrACbd-",
        "colab": {}
      },
      "source": [
        "num_example = 50000\n",
        "\n",
        "# create each languages list\n",
        "def create_lang_list(num_example):\n",
        "    # load txt file\n",
        "    lines =  io.open(\"/content/drive/My Drive/Colab Notebooks/raw.txt\", encoding='UTF-8').read().strip().split('\\n')\n",
        "\n",
        "    word_pairs = [[w for w in l.split('\\t')]  for l in lines[:num_example]]\n",
        "\n",
        "    return zip(*word_pairs)"
      ],
      "execution_count": 0,
      "outputs": []
    },
    {
      "cell_type": "code",
      "metadata": {
        "colab_type": "code",
        "id": "pf5s0qc9Dpa6",
        "colab": {}
      },
      "source": [
        "english_text, japanese_text = create_lang_list(num_example)"
      ],
      "execution_count": 0,
      "outputs": []
    },
    {
      "cell_type": "markdown",
      "metadata": {
        "id": "QAhEAtSYFSys",
        "colab_type": "text"
      },
      "source": [
        "# Text Pre-processing\n",
        "\n",
        "**Removing accented characters** \n",
        "\n",
        "e.g. é → e.\n",
        "\n",
        "**Expanding Contractions** \n",
        "\n",
        "e.g. don't → do not, I'd → I would\n",
        "\n",
        "**remove special word** \n",
        "\n",
        "e.g. remove \"123#@\"\n",
        "\n",
        "**Stemming**\n",
        "\n",
        " e.g. corder, codes → code\n",
        "\n",
        "**Lemmatization**\n",
        "\n",
        " e.g. better → good\n",
        "\n",
        "**Tokenize**\n",
        "\n",
        " e.g. I am going to restaurant → [[I], [am], [going], [to], [restaurant]]"
      ]
    },
    {
      "cell_type": "markdown",
      "metadata": {
        "id": "iS0AX_jOFk_l",
        "colab_type": "text"
      },
      "source": [
        "# Removing accented characters\n",
        "\n",
        "English might have accent like é but Japanese doesn't have any accent I just create different function to ascii for Japanese and English"
      ]
    },
    {
      "cell_type": "code",
      "metadata": {
        "colab_type": "code",
        "id": "Ttcy6dKhDrmB",
        "colab": {}
      },
      "source": [
        "# Removing accented characters\n",
        "def english_unicode_to_ascii(text):\n",
        "     return ''.join(ascii_text for ascii_text in unicodedata.normalize('NFKD', text).encode('ascii', 'ignore').decode('utf-8', 'ignore'))\n",
        "\n",
        "def japanese_unicode_to_ascii(text):\n",
        "    return ''.join(ascii_text for ascii_text in unicodedata.normalize('NFKD', text))"
      ],
      "execution_count": 0,
      "outputs": []
    },
    {
      "cell_type": "code",
      "metadata": {
        "colab_type": "code",
        "id": "OMHI0M1qPWqa",
        "outputId": "85ebf87b-3f19-4d31-e9b5-ec87b8e9709a",
        "colab": {
          "base_uri": "https://localhost:8080/",
          "height": 34
        }
      },
      "source": [
        "# e.g.\n",
        "japanese_unicode_to_ascii(\"こんにちは。今日は\"), english_unicode_to_ascii(\"Hello world é \")"
      ],
      "execution_count": 17,
      "outputs": [
        {
          "output_type": "execute_result",
          "data": {
            "text/plain": [
              "('こんにちは。今日は', 'Hello world e ')"
            ]
          },
          "metadata": {
            "tags": []
          },
          "execution_count": 17
        }
      ]
    },
    {
      "cell_type": "markdown",
      "metadata": {
        "id": "wO9i_n__FrHg",
        "colab_type": "text"
      },
      "source": [
        "# Expanding Contractions\n",
        "Japanese doesn't have a Contraction words so I just create a one function to expand Contractions for Engish"
      ]
    },
    {
      "cell_type": "code",
      "metadata": {
        "colab_type": "code",
        "id": "cUEU_GU1PYNq",
        "colab": {}
      },
      "source": [
        "def expand_constraction(text):\n",
        "\n",
        "    #  dic for expand constraction words\n",
        "    constraction_dict= {\n",
        "        \"ain't\": \"is not\",\n",
        "        \"aren't\": \"are not\",\n",
        "        \"can't\": \"cannot\",\n",
        "        \"can't've\": \"cannot have\",\n",
        "        \"'cause\": \"because\",\n",
        "        \"could've\": \"could have\",\n",
        "        \"couldn't\": \"could not\",\n",
        "        \"couldn't've\": \"could not have\",\n",
        "        \"didn't\": \"did not\",\n",
        "        \"doesn't\": \"does not\",\n",
        "        \"don't\": \"do not\",\n",
        "        \"hadn't\": \"had not\",\n",
        "        \"hadn't've\": \"had not have\",\n",
        "        \"hasn't\": \"has not\",\n",
        "        \"haven't\": \"have not\",\n",
        "        \"he'd\": \"he would\",\n",
        "        \"he'd've\": \"he would have\",\n",
        "        \"he'll\": \"he will\",\n",
        "        \"he'll've\": \"he he will have\",\n",
        "        \"he's\": \"he is\",\n",
        "        \"how'd\": \"how did\",\n",
        "        \"how'd'y\": \"how do you\",\n",
        "        \"how'll\": \"how will\",\n",
        "        \"how's\": \"how is\",\n",
        "        \"I'd\": \"I would\",\n",
        "        \"I'd've\": \"I would have\",\n",
        "        \"I'll\": \"I will\",\n",
        "        \"I'll've\": \"I will have\",\n",
        "        \"I'm\": \"I am\",\n",
        "        \"I've\": \"I have\",\n",
        "        \"i'd\": \"i would\",\n",
        "        \"i'd've\": \"i would have\",\n",
        "        \"i'll\": \"i will\",\n",
        "        \"i'll've\": \"i will have\",\n",
        "        \"i'm\": \"i am\",\n",
        "        \"i've\": \"i have\",\n",
        "        \"isn't\": \"is not\",\n",
        "        \"it'd\": \"it would\",\n",
        "        \"it'd've\": \"it would have\",\n",
        "        \"it'll\": \"it will\",\n",
        "        \"it'll've\": \"it will have\",\n",
        "        \"it's\": \"it is\",\n",
        "        \"let's\": \"let us\",\n",
        "        \"ma'am\": \"madam\",\n",
        "        \"mayn't\": \"may not\",\n",
        "        \"might've\": \"might have\",\n",
        "        \"mightn't\": \"might not\",\n",
        "        \"mightn't've\": \"might not have\",\n",
        "        \"must've\": \"must have\",\n",
        "        \"mustn't\": \"must not\",\n",
        "        \"mustn't've\": \"must not have\",\n",
        "        \"needn't\": \"need not\",\n",
        "        \"needn't've\": \"need not have\",\n",
        "        \"o'clock\": \"of the clock\",\n",
        "        \"oughtn't\": \"ought not\",\n",
        "        \"oughtn't've\": \"ought not have\",\n",
        "        \"shan't\": \"shall not\",\n",
        "        \"sha'n't\": \"shall not\",\n",
        "        \"shan't've\": \"shall not have\",\n",
        "        \"she'd\": \"she would\",\n",
        "        \"she'd've\": \"she would have\",\n",
        "        \"she'll\": \"she will\",\n",
        "        \"she'll've\": \"she will have\",\n",
        "        \"she's\": \"she is\",\n",
        "        \"should've\": \"should have\",\n",
        "        \"shouldn't\": \"should not\",\n",
        "        \"shouldn't've\": \"should not have\",\n",
        "        \"so've\": \"so have\",\n",
        "        \"so's\": \"so as\",\n",
        "        \"that'd\": \"that would\",\n",
        "        \"that'd've\": \"that would have\",\n",
        "        \"that's\": \"that is\",\n",
        "        \"there'd\": \"there would\",\n",
        "        \"there'd've\": \"there would have\",\n",
        "        \"there's\": \"there is\",\n",
        "        \"they'd\": \"they would\",\n",
        "        \"they'd've\": \"they would have\",\n",
        "        \"they'll\": \"they will\",\n",
        "        \"they'll've\": \"they will have\",\n",
        "        \"they're\": \"they are\",\n",
        "        \"they've\": \"they have\",\n",
        "        \"to've\": \"to have\",\n",
        "        \"wasn't\": \"was not\",\n",
        "        \"we'd\": \"we would\",\n",
        "        \"we'd've\": \"we would have\",\n",
        "        \"we'll\": \"we will\",\n",
        "        \"we'll've\": \"we will have\",\n",
        "        \"we're\": \"we are\",\n",
        "        \"we've\": \"we have\",\n",
        "        \"weren't\": \"were not\",\n",
        "        \"what'll\": \"what will\",\n",
        "        \"what'll've\": \"what will have\",\n",
        "        \"what're\": \"what are\",\n",
        "        \"what's\": \"what is\",\n",
        "        \"what've\": \"what have\",\n",
        "        \"when's\": \"when is\",\n",
        "        \"when've\": \"when have\",\n",
        "        \"where'd\": \"where did\",\n",
        "        \"where's\": \"where is\",\n",
        "        \"where've\": \"where have\",\n",
        "        \"who'll\": \"who will\",\n",
        "        \"who'll've\": \"who will have\",\n",
        "        \"who's\": \"who is\",\n",
        "        \"who've\": \"who have\",\n",
        "        \"why's\": \"why is\",\n",
        "        \"why've\": \"why have\",\n",
        "        \"will've\": \"will have\",\n",
        "        \"won't\": \"will not\",\n",
        "        \"won't've\": \"will not have\",\n",
        "        \"would've\": \"would have\",\n",
        "        \"wouldn't\": \"would not\",\n",
        "        \"wouldn't've\": \"would not have\",\n",
        "        \"y'all\": \"you all\",\n",
        "        \"y'all'd\": \"you all would\",\n",
        "        \"y'all'd've\": \"you all would have\",\n",
        "        \"y'all're\": \"you all are\",\n",
        "        \"y'all've\": \"you all have\",\n",
        "        \"you'd\": \"you would\",\n",
        "        \"you'd've\": \"you would have\",\n",
        "        \"you'll\": \"you will\",\n",
        "        \"you'll've\": \"you will have\",\n",
        "        \"you're\": \"you are\",\n",
        "        \"you've\": \"you have\"\n",
        "    }\n",
        "\n",
        "    #  define match pattern\n",
        "    #  IGNORECASE → no matter if word is lowercase or uppercase\n",
        "    #  DOTAIL → . is going to match \\n\n",
        "    contraction_pattern = re.compile('({})'.format('|'.join(constraction_dict.keys())),\n",
        "                                                  flags=re.IGNORECASE | re.DOTALL)\n",
        "    #  expand words\n",
        "    def expand_match(constraction):\n",
        "        # get constraction word\n",
        "        match = constraction.group(0)\n",
        "        first_char = match[0]\n",
        "        #  get expand word from constraction dict\n",
        "        expand_constraction = constraction_dict.get(match)\\\n",
        "                                                    if constraction_dict.get(match) \\\n",
        "                                                    else constraction_dict.get(match.lower())\n",
        "        \n",
        "        # create expand constraction\n",
        "        expand_constraction = first_char + expand_constraction[1:]\n",
        "        return expand_constraction\n",
        "    \n",
        "    expanded_text = contraction_pattern.sub(expand_match, text)\n",
        "    expanded_text = re.sub(\"'\", \"\", expanded_text)\n",
        "    return expanded_text"
      ],
      "execution_count": 0,
      "outputs": []
    },
    {
      "cell_type": "code",
      "metadata": {
        "colab_type": "code",
        "id": "3ikqxXGePadk",
        "outputId": "35e72cd2-474e-4505-f058-702cd07d3b96",
        "colab": {
          "base_uri": "https://localhost:8080/",
          "height": 34
        }
      },
      "source": [
        "# e.g.\n",
        "expand_constraction(\"you're good I'd like to go he's she's\")"
      ],
      "execution_count": 19,
      "outputs": [
        {
          "output_type": "execute_result",
          "data": {
            "text/plain": [
              "'you are good I would like to go he is she is'"
            ]
          },
          "metadata": {
            "tags": []
          },
          "execution_count": 19
        }
      ]
    },
    {
      "cell_type": "markdown",
      "metadata": {
        "id": "zGZrYrRxFwc8",
        "colab_type": "text"
      },
      "source": [
        "# remove special characters and create space between word and punctuation\n",
        "\n",
        "replacing everything with space except(a-z, A-Z, \"?\", \"!\", \"-\", \"ー\", \"Kanji\", \"Katakana\", \"Hiragana\") \n",
        "create space between word and punctuation (? ! )"
      ]
    },
    {
      "cell_type": "code",
      "metadata": {
        "id": "RBMqrm3o-sJt",
        "colab_type": "code",
        "colab": {}
      },
      "source": [
        "def replace_special_character_to_space(text):\n",
        "    pattern = r\"[^a-zA-Z\\u3041-\\u309F\\u30A1-\\u30FF\\uFF66-\\uFF9F\\u4E00-\\u9FD0\\u309B\\u3099\\uFF9E\\u309C\\u309A\\uFF9F?!\\-/\\s]+\"\n",
        "    text = re.sub(pattern, '', text).rstrip().strip()\n",
        "    text = text.replace(\"・\" , \"\")\n",
        "\n",
        "    text = re.sub(r\"([?!.,。、])\", r\" \\1 \", text)\n",
        "    text = text.lower()\n",
        "\n",
        "    return text"
      ],
      "execution_count": 0,
      "outputs": []
    },
    {
      "cell_type": "code",
      "metadata": {
        "colab_type": "code",
        "id": "oeOvXEYFQq_-",
        "outputId": "ae5abee5-6262-49f0-c2ae-293e67879803",
        "colab": {
          "base_uri": "https://localhost:8080/",
          "height": 34
        }
      },
      "source": [
        "# e.g.\n",
        "replace_special_character_to_space(\"hello, . #@…123world.\"), replace_special_character_to_space(\"こん・にちは。・ いい天気。\")"
      ],
      "execution_count": 21,
      "outputs": [
        {
          "output_type": "execute_result",
          "data": {
            "text/plain": [
              "('hello  world', 'こんにちは いい天気')"
            ]
          },
          "metadata": {
            "tags": []
          },
          "execution_count": 21
        }
      ]
    },
    {
      "cell_type": "markdown",
      "metadata": {
        "id": "r0-z-PhGGQqL",
        "colab_type": "text"
      },
      "source": [
        "# Stemming and Lemmatization\n",
        "I will do stemming only english which can create a base form of a word from a given word. Japanese language doesn't need a stemming"
      ]
    },
    {
      "cell_type": "code",
      "metadata": {
        "id": "QrYiW2_Pl1lf",
        "colab_type": "code",
        "colab": {}
      },
      "source": [
        "def stemmer_word(text):\n",
        "    ps = nltk.stem.PorterStemmer()\n",
        "    text = ' '.join([ps.stem(word) for word in text.split()])\n",
        "    return text"
      ],
      "execution_count": 0,
      "outputs": []
    },
    {
      "cell_type": "code",
      "metadata": {
        "id": "n-iz13U2awVV",
        "colab_type": "code",
        "outputId": "03eb0f8f-727d-4e54-d2c0-4768701a8701",
        "colab": {
          "base_uri": "https://localhost:8080/",
          "height": 34
        }
      },
      "source": [
        "# e.g.\n",
        "stemmer_word(\"hello world she has cat but he had dogs he is went to traveling\")"
      ],
      "execution_count": 23,
      "outputs": [
        {
          "output_type": "execute_result",
          "data": {
            "text/plain": [
              "'hello world she ha cat but he had dog he is went to travel'"
            ]
          },
          "metadata": {
            "tags": []
          },
          "execution_count": 23
        }
      ]
    },
    {
      "cell_type": "markdown",
      "metadata": {
        "id": "xsqW5RHMGifD",
        "colab_type": "text"
      },
      "source": [
        "# Normalize each word"
      ]
    },
    {
      "cell_type": "code",
      "metadata": {
        "colab_type": "code",
        "id": "sizAmLv2Pj-j",
        "colab": {}
      },
      "source": [
        "def normalize_english(english_text, japanese_text):\n",
        "    \n",
        "    input_value = ()\n",
        "    target_value = ()\n",
        "    \n",
        "    for en_text, ja_text in zip(english_text, japanese_text):\n",
        "        \n",
        "        # normalize English\n",
        "        en_text = english_unicode_to_ascii(en_text)\n",
        "        en_text = expand_constraction(en_text)\n",
        "        en_text = replace_special_character_to_space(en_text)\n",
        "\n",
        "        en_text = \"<sos> \" + en_text + \" <eos>\"\n",
        "        \n",
        "        input_value += (en_text, )\n",
        "\n",
        "        # normalize Japanese\n",
        "        ja_text = japanese_unicode_to_ascii(ja_text)\n",
        "        ja_text = expand_constraction(ja_text)\n",
        "        ja_text = replace_special_character_to_space(ja_text)\n",
        "\n",
        "        ja_text = \"<sos> \" + ja_text + \" <eos>\"\n",
        "        \n",
        "        target_value += (ja_text, )\n",
        "\n",
        "    return input_value, target_value"
      ],
      "execution_count": 0,
      "outputs": []
    },
    {
      "cell_type": "markdown",
      "metadata": {
        "id": "eMa52HiWGtQ-",
        "colab_type": "text"
      },
      "source": [
        "# get clean text data"
      ]
    },
    {
      "cell_type": "code",
      "metadata": {
        "colab_type": "code",
        "id": "1WLwCK4xVynu",
        "colab": {}
      },
      "source": [
        "input_value, target_value = normalize_english(english_text, japanese_text)"
      ],
      "execution_count": 0,
      "outputs": []
    },
    {
      "cell_type": "code",
      "metadata": {
        "id": "6su97bf9HZhX",
        "colab_type": "code",
        "outputId": "b91199a8-351a-4eb0-986c-3bab6f63ceff",
        "colab": {
          "base_uri": "https://localhost:8080/",
          "height": 545
        }
      },
      "source": [
        "# populate the lists with sentence lengths\n",
        "english_len = [len(i.split()) for i in input_value]\n",
        "\n",
        "japanese_len = [len(i.split()) for i in target_value]\n",
        "\n",
        "plt.figure()\n",
        "plt.hist(english_len)\n",
        "\n",
        "plt.figure()\n",
        "plt.hist(japanese_len)\n",
        "\n",
        "# print max length\n",
        "print(\"english length:\", max(english_len))\n",
        "print(\"japanese length:\", max(japanese_len))"
      ],
      "execution_count": 26,
      "outputs": [
        {
          "output_type": "stream",
          "text": [
            "english length: 46\n",
            "japanese length: 18\n"
          ],
          "name": "stdout"
        },
        {
          "output_type": "display_data",
          "data": {
            "image/png": "[encoded data removed]",
            "text/plain": [
              "<Figure size 432x288 with 1 Axes>"
            ]
          },
          "metadata": {
            "tags": []
          }
        },
        {
          "output_type": "display_data",
          "data": {
            "image/png": "[encoded data removed]",
            "text/plain": [
              "<Figure size 432x288 with 1 Axes>"
            ]
          },
          "metadata": {
            "tags": []
          }
        }
      ]
    },
    {
      "cell_type": "markdown",
      "metadata": {
        "id": "lieg1fN2G5Qr",
        "colab_type": "text"
      },
      "source": [
        "# tokenize\n",
        "tokenize each language word based on space"
      ]
    },
    {
      "cell_type": "code",
      "metadata": {
        "colab_type": "code",
        "id": "ZEdYwmc3PoJT",
        "colab": {}
      },
      "source": [
        "# build a tokenizer\n",
        "def tokenization(lines):\n",
        "    tokenizer = Tokenizer()\n",
        "    tokenizer.fit_on_texts(lines)\n",
        "    return tokenizer"
      ],
      "execution_count": 0,
      "outputs": []
    },
    {
      "cell_type": "code",
      "metadata": {
        "colab_type": "code",
        "id": "2UVxaCNJU7Bm",
        "outputId": "80007fa3-8fa8-4527-a878-e71d006cd84f",
        "colab": {
          "base_uri": "https://localhost:8080/",
          "height": 34
        }
      },
      "source": [
        "# prepare English tokenizer\n",
        "eng_tokenizer = tokenization(input_value)\n",
        "eng_vocab_size = len(eng_tokenizer.word_index) + 1\n",
        "\n",
        "# must all the sequences of the same length.\n",
        "eng_length = 46\n",
        "print('English Vocabulary Size: %d' % eng_vocab_size)"
      ],
      "execution_count": 28,
      "outputs": [
        {
          "output_type": "stream",
          "text": [
            "English Vocabulary Size: 22248\n"
          ],
          "name": "stdout"
        }
      ]
    },
    {
      "cell_type": "code",
      "metadata": {
        "colab_type": "code",
        "id": "jAkfW5TfWaca",
        "outputId": "6e0e0fcd-bd32-4339-d917-4dcce7077085",
        "colab": {
          "base_uri": "https://localhost:8080/",
          "height": 34
        }
      },
      "source": [
        "# prepare Japanese tokenizer\n",
        "ja_tokenizer = tokenization(target_value)\n",
        "ja_vocab_size = len(ja_tokenizer.word_index) + 1\n",
        "\n",
        "# must all the sequences of the same length.\n",
        "ja_length = 18\n",
        "print('japanese Vocabulary Size: %d' % ja_vocab_size)"
      ],
      "execution_count": 29,
      "outputs": [
        {
          "output_type": "stream",
          "text": [
            "japanese Vocabulary Size: 69132\n"
          ],
          "name": "stdout"
        }
      ]
    },
    {
      "cell_type": "code",
      "metadata": {
        "colab_type": "code",
        "id": "cw26UoZEWf6h",
        "colab": {}
      },
      "source": [
        "# encode and pad sequences\n",
        "def encode_sequences(tokenizer, length, lines, padding):\n",
        "    # integer encode sequences\n",
        "    seq = tokenizer.texts_to_sequences(lines)\n",
        "    # pad sequences with 0 values\n",
        "    seq = pad_sequences(seq, maxlen=length, padding=padding)\n",
        "    return seq"
      ],
      "execution_count": 0,
      "outputs": []
    },
    {
      "cell_type": "markdown",
      "metadata": {
        "id": "ekxavmNNOrFn",
        "colab_type": "text"
      },
      "source": [
        "# load Word2Vec pre train model\n",
        "I will use pre-train model for embedding for English and Japanese words"
      ]
    },
    {
      "cell_type": "code",
      "metadata": {
        "id": "OPONamPGOsxi",
        "colab_type": "code",
        "outputId": "3f2747a5-c304-4762-c8f0-55f738487ee6",
        "colab": {
          "base_uri": "https://localhost:8080/",
          "height": 71
        }
      },
      "source": [
        "import gensim\n",
        "import gensim.models.keyedvectors as word2vec\n",
        "\n",
        "# load pre-trian model for Japanese \n",
        "ja_word2vec_model = gensim.models.Word2Vec.load('/content/drive/My Drive/jawiki.doc2vec.dbow300d/jawiki.doc2vec.dbow300d.model')\n",
        "\n",
        "# load pre-train model for English\n",
        "en_word2vec_model = word2vec.KeyedVectors.load_word2vec_format(\"/content/drive/My Drive/GoogleNews-vectors-negative300.bin\", binary=True, unicode_errors='ignore')"
      ],
      "execution_count": 31,
      "outputs": [
        {
          "output_type": "stream",
          "text": [
            "/usr/local/lib/python3.6/dist-packages/smart_open/smart_open_lib.py:402: UserWarning: This function is deprecated, use smart_open.open instead. See the migration notes for details: https://github.com/RaRe-Technologies/smart_open/blob/master/README.rst#migrating-to-the-new-open-function\n",
            "  'See the migration notes for details: %s' % _MIGRATION_NOTES_URL\n"
          ],
          "name": "stderr"
        }
      ]
    },
    {
      "cell_type": "code",
      "metadata": {
        "id": "wIK0RuB8O11B",
        "colab_type": "code",
        "outputId": "475352a5-65e5-41a1-ae90-d8a93804d939",
        "colab": {
          "base_uri": "https://localhost:8080/",
          "height": 241
        }
      },
      "source": [
        "# similar word with country name\n",
        "ja_word2vec_model.wv.most_similar(\"日本\")"
      ],
      "execution_count": 0,
      "outputs": [
        {
          "output_type": "stream",
          "text": [
            "/usr/local/lib/python3.6/dist-packages/gensim/matutils.py:737: FutureWarning: Conversion of the second argument of issubdtype from `int` to `np.signedinteger` is deprecated. In future, it will be treated as `np.int64 == np.dtype(int).type`.\n",
            "  if np.issubdtype(vec.dtype, np.int):\n"
          ],
          "name": "stderr"
        },
        {
          "output_type": "execute_result",
          "data": {
            "text/plain": [
              "[('アメリカ', 0.6172695159912109),\n",
              " ('日本国内', 0.6169887781143188),\n",
              " ('米国', 0.5836105346679688),\n",
              " ('韓国', 0.583561897277832),\n",
              " ('海外', 0.5563584566116333),\n",
              " ('アジア', 0.5504777431488037),\n",
              " ('中国', 0.5415611863136292),\n",
              " ('アジア地域', 0.5271817445755005),\n",
              " ('台湾', 0.52516770362854),\n",
              " ('アジア諸国', 0.5203936100006104)]"
            ]
          },
          "metadata": {
            "tags": []
          },
          "execution_count": 23
        }
      ]
    },
    {
      "cell_type": "code",
      "metadata": {
        "id": "qu5lAxFOO33V",
        "colab_type": "code",
        "outputId": "20f70aa4-14b3-4864-eb5d-c7947a969d77",
        "colab": {
          "base_uri": "https://localhost:8080/",
          "height": 241
        }
      },
      "source": [
        "# calculate word and word\n",
        "ja_word2vec_model.wv.most_similar(positive=[\"お父さん\", \"死\"], negative=[\"泣\"])"
      ],
      "execution_count": 0,
      "outputs": [
        {
          "output_type": "stream",
          "text": [
            "/usr/local/lib/python3.6/dist-packages/gensim/matutils.py:737: FutureWarning: Conversion of the second argument of issubdtype from `int` to `np.signedinteger` is deprecated. In future, it will be treated as `np.int64 == np.dtype(int).type`.\n",
            "  if np.issubdtype(vec.dtype, np.int):\n"
          ],
          "name": "stderr"
        },
        {
          "output_type": "execute_result",
          "data": {
            "text/plain": [
              "[('息子', 0.5948961973190308),\n",
              " ('お母さん', 0.5658013820648193),\n",
              " ('母親', 0.559698760509491),\n",
              " ('おばあちゃん', 0.5565805435180664),\n",
              " ('父', 0.5533062815666199),\n",
              " ('母', 0.5530043840408325),\n",
              " ('パパ', 0.5508877635002136),\n",
              " ('亡き', 0.5500179529190063),\n",
              " ('婚約者', 0.5495285391807556),\n",
              " ('死ん', 0.546082615852356)]"
            ]
          },
          "metadata": {
            "tags": []
          },
          "execution_count": 24
        }
      ]
    },
    {
      "cell_type": "code",
      "metadata": {
        "id": "zywx76VUO7EA",
        "colab_type": "code",
        "outputId": "1bf0ad8f-17e9-4106-81d8-c41b08436e38",
        "colab": {
          "base_uri": "https://localhost:8080/",
          "height": 241
        }
      },
      "source": [
        "# similar word with country name\n",
        "en_word2vec_model.most_similar(\"Canada\")"
      ],
      "execution_count": 0,
      "outputs": [
        {
          "output_type": "stream",
          "text": [
            "/usr/local/lib/python3.6/dist-packages/gensim/matutils.py:737: FutureWarning: Conversion of the second argument of issubdtype from `int` to `np.signedinteger` is deprecated. In future, it will be treated as `np.int64 == np.dtype(int).type`.\n",
            "  if np.issubdtype(vec.dtype, np.int):\n"
          ],
          "name": "stderr"
        },
        {
          "output_type": "execute_result",
          "data": {
            "text/plain": [
              "[('Canadian', 0.7513011693954468),\n",
              " ('Ontario', 0.6928848028182983),\n",
              " ('Nova_Scotia', 0.6792765259742737),\n",
              " ('Manitoba', 0.67861008644104),\n",
              " ('Alberta', 0.6736730337142944),\n",
              " ('Canadians', 0.6654781103134155),\n",
              " ('Quebec', 0.6514720320701599),\n",
              " ('British_Columbia', 0.6478375196456909),\n",
              " ('Peller_Estates_Icewine', 0.6433447003364563),\n",
              " ('Saskatchewan', 0.6383945941925049)]"
            ]
          },
          "metadata": {
            "tags": []
          },
          "execution_count": 25
        }
      ]
    },
    {
      "cell_type": "code",
      "metadata": {
        "id": "QFq7wb9dO9NJ",
        "colab_type": "code",
        "outputId": "90993ccd-357c-4991-bcd0-499df0d00e18",
        "colab": {
          "base_uri": "https://localhost:8080/",
          "height": 241
        }
      },
      "source": [
        "# calculate word and word\n",
        "en_word2vec_model.most_similar(positive=[\"programmer\", \"skill\"], negative=[\"money\"])"
      ],
      "execution_count": 0,
      "outputs": [
        {
          "output_type": "stream",
          "text": [
            "/usr/local/lib/python3.6/dist-packages/gensim/matutils.py:737: FutureWarning: Conversion of the second argument of issubdtype from `int` to `np.signedinteger` is deprecated. In future, it will be treated as `np.int64 == np.dtype(int).type`.\n",
            "  if np.issubdtype(vec.dtype, np.int):\n"
          ],
          "name": "stderr"
        },
        {
          "output_type": "execute_result",
          "data": {
            "text/plain": [
              "[('Programmer', 0.4614413380622864),\n",
              " ('3D_modeller', 0.4489377737045288),\n",
              " ('skils', 0.4471549987792969),\n",
              " ('puzzle_solver', 0.4467487633228302),\n",
              " ('Jon_Shiring', 0.4382207989692688),\n",
              " ('programmers', 0.4363787770271301),\n",
              " ('coder', 0.434060662984848),\n",
              " ('skills', 0.42342013120651245),\n",
              " ('skillset', 0.42207223176956177),\n",
              " ('animator', 0.4214385449886322)]"
            ]
          },
          "metadata": {
            "tags": []
          },
          "execution_count": 26
        }
      ]
    },
    {
      "cell_type": "code",
      "metadata": {
        "id": "k6S8JEquPCB1",
        "colab_type": "code",
        "colab": {}
      },
      "source": [
        "# get weights\n",
        "# English\n",
        "input_embedding_matrix = np.zeros((eng_vocab_size, 300))\n",
        "for word, i in eng_tokenizer.word_index.items():\n",
        "    if i >= num_example:\n",
        "        continue\n",
        "    try:\n",
        "        input_embedding_matrix[i] = en_word2vec_model.get_vector(word)\n",
        "    except KeyError:\n",
        "        continue\n",
        "\n",
        "# Japanese\n",
        "target_embedding_matrix = np.zeros((ja_vocab_size, 300))\n",
        "for word, i in ja_tokenizer.word_index.items():\n",
        "    if i >= num_example:\n",
        "        continue\n",
        "    try:\n",
        "        target_embedding_matrix[i] = ja_word2vec_model.wv.get_vector(word)\n",
        "    except KeyError:\n",
        "        continue"
      ],
      "execution_count": 0,
      "outputs": []
    },
    {
      "cell_type": "code",
      "metadata": {
        "id": "SihjmkklPQm9",
        "colab_type": "code",
        "outputId": "8b8f2962-db05-402c-e5ce-012824546f39",
        "colab": {
          "base_uri": "https://localhost:8080/",
          "height": 34
        }
      },
      "source": [
        "input_embedding_matrix.shape, target_embedding_matrix.shape"
      ],
      "execution_count": 33,
      "outputs": [
        {
          "output_type": "execute_result",
          "data": {
            "text/plain": [
              "((22248, 300), (69132, 300))"
            ]
          },
          "metadata": {
            "tags": []
          },
          "execution_count": 33
        }
      ]
    },
    {
      "cell_type": "markdown",
      "metadata": {
        "id": "JkhMN5EAJTDt",
        "colab_type": "text"
      },
      "source": [
        "# Create train data"
      ]
    },
    {
      "cell_type": "code",
      "metadata": {
        "colab_type": "code",
        "id": "ANKcc_U6WjmX",
        "colab": {}
      },
      "source": [
        "from sklearn.model_selection import train_test_split\n",
        "\n",
        "# split data into train and test set\n",
        "X_train, X_test,  y_train, y_test = train_test_split(input_value, target_value, test_size=0.3, random_state = 42)"
      ],
      "execution_count": 0,
      "outputs": []
    },
    {
      "cell_type": "code",
      "metadata": {
        "colab_type": "code",
        "id": "UIpLRoOLWlKr",
        "colab": {}
      },
      "source": [
        "# prepare training data\n",
        "X_train = encode_sequences(eng_tokenizer, eng_length, X_train, \"post\")\n",
        "Y_train = encode_sequences(ja_tokenizer, ja_length, y_train, \"post\")\n",
        "\n",
        "# prepare validation data\n",
        "X_test = encode_sequences(eng_tokenizer, eng_length, X_test, \"post\")\n",
        "Y_test = encode_sequences(ja_tokenizer, ja_length, y_test, \"post\")\n"
      ],
      "execution_count": 0,
      "outputs": []
    },
    {
      "cell_type": "code",
      "metadata": {
        "colab_type": "code",
        "outputId": "cca7b7b8-8900-4cfd-e3c5-e3ed7f9bab1e",
        "id": "KKZ8k4bnpSIc",
        "colab": {
          "base_uri": "https://localhost:8080/",
          "height": 102
        }
      },
      "source": [
        "print(X_train.shape), print(Y_train.shape), print(X_test.shape), print(Y_test.shape)"
      ],
      "execution_count": 36,
      "outputs": [
        {
          "output_type": "stream",
          "text": [
            "(35000, 46)\n",
            "(35000, 18)\n",
            "(15000, 46)\n",
            "(15000, 18)\n"
          ],
          "name": "stdout"
        },
        {
          "output_type": "execute_result",
          "data": {
            "text/plain": [
              "(None, None, None, None)"
            ]
          },
          "metadata": {
            "tags": []
          },
          "execution_count": 36
        }
      ]
    },
    {
      "cell_type": "markdown",
      "metadata": {
        "id": "sx0Rr7PPYiLC",
        "colab_type": "text"
      },
      "source": [
        "# Attention"
      ]
    },
    {
      "cell_type": "code",
      "metadata": {
        "id": "5c-mbZT8XicL",
        "colab_type": "code",
        "colab": {}
      },
      "source": [
        "class Attention(Layer):\n",
        "    def __init__(self, step_dim,\n",
        "                 W_regularizer=None, b_regularizer=None,\n",
        "                 W_constraint=None, b_constraint=None,\n",
        "                 bias=True, **kwargs):\n",
        "        self.supports_masking = True\n",
        "        self.init = initializers.get('glorot_uniform')\n",
        "\n",
        "        self.W_regularizer = regularizers.get(W_regularizer)\n",
        "        self.b_regularizer = regularizers.get(b_regularizer)\n",
        "\n",
        "        self.W_constraint = constraints.get(W_constraint)\n",
        "        self.b_constraint = constraints.get(b_constraint)\n",
        "\n",
        "        self.bias = bias\n",
        "        self.step_dim = step_dim\n",
        "        self.features_dim = 0\n",
        "        super(Attention, self).__init__(**kwargs)\n",
        "\n",
        "    def build(self, input_shape):\n",
        "        assert len(input_shape) == 3\n",
        "\n",
        "        self.W = self.add_weight((input_shape[-1],),\n",
        "                                 initializer=self.init,\n",
        "                                 name='{}_W'.format(self.name),\n",
        "                                 regularizer=self.W_regularizer,\n",
        "                                 constraint=self.W_constraint)\n",
        "        self.features_dim = input_shape[-1]\n",
        "\n",
        "        if self.bias:\n",
        "            self.b = self.add_weight((input_shape[1],),\n",
        "                                     initializer='zero',\n",
        "                                     name='{}_b'.format(self.name),\n",
        "                                     regularizer=self.b_regularizer,\n",
        "                                     constraint=self.b_constraint)\n",
        "        else:\n",
        "            self.b = None\n",
        "\n",
        "        self.built = True\n",
        "\n",
        "    def compute_mask(self, input, input_mask=None):\n",
        "        return None\n",
        "\n",
        "    def call(self, x, mask=None):\n",
        "        features_dim = self.features_dim\n",
        "        step_dim = self.step_dim\n",
        "\n",
        "        eij = K.reshape(K.dot(K.reshape(x, (-1, features_dim)),\n",
        "                        K.reshape(self.W, (features_dim, 1))), (-1, step_dim))\n",
        "\n",
        "        if self.bias:\n",
        "            eij += self.b\n",
        "\n",
        "        eij = K.tanh(eij)\n",
        "\n",
        "        a = K.exp(eij)\n",
        "\n",
        "        if mask is not None:\n",
        "            a *= K.cast(mask, K.floatx())\n",
        "\n",
        "        a /= K.cast(K.sum(a, axis=1, keepdims=True) + K.epsilon(), K.floatx())\n",
        "\n",
        "        a = K.expand_dims(a)\n",
        "        weighted_input = x * a\n",
        "        return K.sum(weighted_input, axis=1)\n",
        "\n",
        "    def compute_output_shape(self, input_shape):\n",
        "        return input_shape[0],  self.features_dim"
      ],
      "execution_count": 0,
      "outputs": []
    },
    {
      "cell_type": "markdown",
      "metadata": {
        "id": "rSAahGbWKIAj",
        "colab_type": "text"
      },
      "source": [
        "# Model building"
      ]
    },
    {
      "cell_type": "code",
      "metadata": {
        "colab_type": "code",
        "id": "Ma59RoqRWnMy",
        "colab": {}
      },
      "source": [
        "# build NMT model\n",
        "def define_model(in_vocab,out_vocab, in_timesteps,out_timesteps,units):\n",
        "\n",
        "    # build encoder model\n",
        "    encoder_input = Input(shape=(in_timesteps, ))\n",
        "\n",
        "    # use pre-trained model Word2Vec\n",
        "    encoder_embedding = Embedding(input_dim=in_vocab, output_dim=300, weights=[input_embedding_matrix], \n",
        "                                                        trainable=False)(encoder_input)\n",
        "    # Dropout\n",
        "    encoder_embedding = Dropout(0.6)(encoder_embedding)\n",
        "\n",
        "    encoder = LSTM(units, return_sequences=True, unroll=True)(encoder_embedding)\n",
        "    encoder_last = encoder[:, -1, :]\n",
        "\n",
        "\n",
        "    # build decoder model\n",
        "    decoder_input = Input(shape=(out_timesteps, ))\n",
        "\n",
        "    # use pre-trained model Word2Vec\n",
        "    decoder_embedding = Embedding(input_dim=out_vocab, output_dim=300, weights=[target_embedding_matrix], \n",
        "                                      trainable=False)\n",
        "    decoder = decoder_embedding(decoder_input)\n",
        "\n",
        "    # Dropout\n",
        "    decoder = Dropout(0.6)(decoder)\n",
        "\n",
        "    decoder = LSTM(units, return_sequences=True, unroll=True)(decoder, initial_state=[encoder_last, encoder_last])\n",
        "\n",
        "    t = Dense(5000, activation='relu')(decoder)\n",
        "    t2 = Dense(5000, activation='relu')(encoder)\n",
        "    attention = dot([t, t2], axes=[2, 2])\n",
        "\n",
        "    attention = Dense(in_timesteps, activation='relu')(attention)\n",
        "    attention = Activation('softmax')(attention)\n",
        "\n",
        "    context = dot([attention, encoder], axes = [2,1])\n",
        "\n",
        "    decoder_combined_context = keras.layers.concatenate([context, decoder])\n",
        "\n",
        "    decoder_combined_context=Dense(2000, activation='relu')(decoder_combined_context)\n",
        "    output=(Dense(out_vocab, activation=\"softmax\"))(decoder_combined_context)\n",
        "\n",
        "    model = Model(inputs=[encoder_input, decoder_input], outputs=[output])\n",
        "\n",
        "    return model"
      ],
      "execution_count": 0,
      "outputs": []
    },
    {
      "cell_type": "code",
      "metadata": {
        "colab_type": "code",
        "id": "Ti0TrucnWqzr",
        "outputId": "e54dbc29-9138-4551-a96a-f4804a2ab58a",
        "colab": {
          "base_uri": "https://localhost:8080/",
          "height": 462
        }
      },
      "source": [
        "# model compilation\n",
        "model = define_model(eng_vocab_size, ja_vocab_size, eng_length, ja_length, 512)"
      ],
      "execution_count": 39,
      "outputs": [
        {
          "output_type": "stream",
          "text": [
            "WARNING:tensorflow:From /usr/local/lib/python3.6/dist-packages/keras/backend/tensorflow_backend.py:66: The name tf.get_default_graph is deprecated. Please use tf.compat.v1.get_default_graph instead.\n",
            "\n",
            "WARNING:tensorflow:From /usr/local/lib/python3.6/dist-packages/keras/backend/tensorflow_backend.py:541: The name tf.placeholder is deprecated. Please use tf.compat.v1.placeholder instead.\n",
            "\n",
            "WARNING:tensorflow:From /usr/local/lib/python3.6/dist-packages/keras/backend/tensorflow_backend.py:4432: The name tf.random_uniform is deprecated. Please use tf.random.uniform instead.\n",
            "\n",
            "WARNING:tensorflow:From /usr/local/lib/python3.6/dist-packages/keras/backend/tensorflow_backend.py:190: The name tf.get_default_session is deprecated. Please use tf.compat.v1.get_default_session instead.\n",
            "\n",
            "WARNING:tensorflow:From /usr/local/lib/python3.6/dist-packages/keras/backend/tensorflow_backend.py:197: The name tf.ConfigProto is deprecated. Please use tf.compat.v1.ConfigProto instead.\n",
            "\n",
            "WARNING:tensorflow:From /usr/local/lib/python3.6/dist-packages/keras/backend/tensorflow_backend.py:203: The name tf.Session is deprecated. Please use tf.compat.v1.Session instead.\n",
            "\n",
            "WARNING:tensorflow:From /usr/local/lib/python3.6/dist-packages/keras/backend/tensorflow_backend.py:207: The name tf.global_variables is deprecated. Please use tf.compat.v1.global_variables instead.\n",
            "\n",
            "WARNING:tensorflow:From /usr/local/lib/python3.6/dist-packages/keras/backend/tensorflow_backend.py:216: The name tf.is_variable_initialized is deprecated. Please use tf.compat.v1.is_variable_initialized instead.\n",
            "\n",
            "WARNING:tensorflow:From /usr/local/lib/python3.6/dist-packages/keras/backend/tensorflow_backend.py:223: The name tf.variables_initializer is deprecated. Please use tf.compat.v1.variables_initializer instead.\n",
            "\n",
            "WARNING:tensorflow:From /usr/local/lib/python3.6/dist-packages/keras/backend/tensorflow_backend.py:148: The name tf.placeholder_with_default is deprecated. Please use tf.compat.v1.placeholder_with_default instead.\n",
            "\n",
            "WARNING:tensorflow:From /usr/local/lib/python3.6/dist-packages/keras/backend/tensorflow_backend.py:3733: calling dropout (from tensorflow.python.ops.nn_ops) with keep_prob is deprecated and will be removed in a future version.\n",
            "Instructions for updating:\n",
            "Please use `rate` instead of `keep_prob`. Rate should be set to `rate = 1 - keep_prob`.\n",
            "WARNING:tensorflow:Large dropout rate: 0.6 (>0.5). In TensorFlow 2.x, dropout() uses dropout rate instead of keep_prob. Please ensure that this is intended.\n",
            "WARNING:tensorflow:Large dropout rate: 0.6 (>0.5). In TensorFlow 2.x, dropout() uses dropout rate instead of keep_prob. Please ensure that this is intended.\n"
          ],
          "name": "stdout"
        }
      ]
    },
    {
      "cell_type": "code",
      "metadata": {
        "id": "9udgb841KSvm",
        "colab_type": "code",
        "colab": {}
      },
      "source": [
        "#precision\n",
        "def precision(y_true, y_pred):\n",
        "    true_positives = K.sum(K.cast(K.greater(K.clip(y_true * y_pred, 0, 1), 0.20), 'float32'))\n",
        "    pred_positives = K.sum(K.cast(K.greater(K.clip(y_pred, 0, 1), 0.20), 'float32'))\n",
        "\n",
        "    precision_v = true_positives / (pred_positives + K.epsilon())\n",
        "    return precision_v\n",
        "\n",
        "#recall\n",
        "def recall(y_true, y_pred):\n",
        "    true_positives = K.sum(K.cast(K.greater(K.clip(y_true * y_pred, 0, 1), 0.20), 'float32'))\n",
        "    poss_positives = K.sum(K.cast(K.greater(K.clip(y_true, 0, 1), 0.20), 'float32'))\n",
        "\n",
        "    recall_v = true_positives / (poss_positives + K.epsilon())\n",
        "    return recall_v\n",
        "\n",
        "#f1 score\n",
        "def f1_score(y_true, y_pred):\n",
        "    precision_v = precision(y_true, y_pred)\n",
        "    recall_v = recall(y_true, y_pred)\n",
        "    f1_score_v = 2 * precision_v * recall_v / (precision_v + recall_v)\n",
        "\n",
        "    return f1_score_v\n"
      ],
      "execution_count": 0,
      "outputs": []
    },
    {
      "cell_type": "code",
      "metadata": {
        "colab_type": "code",
        "id": "aYQVg6NRWsuN",
        "colab": {
          "base_uri": "https://localhost:8080/",
          "height": 105
        },
        "outputId": "c08eaf41-29db-4d08-a876-953da5e7be65"
      },
      "source": [
        "# optimize loss function\n",
        "SGD = optimizers.SGD(lr=1e-2, decay=1e-2/10)\n",
        "\n",
        "model.compile(optimizer=SGD, loss='sparse_categorical_crossentropy', metrics=['accuracy', precision, recall, f1_score])"
      ],
      "execution_count": 41,
      "outputs": [
        {
          "output_type": "stream",
          "text": [
            "WARNING:tensorflow:From /usr/local/lib/python3.6/dist-packages/keras/optimizers.py:793: The name tf.train.Optimizer is deprecated. Please use tf.compat.v1.train.Optimizer instead.\n",
            "\n",
            "WARNING:tensorflow:From /usr/local/lib/python3.6/dist-packages/keras/backend/tensorflow_backend.py:3622: The name tf.log is deprecated. Please use tf.math.log instead.\n",
            "\n"
          ],
          "name": "stdout"
        }
      ]
    },
    {
      "cell_type": "code",
      "metadata": {
        "colab_type": "code",
        "id": "dhAUdzArWvju",
        "outputId": "f67b3da1-29b3-47f3-dbe3-47779e0170f3",
        "colab": {
          "base_uri": "https://localhost:8080/",
          "height": 547
        }
      },
      "source": [
        "# checkpoint\n",
        "filename = 'model.h1.22_Nov_19'\n",
        "checkpoint = ModelCheckpoint(filename, monitor='val_loss', save_best_only=True, mode='min')\n",
        "\n",
        "# train model\n",
        "history = model.fit([X_train, Y_train], Y_train.reshape(Y_train.shape[0], Y_train.shape[1], 1),\n",
        "                    epochs=10, batch_size=256, validation_split = 0.33, callbacks=[checkpoint],                    \n",
        "                    verbose=1)"
      ],
      "execution_count": 42,
      "outputs": [
        {
          "output_type": "stream",
          "text": [
            "WARNING:tensorflow:From /usr/local/lib/python3.6/dist-packages/tensorflow_core/python/ops/math_grad.py:1424: where (from tensorflow.python.ops.array_ops) is deprecated and will be removed in a future version.\n",
            "Instructions for updating:\n",
            "Use tf.where in 2.0, which has the same broadcast rule as np.where\n",
            "WARNING:tensorflow:From /usr/local/lib/python3.6/dist-packages/keras/backend/tensorflow_backend.py:1033: The name tf.assign_add is deprecated. Please use tf.compat.v1.assign_add instead.\n",
            "\n",
            "WARNING:tensorflow:From /usr/local/lib/python3.6/dist-packages/keras/backend/tensorflow_backend.py:1020: The name tf.assign is deprecated. Please use tf.compat.v1.assign instead.\n",
            "\n",
            "Train on 23449 samples, validate on 11551 samples\n",
            "Epoch 1/10\n",
            "23449/23449 [==============================] - 124s 5ms/step - loss: 10.8256 - acc: 0.7842 - precision: 194579114882554.3438 - recall: 20582.2177 - f1_score: 41164.4353 - val_loss: 10.4877 - val_acc: 0.7931 - val_precision: 195796007207894.9688 - val_recall: 20576.0528 - val_f1_score: 41152.1057\n"
          ],
          "name": "stdout"
        },
        {
          "output_type": "stream",
          "text": [
            "/usr/local/lib/python3.6/dist-packages/keras/engine/network.py:883: UserWarning: Layer lstm_2 was passed non-serializable keyword arguments: {'initial_state': [<tf.Tensor 'strided_slice:0' shape=(?, 512) dtype=float32>, <tf.Tensor 'strided_slice:0' shape=(?, 512) dtype=float32>]}. They will not be included in the serialized model (and thus will be missing at deserialization time).\n",
            "  '. They will not be included '\n"
          ],
          "name": "stderr"
        },
        {
          "output_type": "stream",
          "text": [
            "Epoch 2/10\n",
            "23449/23449 [==============================] - 108s 5ms/step - loss: 9.9643 - acc: 0.7943 - precision: 194625908983835.8438 - recall: 20585.3957 - f1_score: 41170.7914 - val_loss: 9.0213 - val_acc: 0.7931 - val_precision: 195805687737235.7500 - val_recall: 20577.1081 - val_f1_score: 41154.2162\n",
            "Epoch 3/10\n",
            "23449/23449 [==============================] - 108s 5ms/step - loss: 4.2541 - acc: 0.7943 - precision: 70637873546486.6406 - recall: 20385.6198 - f1_score: 20119.9456 - val_loss: 2.2413 - val_acc: 0.7931 - val_precision: 4852.8225 - val_recall: 20060.7775 - val_f1_score: 7814.6612\n",
            "Epoch 4/10\n",
            "23449/23449 [==============================] - 108s 5ms/step - loss: 2.1687 - acc: 0.7943 - precision: 4795.7289 - recall: 19983.0873 - f1_score: 7734.6626 - val_loss: 2.1137 - val_acc: 0.7931 - val_precision: 4784.5953 - val_recall: 19903.4153 - val_f1_score: 7714.2545\n",
            "Epoch 5/10\n",
            "23449/23449 [==============================] - 108s 5ms/step - loss: 2.0352 - acc: 0.7943 - precision: 4757.5004 - recall: 19874.7517 - f1_score: 7676.9002 - val_loss: 1.9692 - val_acc: 0.7931 - val_precision: 4740.5168 - val_recall: 19724.5622 - val_f1_score: 7643.5276\n",
            "Epoch 6/10\n",
            "23449/23449 [==============================] - 108s 5ms/step - loss: 1.8793 - acc: 0.7943 - precision: 4696.3868 - recall: 19679.5117 - f1_score: 7582.7678 - val_loss: 1.7970 - val_acc: 0.7931 - val_precision: 4663.2385 - val_recall: 19427.2354 - val_f1_score: 7520.7475\n",
            "Epoch 7/10\n",
            "23449/23449 [==============================] - 108s 5ms/step - loss: 1.7221 - acc: 0.7943 - precision: 4514.7179 - recall: 19119.5570 - f1_score: 7304.2313 - val_loss: 1.6776 - val_acc: 0.7931 - val_precision: 4273.9099 - val_recall: 18363.6938 - val_f1_score: 6933.7255\n",
            "Epoch 8/10\n",
            "23449/23449 [==============================] - 108s 5ms/step - loss: 1.6344 - acc: 0.7943 - precision: 4146.2507 - recall: 17928.7612 - f1_score: 6734.6808 - val_loss: 1.6093 - val_acc: 0.7931 - val_precision: 3936.8210 - val_recall: 16977.2657 - val_f1_score: 6391.2552\n",
            "Epoch 9/10\n",
            "23449/23449 [==============================] - 108s 5ms/step - loss: 1.5676 - acc: 0.7943 - precision: 3798.7847 - recall: 16755.2546 - f1_score: 6193.2033 - val_loss: 1.5520 - val_acc: 0.7931 - val_precision: 3425.8513 - val_recall: 15640.1970 - val_f1_score: 5620.3406\n",
            "Epoch 10/10\n",
            "23449/23449 [==============================] - 108s 5ms/step - loss: 1.5255 - acc: 0.7943 - precision: 3437.6303 - recall: 15485.4532 - f1_score: 5626.1187 - val_loss: 1.5260 - val_acc: 0.7931 - val_precision: 3120.1601 - val_recall: 14246.1967 - val_f1_score: 5118.9374\n"
          ],
          "name": "stdout"
        }
      ]
    },
    {
      "cell_type": "code",
      "metadata": {
        "id": "Pce1wkdUHm7N",
        "colab_type": "code",
        "outputId": "4de6a809-8bc6-4314-97f0-ff299d10ebde",
        "colab": {
          "base_uri": "https://localhost:8080/",
          "height": 1000
        }
      },
      "source": [
        "from keras.utils import plot_model\n",
        "\n",
        "# model plot\n",
        "plot_model(model, to_file='train-bert.png', show_shapes=True)"
      ],
      "execution_count": 43,
      "outputs": [
        {
          "output_type": "execute_result",
          "data": {
            "image/png": "[encoded data removed]",
            "text/plain": [
              "<IPython.core.display.Image object>"
            ]
          },
          "metadata": {
            "tags": []
          },
          "execution_count": 43
        }
      ]
    },
    {
      "cell_type": "code",
      "metadata": {
        "colab_type": "code",
        "id": "3Vm5oB5JW2NA",
        "outputId": "40417f1c-22c5-4207-f1d9-425ac35d250b",
        "colab": {
          "base_uri": "https://localhost:8080/",
          "height": 309
        }
      },
      "source": [
        "fig, (ax1, ax2) = plt.subplots(ncols=2, figsize=(10,4))\n",
        "print(history.history.keys())\n",
        "def plot_history_acc(history):\n",
        "    # plot the accuracy\n",
        "    ax1.plot(history.history['acc'],label=\"accuracy for training\")\n",
        "    ax1.plot(history.history['val_acc'],label=\"accuracy for validation\")\n",
        "    ax1.set_title('model accuracy')\n",
        "    ax1.set_xlabel('epoch')\n",
        "    ax1.set_ylabel('accuracy')\n",
        "    ax1.legend(loc='upper right')\n",
        "\n",
        "def plot_history_loss(history):\n",
        "    # Plot the loss\n",
        "    ax2.plot(history.history['loss'],label=\"loss for training\")\n",
        "    ax2.plot(history.history['val_loss'],label=\"loss for validation\")\n",
        "    ax2.set_title('model loss')\n",
        "    ax2.set_xlabel('epoch')\n",
        "    ax2.set_ylabel('loss')\n",
        "    ax2.legend(loc='upper right')\n",
        "\n",
        "\n",
        "\n",
        "plot_history_loss(history)\n",
        "plot_history_acc(history)\n",
        "plt.show()"
      ],
      "execution_count": 44,
      "outputs": [
        {
          "output_type": "stream",
          "text": [
            "dict_keys(['val_loss', 'val_acc', 'val_precision', 'val_recall', 'val_f1_score', 'loss', 'acc', 'precision', 'recall', 'f1_score'])\n"
          ],
          "name": "stdout"
        },
        {
          "output_type": "display_data",
          "data": {
            "image/png": "[encoded data removed]",
            "text/plain": [
              "<Figure size 720x288 with 2 Axes>"
            ]
          },
          "metadata": {
            "tags": []
          }
        }
      ]
    },
    {
      "cell_type": "code",
      "metadata": {
        "id": "VfJ9Ay8n4fch",
        "colab_type": "code",
        "colab": {
          "base_uri": "https://localhost:8080/",
          "height": 618
        },
        "outputId": "1f536e87-22d0-4b1e-b67e-b039d0dbf67a"
      },
      "source": [
        "fig, ax = plt.subplots(nrows=2,ncols=2,figsize=(10,10))\n",
        "\n",
        "\n",
        "def plot_history_precision(history):\n",
        "    # Plot the loss\n",
        "    ax[0, 0].plot(history.history['precision'],label=\"precision for training\")\n",
        "    ax[0, 0].plot(history.history['val_precision'],label=\"precision for validation\")\n",
        "    ax[0, 0].set_title('model precision')\n",
        "    ax[0, 0].set_xlabel('epoch')\n",
        "    ax[0, 0].set_ylabel('precision')\n",
        "    ax[0, 0].legend(loc='upper right')\n",
        "\n",
        "\n",
        "def plot_history_recall(history):\n",
        "    # Plot the loss\n",
        "    ax[0, 1].plot(history.history['recall'],label=\"recall for training\")\n",
        "    ax[0, 1].plot(history.history['val_recall'],label=\"recall for validation\")\n",
        "    ax[0, 1].set_title('model recall')\n",
        "    ax[0, 1].set_xlabel('epoch')\n",
        "    ax[0, 1].set_ylabel('recall')\n",
        "    ax[0, 1].legend(loc='upper right')\n",
        "\n",
        "\n",
        "def plot_history_f1_score(history):\n",
        "    # Plot the loss\n",
        "    ax[1, 0].plot(history.history['f1_score'],label=\"f1_score for training\")\n",
        "    ax[1, 0].plot(history.history['val_f1_score'],label=\"f1_score for validation\")\n",
        "    ax[1, 0].set_title('model f1_score')\n",
        "    ax[1, 0].set_xlabel('epoch')\n",
        "    ax[1, 0].set_ylabel('f1_score')\n",
        "    ax[1, 0].legend(loc='upper right')\n",
        "\n",
        "ax[1,1].axis('off')\n",
        "\n",
        "plot_history_precision(history)\n",
        "plot_history_recall(history)\n",
        "plot_history_f1_score(history)\n",
        "\n",
        "plt.show()"
      ],
      "execution_count": 45,
      "outputs": [
        {
          "output_type": "display_data",
          "data": {
            "image/png": "[encoded data removed]",
            "text/plain": [
              "<Figure size 720x720 with 4 Axes>"
            ]
          },
          "metadata": {
            "tags": []
          }
        }
      ]
    },
    {
      "cell_type": "code",
      "metadata": {
        "colab_type": "code",
        "id": "x3S1NMKGY5Tm",
        "colab": {}
      },
      "source": [
        "# load model data \n",
        "# model = load_model('model.h1.22_Nov_19')\n",
        "\n",
        "# predict\n",
        "preds = model.predict_classes(X_test)"
      ],
      "execution_count": 0,
      "outputs": []
    },
    {
      "cell_type": "code",
      "metadata": {
        "id": "WfidRuLJ0trr",
        "colab_type": "code",
        "colab": {}
      },
      "source": [
        "X_test.reshape((X_test.shape[0],X_test.shape[1]))"
      ],
      "execution_count": 0,
      "outputs": []
    },
    {
      "cell_type": "code",
      "metadata": {
        "id": "ZsP9ZAY0HITa",
        "colab_type": "code",
        "outputId": "eb92caf8-5190-4480-a9f7-9eaabde56f66",
        "colab": {
          "base_uri": "https://localhost:8080/",
          "height": 34
        }
      },
      "source": [
        "Y_test.shape"
      ],
      "execution_count": 0,
      "outputs": [
        {
          "output_type": "execute_result",
          "data": {
            "text/plain": [
              "(3000, 12)"
            ]
          },
          "metadata": {
            "tags": []
          },
          "execution_count": 182
        }
      ]
    },
    {
      "cell_type": "code",
      "metadata": {
        "id": "eM9TKTYB01PY",
        "colab_type": "code",
        "outputId": "6ed7549f-01f4-4944-dfc8-5f58534a087d",
        "colab": {
          "base_uri": "https://localhost:8080/",
          "height": 34
        }
      },
      "source": [
        "preds.shape"
      ],
      "execution_count": 0,
      "outputs": [
        {
          "output_type": "execute_result",
          "data": {
            "text/plain": [
              "(4500, 18)"
            ]
          },
          "metadata": {
            "tags": []
          },
          "execution_count": 43
        }
      ]
    },
    {
      "cell_type": "code",
      "metadata": {
        "colab_type": "code",
        "id": "fSnPPvraY_uW",
        "colab": {}
      },
      "source": [
        "def get_word(n, tokenizer):\n",
        "    for word, index in tokenizer.word_index.items():\n",
        "        if index == n:\n",
        "            return word\n",
        "    return None"
      ],
      "execution_count": 0,
      "outputs": []
    },
    {
      "cell_type": "code",
      "metadata": {
        "colab_type": "code",
        "id": "OchHfcobZKbY",
        "colab": {}
      },
      "source": [
        "preds_text = []\n",
        "for i in preds:\n",
        "    temp = []\n",
        "    for j in range(len(i)):\n",
        "        t = get_word(i[j], ja_tokenizer)\n",
        "\n",
        "        if j > 0:\n",
        "            if (t == get_word(i[j-1], ja_tokenizer)) or (t == None):\n",
        "                temp.append('')\n",
        "            else:\n",
        "                temp.append(t)\n",
        "        else:\n",
        "            if(t == None):\n",
        "                temp.append('')\n",
        "            else:\n",
        "                temp.append(t) \n",
        "\n",
        "    preds_text.append(' '.join(temp))"
      ],
      "execution_count": 0,
      "outputs": []
    },
    {
      "cell_type": "code",
      "metadata": {
        "colab_type": "code",
        "id": "Q01F6aF4ZMB_",
        "colab": {}
      },
      "source": [
        "# view actual sentence anf predict result\n",
        "pred_df = pd.DataFrame({'actual' : y_test, 'predicted' : preds_text})"
      ],
      "execution_count": 0,
      "outputs": []
    },
    {
      "cell_type": "code",
      "metadata": {
        "colab_type": "code",
        "id": "tyF2rYenhsDJ",
        "outputId": "e785f7d0-762c-48c2-cb79-9d2f70981acf",
        "colab": {
          "base_uri": "https://localhost:8080/",
          "height": 1000
        }
      },
      "source": [
        "pred_df.sample(50)"
      ],
      "execution_count": 0,
      "outputs": [
        {
          "output_type": "execute_result",
          "data": {
            "text/html": [
              "<div>\n",
              "<style scoped>\n",
              "    .dataframe tbody tr th:only-of-type {\n",
              "        vertical-align: middle;\n",
              "    }\n",
              "\n",
              "    .dataframe tbody tr th {\n",
              "        vertical-align: top;\n",
              "    }\n",
              "\n",
              "    .dataframe thead th {\n",
              "        text-align: right;\n",
              "    }\n",
              "</style>\n",
              "<table border=\"1\" class=\"dataframe\">\n",
              "  <thead>\n",
              "    <tr style=\"text-align: right;\">\n",
              "      <th></th>\n",
              "      <th>actual</th>\n",
              "      <th>predicted</th>\n",
              "    </tr>\n",
              "  </thead>\n",
              "  <tbody>\n",
              "    <tr>\n",
              "      <th>1568</th>\n",
              "      <td>&lt;sos&gt; さあ さあ &lt;eos&gt;</td>\n",
              "      <td>sos 覚えてない eos</td>\n",
              "    </tr>\n",
              "    <tr>\n",
              "      <th>2385</th>\n",
              "      <td>&lt;sos&gt; パラセーリングの時の 事故でした &lt;eos&gt;</td>\n",
              "      <td>sos 憎しみはガンを生むだけ eos</td>\n",
              "    </tr>\n",
              "    <tr>\n",
              "      <th>3990</th>\n",
              "      <td>&lt;sos&gt; そんな事はない &lt;eos&gt;</td>\n",
              "      <td>sos フリーランサーさ eos</td>\n",
              "    </tr>\n",
              "    <tr>\n",
              "      <th>485</th>\n",
              "      <td>&lt;sos&gt; 親離れしようと ずっと もがいてたからな &lt;eos&gt;</td>\n",
              "      <td>sos トメンとミセラは二人ともいい子だ eos</td>\n",
              "    </tr>\n",
              "    <tr>\n",
              "      <th>1796</th>\n",
              "      <td>&lt;sos&gt; お姉ちゃん 大丈夫 ?  ありがとう 優 &lt;eos&gt;</td>\n",
              "      <td>sos あっ eos</td>\n",
              "    </tr>\n",
              "    <tr>\n",
              "      <th>2669</th>\n",
              "      <td>&lt;sos&gt; 学校にも 知れ渡ってる感じ ?  &lt;eos&gt;</td>\n",
              "      <td>sos 他は着き次第捨てたわ eos</td>\n",
              "    </tr>\n",
              "    <tr>\n",
              "      <th>2889</th>\n",
              "      <td>&lt;sos&gt; 絶滅する事は無いので大丈夫です &lt;eos&gt;</td>\n",
              "      <td>sos 背の高い奴は 気味が悪い eos</td>\n",
              "    </tr>\n",
              "    <tr>\n",
              "      <th>1378</th>\n",
              "      <td>&lt;sos&gt; 別にお前らを疑ってるわけじゃないじゃん &lt;eos&gt;</td>\n",
              "      <td>sos いいえ eos</td>\n",
              "    </tr>\n",
              "    <tr>\n",
              "      <th>3792</th>\n",
              "      <td>&lt;sos&gt; 友達から &lt;eos&gt;</td>\n",
              "      <td>sos eos</td>\n",
              "    </tr>\n",
              "    <tr>\n",
              "      <th>308</th>\n",
              "      <td>&lt;sos&gt; カウントはツースリー &lt;eos&gt;</td>\n",
              "      <td>sos  eos</td>\n",
              "    </tr>\n",
              "    <tr>\n",
              "      <th>2849</th>\n",
              "      <td>&lt;sos&gt; 良くやったと言ってくれる 誰かを待ってるの &lt;eos&gt;</td>\n",
              "      <td>sos あれは動物だ eos</td>\n",
              "    </tr>\n",
              "    <tr>\n",
              "      <th>1432</th>\n",
              "      <td>&lt;sos&gt; ネット経由で 犯人に たどり着くことは 不可能です &lt;eos&gt;</td>\n",
              "      <td>sos そこで今日は 信じるということをお話しします eos</td>\n",
              "    </tr>\n",
              "    <tr>\n",
              "      <th>1450</th>\n",
              "      <td>&lt;sos&gt; 君の名は ジェームズブキャナンバーンズ &lt;eos&gt;</td>\n",
              "      <td>sos 何か思い出したこと eos</td>\n",
              "    </tr>\n",
              "    <tr>\n",
              "      <th>963</th>\n",
              "      <td>&lt;sos&gt; ほら起き上がって !  &lt;eos&gt;</td>\n",
              "      <td>sos まだそんなに私のことを恨んでるんですか eos</td>\n",
              "    </tr>\n",
              "    <tr>\n",
              "      <th>1706</th>\n",
              "      <td>&lt;sos&gt; ご飯まだかしら ?  えっ もうですの ?  &lt;eos&gt;</td>\n",
              "      <td>sos 土にヒビがあるから eos</td>\n",
              "    </tr>\n",
              "    <tr>\n",
              "      <th>1357</th>\n",
              "      <td>&lt;sos&gt; 冷静に聞いてくれよ !  &lt;eos&gt;</td>\n",
              "      <td>sos オリンピアに戻ることになるんだオリンピア eos</td>\n",
              "    </tr>\n",
              "    <tr>\n",
              "      <th>3885</th>\n",
              "      <td>&lt;sos&gt; 寄せろ !  &lt;eos&gt;</td>\n",
              "      <td>sos  eos</td>\n",
              "    </tr>\n",
              "    <tr>\n",
              "      <th>352</th>\n",
              "      <td>&lt;sos&gt; ロシアのakg手榴弾だ 子供に渡してる &lt;eos&gt;</td>\n",
              "      <td>sos  携帯に押し付けると eos</td>\n",
              "    </tr>\n",
              "    <tr>\n",
              "      <th>1177</th>\n",
              "      <td>&lt;sos&gt; 考え直すようになりました &lt;eos&gt;</td>\n",
              "      <td>sos 探索や交流の原動力となります eos</td>\n",
              "    </tr>\n",
              "    <tr>\n",
              "      <th>480</th>\n",
              "      <td>&lt;sos&gt; thx ナイブス &lt;eos&gt;</td>\n",
              "      <td>sos 何だ eos</td>\n",
              "    </tr>\n",
              "    <tr>\n",
              "      <th>1493</th>\n",
              "      <td>&lt;sos&gt; 気をつけてね &lt;eos&gt;</td>\n",
              "      <td>sos うう こうだ eos</td>\n",
              "    </tr>\n",
              "    <tr>\n",
              "      <th>3910</th>\n",
              "      <td>&lt;sos&gt; クリスティンを 自然史博物館に 連れて行きたい 日曜の教会の後に &lt;eos&gt;</td>\n",
              "      <td>sos  eos</td>\n",
              "    </tr>\n",
              "    <tr>\n",
              "      <th>2355</th>\n",
              "      <td>&lt;sos&gt; で ?  どうすんだ ?  &lt;eos&gt;</td>\n",
              "      <td>sos eos</td>\n",
              "    </tr>\n",
              "    <tr>\n",
              "      <th>2006</th>\n",
              "      <td>&lt;sos&gt; 何か おっしゃりたいことが あるんじゃないんですか ?  &lt;eos&gt;</td>\n",
              "      <td>sos これは eos</td>\n",
              "    </tr>\n",
              "    <tr>\n",
              "      <th>638</th>\n",
              "      <td>&lt;sos&gt; この変な田舎道のよう &lt;eos&gt;</td>\n",
              "      <td>sos eos</td>\n",
              "    </tr>\n",
              "    <tr>\n",
              "      <th>3346</th>\n",
              "      <td>&lt;sos&gt; クリス 助けて &lt;eos&gt;</td>\n",
              "      <td>sos あっ eos</td>\n",
              "    </tr>\n",
              "    <tr>\n",
              "      <th>35</th>\n",
              "      <td>&lt;sos&gt; 持ち分多いから 勉強しなくても食べていけるって &lt;eos&gt;</td>\n",
              "      <td>sos それとも ディフェンス eos</td>\n",
              "    </tr>\n",
              "    <tr>\n",
              "      <th>2983</th>\n",
              "      <td>&lt;sos&gt; 特定のフライトや座席にリンクするということです &lt;eos&gt;</td>\n",
              "      <td>sos 魔法のマント取ってくれる eos</td>\n",
              "    </tr>\n",
              "    <tr>\n",
              "      <th>4135</th>\n",
              "      <td>&lt;sos&gt; これは集団的目的という 概念を破壊しました &lt;eos&gt;</td>\n",
              "      <td>sos その人を見つけ  eos</td>\n",
              "    </tr>\n",
              "    <tr>\n",
              "      <th>1703</th>\n",
              "      <td>&lt;sos&gt; 心が震えました 今もです &lt;eos&gt;</td>\n",
              "      <td>sos 一回に何か月も滞在し 何でも通ると思ってるのが丸見えだ eos        ...</td>\n",
              "    </tr>\n",
              "    <tr>\n",
              "      <th>665</th>\n",
              "      <td>&lt;sos&gt; ジャジャーンは いい物のときにいうのよ &lt;eos&gt;</td>\n",
              "      <td>sos あの左腕はドラゴンそのもの eos</td>\n",
              "    </tr>\n",
              "    <tr>\n",
              "      <th>57</th>\n",
              "      <td>&lt;sos&gt; そんなお坊ちゃまの キャリアが急に退官って &lt;eos&gt;</td>\n",
              "      <td>sos fake eos</td>\n",
              "    </tr>\n",
              "    <tr>\n",
              "      <th>65</th>\n",
              "      <td>&lt;sos&gt; 医療を改善することにより &lt;eos&gt;</td>\n",
              "      <td>sos やってやれ eos</td>\n",
              "    </tr>\n",
              "    <tr>\n",
              "      <th>2756</th>\n",
              "      <td>&lt;sos&gt; まッ まあ &lt;eos&gt;</td>\n",
              "      <td>sos なるほど eos</td>\n",
              "    </tr>\n",
              "    <tr>\n",
              "      <th>700</th>\n",
              "      <td>&lt;sos&gt; 待てよ !  &lt;eos&gt;</td>\n",
              "      <td>sos ヘッヘーッ eos</td>\n",
              "    </tr>\n",
              "    <tr>\n",
              "      <th>849</th>\n",
              "      <td>&lt;sos&gt; 坂本先輩や部長にも 勝ってほしいけど &lt;eos&gt;</td>\n",
              "      <td>sos でも 死ぬ際にあたって みたいですけど eos</td>\n",
              "    </tr>\n",
              "    <tr>\n",
              "      <th>2780</th>\n",
              "      <td>&lt;sos&gt; その中間の 本来は音が良く聞こえる周波数域が &lt;eos&gt;</td>\n",
              "      <td>sos うんとサイバトロンはここにあるとき eos</td>\n",
              "    </tr>\n",
              "    <tr>\n",
              "      <th>3034</th>\n",
              "      <td>&lt;sos&gt; マディソン &lt;eos&gt;</td>\n",
              "      <td>sos えっ eos</td>\n",
              "    </tr>\n",
              "    <tr>\n",
              "      <th>2120</th>\n",
              "      <td>&lt;sos&gt; 人生は自分の物ではない ゆりかごから墓場まで 我は他人と &lt;eos&gt;</td>\n",
              "      <td>sos 戦闘中の兵士にとっては 成功と失敗の分かれ目は eos</td>\n",
              "    </tr>\n",
              "    <tr>\n",
              "      <th>1987</th>\n",
              "      <td>&lt;sos&gt; 牛乳を克服したこの凸守 来年の今頃はお前を上から見下ろしているですよ &lt;eos&gt;</td>\n",
              "      <td>sos もし eos</td>\n",
              "    </tr>\n",
              "    <tr>\n",
              "      <th>4251</th>\n",
              "      <td>&lt;sos&gt; 中州から来ました 朱里です &lt;eos&gt;</td>\n",
              "      <td>sos そこで eos</td>\n",
              "    </tr>\n",
              "    <tr>\n",
              "      <th>2574</th>\n",
              "      <td>&lt;sos&gt; どういうことだ &lt;eos&gt;</td>\n",
              "      <td>sos 驚愕の作り話 eos</td>\n",
              "    </tr>\n",
              "    <tr>\n",
              "      <th>3907</th>\n",
              "      <td>&lt;sos&gt; オズ やめて &lt;eos&gt;</td>\n",
              "      <td>sos 利己的な駄駄っ子って eos</td>\n",
              "    </tr>\n",
              "    <tr>\n",
              "      <th>2300</th>\n",
              "      <td>&lt;sos&gt; それらは私の人生に &lt;eos&gt;</td>\n",
              "      <td>sos 分のに下がりました eos</td>\n",
              "    </tr>\n",
              "    <tr>\n",
              "      <th>2498</th>\n",
              "      <td>&lt;sos&gt; キスをしたという 結果があればいい &lt;eos&gt;</td>\n",
              "      <td>sos  そしてアザーズは僕らを狙った eos</td>\n",
              "    </tr>\n",
              "    <tr>\n",
              "      <th>4215</th>\n",
              "      <td>&lt;sos&gt; フィンケ部長 &lt;eos&gt;</td>\n",
              "      <td>sos クリスピーナ eos</td>\n",
              "    </tr>\n",
              "    <tr>\n",
              "      <th>3359</th>\n",
              "      <td>&lt;sos&gt; 俺を放してくれないか ?  &lt;eos&gt;</td>\n",
              "      <td>sos eos</td>\n",
              "    </tr>\n",
              "    <tr>\n",
              "      <th>1053</th>\n",
              "      <td>&lt;sos&gt; 時間も報告なしで 姿を消してたから &lt;eos&gt;</td>\n",
              "      <td>sos アマンダの企みは eos</td>\n",
              "    </tr>\n",
              "    <tr>\n",
              "      <th>4247</th>\n",
              "      <td>&lt;sos&gt; えっ 彼氏ぐらい つくんなよ &lt;eos&gt;</td>\n",
              "      <td>sos でも ええ eos</td>\n",
              "    </tr>\n",
              "    <tr>\n",
              "      <th>2586</th>\n",
              "      <td>&lt;sos&gt; そのメロディーは 何処に居る ?  &lt;eos&gt;</td>\n",
              "      <td>sos どこにいる eos</td>\n",
              "    </tr>\n",
              "  </tbody>\n",
              "</table>\n",
              "</div>"
            ],
            "text/plain": [
              "                                               actual                                          predicted\n",
              "1568                                <sos> さあ さあ <eos>                       sos 覚えてない eos               \n",
              "2385                  <sos> パラセーリングの時の 事故でした <eos>               sos 憎しみはガンを生むだけ eos               \n",
              "3990                              <sos> そんな事はない <eos>                    sos フリーランサーさ eos               \n",
              "485                <sos> 親離れしようと ずっと もがいてたからな <eos>           sos トメンとミセラは二人ともいい子だ eos               \n",
              "1796                <sos> お姉ちゃん 大丈夫 ?  ありがとう 優 <eos>                          sos あっ eos               \n",
              "2669                    <sos> 学校にも 知れ渡ってる感じ ?  <eos>                  sos 他は着き次第捨てたわ eos               \n",
              "2889                    <sos> 絶滅する事は無いので大丈夫です <eos>                sos 背の高い奴は 気味が悪い eos              \n",
              "1378                <sos> 別にお前らを疑ってるわけじゃないじゃん <eos>                         sos いいえ eos               \n",
              "3792                                 <sos> 友達から <eos>                            sos eos                \n",
              "308                            <sos> カウントはツースリー <eos>                            sos  eos               \n",
              "2849                <sos> 良くやったと言ってくれる 誰かを待ってるの <eos>                     sos あれは動物だ eos               \n",
              "1432         <sos> ネット経由で 犯人に たどり着くことは 不可能です <eos>     sos そこで今日は 信じるということをお話しします eos              \n",
              "1450             <sos> 君の名は ジェームズブキャナンバーンズ <eos>                   sos 何か思い出したこと eos               \n",
              "963                          <sos> ほら起き上がって !  <eos>      sos まだそんなに私のことを恨んでるんですか eos               \n",
              "1706            <sos> ご飯まだかしら ?  えっ もうですの ?  <eos>                 sos 土にヒビがあるから eos               \n",
              "1357                         <sos> 冷静に聞いてくれよ !  <eos>     sos オリンピアに戻ることになるんだオリンピア eos               \n",
              "3885                               <sos> 寄せろ !  <eos>                            sos  eos               \n",
              "352                  <sos> ロシアのakg手榴弾だ 子供に渡してる <eos>                   sos  携帯に押し付けると eos              \n",
              "1177                         <sos> 考え直すようになりました <eos>              sos 探索や交流の原動力となります eos               \n",
              "480                             <sos> thx ナイブス <eos>                         sos 何だ eos               \n",
              "1493                               <sos> 気をつけてね <eos>                      sos うう こうだ eos              \n",
              "3910     <sos> クリスティンを 自然史博物館に 連れて行きたい 日曜の教会の後に <eos>                            sos  eos               \n",
              "2355                     <sos> で ?  どうすんだ ?  <eos>                            sos eos                \n",
              "2006      <sos> 何か おっしゃりたいことが あるんじゃないんですか ?  <eos>                         sos これは eos               \n",
              "638                            <sos> この変な田舎道のよう <eos>                            sos eos                \n",
              "3346                              <sos> クリス 助けて <eos>                          sos あっ eos               \n",
              "35               <sos> 持ち分多いから 勉強しなくても食べていけるって <eos>                 sos それとも ディフェンス eos              \n",
              "2983             <sos> 特定のフライトや座席にリンクするということです <eos>                sos 魔法のマント取ってくれる eos               \n",
              "4135                <sos> これは集団的目的という 概念を破壊しました <eos>                     sos その人を見つけ  eos              \n",
              "1703                       <sos> 心が震えました 今もです <eos>  sos 一回に何か月も滞在し 何でも通ると思ってるのが丸見えだ eos        ...\n",
              "665                 <sos> ジャジャーンは いい物のときにいうのよ <eos>             sos あの左腕はドラゴンそのもの eos               \n",
              "57                 <sos> そんなお坊ちゃまの キャリアが急に退官って <eos>                        sos fake eos               \n",
              "65                           <sos> 医療を改善することにより <eos>                       sos やってやれ eos               \n",
              "2756                                <sos> まッ まあ <eos>                       sos なるほど eos               \n",
              "700                                <sos> 待てよ !  <eos>                       sos ヘッヘーッ eos               \n",
              "849                   <sos> 坂本先輩や部長にも 勝ってほしいけど <eos>        sos でも 死ぬ際にあたって みたいですけど eos             \n",
              "2780             <sos> その中間の 本来は音が良く聞こえる周波数域が <eos>          sos うんとサイバトロンはここにあるとき eos               \n",
              "3034                               <sos> マディソン <eos>                          sos えっ eos               \n",
              "2120      <sos> 人生は自分の物ではない ゆりかごから墓場まで 我は他人と <eos>      sos 戦闘中の兵士にとっては 成功と失敗の分かれ目は eos              \n",
              "1987  <sos> 牛乳を克服したこの凸守 来年の今頃はお前を上から見下ろしているですよ <eos>                          sos もし eos               \n",
              "4251                       <sos> 中州から来ました 朱里です <eos>                        sos そこで eos               \n",
              "2574                            <sos> どういうことだ <eos>                      sos 驚愕の作り話 eos               \n",
              "3907                              <sos> オズ やめて <eos>                  sos 利己的な駄駄っ子って eos               \n",
              "2300                            <sos> それらは私の人生に <eos>                  sos 分のに下がりました eos               \n",
              "2498                  <sos> キスをしたという 結果があればいい <eos>            sos  そしてアザーズは僕らを狙った eos              \n",
              "4215                               <sos> フィンケ部長 <eos>                     sos クリスピーナ eos               \n",
              "3359                        <sos> 俺を放してくれないか ?  <eos>                            sos eos                \n",
              "1053                   <sos> 時間も報告なしで 姿を消してたから <eos>                   sos アマンダの企みは eos               \n",
              "4247                      <sos> えっ 彼氏ぐらい つくんなよ <eos>                       sos でも ええ eos              \n",
              "2586                   <sos> そのメロディーは 何処に居る ?  <eos>                      sos どこにいる eos               "
            ]
          },
          "metadata": {
            "tags": []
          },
          "execution_count": 48
        }
      ]
    },
    {
      "cell_type": "code",
      "metadata": {
        "id": "42aD6GUb8c4u",
        "colab_type": "code",
        "colab": {}
      },
      "source": [
        ""
      ],
      "execution_count": 0,
      "outputs": []
    }
  ]
}