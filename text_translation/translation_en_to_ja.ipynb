{
  "nbformat": 4,
  "nbformat_minor": 0,
  "metadata": {
    "colab": {
      "name": "translation_en_to_ja.ipynb",
      "provenance": [],
      "collapsed_sections": [],
      "toc_visible": true,
      "machine_shape": "hm"
    },
    "kernelspec": {
      "name": "python3",
      "display_name": "Python 3"
    },
    "language_info": {
      "codemirror_mode": {
        "name": "ipython",
        "version": 3
      },
      "file_extension": ".py",
      "mimetype": "text/x-python",
      "name": "python",
      "nbconvert_exporter": "python",
      "pygments_lexer": "ipython3",
      "version": "3.7.5"
    },
    "accelerator": "GPU"
  },
  "cells": [
    {
      "cell_type": "code",
      "metadata": {
        "colab_type": "code",
        "id": "RmjVpP_kv4yc",
        "outputId": "04815011-fff0-496c-8c57-f13fa726e48d",
        "colab": {
          "base_uri": "https://localhost:8080/",
          "height": 34
        }
      },
      "source": [
        "# mount google drive \n",
        "from google.colab import drive\n",
        "drive.mount('/content/drive')"
      ],
      "execution_count": 2,
      "outputs": [
        {
          "output_type": "stream",
          "text": [
            "Drive already mounted at /content/drive; to attempt to forcibly remount, call drive.mount(\"/content/drive\", force_remount=True).\n"
          ],
          "name": "stdout"
        }
      ]
    },
    {
      "cell_type": "code",
      "metadata": {
        "colab_type": "code",
        "id": "Zb93R3DCCXK0",
        "outputId": "555e8418-469d-404f-df48-7c100605e043",
        "colab": {
          "base_uri": "https://localhost:8080/",
          "height": 80
        }
      },
      "source": [
        "import tensorflow as tf\n",
        "import numpy as np\n",
        "import re\n",
        "import pandas as pd\n",
        "from tensorflow.keras.models import Sequential\n",
        "from tensorflow.keras.models import Model, load_model\n",
        "from tensorflow.keras.layers import Dense, LSTM, Embedding, Dropout, Input, dot, Activation, TimeDistributed\n",
        "from tensorflow.keras.preprocessing.text import Tokenizer\n",
        "from tensorflow.keras.callbacks import ModelCheckpoint, EarlyStopping, LearningRateScheduler\n",
        "from tensorflow.keras.preprocessing.sequence import pad_sequences\n",
        "from tensorflow.keras import optimizers\n",
        "from tensorflow.keras import initializers, regularizers, constraints\n",
        "from tensorflow.keras import backend as K\n",
        "import tensorflow.keras\n",
        "import matplotlib.pyplot as plt\n",
        "import nltk\n",
        "import io\n",
        "from nltk.tokenize.toktok import ToktokTokenizer\n",
        "import unicodedata\n",
        "from sklearn.model_selection import train_test_split\n",
        "\n",
        "# # plot japanese lang\n",
        "# !pip install japanize_matplotlib\n",
        "# import japanize_matplotlib\n",
        "# ignore warning\n",
        "import os\n",
        "os.environ['TF_CPP_MIN_LOG_LEVEL'] = '3'"
      ],
      "execution_count": 3,
      "outputs": [
        {
          "output_type": "display_data",
          "data": {
            "text/html": [
              "<p style=\"color: red;\">\n",
              "The default version of TensorFlow in Colab will soon switch to TensorFlow 2.x.<br>\n",
              "We recommend you <a href=\"https://www.tensorflow.org/guide/migrate\" target=\"_blank\">upgrade</a> now \n",
              "or ensure your notebook will continue to use TensorFlow 1.x via the <code>%tensorflow_version 1.x</code> magic:\n",
              "<a href=\"https://colab.research.google.com/notebooks/tensorflow_version.ipynb\" target=\"_blank\">more info</a>.</p>\n"
            ],
            "text/plain": [
              "<IPython.core.display.HTML object>"
            ]
          },
          "metadata": {
            "tags": []
          }
        }
      ]
    },
    {
      "cell_type": "markdown",
      "metadata": {
        "colab_type": "text",
        "id": "xm1CEgijFK_B"
      },
      "source": [
        "# load text file\n",
        "\n",
        "**this dataset is aleady implemented a SentenceSpace**"
      ]
    },
    {
      "cell_type": "code",
      "metadata": {
        "colab_type": "code",
        "id": "bmv0RqrACbd-",
        "colab": {}
      },
      "source": [
        "num_example = 200000\n",
        "\n",
        "# create each languages list\n",
        "def create_lang_list(num_example):\n",
        "    # load txt file\n",
        "    lines =  io.open(\"/content/drive/My Drive/Colab Notebooks/raw.txt\", encoding='UTF-8').read().strip().split('\\n')\n",
        "\n",
        "    word_pairs = [[w for w in l.split('\\t')]  for l in lines[:num_example]]\n",
        "\n",
        "    return zip(*word_pairs)"
      ],
      "execution_count": 0,
      "outputs": []
    },
    {
      "cell_type": "code",
      "metadata": {
        "colab_type": "code",
        "id": "aLGytFt5qxDo",
        "colab": {}
      },
      "source": [
        "en, ja = create_lang_list(num_example)"
      ],
      "execution_count": 0,
      "outputs": []
    },
    {
      "cell_type": "markdown",
      "metadata": {
        "colab_type": "text",
        "id": "QAhEAtSYFSys"
      },
      "source": [
        "# Text Pre-processing\n",
        "\n",
        "**Removing accented characters** \n",
        "\n",
        "e.g. é → e.\n",
        "\n",
        "**Expanding Contractions** \n",
        "\n",
        "e.g. don't → do not, I'd → I would\n",
        "\n",
        "**remove special word** \n",
        "\n",
        "e.g. remove \"123#@\"\n",
        "\n",
        "**Stemming**\n",
        "\n",
        " e.g. corder, codes → code\n",
        "\n",
        "**Lemmatization**\n",
        "\n",
        " e.g. better → good\n",
        "\n",
        "**Tokenize**\n",
        "\n",
        " e.g. I am going to restaurant → [[I], [am], [going], [to], [restaurant]]"
      ]
    },
    {
      "cell_type": "markdown",
      "metadata": {
        "colab_type": "text",
        "id": "iS0AX_jOFk_l"
      },
      "source": [
        "# Removing accented characters\n",
        "\n",
        "English might have accent like é but Japanese doesn't have any accent I just create different function to ascii for Japanese and English"
      ]
    },
    {
      "cell_type": "code",
      "metadata": {
        "colab_type": "code",
        "id": "Ttcy6dKhDrmB",
        "colab": {}
      },
      "source": [
        "# Removing accented characters\n",
        "def english_unicode_to_ascii(text):\n",
        "     return ''.join(ascii_text for ascii_text in unicodedata.normalize('NFKD', text).encode('ascii', 'ignore').decode('utf-8', 'ignore'))\n",
        "\n",
        "def japanese_unicode_to_ascii(text):\n",
        "    return ''.join(ascii_text for ascii_text in unicodedata.normalize('NFKD', text))"
      ],
      "execution_count": 0,
      "outputs": []
    },
    {
      "cell_type": "code",
      "metadata": {
        "colab_type": "code",
        "id": "OMHI0M1qPWqa",
        "outputId": "9d7ed7b2-9e3e-493a-a2c5-302430c0af20",
        "colab": {
          "base_uri": "https://localhost:8080/",
          "height": 34
        }
      },
      "source": [
        "# e.g.\n",
        "japanese_unicode_to_ascii(\"こんにちは。今日は\"), english_unicode_to_ascii(\"Hello world é \")"
      ],
      "execution_count": 8,
      "outputs": [
        {
          "output_type": "execute_result",
          "data": {
            "text/plain": [
              "('こんにちは。今日は', 'Hello world e ')"
            ]
          },
          "metadata": {
            "tags": []
          },
          "execution_count": 8
        }
      ]
    },
    {
      "cell_type": "markdown",
      "metadata": {
        "colab_type": "text",
        "id": "wO9i_n__FrHg"
      },
      "source": [
        "# Expanding Contractions\n",
        "Japanese doesn't have a Contraction words so I just create a one function to expand Contractions for Engish"
      ]
    },
    {
      "cell_type": "code",
      "metadata": {
        "colab_type": "code",
        "id": "cUEU_GU1PYNq",
        "colab": {}
      },
      "source": [
        "def expand_constraction(text):\n",
        "\n",
        "    #  dic for expand constraction words\n",
        "    constraction_dict= {\n",
        "        \"ain't\": \"is not\",\n",
        "        \"aren't\": \"are not\",\n",
        "        \"can't\": \"cannot\",\n",
        "        \"can't've\": \"cannot have\",\n",
        "        \"'cause\": \"because\",\n",
        "        \"could've\": \"could have\",\n",
        "        \"couldn't\": \"could not\",\n",
        "        \"couldn't've\": \"could not have\",\n",
        "        \"didn't\": \"did not\",\n",
        "        \"doesn't\": \"does not\",\n",
        "        \"don't\": \"do not\",\n",
        "        \"hadn't\": \"had not\",\n",
        "        \"hadn't've\": \"had not have\",\n",
        "        \"hasn't\": \"has not\",\n",
        "        \"haven't\": \"have not\",\n",
        "        \"he'd\": \"he would\",\n",
        "        \"he'd've\": \"he would have\",\n",
        "        \"he'll\": \"he will\",\n",
        "        \"he'll've\": \"he he will have\",\n",
        "        \"he's\": \"he is\",\n",
        "        \"how'd\": \"how did\",\n",
        "        \"how'd'y\": \"how do you\",\n",
        "        \"how'll\": \"how will\",\n",
        "        \"how's\": \"how is\",\n",
        "        \"I'd\": \"I would\",\n",
        "        \"I'd've\": \"I would have\",\n",
        "        \"I'll\": \"I will\",\n",
        "        \"I'll've\": \"I will have\",\n",
        "        \"I'm\": \"I am\",\n",
        "        \"I've\": \"I have\",\n",
        "        \"i'd\": \"i would\",\n",
        "        \"i'd've\": \"i would have\",\n",
        "        \"i'll\": \"i will\",\n",
        "        \"i'll've\": \"i will have\",\n",
        "        \"i'm\": \"i am\",\n",
        "        \"i've\": \"i have\",\n",
        "        \"isn't\": \"is not\",\n",
        "        \"it'd\": \"it would\",\n",
        "        \"it'd've\": \"it would have\",\n",
        "        \"it'll\": \"it will\",\n",
        "        \"it'll've\": \"it will have\",\n",
        "        \"it's\": \"it is\",\n",
        "        \"let's\": \"let us\",\n",
        "        \"ma'am\": \"madam\",\n",
        "        \"mayn't\": \"may not\",\n",
        "        \"might've\": \"might have\",\n",
        "        \"mightn't\": \"might not\",\n",
        "        \"mightn't've\": \"might not have\",\n",
        "        \"must've\": \"must have\",\n",
        "        \"mustn't\": \"must not\",\n",
        "        \"mustn't've\": \"must not have\",\n",
        "        \"needn't\": \"need not\",\n",
        "        \"needn't've\": \"need not have\",\n",
        "        \"o'clock\": \"of the clock\",\n",
        "        \"oughtn't\": \"ought not\",\n",
        "        \"oughtn't've\": \"ought not have\",\n",
        "        \"shan't\": \"shall not\",\n",
        "        \"sha'n't\": \"shall not\",\n",
        "        \"shan't've\": \"shall not have\",\n",
        "        \"she'd\": \"she would\",\n",
        "        \"she'd've\": \"she would have\",\n",
        "        \"she'll\": \"she will\",\n",
        "        \"she'll've\": \"she will have\",\n",
        "        \"she's\": \"she is\",\n",
        "        \"should've\": \"should have\",\n",
        "        \"shouldn't\": \"should not\",\n",
        "        \"shouldn't've\": \"should not have\",\n",
        "        \"so've\": \"so have\",\n",
        "        \"so's\": \"so as\",\n",
        "        \"that'd\": \"that would\",\n",
        "        \"that'd've\": \"that would have\",\n",
        "        \"that's\": \"that is\",\n",
        "        \"there'd\": \"there would\",\n",
        "        \"there'd've\": \"there would have\",\n",
        "        \"there's\": \"there is\",\n",
        "        \"they'd\": \"they would\",\n",
        "        \"they'd've\": \"they would have\",\n",
        "        \"they'll\": \"they will\",\n",
        "        \"they'll've\": \"they will have\",\n",
        "        \"they're\": \"they are\",\n",
        "        \"they've\": \"they have\",\n",
        "        \"to've\": \"to have\",\n",
        "        \"wasn't\": \"was not\",\n",
        "        \"we'd\": \"we would\",\n",
        "        \"we'd've\": \"we would have\",\n",
        "        \"we'll\": \"we will\",\n",
        "        \"we'll've\": \"we will have\",\n",
        "        \"we're\": \"we are\",\n",
        "        \"we've\": \"we have\",\n",
        "        \"weren't\": \"were not\",\n",
        "        \"what'll\": \"what will\",\n",
        "        \"what'll've\": \"what will have\",\n",
        "        \"what're\": \"what are\",\n",
        "        \"what's\": \"what is\",\n",
        "        \"what've\": \"what have\",\n",
        "        \"when's\": \"when is\",\n",
        "        \"when've\": \"when have\",\n",
        "        \"where'd\": \"where did\",\n",
        "        \"where's\": \"where is\",\n",
        "        \"where've\": \"where have\",\n",
        "        \"who'll\": \"who will\",\n",
        "        \"who'll've\": \"who will have\",\n",
        "        \"who's\": \"who is\",\n",
        "        \"who've\": \"who have\",\n",
        "        \"why's\": \"why is\",\n",
        "        \"why've\": \"why have\",\n",
        "        \"will've\": \"will have\",\n",
        "        \"won't\": \"will not\",\n",
        "        \"won't've\": \"will not have\",\n",
        "        \"would've\": \"would have\",\n",
        "        \"wouldn't\": \"would not\",\n",
        "        \"wouldn't've\": \"would not have\",\n",
        "        \"y'all\": \"you all\",\n",
        "        \"y'all'd\": \"you all would\",\n",
        "        \"y'all'd've\": \"you all would have\",\n",
        "        \"y'all're\": \"you all are\",\n",
        "        \"y'all've\": \"you all have\",\n",
        "        \"you'd\": \"you would\",\n",
        "        \"you'd've\": \"you would have\",\n",
        "        \"you'll\": \"you will\",\n",
        "        \"you'll've\": \"you will have\",\n",
        "        \"you're\": \"you are\",\n",
        "        \"you've\": \"you have\"\n",
        "    }\n",
        "\n",
        "    #  define match pattern\n",
        "    #  IGNORECASE → no matter if word is lowercase or uppercase\n",
        "    #  DOTAIL → . is going to match \\n\n",
        "    contraction_pattern = re.compile('({})'.format('|'.join(constraction_dict.keys())),\n",
        "                                                  flags=re.IGNORECASE | re.DOTALL)\n",
        "    #  expand words\n",
        "    def expand_match(constraction):\n",
        "        # get constraction word\n",
        "        match = constraction.group(0)\n",
        "        first_char = match[0]\n",
        "        #  get expand word from constraction dict\n",
        "        expand_constraction = constraction_dict.get(match)\\\n",
        "                                                    if constraction_dict.get(match) \\\n",
        "                                                    else constraction_dict.get(match.lower())\n",
        "        \n",
        "        # create expand constraction\n",
        "        expand_constraction = first_char + expand_constraction[1:]\n",
        "        return expand_constraction\n",
        "    \n",
        "    expanded_text = contraction_pattern.sub(expand_match, text)\n",
        "    expanded_text = re.sub(\"'\", \"\", expanded_text)\n",
        "    return expanded_text"
      ],
      "execution_count": 0,
      "outputs": []
    },
    {
      "cell_type": "code",
      "metadata": {
        "colab_type": "code",
        "id": "3ikqxXGePadk",
        "outputId": "3d4aae88-e2f8-44b9-dc97-caa7afbd09ac",
        "colab": {
          "base_uri": "https://localhost:8080/",
          "height": 34
        }
      },
      "source": [
        "# e.g.\n",
        "expand_constraction(\"you're good I'd like to go he's she's\")"
      ],
      "execution_count": 10,
      "outputs": [
        {
          "output_type": "execute_result",
          "data": {
            "text/plain": [
              "'you are good I would like to go he is she is'"
            ]
          },
          "metadata": {
            "tags": []
          },
          "execution_count": 10
        }
      ]
    },
    {
      "cell_type": "markdown",
      "metadata": {
        "colab_type": "text",
        "id": "zGZrYrRxFwc8"
      },
      "source": [
        "# remove special characters and create space between word and punctuation\n",
        "\n",
        "replacing everything with space except(a-z, A-Z, \"?\", \"!\", \"-\", \"ー\", \"Kanji\", \"Katakana\", \"Hiragana\") \n",
        "create space between word and punctuation (? ! )"
      ]
    },
    {
      "cell_type": "code",
      "metadata": {
        "colab_type": "code",
        "id": "RBMqrm3o-sJt",
        "colab": {}
      },
      "source": [
        "def replace_special_character_to_space(text):\n",
        "    pattern = r\"[^a-zA-Z\\u3041-\\u309F\\u30A1-\\u30FF\\uFF66-\\uFF9F\\u4E00-\\u9FD0\\u309B\\u3099\\uFF9E\\u309C\\u309A\\uFF9F?!\\s]+\"\n",
        "    text = re.sub(pattern, '', text).rstrip().strip()\n",
        "    text = text.replace(\"・\" , \"\")\n",
        "\n",
        "    text = re.sub(r\"([?!.,。、])\", r\" \\1 \", text)\n",
        "    text = text.lower()\n",
        "\n",
        "    return text"
      ],
      "execution_count": 0,
      "outputs": []
    },
    {
      "cell_type": "code",
      "metadata": {
        "colab_type": "code",
        "id": "oeOvXEYFQq_-",
        "outputId": "1afe1fa6-daf5-4042-b783-f222b7237954",
        "colab": {
          "base_uri": "https://localhost:8080/",
          "height": 34
        }
      },
      "source": [
        "# e.g.\n",
        "replace_special_character_to_space(\"hello, . #@…123world. I've-------/\"), replace_special_character_to_space(\"こん・にちは。・ いい天気。\")"
      ],
      "execution_count": 12,
      "outputs": [
        {
          "output_type": "execute_result",
          "data": {
            "text/plain": [
              "('hello  world ive', 'こんにちは いい天気')"
            ]
          },
          "metadata": {
            "tags": []
          },
          "execution_count": 12
        }
      ]
    },
    {
      "cell_type": "markdown",
      "metadata": {
        "colab_type": "text",
        "id": "r0-z-PhGGQqL"
      },
      "source": [
        "# Stemming and Lemmatization\n",
        "I will do stemming only english which can create a base form of a word from a given word. Japanese language doesn't need a stemming"
      ]
    },
    {
      "cell_type": "code",
      "metadata": {
        "colab_type": "code",
        "id": "QrYiW2_Pl1lf",
        "colab": {}
      },
      "source": [
        "def stemmer_word(text):\n",
        "    ps = nltk.stem.PorterStemmer()\n",
        "    text = ' '.join([ps.stem(word) for word in text.split()])\n",
        "    return text"
      ],
      "execution_count": 0,
      "outputs": []
    },
    {
      "cell_type": "code",
      "metadata": {
        "colab_type": "code",
        "id": "n-iz13U2awVV",
        "outputId": "3ccfef82-fb76-420d-c081-46eec6baadb0",
        "colab": {
          "base_uri": "https://localhost:8080/",
          "height": 34
        }
      },
      "source": [
        "# e.g.\n",
        "stemmer_word(\"hello world she has cat but he had dogs he is went to traveling\")"
      ],
      "execution_count": 14,
      "outputs": [
        {
          "output_type": "execute_result",
          "data": {
            "text/plain": [
              "'hello world she ha cat but he had dog he is went to travel'"
            ]
          },
          "metadata": {
            "tags": []
          },
          "execution_count": 14
        }
      ]
    },
    {
      "cell_type": "markdown",
      "metadata": {
        "colab_type": "text",
        "id": "xsqW5RHMGifD"
      },
      "source": [
        "# Normalize each word"
      ]
    },
    {
      "cell_type": "code",
      "metadata": {
        "colab_type": "code",
        "id": "sizAmLv2Pj-j",
        "colab": {}
      },
      "source": [
        "def normalize_english(english_text, japanese_text):\n",
        "    \n",
        "    input_value = ()\n",
        "    target_value = ()\n",
        "    \n",
        "    for en_text, ja_text in zip(english_text, japanese_text):\n",
        "        \n",
        "        # normalize English\n",
        "        en_text = english_unicode_to_ascii(en_text)\n",
        "        en_text = expand_constraction(en_text)\n",
        "        en_text = replace_special_character_to_space(en_text)\n",
        "        en_text = stemmer_word(en_text)\n",
        "\n",
        "\n",
        "        # input value doesn't need  a START and END sentence  \n",
        "        input_value += (en_text, )\n",
        "\n",
        "        # normalize Japanese\n",
        "        ja_text = japanese_unicode_to_ascii(ja_text)\n",
        "        ja_text = replace_special_character_to_space(ja_text)\n",
        "\n",
        "        # add StTART and END sentence\n",
        "        ja_text = \"START_ \" + ja_text + \" _END\"\n",
        "        \n",
        "        target_value += (ja_text, )\n",
        "\n",
        "    return input_value, target_value"
      ],
      "execution_count": 0,
      "outputs": []
    },
    {
      "cell_type": "markdown",
      "metadata": {
        "colab_type": "text",
        "id": "eMa52HiWGtQ-"
      },
      "source": [
        "# get clean text data"
      ]
    },
    {
      "cell_type": "code",
      "metadata": {
        "colab_type": "code",
        "id": "1WLwCK4xVynu",
        "colab": {}
      },
      "source": [
        "# get normalize text data\n",
        "input_value, target_value = normalize_english(en, ja)\n",
        "\n",
        "# convert to Series\n",
        "x = pd.Series(input_value) \n",
        "y = pd.Series(target_value)"
      ],
      "execution_count": 0,
      "outputs": []
    },
    {
      "cell_type": "code",
      "metadata": {
        "colab_type": "code",
        "id": "8xAuLWUomimI",
        "outputId": "94e3b76b-4529-4fe3-d098-891ecf1f12a9",
        "colab": {
          "base_uri": "https://localhost:8080/",
          "height": 669
        }
      },
      "source": [
        "pd.DataFrame({\"input\": x, \"target\": y}).head(20)"
      ],
      "execution_count": 17,
      "outputs": [
        {
          "output_type": "execute_result",
          "data": {
            "text/html": [
              "<div>\n",
              "<style scoped>\n",
              "    .dataframe tbody tr th:only-of-type {\n",
              "        vertical-align: middle;\n",
              "    }\n",
              "\n",
              "    .dataframe tbody tr th {\n",
              "        vertical-align: top;\n",
              "    }\n",
              "\n",
              "    .dataframe thead th {\n",
              "        text-align: right;\n",
              "    }\n",
              "</style>\n",
              "<table border=\"1\" class=\"dataframe\">\n",
              "  <thead>\n",
              "    <tr style=\"text-align: right;\">\n",
              "      <th></th>\n",
              "      <th>input</th>\n",
              "      <th>target</th>\n",
              "    </tr>\n",
              "  </thead>\n",
              "  <tbody>\n",
              "    <tr>\n",
              "      <th>0</th>\n",
              "      <td>you are back are not you harold ?</td>\n",
              "      <td>START_ あなたは戻ったのね ハロルド ?  _END</td>\n",
              "    </tr>\n",
              "    <tr>\n",
              "      <th>1</th>\n",
              "      <td>my oppon is shark</td>\n",
              "      <td>START_ 俺の相手は シャークだ _END</td>\n",
              "    </tr>\n",
              "    <tr>\n",
              "      <th>2</th>\n",
              "      <td>thi is one thing in exchang for anoth</td>\n",
              "      <td>START_ 引き換えだ ある事とある物の _END</td>\n",
              "    </tr>\n",
              "    <tr>\n",
              "      <th>3</th>\n",
              "      <td>yeah i am fine</td>\n",
              "      <td>START_ もういいよ ごちそうさま ううん _END</td>\n",
              "    </tr>\n",
              "    <tr>\n",
              "      <th>4</th>\n",
              "      <td>do not come to the offic anymor do not call me...</td>\n",
              "      <td>START_ もう会社には来ないでくれ 電話もするな _END</td>\n",
              "    </tr>\n",
              "    <tr>\n",
              "      <th>5</th>\n",
              "      <td>look beauti</td>\n",
              "      <td>START_ きれいだ _END</td>\n",
              "    </tr>\n",
              "    <tr>\n",
              "      <th>6</th>\n",
              "      <td>get him out of here becaus i will fuck kill him</td>\n",
              "      <td>START_ 連れて行け 殺しそうだ わかったか ?  _END</td>\n",
              "    </tr>\n",
              "    <tr>\n",
              "      <th>7</th>\n",
              "      <td>you kill him !</td>\n",
              "      <td>START_ 殺したのか !  _END</td>\n",
              "    </tr>\n",
              "    <tr>\n",
              "      <th>8</th>\n",
              "      <td>okay then who ?</td>\n",
              "      <td>START_ わぁ !  いつも すみません いいのよ _END</td>\n",
              "    </tr>\n",
              "    <tr>\n",
              "      <th>9</th>\n",
              "      <td>it seem a former employe</td>\n",
              "      <td>START_ カンパニーの元社員が _END</td>\n",
              "    </tr>\n",
              "    <tr>\n",
              "      <th>10</th>\n",
              "      <td>so where are they ?</td>\n",
              "      <td>START_ じゃアイツラはどこ ?  _END</td>\n",
              "    </tr>\n",
              "    <tr>\n",
              "      <th>11</th>\n",
              "      <td>or i do not know just</td>\n",
              "      <td>START_ 相手を陥れるとか _END</td>\n",
              "    </tr>\n",
              "    <tr>\n",
              "      <th>12</th>\n",
              "      <td>no child should ever have to endur that</td>\n",
              "      <td>START_ 必要のない子 耐えるにしている _END</td>\n",
              "    </tr>\n",
              "    <tr>\n",
              "      <th>13</th>\n",
              "      <td>i know the visual incongru but</td>\n",
              "      <td>START_ 犯人像とは 違和感のある見た目だが _END</td>\n",
              "    </tr>\n",
              "    <tr>\n",
              "      <th>14</th>\n",
              "      <td>aw !</td>\n",
              "      <td>START_ あ !  _END</td>\n",
              "    </tr>\n",
              "    <tr>\n",
              "      <th>15</th>\n",
              "      <td>let me show you more detail one</td>\n",
              "      <td>START_ もっと詳しいの 見せますから _END</td>\n",
              "    </tr>\n",
              "    <tr>\n",
              "      <th>16</th>\n",
              "      <td>you are gonna bring that up right now ?</td>\n",
              "      <td>START_ それ今持ち出すか ?  _END</td>\n",
              "    </tr>\n",
              "    <tr>\n",
              "      <th>17</th>\n",
              "      <td>well then when you are done work come to the m...</td>\n",
              "      <td>START_ じゃあ 仕事終わったら 医局に来てよ _END</td>\n",
              "    </tr>\n",
              "    <tr>\n",
              "      <th>18</th>\n",
              "      <td>umpleas go ahead and eat without me</td>\n",
              "      <td>START_ あの 皆さんで 先 済ませてください _END</td>\n",
              "    </tr>\n",
              "    <tr>\n",
              "      <th>19</th>\n",
              "      <td>rokka is alway forev</td>\n",
              "      <td>START_ 六花ちゃんは ずっと ずっとずっと _END</td>\n",
              "    </tr>\n",
              "  </tbody>\n",
              "</table>\n",
              "</div>"
            ],
            "text/plain": [
              "                                                input                             target\n",
              "0                   you are back are not you harold ?     START_ あなたは戻ったのね ハロルド ?  _END\n",
              "1                                   my oppon is shark           START_ 俺の相手は シャークだ _END\n",
              "2               thi is one thing in exchang for anoth        START_ 引き換えだ ある事とある物の _END\n",
              "3                                      yeah i am fine      START_ もういいよ ごちそうさま ううん _END\n",
              "4   do not come to the offic anymor do not call me...   START_ もう会社には来ないでくれ 電話もするな _END\n",
              "5                                         look beauti                  START_ きれいだ _END\n",
              "6     get him out of here becaus i will fuck kill him  START_ 連れて行け 殺しそうだ わかったか ?  _END\n",
              "7                                      you kill him !               START_ 殺したのか !  _END\n",
              "8                                     okay then who ?   START_ わぁ !  いつも すみません いいのよ _END\n",
              "9                            it seem a former employe           START_ カンパニーの元社員が _END\n",
              "10                                so where are they ?         START_ じゃアイツラはどこ ?  _END\n",
              "11                              or i do not know just               START_ 相手を陥れるとか _END\n",
              "12            no child should ever have to endur that        START_ 必要のない子 耐えるにしている _END\n",
              "13                     i know the visual incongru but    START_ 犯人像とは 違和感のある見た目だが _END\n",
              "14                                               aw !                   START_ あ !  _END\n",
              "15                    let me show you more detail one         START_ もっと詳しいの 見せますから _END\n",
              "16            you are gonna bring that up right now ?            START_ それ今持ち出すか ?  _END\n",
              "17  well then when you are done work come to the m...    START_ じゃあ 仕事終わったら 医局に来てよ _END\n",
              "18                umpleas go ahead and eat without me   START_ あの 皆さんで 先 済ませてください _END\n",
              "19                               rokka is alway forev   START_ 六花ちゃんは ずっと ずっとずっと _END"
            ]
          },
          "metadata": {
            "tags": []
          },
          "execution_count": 17
        }
      ]
    },
    {
      "cell_type": "code",
      "metadata": {
        "colab_type": "code",
        "id": "YLVeltmkUN1B",
        "outputId": "372ce55d-b0aa-4b12-960f-a4a52830f441",
        "colab": {
          "base_uri": "https://localhost:8080/",
          "height": 51
        }
      },
      "source": [
        "# get unique vocab\n",
        "\n",
        "# input value \n",
        "all_eng = set()\n",
        "for input_lang in x:\n",
        "    for word in input_lang.split():\n",
        "        if word not in all_eng:\n",
        "            all_eng.add(word)\n",
        "\n",
        "# target value\n",
        "all_ja = set()\n",
        "for target_lang in y:\n",
        "    for word in target_lang.split():\n",
        "        if word not in all_ja:\n",
        "            all_ja.add(word)\n",
        "\n",
        "print(\"unique vocab %d\" % len(all_eng))\n",
        "print(\"unique vocab %d\" %len(all_ja))"
      ],
      "execution_count": 18,
      "outputs": [
        {
          "output_type": "stream",
          "text": [
            "unique vocab 32288\n",
            "unique vocab 256729\n"
          ],
          "name": "stdout"
        }
      ]
    },
    {
      "cell_type": "code",
      "metadata": {
        "colab_type": "code",
        "id": "_D5xXXCao7sm",
        "outputId": "4515ddb9-311a-48b0-d7a2-0b39dda63e8a",
        "colab": {
          "base_uri": "https://localhost:8080/",
          "height": 547
        }
      },
      "source": [
        "# max length of input sentense and target sentense\n",
        "english_len = [len(i.split()) for i in x]\n",
        "\n",
        "japanese_len = [len(i.split()) for i in y]\n",
        "\n",
        "plt.figure()\n",
        "plt.hist(english_len)\n",
        "\n",
        "plt.figure()\n",
        "plt.hist(japanese_len)\n",
        "\n",
        "# print max length\n",
        "print(\"english length:\", max(english_len))\n",
        "print(\"japanese length:\", max(japanese_len))\n",
        "max_len_input =  max(english_len)\n",
        "max_len_target =  max(japanese_len)"
      ],
      "execution_count": 19,
      "outputs": [
        {
          "output_type": "stream",
          "text": [
            "english length: 56\n",
            "japanese length: 21\n"
          ],
          "name": "stdout"
        },
        {
          "output_type": "display_data",
          "data": {
            "image/png": "[encoded data removed]",
            "text/plain": [
              "<Figure size 432x288 with 1 Axes>"
            ]
          },
          "metadata": {
            "tags": []
          }
        },
        {
          "output_type": "display_data",
          "data": {
            "image/png": "[encoded data removed]",
            "text/plain": [
              "<Figure size 432x288 with 1 Axes>"
            ]
          },
          "metadata": {
            "tags": []
          }
        }
      ]
    },
    {
      "cell_type": "code",
      "metadata": {
        "colab_type": "code",
        "id": "BuFPoVYpV8dP",
        "outputId": "4b99ac1b-a2bc-4a1f-8899-699297434af8",
        "colab": {
          "base_uri": "https://localhost:8080/",
          "height": 34
        }
      },
      "source": [
        "input_word = list(all_eng)\n",
        "target_word = list(all_ja)\n",
        "\n",
        "num_encoder_tokens = len(all_eng)\n",
        "num_decoder_tokens = len(all_ja)\n",
        "num_encoder_tokens, num_decoder_tokens"
      ],
      "execution_count": 20,
      "outputs": [
        {
          "output_type": "execute_result",
          "data": {
            "text/plain": [
              "(32288, 256729)"
            ]
          },
          "metadata": {
            "tags": []
          },
          "execution_count": 20
        }
      ]
    },
    {
      "cell_type": "code",
      "metadata": {
        "id": "i9I3G02kjJDC",
        "colab_type": "code",
        "colab": {}
      },
      "source": [
        "num_encoder_tokens += 1\n",
        "num_decoder_tokens += 1"
      ],
      "execution_count": 0,
      "outputs": []
    },
    {
      "cell_type": "code",
      "metadata": {
        "colab_type": "code",
        "id": "kFCjZpvyWnpr",
        "colab": {}
      },
      "source": [
        "def create_token(token_index_dic, words):\n",
        "  count = 2\n",
        "  for word in words:\n",
        "    if word == \"START_\":\n",
        "      continue\n",
        "    token_index_dic[word] = count\n",
        "    count += 1\n",
        "\n",
        "  return token_index_dic\n",
        "\n",
        "input_token_index = {}\n",
        "target_token_index = {\"START_\": 1}\n",
        "\n",
        "input_token_index = create_token(input_token_index, input_word)\n",
        "target_token_index = create_token(target_token_index, target_word)"
      ],
      "execution_count": 0,
      "outputs": []
    },
    {
      "cell_type": "code",
      "metadata": {
        "colab_type": "code",
        "id": "AFiVPd5RXHHx",
        "colab": {}
      },
      "source": [
        "reverse_input_char = dict((i, word) for word, i in input_token_index.items())\n",
        "reverse_target_char = dict((i, word) for word, i in target_token_index.items())"
      ],
      "execution_count": 0,
      "outputs": []
    },
    {
      "cell_type": "markdown",
      "metadata": {
        "colab_type": "text",
        "id": "fDgINbe-vEQQ"
      },
      "source": [
        "# Create train dataset"
      ]
    },
    {
      "cell_type": "code",
      "metadata": {
        "colab_type": "code",
        "id": "j1pcafzrvIQN",
        "colab": {}
      },
      "source": [
        "from sklearn.model_selection import train_test_split\n",
        "\n",
        "X_train, X_test, Y_train, Y_test = train_test_split(x, y, test_size=0.3, random_state=1)\n",
        "X_test, X_val, Y_test, Y_val = train_test_split(X_test, Y_test , test_size=0.5, random_state=1)"
      ],
      "execution_count": 0,
      "outputs": []
    },
    {
      "cell_type": "code",
      "metadata": {
        "colab_type": "code",
        "id": "7Gn9IRdAviqS",
        "outputId": "c3a5c4b7-a1e1-4af3-ad64-950d2e543076",
        "colab": {
          "base_uri": "https://localhost:8080/",
          "height": 34
        }
      },
      "source": [
        "X_train.shape, X_test.shape, X_val.shape, Y_train.shape, Y_test.shape, Y_val.shape"
      ],
      "execution_count": 25,
      "outputs": [
        {
          "output_type": "execute_result",
          "data": {
            "text/plain": [
              "((140000,), (30000,), (30000,), (140000,), (30000,), (30000,))"
            ]
          },
          "metadata": {
            "tags": []
          },
          "execution_count": 25
        }
      ]
    },
    {
      "cell_type": "markdown",
      "metadata": {
        "colab_type": "text",
        "id": "opWZ855psnQB"
      },
      "source": [
        "# Create generater¶"
      ]
    },
    {
      "cell_type": "code",
      "metadata": {
        "colab_type": "code",
        "id": "U9WGqlfrsolt",
        "colab": {}
      },
      "source": [
        "# create a batch of data\n",
        "def generate_batch(X, Y, batch_size):\n",
        "    while True:\n",
        "        assert len(X) == len(Y)\n",
        "        for i in range(0, len(X), batch_size):\n",
        "            # initialize input and target data\n",
        "            encoder_input_data = np.zeros((batch_size, max_len_input), dtype=\"float32\")\n",
        "            decoder_input_data = np.zeros((batch_size, max_len_target), dtype=\"float32\")\n",
        "            decoder_target_data = np.zeros((batch_size, max_len_target, num_decoder_tokens), dtype=\"float32\")\n",
        "            for j, (input_text, target_text) in enumerate(zip(X[i: i+batch_size], Y[i: i+batch_size])):\n",
        "                    # create enocder input dataset\n",
        "                    for t, word in enumerate(input_text.split()):\n",
        "                        encoder_input_data[j, t] = input_token_index[word]\n",
        "                    # create decoder input dataset\n",
        "                    for t, word in enumerate(target_text.split()):\n",
        "                        if t < len(target_text.split())-1:\n",
        "                            decoder_input_data[j, t] = target_token_index[word]\n",
        "                        # decoder  output is one-hot encoding\n",
        "                        # doesn't include START sentense\n",
        "                        # one timestep ahead of input \n",
        "                        if t > 0:\n",
        "                            decoder_target_data[j, t-1, target_token_index[word]] = 1.\n",
        "                    yield([encoder_input_data, decoder_input_data], decoder_target_data)"
      ],
      "execution_count": 0,
      "outputs": []
    },
    {
      "cell_type": "markdown",
      "metadata": {
        "colab_type": "text",
        "id": "SOzbWmLnZ66-"
      },
      "source": [
        "# Define for params"
      ]
    },
    {
      "cell_type": "code",
      "metadata": {
        "colab_type": "code",
        "id": "wKYUC0fMZ6fV",
        "colab": {}
      },
      "source": [
        "# initial hyper parameter\n",
        "BATCH_SIZE = 16\n",
        "dropout_rate = 0.3\n",
        "units = 512\n",
        "lr = 0.0\n",
        "l2 = 0.01"
      ],
      "execution_count": 0,
      "outputs": []
    },
    {
      "cell_type": "code",
      "metadata": {
        "id": "EsFb8IMK_uvt",
        "colab_type": "code",
        "colab": {}
      },
      "source": [
        "import math\n",
        "\n",
        "# rate scheduler\n",
        "def  step_decay(epoch):\n",
        "  initial_rate = 0.1\n",
        "  drop = 0.5\n",
        "  epochs_drop = 5\n",
        "\n",
        "  lrate = initial_rate * math.pow(drop, math.floor((1+epoch) / epochs_drop))\n",
        "\n",
        "  return lrate"
      ],
      "execution_count": 0,
      "outputs": []
    },
    {
      "cell_type": "markdown",
      "metadata": {
        "colab_type": "text",
        "id": "P8Vtvs3hvt2Z"
      },
      "source": [
        "# Build a model"
      ]
    },
    {
      "cell_type": "code",
      "metadata": {
        "colab_type": "code",
        "id": "opmqFdDziBng",
        "colab": {}
      },
      "source": [
        "def precision(y_true, y_pred):\n",
        "    # Calculates the precision\n",
        "    true_positives = K.sum(K.round(K.clip(y_true * y_pred, 0, 1)))\n",
        "    predicted_positives = K.sum(K.round(K.clip(y_pred, 0, 1)))\n",
        "    precision = true_positives / (predicted_positives + K.epsilon())\n",
        "    return precision"
      ],
      "execution_count": 0,
      "outputs": []
    },
    {
      "cell_type": "code",
      "metadata": {
        "colab_type": "code",
        "id": "215DTscueVam",
        "outputId": "73a5fa9e-ab11-4427-ca3c-f363209a85e7",
        "colab": {
          "base_uri": "https://localhost:8080/",
          "height": 989
        }
      },
      "source": [
        "# define time step and dimention size for embedding and LSTM\n",
        "in_timesteps = max_len_input\n",
        "out_timesteps = max_len_target\n",
        "\n",
        "# build encoder model\n",
        "encoder_input = Input(shape=(in_timesteps, ))\n",
        "\n",
        "# use pre-trained model Word2Vec\n",
        "encoder_embedding = Embedding(input_dim=num_encoder_tokens, output_dim=300, mask_zero=True)(encoder_input) \n",
        "\n",
        "# Dropout\n",
        "encoder = Dropout(rate=dropout_rate)(encoder_embedding)\n",
        "\n",
        "# get enternal state to predict target value\n",
        "# encode output is going to use for attention\n",
        "encoder_output, state_h, state_c = LSTM(units, return_sequences=True, return_state=True, unroll=True, kernel_regularizer=regularizers.l2(l2))(encoder)\n",
        "\n",
        "encoder_states = [state_h, state_c]\n",
        "\n",
        "# build decoder model\n",
        "decoder_input = Input(shape=(out_timesteps, ))\n",
        "\n",
        "# use pre-trained model Word2Vec\n",
        "decoder_embedding = Embedding(input_dim=num_decoder_tokens, output_dim=300, mask_zero=True)\n",
        "decoder_emb = decoder_embedding(decoder_input)\n",
        "\n",
        "# Dropout\n",
        "decoder = Dropout(rate=dropout_rate)(decoder_emb)\n",
        "\n",
        "decoder_lstm = LSTM(units, return_sequences=True, unroll=True, return_state=True, kernel_regularizer=regularizers.l2(l2))\n",
        "# we don't use return state in the train model\n",
        "decoder, _, _ = decoder_lstm(decoder,  initial_state=encoder_states)\n",
        "\n",
        "# Dropout\n",
        "decoder = Dropout(rate=dropout_rate)(decoder)\n",
        "\n",
        "# get attention weight\n",
        "attention = dot([decoder, encoder_output], axes=[2, 2])\n",
        "attention = Activation('softmax', name='attention')(attention)\n",
        "\n",
        "context = dot([attention, encoder_output], axes=[2,1])\n",
        "\n",
        "decoder_combined_context = tf.keras.layers.concatenate([context, decoder])\n",
        "\n",
        "# Dropout\n",
        "decoder_combined_context = Dropout(rate=dropout_rate)(decoder_combined_context)\n",
        "\n",
        "output = TimeDistributed(Dense(units, activation=\"tanh\"))(decoder_combined_context)\n",
        "\n",
        "# Dropout\n",
        "output = Dropout(rate=dropout_rate)(output)\n",
        "\n",
        "output = TimeDistributed(Dense(num_decoder_tokens, activation=\"softmax\"))(output)\n",
        "\n",
        "model = Model(inputs=[encoder_input, decoder_input], outputs=[output])\n",
        "\n",
        "rmsprop = optimizers.RMSprop(lr=lr)\n",
        "\n",
        "model.compile(optimizer=rmsprop, loss='categorical_crossentropy', metrics=['accuracy'])\n",
        "model.summary()"
      ],
      "execution_count": 30,
      "outputs": [
        {
          "output_type": "stream",
          "text": [
            "WARNING:tensorflow:From /usr/local/lib/python3.6/dist-packages/tensorflow_core/python/keras/initializers.py:119: calling RandomUniform.__init__ (from tensorflow.python.ops.init_ops) with dtype is deprecated and will be removed in a future version.\n",
            "Instructions for updating:\n",
            "Call initializer instance with the dtype argument instead of passing it to the constructor\n",
            "WARNING:tensorflow:From /usr/local/lib/python3.6/dist-packages/tensorflow_core/python/ops/resource_variable_ops.py:1630: calling BaseResourceVariable.__init__ (from tensorflow.python.ops.resource_variable_ops) with constraint is deprecated and will be removed in a future version.\n",
            "Instructions for updating:\n",
            "If using Keras pass *_constraint arguments to layers.\n",
            "WARNING:tensorflow:From /usr/local/lib/python3.6/dist-packages/tensorflow_core/python/keras/backend.py:3872: where (from tensorflow.python.ops.array_ops) is deprecated and will be removed in a future version.\n",
            "Instructions for updating:\n",
            "Use tf.where in 2.0, which has the same broadcast rule as np.where\n",
            "Model: \"model\"\n",
            "__________________________________________________________________________________________________\n",
            "Layer (type)                    Output Shape         Param #     Connected to                     \n",
            "==================================================================================================\n",
            "input_1 (InputLayer)            [(None, 56)]         0                                            \n",
            "__________________________________________________________________________________________________\n",
            "input_2 (InputLayer)            [(None, 21)]         0                                            \n",
            "__________________________________________________________________________________________________\n",
            "embedding (Embedding)           (None, 56, 300)      9686700     input_1[0][0]                    \n",
            "__________________________________________________________________________________________________\n",
            "embedding_1 (Embedding)         (None, 21, 300)      77019000    input_2[0][0]                    \n",
            "__________________________________________________________________________________________________\n",
            "dropout (Dropout)               (None, 56, 300)      0           embedding[0][0]                  \n",
            "__________________________________________________________________________________________________\n",
            "dropout_1 (Dropout)             (None, 21, 300)      0           embedding_1[0][0]                \n",
            "__________________________________________________________________________________________________\n",
            "lstm (LSTM)                     [(None, 56, 512), (N 1665024     dropout[0][0]                    \n",
            "__________________________________________________________________________________________________\n",
            "lstm_1 (LSTM)                   [(None, 21, 512), (N 1665024     dropout_1[0][0]                  \n",
            "                                                                 lstm[0][1]                       \n",
            "                                                                 lstm[0][2]                       \n",
            "__________________________________________________________________________________________________\n",
            "dropout_2 (Dropout)             (None, 21, 512)      0           lstm_1[0][0]                     \n",
            "__________________________________________________________________________________________________\n",
            "dot (Dot)                       (None, 21, 56)       0           dropout_2[0][0]                  \n",
            "                                                                 lstm[0][0]                       \n",
            "__________________________________________________________________________________________________\n",
            "attention (Activation)          (None, 21, 56)       0           dot[0][0]                        \n",
            "__________________________________________________________________________________________________\n",
            "dot_1 (Dot)                     (None, 21, 512)      0           attention[0][0]                  \n",
            "                                                                 lstm[0][0]                       \n",
            "__________________________________________________________________________________________________\n",
            "concatenate (Concatenate)       (None, 21, 1024)     0           dot_1[0][0]                      \n",
            "                                                                 dropout_2[0][0]                  \n",
            "__________________________________________________________________________________________________\n",
            "dropout_3 (Dropout)             (None, 21, 1024)     0           concatenate[0][0]                \n",
            "__________________________________________________________________________________________________\n",
            "time_distributed (TimeDistribut (None, 21, 512)      524800      dropout_3[0][0]                  \n",
            "__________________________________________________________________________________________________\n",
            "dropout_4 (Dropout)             (None, 21, 512)      0           time_distributed[0][0]           \n",
            "__________________________________________________________________________________________________\n",
            "time_distributed_1 (TimeDistrib (None, 21, 256730)   131702490   dropout_4[0][0]                  \n",
            "==================================================================================================\n",
            "Total params: 222,263,038\n",
            "Trainable params: 222,263,038\n",
            "Non-trainable params: 0\n",
            "__________________________________________________________________________________________________\n"
          ],
          "name": "stdout"
        }
      ]
    },
    {
      "cell_type": "code",
      "metadata": {
        "colab_type": "code",
        "id": "fXCgD4cGwJfS",
        "outputId": "50b8c568-7bee-4e09-9457-74dd4108e481",
        "colab": {
          "base_uri": "https://localhost:8080/",
          "height": 1000
        }
      },
      "source": [
        "from tensorflow.keras.utils import plot_model\n",
        "plot_model(model, to_file='multiple_inputs.png')"
      ],
      "execution_count": 31,
      "outputs": [
        {
          "output_type": "execute_result",
          "data": {
            "image/png": "[encoded data removed]",
            "text/plain": [
              "<IPython.core.display.Image object>"
            ]
          },
          "metadata": {
            "tags": []
          },
          "execution_count": 31
        }
      ]
    },
    {
      "cell_type": "code",
      "metadata": {
        "colab_type": "code",
        "id": "5r4mndEewUAE",
        "outputId": "888c5ceb-e418-4b98-bb72-51dae76e3a48",
        "colab": {
          "base_uri": "https://localhost:8080/",
          "height": 34
        }
      },
      "source": [
        "# create dataset as generater\n",
        "gen_train = generate_batch(X_train, Y_train, BATCH_SIZE)\n",
        "gen_test = generate_batch(X_test, Y_test, BATCH_SIZE)\n",
        "gen_val = generate_batch(X_val, Y_val, BATCH_SIZE)\n",
        "\n",
        "# caluclate train step\n",
        "trian_step = math.ceil(len(X_train) / BATCH_SIZE)\n",
        "test_step = math.ceil(len(X_test) / BATCH_SIZE)\n",
        "val_step = math.ceil(len(X_val) / BATCH_SIZE)\n",
        "\n",
        "trian_step, val_step, test_step"
      ],
      "execution_count": 32,
      "outputs": [
        {
          "output_type": "execute_result",
          "data": {
            "text/plain": [
              "(8750, 1875, 1875)"
            ]
          },
          "metadata": {
            "tags": []
          },
          "execution_count": 32
        }
      ]
    },
    {
      "cell_type": "code",
      "metadata": {
        "colab_type": "code",
        "id": "3LO6Hd4RftoP",
        "outputId": "9ffa890f-3a5f-41d7-80ab-12371676e8a4",
        "colab": {
          "base_uri": "https://localhost:8080/",
          "height": 255
        }
      },
      "source": [
        "# checkpoint\n",
        "filename = 'model.h1.22_Nov_19'\n",
        "\n",
        "checkpoint = ModelCheckpoint(filename, monitor='val_loss', save_best_only=True, mode='min')\n",
        "# reduce_lr = tf.keras.callbacks.ReduceLROnPlateau(monitor=\"val_loss\", factor=0.5,\n",
        "#                                                  patience=3, min_lr=lr)\n",
        "es = EarlyStopping(monitor='val_loss', mode='min', patience=3)\n",
        "# rate scheduler\n",
        "lrate = LearningRateScheduler(step_decay)\n",
        "\n",
        "callbacks=[checkpoint, es, lrate]\n",
        "\n",
        "# train model\n",
        "history = model.fit_generator(generator=gen_train, steps_per_epoch=trian_step, epochs=30, verbose=1,\n",
        "                    callbacks=callbacks, validation_data=gen_val, validation_steps=val_step)"
      ],
      "execution_count": 0,
      "outputs": [
        {
          "output_type": "stream",
          "text": [
            "Epoch 1/30\n",
            "8749/8750 [============================>.] - ETA: 0s - loss: 32.4591 - acc: 0.2478Epoch 1/30\n",
            "8750/8750 [==============================] - 3655s 418ms/step - loss: 32.4591 - acc: 0.2478 - val_loss: 32.2046 - val_acc: 0.3309\n",
            "Epoch 2/30\n",
            "8749/8750 [============================>.] - ETA: 0s - loss: 32.1568 - acc: 0.3382Epoch 1/30\n",
            "8750/8750 [==============================] - 3580s 409ms/step - loss: 32.1567 - acc: 0.3382 - val_loss: 32.1509 - val_acc: 0.3391\n",
            "Epoch 3/30\n",
            "8749/8750 [============================>.] - ETA: 0s - loss: 32.1502 - acc: 0.3393Epoch 1/30\n",
            "8750/8750 [==============================] - 3580s 409ms/step - loss: 32.1502 - acc: 0.3393 - val_loss: 32.1358 - val_acc: 0.3415\n",
            "Epoch 4/30\n",
            "8749/8750 [============================>.] - ETA: 0s - loss: 32.1506 - acc: 0.3393Epoch 1/30\n",
            "8750/8750 [==============================] - 3584s 410ms/step - loss: 32.1505 - acc: 0.3393 - val_loss: 32.1450 - val_acc: 0.3401\n",
            "Epoch 5/30\n",
            " 883/8750 [==>...........................] - ETA: 47:29 - loss: 8.2532 - acc: 0.3435"
          ],
          "name": "stdout"
        }
      ]
    },
    {
      "cell_type": "code",
      "metadata": {
        "colab_type": "code",
        "id": "upI_yOiURZYV",
        "outputId": "efa2039c-a2bb-4136-8c50-a2ce1af61813",
        "colab": {
          "base_uri": "https://localhost:8080/",
          "height": 282
        }
      },
      "source": [
        "f, (ax1, ax2) = plt.subplots(1, 2, figsize=(12, 4))\n",
        "ax1.plot(history.history[\"acc\"])\n",
        "ax1.plot(history.history[\"val_acc\"])\n",
        "ax1.set_xlabel(\"epochs\")\n",
        "ax1.set_ylabel(\"acc\")\n",
        "ax1.legend([\"train_acc\", \"val_acc\"])\n",
        "\n",
        "ax2.plot(history.history[\"loss\"])\n",
        "ax2.plot(history.history[\"val_loss\"])\n",
        "ax2.set_xlabel(\"epochs\")\n",
        "ax2.set_ylabel(\"loss\")\n",
        "ax2.legend([\"train_loss\", \"val_loss\"])\n",
        "plt.show()"
      ],
      "execution_count": 0,
      "outputs": [
        {
          "output_type": "display_data",
          "data": {
            "image/png": "[encoded data removed]",
            "text/plain": [
              "<Figure size 864x288 with 2 Axes>"
            ]
          },
          "metadata": {
            "tags": []
          }
        }
      ]
    },
    {
      "cell_type": "code",
      "metadata": {
        "colab_type": "code",
        "id": "9F72C2H5Geuv",
        "outputId": "77cc0312-fcd6-47df-ea53-e5525bf59576",
        "colab": {
          "base_uri": "https://localhost:8080/",
          "height": 343
        }
      },
      "source": [
        "# load model\n",
        "model = load_model('model.h1.22_Nov_19')"
      ],
      "execution_count": 0,
      "outputs": [
        {
          "output_type": "stream",
          "text": [
            "WARNING:tensorflow:From /usr/local/lib/python3.6/dist-packages/tensorflow_core/python/ops/init_ops.py:97: calling GlorotUniform.__init__ (from tensorflow.python.ops.init_ops) with dtype is deprecated and will be removed in a future version.\n",
            "Instructions for updating:\n",
            "Call initializer instance with the dtype argument instead of passing it to the constructor\n"
          ],
          "name": "stdout"
        },
        {
          "output_type": "stream",
          "text": [
            "WARNING:tensorflow:From /usr/local/lib/python3.6/dist-packages/tensorflow_core/python/ops/init_ops.py:97: calling GlorotUniform.__init__ (from tensorflow.python.ops.init_ops) with dtype is deprecated and will be removed in a future version.\n",
            "Instructions for updating:\n",
            "Call initializer instance with the dtype argument instead of passing it to the constructor\n"
          ],
          "name": "stderr"
        },
        {
          "output_type": "stream",
          "text": [
            "WARNING:tensorflow:From /usr/local/lib/python3.6/dist-packages/tensorflow_core/python/ops/init_ops.py:97: calling Orthogonal.__init__ (from tensorflow.python.ops.init_ops) with dtype is deprecated and will be removed in a future version.\n",
            "Instructions for updating:\n",
            "Call initializer instance with the dtype argument instead of passing it to the constructor\n"
          ],
          "name": "stdout"
        },
        {
          "output_type": "stream",
          "text": [
            "WARNING:tensorflow:From /usr/local/lib/python3.6/dist-packages/tensorflow_core/python/ops/init_ops.py:97: calling Orthogonal.__init__ (from tensorflow.python.ops.init_ops) with dtype is deprecated and will be removed in a future version.\n",
            "Instructions for updating:\n",
            "Call initializer instance with the dtype argument instead of passing it to the constructor\n"
          ],
          "name": "stderr"
        },
        {
          "output_type": "stream",
          "text": [
            "WARNING:tensorflow:From /usr/local/lib/python3.6/dist-packages/tensorflow_core/python/ops/init_ops.py:97: calling Zeros.__init__ (from tensorflow.python.ops.init_ops) with dtype is deprecated and will be removed in a future version.\n",
            "Instructions for updating:\n",
            "Call initializer instance with the dtype argument instead of passing it to the constructor\n"
          ],
          "name": "stdout"
        },
        {
          "output_type": "stream",
          "text": [
            "WARNING:tensorflow:From /usr/local/lib/python3.6/dist-packages/tensorflow_core/python/ops/init_ops.py:97: calling Zeros.__init__ (from tensorflow.python.ops.init_ops) with dtype is deprecated and will be removed in a future version.\n",
            "Instructions for updating:\n",
            "Call initializer instance with the dtype argument instead of passing it to the constructor\n"
          ],
          "name": "stderr"
        }
      ]
    },
    {
      "cell_type": "markdown",
      "metadata": {
        "id": "xl8_tD-JA4My",
        "colab_type": "text"
      },
      "source": [
        "# Test"
      ]
    },
    {
      "cell_type": "code",
      "metadata": {
        "id": "12ONyV1bDELO",
        "colab_type": "code",
        "outputId": "44cd9ad7-abd7-4341-8784-3d6ad1fdcdee",
        "colab": {
          "base_uri": "https://localhost:8080/",
          "height": 51
        }
      },
      "source": [
        "# evalute\n",
        "score = model.evaluate_generator(gen_test, steps=test_step)\n",
        "print(\"loss {}\".format(score[0]))\n",
        "print(\"acc {}\".format(score[1]))"
      ],
      "execution_count": 0,
      "outputs": [
        {
          "output_type": "stream",
          "text": [
            "loss 0.41048916764557364\n",
            "acc 0.2953576445579529\n"
          ],
          "name": "stdout"
        }
      ]
    },
    {
      "cell_type": "markdown",
      "metadata": {
        "colab_type": "text",
        "id": "KpK9qhpuMW3i"
      },
      "source": [
        "# define testing model"
      ]
    },
    {
      "cell_type": "code",
      "metadata": {
        "colab_type": "code",
        "id": "FP8ersAqMaer",
        "outputId": "a20e2c6e-80bc-4be1-93b0-c1c2ab6b2047",
        "colab": {
          "base_uri": "https://localhost:8080/",
          "height": 289
        }
      },
      "source": [
        "# encoder model\n",
        "encoder_input = model.input[0] # enocoder input\n",
        "encoder_output, state_h, state_c = model.layers[6].output # encoder lstm\n",
        "encoder_staet = [state_h, state_c]\n",
        "encoder_model = Model(encoder_input, encoder_staet)\n",
        "encoder_model.summary()"
      ],
      "execution_count": 0,
      "outputs": [
        {
          "output_type": "stream",
          "text": [
            "Model: \"model_5\"\n",
            "_________________________________________________________________\n",
            "Layer (type)                 Output Shape              Param #   \n",
            "=================================================================\n",
            "input_9 (InputLayer)         [(None, 44)]              0         \n",
            "_________________________________________________________________\n",
            "embedding_8 (Embedding)      (None, 44, 300)           4832700   \n",
            "_________________________________________________________________\n",
            "dropout_20 (Dropout)         (None, 44, 300)           0         \n",
            "_________________________________________________________________\n",
            "lstm_8 (LSTM)                [(None, 44, 512), (None,  1665024   \n",
            "=================================================================\n",
            "Total params: 6,497,724\n",
            "Trainable params: 6,497,724\n",
            "Non-trainable params: 0\n",
            "_________________________________________________________________\n"
          ],
          "name": "stdout"
        }
      ]
    },
    {
      "cell_type": "code",
      "metadata": {
        "colab_type": "code",
        "id": "YKPDhJqBx4F1",
        "outputId": "86d4ac58-52d9-4200-9eff-64738ad9261a",
        "colab": {
          "base_uri": "https://localhost:8080/",
          "height": 306
        }
      },
      "source": [
        "model.layers"
      ],
      "execution_count": 0,
      "outputs": [
        {
          "output_type": "execute_result",
          "data": {
            "text/plain": [
              "[<tensorflow.python.keras.engine.input_layer.InputLayer at 0x7efee098cb00>,\n",
              " <tensorflow.python.keras.engine.input_layer.InputLayer at 0x7efee09f96d8>,\n",
              " <tensorflow.python.keras.layers.embeddings.Embedding at 0x7efee09f9630>,\n",
              " <tensorflow.python.keras.layers.embeddings.Embedding at 0x7efee09f6860>,\n",
              " <tensorflow.python.keras.layers.core.Dropout at 0x7efee09f6d68>,\n",
              " <tensorflow.python.keras.layers.core.Dropout at 0x7efee09b11d0>,\n",
              " <tensorflow.python.keras.layers.recurrent.LSTM at 0x7efee09b1128>,\n",
              " <tensorflow.python.keras.layers.recurrent.LSTM at 0x7efee09b1ac8>,\n",
              " <tensorflow.python.keras.layers.core.Dropout at 0x7eff7fb18e10>,\n",
              " <tensorflow.python.keras.layers.merge.Dot at 0x7efee098f240>,\n",
              " <tensorflow.python.keras.layers.core.Activation at 0x7efee098fef0>,\n",
              " <tensorflow.python.keras.layers.merge.Dot at 0x7efee0983cf8>,\n",
              " <tensorflow.python.keras.layers.merge.Concatenate at 0x7efee0aac2b0>,\n",
              " <tensorflow.python.keras.layers.core.Dropout at 0x7efee09aa160>,\n",
              " <tensorflow.python.keras.layers.wrappers.TimeDistributed at 0x7eff7fb8ae10>,\n",
              " <tensorflow.python.keras.layers.core.Dropout at 0x7efee09b8320>,\n",
              " <tensorflow.python.keras.layers.wrappers.TimeDistributed at 0x7eff7fb22320>]"
            ]
          },
          "metadata": {
            "tags": []
          },
          "execution_count": 92
        }
      ]
    },
    {
      "cell_type": "code",
      "metadata": {
        "colab_type": "code",
        "id": "sfLofYRRiPMX",
        "outputId": "b2a0f8c3-9e0e-409d-9093-db865eca42af",
        "colab": {
          "base_uri": "https://localhost:8080/",
          "height": 391
        }
      },
      "source": [
        "# decoder model\n",
        "decoder_input = model.input[1] # decoder input\n",
        "decoder_state_input_h = Input(shape=(units,))\n",
        "decoder_state_input_c = Input(shape=(units,))\n",
        "decoder_state_input = [decoder_state_input_h, decoder_state_input_c]\n",
        "decoder_emb = model.layers[3]\n",
        "deocder_emb = decoder_emb(decoder_input)\n",
        "decoder_lstm = model.layers[7] # decoder lstm\n",
        "decoder_output, dec_state_h, dec_state_c = decoder_lstm(deocder_emb, initial_state=decoder_state_input)\n",
        "decoder_state = [dec_state_h, dec_state_c]\n",
        "\n",
        "\n",
        "decoder_dense = model.layers[16]\n",
        "decoder_output = decoder_dense(decoder_output)\n",
        "\n",
        "decoder_model = Model([decoder_input] + decoder_state_input, [decoder_output] + decoder_state)\n",
        "decoder_model.summary()"
      ],
      "execution_count": 0,
      "outputs": [
        {
          "output_type": "stream",
          "text": [
            "Model: \"model_6\"\n",
            "__________________________________________________________________________________________________\n",
            "Layer (type)                    Output Shape         Param #     Connected to                     \n",
            "==================================================================================================\n",
            "input_10 (InputLayer)           [(None, 18)]         0                                            \n",
            "__________________________________________________________________________________________________\n",
            "embedding_9 (Embedding)         (None, 18, 300)      20735100    input_10[0][0]                   \n",
            "__________________________________________________________________________________________________\n",
            "input_11 (InputLayer)           [(None, 512)]        0                                            \n",
            "__________________________________________________________________________________________________\n",
            "input_12 (InputLayer)           [(None, 512)]        0                                            \n",
            "__________________________________________________________________________________________________\n",
            "lstm_9 (LSTM)                   [(None, 18, 512), (N 1665024     embedding_9[1][0]                \n",
            "                                                                 input_11[0][0]                   \n",
            "                                                                 input_12[0][0]                   \n",
            "__________________________________________________________________________________________________\n",
            "time_distributed_9 (TimeDistrib (None, 18, 69117)    35457021    lstm_9[1][0]                     \n",
            "==================================================================================================\n",
            "Total params: 57,857,145\n",
            "Trainable params: 57,857,145\n",
            "Non-trainable params: 0\n",
            "__________________________________________________________________________________________________\n"
          ],
          "name": "stdout"
        }
      ]
    },
    {
      "cell_type": "code",
      "metadata": {
        "colab_type": "code",
        "id": "U3Zf2eAyTejb",
        "colab": {}
      },
      "source": [
        "def decoder_seq(input_seq):\n",
        "    # encoder the input seq as vector\n",
        "    state_en= encoder_model.predict(input_seq)\n",
        "    # generate empty target sequence\n",
        "    target_seq = np.zeros((1, out_timesteps))\n",
        "    # populate the first character of target seq\n",
        "    target_seq[0, 0] = 1\n",
        "\n",
        "    # loop for batch of sequences\n",
        "    stop_condition = False\n",
        "    decoder_sentence = ' '\n",
        "\n",
        "    while not stop_condition:\n",
        "        output_token, h, c = decoder_model.predict([target_seq] + state_en)\n",
        "\n",
        "        sampled_token_index = np.argmax(output_token[0, -1, :])\n",
        "        sampled_char = reverse_target_char[sampled_token_index]\n",
        "        decoder_sentence += ' ' + sampled_char\n",
        "\n",
        "        # stop condition\n",
        "        if sampled_char == \"_END\" or len(decoder_sentence) > max_len_input:\n",
        "          stop_condition = True\n",
        "        \n",
        "\n",
        "        # update the target sequence\n",
        "        target_seq = np.zeros((1, out_timesteps))\n",
        "        target_seq[0, 0] = 1.\n",
        "\n",
        "        # update states\n",
        "        state_en = [h, c]\n",
        "    \n",
        "    return decoder_sentence"
      ],
      "execution_count": 0,
      "outputs": []
    },
    {
      "cell_type": "code",
      "metadata": {
        "colab_type": "code",
        "id": "qwXPOWqZIkik",
        "colab": {}
      },
      "source": [
        "test_ge = generate_batch(X_test, Y_test, 1)\n",
        "k = -1"
      ],
      "execution_count": 0,
      "outputs": []
    },
    {
      "cell_type": "code",
      "metadata": {
        "colab_type": "code",
        "id": "RZMb7fNtfLhc",
        "outputId": "33c97944-ba45-466c-f71a-2dd878736f7e",
        "colab": {
          "base_uri": "https://localhost:8080/",
          "height": 85
        }
      },
      "source": [
        "k+=1\n",
        "(input_seq, actual_output), _ = next(test_ge)\n",
        "decoder_sentence = decoder_seq(input_seq)\n",
        "print(\"input english %s\" % X_test[k:k+1].values[0])\n",
        "print(\"actual %s\" % Y_test[k:k+1].values[0][6:-4])\n",
        "print(\"predict %s\" % decoder_sentence[:-4] )\n",
        "\n",
        "from nltk.translate.bleu_score import sentence_bleu\n",
        "\n",
        "# calculate BLEU score\n",
        "print('BLEU corpus: %f' % sentence_bleu([Y_test[k:k+1].values[0][6:-4].strip().split(\" \")], decoder_sentence[:-4].strip().split(\" \")))"
      ],
      "execution_count": 0,
      "outputs": [
        {
          "output_type": "stream",
          "text": [
            "input english master nyanko !\n",
            "actual  動いた ニャンコ先生 動いたあ !  \n",
            "predict   研究分野は 研究分野は シャークだ それは良かった それは良かった それは良かった それは\n",
            "BLEU corpus: 0.000000\n"
          ],
          "name": "stdout"
        }
      ]
    },
    {
      "cell_type": "markdown",
      "metadata": {
        "id": "j3axh2716QC-",
        "colab_type": "text"
      },
      "source": [
        "# plot attention"
      ]
    },
    {
      "cell_type": "code",
      "metadata": {
        "id": "KGlN6EOp6mm6",
        "colab_type": "code",
        "outputId": "90c493af-4696-4cd5-bdcc-fcefa2197932",
        "colab": {
          "base_uri": "https://localhost:8080/",
          "height": 51
        }
      },
      "source": [
        "# create attention\n",
        "attention_layer = model.get_layer('attention') # or model.layers[7]\n",
        "attention_model = Model(inputs=model.inputs, outputs=model.outputs + [attention_layer.output])\n",
        "\n",
        "print(attention_model)\n",
        "print(attention_model.output_shape)"
      ],
      "execution_count": 0,
      "outputs": [
        {
          "output_type": "stream",
          "text": [
            "<tensorflow.python.keras.engine.training.Model object at 0x7f6ea4734898>\n",
            "[(None, 18, 69149), (None, 18, 44)]\n"
          ],
          "name": "stdout"
        }
      ]
    },
    {
      "cell_type": "code",
      "metadata": {
        "id": "ndL1Ipq36RhN",
        "colab_type": "code",
        "outputId": "74b209a8-26e3-4a35-daf8-ff0fdb61184c",
        "colab": {
          "base_uri": "https://localhost:8080/",
          "height": 34
        }
      },
      "source": [
        "!pip install japanize-matplotlib\n",
        "import japanize_matplotlib\n",
        "import matplotlib.ticker as ticker\n",
        "\n",
        "decoder_input = np.zeros(shape=(len(input_seq), out_timesteps))\n",
        "decoder_input[:,0] = start_word\n",
        "\n",
        "def decode(decoding, sequence):\n",
        "    text = ''\n",
        "    for i in sequence:\n",
        "        if i == 0:\n",
        "            break\n",
        "        text += decoding[i]\n",
        "    return text\n",
        "\n",
        "def create_output():\n",
        "  for i in range(1, out_timesteps):\n",
        "    output, attention = attention_model.predict([input_seq, decoder_input])\n",
        "    decoder_input[:, i] = output.argmax(axis=2)[:, i]\n",
        "    attention_density = attention[0]\n",
        "    decoder_out = decode(reverse_target_char, decoder_input[0][1:])\n",
        "  return attention_density, decoder_out\n",
        "\n",
        "def visualize(text):\n",
        "  attention_density, decoder_out = create_output()\n",
        "\n",
        "  fig = plt.figure(figsize=(10,10))\n",
        "  ax = fig.add_subplot(1, 1, 1)\n",
        "  ax.matshow(attention_density[:len(decoder_out), :len(text)+1], cmap='viridis')\n",
        "\n",
        "  fontdict = {'fontsize': 14}\n",
        "\n",
        "  ax.set_xticklabels([''] + Y_test[k:k+1].values[0][6:-4].split(\" \"), fontdict=fontdict, rotation=90)\n",
        "  ax.set_yticklabels([''] + decoder_out.split(\" \"), fontdict=fontdict)\n",
        "\n",
        "  ax.xaxis.set_major_locator(ticker.MultipleLocator(1))\n",
        "  ax.yaxis.set_major_locator(ticker.MultipleLocator(1))\n",
        "\n",
        "  plt.show()"
      ],
      "execution_count": 0,
      "outputs": [
        {
          "output_type": "stream",
          "text": [
            "Requirement already satisfied: japanize-matplotlib in /usr/local/lib/python3.6/dist-packages (1.0.5)\n"
          ],
          "name": "stdout"
        }
      ]
    },
    {
      "cell_type": "code",
      "metadata": {
        "id": "ZEl900kA7j9d",
        "colab_type": "code",
        "outputId": "41453886-ea32-422e-c049-84504c8f64fd",
        "colab": {
          "base_uri": "https://localhost:8080/",
          "height": 402
        }
      },
      "source": [
        "visualize(decoder_sentence)"
      ],
      "execution_count": 0,
      "outputs": [
        {
          "output_type": "display_data",
          "data": {
            "image/png": "[encoded data removed]",
            "text/plain": [
              "<Figure size 720x720 with 1 Axes>"
            ]
          },
          "metadata": {
            "tags": []
          }
        }
      ]
    },
    {
      "cell_type": "code",
      "metadata": {
        "id": "10JeEOI1HMKO",
        "colab_type": "code",
        "colab": {}
      },
      "source": [
        ""
      ],
      "execution_count": 0,
      "outputs": []
    }
  ]
}